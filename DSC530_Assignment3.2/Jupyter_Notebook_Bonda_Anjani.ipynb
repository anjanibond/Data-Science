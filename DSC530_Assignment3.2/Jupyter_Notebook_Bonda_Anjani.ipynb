{
 "cells": [
  {
   "cell_type": "code",
   "execution_count": 4,
   "id": "8e73cd13",
   "metadata": {},
   "outputs": [
    {
     "ename": "TypeError",
     "evalue": "main() missing 1 required positional argument: 'script'",
     "output_type": "error",
     "traceback": [
      "\u001b[0;31m---------------------------------------------------------------------------\u001b[0m",
      "\u001b[0;31mTypeError\u001b[0m                                 Traceback (most recent call last)",
      "\u001b[0;32m/var/folders/0c/spq36xkd5vz7k9940sd5prhw0000gn/T/ipykernel_65020/3397455393.py\u001b[0m in \u001b[0;36m<module>\u001b[0;34m\u001b[0m\n\u001b[1;32m     72\u001b[0m \u001b[0;34m\u001b[0m\u001b[0m\n\u001b[1;32m     73\u001b[0m \u001b[0;32mif\u001b[0m \u001b[0m__name__\u001b[0m \u001b[0;34m==\u001b[0m \u001b[0;34m'__main__'\u001b[0m\u001b[0;34m:\u001b[0m\u001b[0;34m\u001b[0m\u001b[0;34m\u001b[0m\u001b[0m\n\u001b[0;32m---> 74\u001b[0;31m     \u001b[0mmain\u001b[0m\u001b[0;34m(\u001b[0m\u001b[0;34m)\u001b[0m\u001b[0;34m\u001b[0m\u001b[0;34m\u001b[0m\u001b[0m\n\u001b[0m",
      "\u001b[0;31mTypeError\u001b[0m: main() missing 1 required positional argument: 'script'"
     ]
    }
   ],
   "source": [
    "from __future__ import print_function, division\n",
    "\n",
    "import numpy as np\n",
    "import sys\n",
    "\n",
    "import nsfg\n",
    "import thinkstats2\n",
    "\n",
    "\n",
    "def ReadFemResp(dct_file='2002FemResp.dct',\n",
    "                dat_file='2002FemResp.dat.gz',\n",
    "                nrows=None):\n",
    "    \"\"\"Reads the NSFG  data.\n",
    "\n",
    "    dct_file: string file name\n",
    "    dat_file: string file name\n",
    "\n",
    "    returns: DataFrame\n",
    "    \"\"\"\n",
    "    dct = thinkstats2.ReadStataDct(dct_file)\n",
    "    df = dct.ReadFixedWidth(dat_file, compression='gzip', nrows=nrows)\n",
    "    CleanFemResp(df)\n",
    "    return df\n",
    "\n",
    "\n",
    "def CleanFemResp(df):\n",
    "    \"\"\"Recodes variables from the respondent frame.\n",
    "\n",
    "    df: DataFrame\n",
    "    \"\"\"\n",
    "    pass\n",
    "\n",
    "\n",
    "def ValidatePregnum(resp):\n",
    "    \"\"\"Validate pregnum in the respondent file.\n",
    "\n",
    "    resp: respondent DataFrame\n",
    "    \"\"\"\n",
    "    # read the pregnancy frame\n",
    "    preg = nsfg.ReadFemPreg()\n",
    "\n",
    "    # make the map from caseid to list of pregnancy indices\n",
    "    preg_map = nsfg.MakePregMap(preg)\n",
    "    \n",
    "    # iterate through the respondent pregnum series\n",
    "    for index, pregnum in resp.pregnum.items():\n",
    "        caseid = resp.caseid[index]\n",
    "        indices = preg_map[caseid]\n",
    "\n",
    "        # check that pregnum from the respondent file equals\n",
    "        # the number of records in the pregnancy file\n",
    "        if len(indices) != pregnum:\n",
    "            print(caseid, len(indices), pregnum)\n",
    "            return False\n",
    "\n",
    "    return True\n",
    "\n",
    "\n",
    "def main(script):\n",
    "    \"\"\"Tests the functions in this module.\n",
    "\n",
    "    script: string script name\n",
    "    \"\"\"\n",
    "    resp = ReadFemResp()\n",
    "\n",
    "    assert(len(resp) == 7643)\n",
    "    assert(resp.pregnum.value_counts()[1] == 1267)\n",
    "    assert(ValidatePregnum(resp))\n",
    "\n",
    "    print('%s: All tests passed.' % script)\n",
    "\n",
    "\n",
    "if __name__ == '__main__':\n",
    "    main()"
   ]
  },
  {
   "cell_type": "code",
   "execution_count": null,
   "id": "ccf34bec",
   "metadata": {},
   "outputs": [],
   "source": []
  },
  {
   "cell_type": "code",
   "execution_count": null,
   "id": "46729d35",
   "metadata": {},
   "outputs": [],
   "source": []
  }
 ],
 "metadata": {
  "kernelspec": {
   "display_name": "Python 3 (ipykernel)",
   "language": "python",
   "name": "python3"
  },
  "language_info": {
   "codemirror_mode": {
    "name": "ipython",
    "version": 3
   },
   "file_extension": ".py",
   "mimetype": "text/x-python",
   "name": "python",
   "nbconvert_exporter": "python",
   "pygments_lexer": "ipython3",
   "version": "3.9.7"
  }
 },
 "nbformat": 4,
 "nbformat_minor": 5
}
