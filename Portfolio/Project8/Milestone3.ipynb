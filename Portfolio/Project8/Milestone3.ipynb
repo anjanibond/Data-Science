{
 "cells": [
  {
   "cell_type": "markdown",
   "id": "404ccde2",
   "metadata": {},
   "source": [
    "## Title: DSC550 Final: Milestone3\n",
    "## Date: Aug 6, 2022\n",
    "## Author: Anjani Bonda"
   ]
  },
  {
   "cell_type": "code",
   "execution_count": 1,
   "id": "70b24988",
   "metadata": {},
   "outputs": [],
   "source": [
    "import matplotlib.pyplot as plt\n",
    "import pandas as pd\n",
    "from pandas.core.common import SettingWithCopyWarning\n",
    "from nltk.stem import PorterStemmer \n",
    "from nltk.corpus import stopwords\n",
    "from nltk import word_tokenize\n",
    "import re\n",
    "import seaborn as sns\n",
    "from sklearn import linear_model\n",
    "from sklearn.linear_model import Lasso\n",
    "from textblob import TextBlob\n",
    "import warnings"
   ]
  },
  {
   "cell_type": "code",
   "execution_count": 2,
   "id": "73a2eb67",
   "metadata": {},
   "outputs": [],
   "source": [
    "#Bringing the steps from Milestone1 - loading dataframe, creating new df, dropping columns, renaming columns etc.\n",
    "pd.set_option('display.max_colwidth', None)\n",
    "\n",
    "#Load dataframes.\n",
    "items = pd.read_csv('items.csv')\n",
    "reviews = pd.read_csv('reviews.csv')\n",
    "\n",
    "#finding all Apple entries within the first df\n",
    "AP = items['title'].str.lower().str.find('iphone x')!=-1\n",
    "\n",
    "#creating a new df based on the search.\n",
    "items_df = items.loc[AP]\n",
    "\n",
    "#merging the two dataframes based on  asin#.\n",
    "apple_reviews = pd.merge(items_df,reviews, on='asin')\n",
    "\n",
    "#Dropping nan values.\n",
    "apple_reviews = apple_reviews.dropna()\n",
    "\n",
    "#Dropping erroneous/unwanted columns.\n",
    "del apple_reviews['image']\n",
    "del apple_reviews['url']\n",
    "del apple_reviews['reviewUrl']\n",
    "del apple_reviews['price']\n",
    "del apple_reviews['name']\n",
    "del apple_reviews['rating_x']\n",
    "\n",
    "#Renaming columns.\n",
    "apple_reviews.columns = ['Item #', 'Brand', 'Model', 'Reviews', 'Price', 'Rating', 'Date', 'Verified', 'Review Title', 'Review',\n",
    "                 'Helpful']\n",
    "apple_reviews['Date'] = pd.to_datetime(apple_reviews['Date']) #Reformatting date/time format.\n",
    "\n",
    "\n"
   ]
  },
  {
   "cell_type": "code",
   "execution_count": 3,
   "id": "7305f3e2",
   "metadata": {},
   "outputs": [
    {
     "name": "stderr",
     "output_type": "stream",
     "text": [
      "/var/folders/0c/spq36xkd5vz7k9940sd5prhw0000gn/T/ipykernel_30354/4142222132.py:51: SettingWithCopyWarning: \n",
      "A value is trying to be set on a copy of a slice from a DataFrame.\n",
      "Try using .loc[row_indexer,col_indexer] = value instead\n",
      "\n",
      "See the caveats in the documentation: https://pandas.pydata.org/pandas-docs/stable/user_guide/indexing.html#returning-a-view-versus-a-copy\n",
      "  batt['Score'] = batt['Review'].apply(ss)\n",
      "/var/folders/0c/spq36xkd5vz7k9940sd5prhw0000gn/T/ipykernel_30354/4142222132.py:52: SettingWithCopyWarning: \n",
      "A value is trying to be set on a copy of a slice from a DataFrame.\n",
      "Try using .loc[row_indexer,col_indexer] = value instead\n",
      "\n",
      "See the caveats in the documentation: https://pandas.pydata.org/pandas-docs/stable/user_guide/indexing.html#returning-a-view-versus-a-copy\n",
      "  batt['Positivity'] = batt['Score'].apply(lambda x:x[0])\n",
      "/var/folders/0c/spq36xkd5vz7k9940sd5prhw0000gn/T/ipykernel_30354/4142222132.py:53: SettingWithCopyWarning: \n",
      "A value is trying to be set on a copy of a slice from a DataFrame.\n",
      "Try using .loc[row_indexer,col_indexer] = value instead\n",
      "\n",
      "See the caveats in the documentation: https://pandas.pydata.org/pandas-docs/stable/user_guide/indexing.html#returning-a-view-versus-a-copy\n",
      "  batt['Topic'] = 'Battery'\n",
      "/var/folders/0c/spq36xkd5vz7k9940sd5prhw0000gn/T/ipykernel_30354/4142222132.py:56: SettingWithCopyWarning: \n",
      "A value is trying to be set on a copy of a slice from a DataFrame.\n",
      "Try using .loc[row_indexer,col_indexer] = value instead\n",
      "\n",
      "See the caveats in the documentation: https://pandas.pydata.org/pandas-docs/stable/user_guide/indexing.html#returning-a-view-versus-a-copy\n",
      "  came['Score'] = came['Review'].apply(ss)\n",
      "/var/folders/0c/spq36xkd5vz7k9940sd5prhw0000gn/T/ipykernel_30354/4142222132.py:57: SettingWithCopyWarning: \n",
      "A value is trying to be set on a copy of a slice from a DataFrame.\n",
      "Try using .loc[row_indexer,col_indexer] = value instead\n",
      "\n",
      "See the caveats in the documentation: https://pandas.pydata.org/pandas-docs/stable/user_guide/indexing.html#returning-a-view-versus-a-copy\n",
      "  came['Positivity'] = came['Score'].apply(lambda x:x[0])\n",
      "/var/folders/0c/spq36xkd5vz7k9940sd5prhw0000gn/T/ipykernel_30354/4142222132.py:58: SettingWithCopyWarning: \n",
      "A value is trying to be set on a copy of a slice from a DataFrame.\n",
      "Try using .loc[row_indexer,col_indexer] = value instead\n",
      "\n",
      "See the caveats in the documentation: https://pandas.pydata.org/pandas-docs/stable/user_guide/indexing.html#returning-a-view-versus-a-copy\n",
      "  came['Topic'] = 'Camera'\n",
      "/var/folders/0c/spq36xkd5vz7k9940sd5prhw0000gn/T/ipykernel_30354/4142222132.py:61: SettingWithCopyWarning: \n",
      "A value is trying to be set on a copy of a slice from a DataFrame.\n",
      "Try using .loc[row_indexer,col_indexer] = value instead\n",
      "\n",
      "See the caveats in the documentation: https://pandas.pydata.org/pandas-docs/stable/user_guide/indexing.html#returning-a-view-versus-a-copy\n",
      "  spee['Score'] = spee['Review'].apply(ss)\n",
      "/var/folders/0c/spq36xkd5vz7k9940sd5prhw0000gn/T/ipykernel_30354/4142222132.py:62: SettingWithCopyWarning: \n",
      "A value is trying to be set on a copy of a slice from a DataFrame.\n",
      "Try using .loc[row_indexer,col_indexer] = value instead\n",
      "\n",
      "See the caveats in the documentation: https://pandas.pydata.org/pandas-docs/stable/user_guide/indexing.html#returning-a-view-versus-a-copy\n",
      "  spee['Positivity'] = spee['Score'].apply(lambda x:x[0])\n",
      "/var/folders/0c/spq36xkd5vz7k9940sd5prhw0000gn/T/ipykernel_30354/4142222132.py:63: SettingWithCopyWarning: \n",
      "A value is trying to be set on a copy of a slice from a DataFrame.\n",
      "Try using .loc[row_indexer,col_indexer] = value instead\n",
      "\n",
      "See the caveats in the documentation: https://pandas.pydata.org/pandas-docs/stable/user_guide/indexing.html#returning-a-view-versus-a-copy\n",
      "  spee['Topic'] = 'Speed'\n",
      "/var/folders/0c/spq36xkd5vz7k9940sd5prhw0000gn/T/ipykernel_30354/4142222132.py:66: SettingWithCopyWarning: \n",
      "A value is trying to be set on a copy of a slice from a DataFrame.\n",
      "Try using .loc[row_indexer,col_indexer] = value instead\n",
      "\n",
      "See the caveats in the documentation: https://pandas.pydata.org/pandas-docs/stable/user_guide/indexing.html#returning-a-view-versus-a-copy\n",
      "  stor['Score'] = stor['Review'].apply(ss)\n",
      "/var/folders/0c/spq36xkd5vz7k9940sd5prhw0000gn/T/ipykernel_30354/4142222132.py:67: SettingWithCopyWarning: \n",
      "A value is trying to be set on a copy of a slice from a DataFrame.\n",
      "Try using .loc[row_indexer,col_indexer] = value instead\n",
      "\n",
      "See the caveats in the documentation: https://pandas.pydata.org/pandas-docs/stable/user_guide/indexing.html#returning-a-view-versus-a-copy\n",
      "  stor['Positivity'] = stor['Score'].apply(lambda x:x[0])\n",
      "/var/folders/0c/spq36xkd5vz7k9940sd5prhw0000gn/T/ipykernel_30354/4142222132.py:68: SettingWithCopyWarning: \n",
      "A value is trying to be set on a copy of a slice from a DataFrame.\n",
      "Try using .loc[row_indexer,col_indexer] = value instead\n",
      "\n",
      "See the caveats in the documentation: https://pandas.pydata.org/pandas-docs/stable/user_guide/indexing.html#returning-a-view-versus-a-copy\n",
      "  stor['Topic'] = 'Storage'\n",
      "/var/folders/0c/spq36xkd5vz7k9940sd5prhw0000gn/T/ipykernel_30354/4142222132.py:71: SettingWithCopyWarning: \n",
      "A value is trying to be set on a copy of a slice from a DataFrame.\n",
      "Try using .loc[row_indexer,col_indexer] = value instead\n",
      "\n",
      "See the caveats in the documentation: https://pandas.pydata.org/pandas-docs/stable/user_guide/indexing.html#returning-a-view-versus-a-copy\n",
      "  soft['Score'] = soft['Review'].apply(ss)\n",
      "/var/folders/0c/spq36xkd5vz7k9940sd5prhw0000gn/T/ipykernel_30354/4142222132.py:72: SettingWithCopyWarning: \n",
      "A value is trying to be set on a copy of a slice from a DataFrame.\n",
      "Try using .loc[row_indexer,col_indexer] = value instead\n",
      "\n",
      "See the caveats in the documentation: https://pandas.pydata.org/pandas-docs/stable/user_guide/indexing.html#returning-a-view-versus-a-copy\n",
      "  soft['Positivity'] = soft['Score'].apply(lambda x:x[0])\n",
      "/var/folders/0c/spq36xkd5vz7k9940sd5prhw0000gn/T/ipykernel_30354/4142222132.py:73: SettingWithCopyWarning: \n",
      "A value is trying to be set on a copy of a slice from a DataFrame.\n",
      "Try using .loc[row_indexer,col_indexer] = value instead\n",
      "\n",
      "See the caveats in the documentation: https://pandas.pydata.org/pandas-docs/stable/user_guide/indexing.html#returning-a-view-versus-a-copy\n",
      "  soft['Topic'] = 'Software'\n",
      "/var/folders/0c/spq36xkd5vz7k9940sd5prhw0000gn/T/ipykernel_30354/4142222132.py:76: SettingWithCopyWarning: \n",
      "A value is trying to be set on a copy of a slice from a DataFrame.\n",
      "Try using .loc[row_indexer,col_indexer] = value instead\n",
      "\n",
      "See the caveats in the documentation: https://pandas.pydata.org/pandas-docs/stable/user_guide/indexing.html#returning-a-view-versus-a-copy\n",
      "  musi['Score'] = musi['Review'].apply(ss)\n",
      "/var/folders/0c/spq36xkd5vz7k9940sd5prhw0000gn/T/ipykernel_30354/4142222132.py:77: SettingWithCopyWarning: \n",
      "A value is trying to be set on a copy of a slice from a DataFrame.\n",
      "Try using .loc[row_indexer,col_indexer] = value instead\n",
      "\n",
      "See the caveats in the documentation: https://pandas.pydata.org/pandas-docs/stable/user_guide/indexing.html#returning-a-view-versus-a-copy\n",
      "  musi['Positivity'] = musi['Score'].apply(lambda x:x[0])\n",
      "/var/folders/0c/spq36xkd5vz7k9940sd5prhw0000gn/T/ipykernel_30354/4142222132.py:78: SettingWithCopyWarning: \n",
      "A value is trying to be set on a copy of a slice from a DataFrame.\n",
      "Try using .loc[row_indexer,col_indexer] = value instead\n",
      "\n",
      "See the caveats in the documentation: https://pandas.pydata.org/pandas-docs/stable/user_guide/indexing.html#returning-a-view-versus-a-copy\n",
      "  musi['Topic'] = 'Music'\n",
      "/var/folders/0c/spq36xkd5vz7k9940sd5prhw0000gn/T/ipykernel_30354/4142222132.py:81: SettingWithCopyWarning: \n",
      "A value is trying to be set on a copy of a slice from a DataFrame.\n",
      "Try using .loc[row_indexer,col_indexer] = value instead\n",
      "\n",
      "See the caveats in the documentation: https://pandas.pydata.org/pandas-docs/stable/user_guide/indexing.html#returning-a-view-versus-a-copy\n",
      "  scre['Score'] = scre['Review'].apply(ss)\n",
      "/var/folders/0c/spq36xkd5vz7k9940sd5prhw0000gn/T/ipykernel_30354/4142222132.py:82: SettingWithCopyWarning: \n",
      "A value is trying to be set on a copy of a slice from a DataFrame.\n",
      "Try using .loc[row_indexer,col_indexer] = value instead\n",
      "\n",
      "See the caveats in the documentation: https://pandas.pydata.org/pandas-docs/stable/user_guide/indexing.html#returning-a-view-versus-a-copy\n",
      "  scre['Positivity'] = scre['Score'].apply(lambda x:x[0])\n",
      "/var/folders/0c/spq36xkd5vz7k9940sd5prhw0000gn/T/ipykernel_30354/4142222132.py:83: SettingWithCopyWarning: \n",
      "A value is trying to be set on a copy of a slice from a DataFrame.\n",
      "Try using .loc[row_indexer,col_indexer] = value instead\n",
      "\n",
      "See the caveats in the documentation: https://pandas.pydata.org/pandas-docs/stable/user_guide/indexing.html#returning-a-view-versus-a-copy\n",
      "  scre['Topic'] = 'Screen'\n"
     ]
    }
   ],
   "source": [
    "# Bringing steps from Milestone2 \n",
    "del apple_reviews['Brand']\n",
    "del apple_reviews['Review Title']\n",
    "del apple_reviews['Reviews']\n",
    "del apple_reviews['Helpful']\n",
    "del apple_reviews['Verified']\n",
    "\n",
    "# Sentiment Analysis:\n",
    "# change to lower case.\n",
    "apple_reviews['Review'] = apple_reviews['Review'].apply(lambda x: \" \".join(x.lower() for x in x.split()))\n",
    "\n",
    "#Removing punctuation.\n",
    "apple_reviews['Review'] = apple_reviews['Review'].map(lambda x: re.sub(r'\\W+', ' ', x))\n",
    "\n",
    "#Removing stop words.\n",
    "stop = stopwords.words('english') #stop words = English.\n",
    "apple_reviews['Review'] = apple_reviews['Review'].apply(lambda x: \" \".join(x for x in x.split() if x not in stop))\n",
    "\n",
    "#Word tokenizing\n",
    "apple_reviews['Review'] = apple_reviews['Review'].apply(word_tokenize) \n",
    "\n",
    "#word stemming\n",
    "stemmer = PorterStemmer()\n",
    "apple_reviews['Review'] = apple_reviews['Review'].apply(lambda x: ' '.join([stemmer.stem(y) for y in x]))\n",
    "\n",
    "#List of keywords people would use to review.\n",
    "Battery = [\"battery\", 'charge', 'juice', 'charging', 'talk time', 'hours', 'minutes', 'life', 'lasts']\n",
    "Camera = [\"camera\", 'pixels', 'megapixels', 'pictures', 'video', 'facial', 'recognition', 'animoji', 'zoom', 'dual',\n",
    "          'optical', 'front', 'rear', 'back', 'lens']\n",
    "Speed = ['speed', 'fast', 'slow', 'quick', 'lag', 'ram']\n",
    "Storage = [\"storage\", 'space', 'room', 'memory', 'gb', 'capacity', 'expandable']\n",
    "Software = [\"software\", 'itunes', 'app store', 'app', 'ios', 'animoji', 'game', 'siri', 'touch screen']\n",
    "Music = [\"music\", 'audio', 'song', 'sound', 'speaker']\n",
    "Screen = [\"screen\", 'oled', 'led', 'lcd', 'scratch', 'widescreen', 'backlit', 'display', 'retina', 'glass', 'inch',\n",
    "          'resolution', 'break', 'unbreakable', 'shatter', 'chip']\n",
    "\n",
    "#Searching all rows for items in the lists.\n",
    "batt = apple_reviews[apple_reviews['Review'].str.lower().str.contains('|'.join(Battery))]\n",
    "came = apple_reviews[apple_reviews['Review'].str.lower().str.contains('|'.join(Camera))]\n",
    "spee = apple_reviews[apple_reviews['Review'].str.lower().str.contains('|'.join(Speed))]\n",
    "stor = apple_reviews[apple_reviews['Review'].str.lower().str.contains('|'.join(Storage))]\n",
    "soft = apple_reviews[apple_reviews['Review'].str.lower().str.contains('|'.join(Software))]\n",
    "musi = apple_reviews[apple_reviews['Review'].str.lower().str.contains('|'.join(Music))]\n",
    "scre = apple_reviews[apple_reviews['Review'].str.lower().str.contains('|'.join(Screen))]\n",
    "\n",
    "#Defining the sentiment analysis function\n",
    "def ss(x):\n",
    "    return TextBlob(x).sentiment \n",
    "\n",
    "#Adding sentiment analysis and slicing the positivity/negativity scores columns.\n",
    "batt['Score'] = batt['Review'].apply(ss)\n",
    "batt['Positivity'] = batt['Score'].apply(lambda x:x[0])\n",
    "batt['Topic'] = 'Battery'\n",
    "\n",
    "#Adding sentiment analysis and slicing the positivity/negativity scores columns.\n",
    "came['Score'] = came['Review'].apply(ss)\n",
    "came['Positivity'] = came['Score'].apply(lambda x:x[0])\n",
    "came['Topic'] = 'Camera'\n",
    "\n",
    "#Adding sentiment analysis and slicing the positivity/negativity scores columns.\n",
    "spee['Score'] = spee['Review'].apply(ss)\n",
    "spee['Positivity'] = spee['Score'].apply(lambda x:x[0])\n",
    "spee['Topic'] = 'Speed'\n",
    "\n",
    "#Adding sentiment analysis and slicing the positivity/negativity scores columns.\n",
    "stor['Score'] = stor['Review'].apply(ss)\n",
    "stor['Positivity'] = stor['Score'].apply(lambda x:x[0])\n",
    "stor['Topic'] = 'Storage'\n",
    "\n",
    "#Adding sentiment analysis and slicing the positivity/negativity scores columns.\n",
    "soft['Score'] = soft['Review'].apply(ss)\n",
    "soft['Positivity'] = soft['Score'].apply(lambda x:x[0])\n",
    "soft['Topic'] = 'Software'\n",
    "\n",
    "#Adding sentiment analysis and slicing the positivity/negativity scores columns.\n",
    "musi['Score'] = musi['Review'].apply(ss)\n",
    "musi['Positivity'] = musi['Score'].apply(lambda x:x[0])\n",
    "musi['Topic'] = 'Music'\n",
    "\n",
    "#Adding sentiment analysis and slicing the positivity/negativity scores columns.\n",
    "scre['Score'] = scre['Review'].apply(ss)\n",
    "scre['Positivity'] = scre['Score'].apply(lambda x:x[0])\n",
    "scre['Topic'] = 'Screen'\n",
    "\n",
    "#Merging the dataframes into one..\n",
    "a_df = [batt, came, spee, stor, soft, musi, scre]\n",
    "a_df = pd.concat(a_df, axis=0, join='inner').reset_index()\n",
    "\n",
    "#Get dummies categorical values binary\n",
    "categorical = ['Topic','Item #']\n",
    "a_df_cat = pd.get_dummies(a_df[categorical])\n",
    "\n",
    "#Getting the list from columns\n",
    "a_df[list(a_df_cat.columns)] = a_df_cat[list(a_df_cat.columns)]\n",
    "\n",
    "#Cleaning the new datasets of columns we no longer need.\n",
    "del a_df['Item #']\n",
    "del a_df['Model']\n",
    "del a_df['Review']\n",
    "del a_df['Topic']\n",
    "del a_df['index']\n",
    "del a_df['Date']\n",
    "del a_df['Score']"
   ]
  },
  {
   "cell_type": "markdown",
   "id": "e8638c46",
   "metadata": {},
   "source": [
    "End of Milestone2 and Start of Milestone3"
   ]
  },
  {
   "cell_type": "code",
   "execution_count": 4,
   "id": "5b97849e",
   "metadata": {},
   "outputs": [
    {
     "data": {
      "text/html": [
       "<div>\n",
       "<style scoped>\n",
       "    .dataframe tbody tr th:only-of-type {\n",
       "        vertical-align: middle;\n",
       "    }\n",
       "\n",
       "    .dataframe tbody tr th {\n",
       "        vertical-align: top;\n",
       "    }\n",
       "\n",
       "    .dataframe thead th {\n",
       "        text-align: right;\n",
       "    }\n",
       "</style>\n",
       "<table border=\"1\" class=\"dataframe\">\n",
       "  <thead>\n",
       "    <tr style=\"text-align: right;\">\n",
       "      <th></th>\n",
       "      <th>Price</th>\n",
       "      <th>Rating</th>\n",
       "      <th>Positivity</th>\n",
       "      <th>Topic_Battery</th>\n",
       "      <th>Topic_Camera</th>\n",
       "      <th>Topic_Music</th>\n",
       "      <th>Topic_Screen</th>\n",
       "      <th>Topic_Software</th>\n",
       "      <th>Topic_Speed</th>\n",
       "      <th>Topic_Storage</th>\n",
       "      <th>Item #_B0775451TT</th>\n",
       "      <th>Item #_B077578W38</th>\n",
       "      <th>Item #_B0775H5HJW</th>\n",
       "      <th>Item #_B07D6TQP6F</th>\n",
       "      <th>Item #_B07KFNRQ5S</th>\n",
       "      <th>Item #_B07KKL5KGG</th>\n",
       "      <th>Item #_B07P6Y8L3F</th>\n",
       "      <th>Item #_B07RDMLR4V</th>\n",
       "      <th>Item #_B07RKYQSRB</th>\n",
       "      <th>Item #_B07RT1X4FJ</th>\n",
       "    </tr>\n",
       "  </thead>\n",
       "  <tbody>\n",
       "    <tr>\n",
       "      <th>0</th>\n",
       "      <td>1.0</td>\n",
       "      <td>0.2</td>\n",
       "      <td>-0.185281</td>\n",
       "      <td>1</td>\n",
       "      <td>0</td>\n",
       "      <td>0</td>\n",
       "      <td>0</td>\n",
       "      <td>0</td>\n",
       "      <td>0</td>\n",
       "      <td>0</td>\n",
       "      <td>1</td>\n",
       "      <td>0</td>\n",
       "      <td>0</td>\n",
       "      <td>0</td>\n",
       "      <td>0</td>\n",
       "      <td>0</td>\n",
       "      <td>0</td>\n",
       "      <td>0</td>\n",
       "      <td>0</td>\n",
       "      <td>0</td>\n",
       "    </tr>\n",
       "    <tr>\n",
       "      <th>1</th>\n",
       "      <td>1.0</td>\n",
       "      <td>1.0</td>\n",
       "      <td>0.472727</td>\n",
       "      <td>1</td>\n",
       "      <td>0</td>\n",
       "      <td>0</td>\n",
       "      <td>0</td>\n",
       "      <td>0</td>\n",
       "      <td>0</td>\n",
       "      <td>0</td>\n",
       "      <td>1</td>\n",
       "      <td>0</td>\n",
       "      <td>0</td>\n",
       "      <td>0</td>\n",
       "      <td>0</td>\n",
       "      <td>0</td>\n",
       "      <td>0</td>\n",
       "      <td>0</td>\n",
       "      <td>0</td>\n",
       "      <td>0</td>\n",
       "    </tr>\n",
       "    <tr>\n",
       "      <th>2</th>\n",
       "      <td>1.0</td>\n",
       "      <td>0.2</td>\n",
       "      <td>0.155556</td>\n",
       "      <td>1</td>\n",
       "      <td>0</td>\n",
       "      <td>0</td>\n",
       "      <td>0</td>\n",
       "      <td>0</td>\n",
       "      <td>0</td>\n",
       "      <td>0</td>\n",
       "      <td>1</td>\n",
       "      <td>0</td>\n",
       "      <td>0</td>\n",
       "      <td>0</td>\n",
       "      <td>0</td>\n",
       "      <td>0</td>\n",
       "      <td>0</td>\n",
       "      <td>0</td>\n",
       "      <td>0</td>\n",
       "      <td>0</td>\n",
       "    </tr>\n",
       "    <tr>\n",
       "      <th>3</th>\n",
       "      <td>1.0</td>\n",
       "      <td>0.4</td>\n",
       "      <td>0.196667</td>\n",
       "      <td>1</td>\n",
       "      <td>0</td>\n",
       "      <td>0</td>\n",
       "      <td>0</td>\n",
       "      <td>0</td>\n",
       "      <td>0</td>\n",
       "      <td>0</td>\n",
       "      <td>1</td>\n",
       "      <td>0</td>\n",
       "      <td>0</td>\n",
       "      <td>0</td>\n",
       "      <td>0</td>\n",
       "      <td>0</td>\n",
       "      <td>0</td>\n",
       "      <td>0</td>\n",
       "      <td>0</td>\n",
       "      <td>0</td>\n",
       "    </tr>\n",
       "    <tr>\n",
       "      <th>4</th>\n",
       "      <td>1.0</td>\n",
       "      <td>1.0</td>\n",
       "      <td>-0.237784</td>\n",
       "      <td>1</td>\n",
       "      <td>0</td>\n",
       "      <td>0</td>\n",
       "      <td>0</td>\n",
       "      <td>0</td>\n",
       "      <td>0</td>\n",
       "      <td>0</td>\n",
       "      <td>1</td>\n",
       "      <td>0</td>\n",
       "      <td>0</td>\n",
       "      <td>0</td>\n",
       "      <td>0</td>\n",
       "      <td>0</td>\n",
       "      <td>0</td>\n",
       "      <td>0</td>\n",
       "      <td>0</td>\n",
       "      <td>0</td>\n",
       "    </tr>\n",
       "  </tbody>\n",
       "</table>\n",
       "</div>"
      ],
      "text/plain": [
       "   Price  Rating  Positivity  Topic_Battery  Topic_Camera  Topic_Music  \\\n",
       "0    1.0     0.2   -0.185281              1             0            0   \n",
       "1    1.0     1.0    0.472727              1             0            0   \n",
       "2    1.0     0.2    0.155556              1             0            0   \n",
       "3    1.0     0.4    0.196667              1             0            0   \n",
       "4    1.0     1.0   -0.237784              1             0            0   \n",
       "\n",
       "   Topic_Screen  Topic_Software  Topic_Speed  Topic_Storage  \\\n",
       "0             0               0            0              0   \n",
       "1             0               0            0              0   \n",
       "2             0               0            0              0   \n",
       "3             0               0            0              0   \n",
       "4             0               0            0              0   \n",
       "\n",
       "   Item #_B0775451TT  Item #_B077578W38  Item #_B0775H5HJW  Item #_B07D6TQP6F  \\\n",
       "0                  1                  0                  0                  0   \n",
       "1                  1                  0                  0                  0   \n",
       "2                  1                  0                  0                  0   \n",
       "3                  1                  0                  0                  0   \n",
       "4                  1                  0                  0                  0   \n",
       "\n",
       "   Item #_B07KFNRQ5S  Item #_B07KKL5KGG  Item #_B07P6Y8L3F  Item #_B07RDMLR4V  \\\n",
       "0                  0                  0                  0                  0   \n",
       "1                  0                  0                  0                  0   \n",
       "2                  0                  0                  0                  0   \n",
       "3                  0                  0                  0                  0   \n",
       "4                  0                  0                  0                  0   \n",
       "\n",
       "   Item #_B07RKYQSRB  Item #_B07RT1X4FJ  \n",
       "0                  0                  0  \n",
       "1                  0                  0  \n",
       "2                  0                  0  \n",
       "3                  0                  0  \n",
       "4                  0                  0  "
      ]
     },
     "execution_count": 4,
     "metadata": {},
     "output_type": "execute_result"
    }
   ],
   "source": [
    "#Starting to normalize the price and rating columns.\n",
    "a_df['Price'] = a_df['Price']/a_df['Price'].max()\n",
    "a_df['Rating'] = a_df['Rating']/a_df['Rating'].max()\n",
    "a_df.head()"
   ]
  },
  {
   "cell_type": "code",
   "execution_count": 5,
   "id": "dc95bc72",
   "metadata": {},
   "outputs": [],
   "source": [
    "#Creating a list and looping through to format.\n",
    "a_df_list = list(a_df_cat.columns)+['Price',\"Rating\"]\n",
    "\n",
    "for x in a_df_list:\n",
    "    x = 'a_df[\"'+x+'\"]'"
   ]
  },
  {
   "cell_type": "code",
   "execution_count": 6,
   "id": "63700792",
   "metadata": {},
   "outputs": [],
   "source": [
    "#Creating a linear regression and converting the coefficients to a list.\n",
    "regr = linear_model.LinearRegression()\n",
    "regr.fit(a_df[a_df_list], a_df[\"Positivity\"])\n",
    "coef = regr.coef_.tolist()"
   ]
  },
  {
   "cell_type": "code",
   "execution_count": 7,
   "id": "bab408f5",
   "metadata": {},
   "outputs": [
    {
     "name": "stdout",
     "output_type": "stream",
     "text": [
      "Topic_Battery: -13518904643374.525\n",
      "Topic_Camera: -13518904643374.594\n",
      "Topic_Music: -13518904643374.527\n",
      "Topic_Screen: -13518904643374.58\n",
      "Topic_Software: -13518904643374.588\n",
      "Topic_Speed: -13518904643374.594\n",
      "Topic_Storage: -13518904643374.6\n",
      "Item #_B0775451TT: -3366574469290.9404\n",
      "Item #_B077578W38: -700763379549.0848\n",
      "Item #_B0775H5HJW: -3313293081225.5015\n",
      "Item #_B07D6TQP6F: -700763379548.9995\n",
      "Item #_B07KFNRQ5S: -700763379549.0597\n",
      "Item #_B07KKL5KGG: -700763379549.0402\n",
      "Item #_B07P6Y8L3F: -700763379549.119\n",
      "Item #_B07RDMLR4V: -700763379549.0593\n",
      "Item #_B07RKYQSRB: -700763379548.9878\n",
      "Item #_B07RT1X4FJ: -700763379549.0415\n",
      "Price: 2665811089741.944\n",
      "Rating: 0.2830088246910591\n"
     ]
    }
   ],
   "source": [
    "#Displaying the results and formatting it.\n",
    "for x,y in zip(a_df_list,coef):\n",
    "    y=str(y)\n",
    "    print(x+\": \"+y)"
   ]
  },
  {
   "cell_type": "code",
   "execution_count": 8,
   "id": "412e6e14",
   "metadata": {},
   "outputs": [
    {
     "name": "stdout",
     "output_type": "stream",
     "text": [
      "['Topic_Battery', 'Topic_Camera', 'Topic_Music', 'Topic_Screen', 'Topic_Software', 'Topic_Speed', 'Topic_Storage', 'Item #_B0775451TT', 'Item #_B077578W38', 'Item #_B0775H5HJW', 'Item #_B07D6TQP6F', 'Item #_B07KFNRQ5S', 'Item #_B07KKL5KGG', 'Item #_B07P6Y8L3F', 'Item #_B07RDMLR4V', 'Item #_B07RKYQSRB', 'Item #_B07RT1X4FJ', 'Price']\n"
     ]
    }
   ],
   "source": [
    "#Feature reduction\n",
    "max_val=max(coef)\n",
    "important_features = []\n",
    "\n",
    "for coe,f_name in zip(coef,a_df_list):\n",
    "    if abs(coe) > max_val/1000:\n",
    "        important_features.append(f_name)\n",
    "        \n",
    "print(important_features)"
   ]
  },
  {
   "cell_type": "code",
   "execution_count": 9,
   "id": "dae171b6",
   "metadata": {},
   "outputs": [],
   "source": [
    "#Creating a linear regression and convrting the coefficients to a list.\n",
    "regr = linear_model.LinearRegression()\n",
    "regr.fit(a_df[important_features], a_df[\"Positivity\"])\n",
    "coef = regr.coef_.tolist()"
   ]
  },
  {
   "cell_type": "code",
   "execution_count": 10,
   "id": "133dbc70",
   "metadata": {},
   "outputs": [
    {
     "name": "stdout",
     "output_type": "stream",
     "text": [
      "Topic_Battery: -17974826733265.246\n",
      "Topic_Camera: -17974826733265.355\n",
      "Topic_Music: -17974826733265.28\n",
      "Topic_Screen: -17974826733265.34\n",
      "Topic_Software: -17974826733265.367\n",
      "Topic_Speed: -17974826733265.312\n",
      "Topic_Storage: -17974826733265.34\n",
      "Item #_B0775451TT: -15354436882882.64\n",
      "Item #_B077578W38: -3225166997597.4653\n",
      "Item #_B0775H5HJW: -15112009976416.646\n",
      "Item #_B07D6TQP6F: -3225166997597.3945\n",
      "Item #_B07KFNRQ5S: -3225166997597.4297\n",
      "Item #_B07KKL5KGG: -3225166997597.459\n",
      "Item #_B07P6Y8L3F: -3225166997597.4727\n",
      "Item #_B07RDMLR4V: -3225166997597.4272\n",
      "Item #_B07RKYQSRB: -3225166997597.3335\n",
      "Item #_B07RT1X4FJ: -3225166997597.4624\n",
      "Price: 12129269885285.248\n"
     ]
    }
   ],
   "source": [
    "#Displaying the results and formatting it to display next to the name of each categorical value.\n",
    "for x,y in zip(important_features,coef):\n",
    "    y=str(y)\n",
    "    print(x+\": \"+y)"
   ]
  },
  {
   "cell_type": "code",
   "execution_count": 11,
   "id": "e667059a",
   "metadata": {},
   "outputs": [
    {
     "name": "stdout",
     "output_type": "stream",
     "text": [
      "Topic_Battery: 0.022536719978821507\n",
      "Topic_Camera: -0.026651152936723675\n",
      "Topic_Music: 0.01216660599509831\n",
      "Topic_Screen: 0.00037393577836734697\n",
      "Topic_Software: -0.0\n",
      "Topic_Speed: -0.0\n",
      "Topic_Storage: -0.0032147501610884934\n",
      "Item #_B0775451TT: 0.03634044497142124\n",
      "Item #_B077578W38: -0.02977395034120109\n",
      "Item #_B0775H5HJW: -0.0\n",
      "Item #_B07D6TQP6F: 0.04453698039137371\n",
      "Item #_B07KFNRQ5S: -0.0\n",
      "Item #_B07KKL5KGG: 0.0\n",
      "Item #_B07P6Y8L3F: -0.008329253301070138\n",
      "Item #_B07RDMLR4V: -0.0\n",
      "Item #_B07RKYQSRB: 0.0\n",
      "Item #_B07RT1X4FJ: 0.0\n",
      "Price: 0.008179348289185272\n",
      "Rating: 0.2682578144229547\n"
     ]
    }
   ],
   "source": [
    "#Hyperparametic tuning with lasso regression\n",
    "lasso_model = Lasso(alpha=.001)\n",
    "lasso_model.fit(a_df[a_df_list],a_df['Positivity'])\n",
    "\n",
    "coef = lasso_model.coef_.tolist()\n",
    "for x,y in zip(a_df_list,coef):\n",
    "    y=str(y)\n",
    "    print(x+\": \"+y)"
   ]
  },
  {
   "cell_type": "markdown",
   "id": "acdb407a",
   "metadata": {},
   "source": [
    "Running Linear Regression on required columns"
   ]
  },
  {
   "cell_type": "code",
   "execution_count": 12,
   "id": "2b81842b",
   "metadata": {},
   "outputs": [
    {
     "data": {
      "text/plain": [
       "<AxesSubplot:xlabel='Topic_Camera', ylabel='Positivity'>"
      ]
     },
     "execution_count": 12,
     "metadata": {},
     "output_type": "execute_result"
    },
    {
     "data": {
      "image/png": "[encoded data removed]",
      "text/plain": [
       "<Figure size 432x288 with 1 Axes>"
      ]
     },
     "metadata": {
      "needs_background": "light"
     },
     "output_type": "display_data"
    }
   ],
   "source": [
    "#Linear regression (Camera, Positivity)\n",
    "sns.regplot(x=\"Topic_Camera\",y=\"Positivity\",data=a_df)"
   ]
  },
  {
   "cell_type": "code",
   "execution_count": 13,
   "id": "753e8d42",
   "metadata": {},
   "outputs": [
    {
     "data": {
      "text/plain": [
       "<AxesSubplot:xlabel='Topic_Music', ylabel='Positivity'>"
      ]
     },
     "execution_count": 13,
     "metadata": {},
     "output_type": "execute_result"
    },
    {
     "data": {
      "image/png": "[encoded data removed]",
      "text/plain": [
       "<Figure size 432x288 with 1 Axes>"
      ]
     },
     "metadata": {
      "needs_background": "light"
     },
     "output_type": "display_data"
    }
   ],
   "source": [
    "#Linear regression (Music, Positivity)\n",
    "sns.regplot(x=\"Topic_Music\",y=\"Positivity\",data=a_df)"
   ]
  },
  {
   "cell_type": "code",
   "execution_count": 14,
   "id": "8415f2de",
   "metadata": {},
   "outputs": [
    {
     "data": {
      "text/plain": [
       "<AxesSubplot:xlabel='Topic_Software', ylabel='Positivity'>"
      ]
     },
     "execution_count": 14,
     "metadata": {},
     "output_type": "execute_result"
    },
    {
     "data": {
      "image/png": "[encoded data removed]",
      "text/plain": [
       "<Figure size 432x288 with 1 Axes>"
      ]
     },
     "metadata": {
      "needs_background": "light"
     },
     "output_type": "display_data"
    }
   ],
   "source": [
    "#Linear regression (Software, Positivity)\n",
    "sns.regplot(x=\"Topic_Software\",y=\"Positivity\",data=a_df)"
   ]
  },
  {
   "cell_type": "code",
   "execution_count": 15,
   "id": "ac3d9c30",
   "metadata": {},
   "outputs": [
    {
     "data": {
      "text/plain": [
       "<AxesSubplot:xlabel='Price', ylabel='Positivity'>"
      ]
     },
     "execution_count": 15,
     "metadata": {},
     "output_type": "execute_result"
    },
    {
     "data": {
      "image/png": "[encoded data removed]",
      "text/plain": [
       "<Figure size 432x288 with 1 Axes>"
      ]
     },
     "metadata": {
      "needs_background": "light"
     },
     "output_type": "display_data"
    }
   ],
   "source": [
    "#Linear regression (Price, Positivity)\n",
    "sns.regplot(x=\"Price\",y=\"Positivity\",data=a_df)"
   ]
  },
  {
   "cell_type": "code",
   "execution_count": 16,
   "id": "8677b7bd",
   "metadata": {},
   "outputs": [
    {
     "data": {
      "text/plain": [
       "<AxesSubplot:xlabel='Rating', ylabel='Positivity'>"
      ]
     },
     "execution_count": 16,
     "metadata": {},
     "output_type": "execute_result"
    },
    {
     "data": {
      "image/png": "[encoded data removed]",
      "text/plain": [
       "<Figure size 432x288 with 1 Axes>"
      ]
     },
     "metadata": {
      "needs_background": "light"
     },
     "output_type": "display_data"
    }
   ],
   "source": [
    "#Linear regression (Rating, Positivity)\n",
    "sns.regplot(x=\"Rating\",y=\"Positivity\",data=a_df)"
   ]
  },
  {
   "cell_type": "code",
   "execution_count": null,
   "id": "887a4b88",
   "metadata": {},
   "outputs": [],
   "source": []
  }
 ],
 "metadata": {
  "kernelspec": {
   "display_name": "Python 3 (ipykernel)",
   "language": "python",
   "name": "python3"
  },
  "language_info": {
   "codemirror_mode": {
    "name": "ipython",
    "version": 3
   },
   "file_extension": ".py",
   "mimetype": "text/x-python",
   "name": "python",
   "nbconvert_exporter": "python",
   "pygments_lexer": "ipython3",
   "version": "3.9.7"
  }
 },
 "nbformat": 4,
 "nbformat_minor": 5
}
