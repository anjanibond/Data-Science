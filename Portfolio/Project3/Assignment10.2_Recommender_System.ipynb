{
 "cells": [
  {
   "cell_type": "markdown",
   "id": "743b6c73",
   "metadata": {},
   "source": [
    "### Author: Anjani Bonda\n",
    "### Course: DSC630 - Predictive Analytics\n",
    "### Date: 05 Nov 2022"
   ]
  },
  {
   "cell_type": "markdown",
   "id": "c221e413",
   "metadata": {},
   "source": [
    "Using the small MovieLens data set, create a recommender system that allows users to input a movie they like (in the data set) and recommends ten other movies for them to watch. In your write-up, clearly explain the recommender system process and all steps performed. If you are using a method found online, be sure to reference the source.\n",
    "You can use R or Python to complete this assignment. Submit your code and output to the submission link. Make sure to add comments to all of your code and to document your steps, process, and analysis."
   ]
  },
  {
   "cell_type": "markdown",
   "id": "adea8432",
   "metadata": {},
   "source": [
    "#### In this exercise, we are going to use Collaborative Filtering to recommend the movies for the user. "
   ]
  },
  {
   "cell_type": "markdown",
   "id": "abd26821",
   "metadata": {},
   "source": [
    "#### Step 1: Import all the libraries required for data processing"
   ]
  },
  {
   "cell_type": "code",
   "execution_count": 1,
   "id": "94bec2b5",
   "metadata": {},
   "outputs": [],
   "source": [
    "## Import required libraries.\n",
    "import numpy as np\n",
    "import pandas as pd\n",
    "import sklearn\n",
    "import matplotlib.pyplot as plt\n",
    "import seaborn as sns"
   ]
  },
  {
   "cell_type": "code",
   "execution_count": 2,
   "id": "5c355b97",
   "metadata": {},
   "outputs": [],
   "source": [
    "## Ignore warnings\n",
    "import warnings\n",
    "warnings.simplefilter(action='ignore', category=FutureWarning)"
   ]
  },
  {
   "cell_type": "code",
   "execution_count": 3,
   "id": "2665e94e",
   "metadata": {},
   "outputs": [],
   "source": [
    "## Display all columns in pandas dataframe\n",
    "pd.set_option('display.max_columns', None)\n",
    "pd.set_option('display.max_rows', None)"
   ]
  },
  {
   "cell_type": "markdown",
   "id": "f4b48f63",
   "metadata": {},
   "source": [
    "#### Step 2: Load the movielens dataset"
   ]
  },
  {
   "cell_type": "markdown",
   "id": "70cafa9f",
   "metadata": {},
   "source": [
    "We will create 2 dataframes. 1. ratings_df -> movie ratings given by users. 2. movies_df -> list of movies and genres."
   ]
  },
  {
   "cell_type": "code",
   "execution_count": 4,
   "id": "50c11acb",
   "metadata": {},
   "outputs": [
    {
     "data": {
      "text/html": [
       "<div>\n",
       "<style scoped>\n",
       "    .dataframe tbody tr th:only-of-type {\n",
       "        vertical-align: middle;\n",
       "    }\n",
       "\n",
       "    .dataframe tbody tr th {\n",
       "        vertical-align: top;\n",
       "    }\n",
       "\n",
       "    .dataframe thead th {\n",
       "        text-align: right;\n",
       "    }\n",
       "</style>\n",
       "<table border=\"1\" class=\"dataframe\">\n",
       "  <thead>\n",
       "    <tr style=\"text-align: right;\">\n",
       "      <th></th>\n",
       "      <th>userId</th>\n",
       "      <th>movieId</th>\n",
       "      <th>rating</th>\n",
       "      <th>timestamp</th>\n",
       "    </tr>\n",
       "  </thead>\n",
       "  <tbody>\n",
       "    <tr>\n",
       "      <th>0</th>\n",
       "      <td>1</td>\n",
       "      <td>1</td>\n",
       "      <td>4.0</td>\n",
       "      <td>964982703</td>\n",
       "    </tr>\n",
       "    <tr>\n",
       "      <th>1</th>\n",
       "      <td>1</td>\n",
       "      <td>3</td>\n",
       "      <td>4.0</td>\n",
       "      <td>964981247</td>\n",
       "    </tr>\n",
       "    <tr>\n",
       "      <th>2</th>\n",
       "      <td>1</td>\n",
       "      <td>6</td>\n",
       "      <td>4.0</td>\n",
       "      <td>964982224</td>\n",
       "    </tr>\n",
       "    <tr>\n",
       "      <th>3</th>\n",
       "      <td>1</td>\n",
       "      <td>47</td>\n",
       "      <td>5.0</td>\n",
       "      <td>964983815</td>\n",
       "    </tr>\n",
       "    <tr>\n",
       "      <th>4</th>\n",
       "      <td>1</td>\n",
       "      <td>50</td>\n",
       "      <td>5.0</td>\n",
       "      <td>964982931</td>\n",
       "    </tr>\n",
       "  </tbody>\n",
       "</table>\n",
       "</div>"
      ],
      "text/plain": [
       "   userId  movieId  rating  timestamp\n",
       "0       1        1     4.0  964982703\n",
       "1       1        3     4.0  964981247\n",
       "2       1        6     4.0  964982224\n",
       "3       1       47     5.0  964983815\n",
       "4       1       50     5.0  964982931"
      ]
     },
     "execution_count": 4,
     "metadata": {},
     "output_type": "execute_result"
    }
   ],
   "source": [
    "## Load the ratings data into a dataframe\n",
    "ratings_df = pd.read_csv(\"ratings.csv\")\n",
    "ratings_df.head()"
   ]
  },
  {
   "cell_type": "code",
   "execution_count": 5,
   "id": "cf6d17de",
   "metadata": {},
   "outputs": [
    {
     "data": {
      "text/html": [
       "<div>\n",
       "<style scoped>\n",
       "    .dataframe tbody tr th:only-of-type {\n",
       "        vertical-align: middle;\n",
       "    }\n",
       "\n",
       "    .dataframe tbody tr th {\n",
       "        vertical-align: top;\n",
       "    }\n",
       "\n",
       "    .dataframe thead th {\n",
       "        text-align: right;\n",
       "    }\n",
       "</style>\n",
       "<table border=\"1\" class=\"dataframe\">\n",
       "  <thead>\n",
       "    <tr style=\"text-align: right;\">\n",
       "      <th></th>\n",
       "      <th>movieId</th>\n",
       "      <th>title</th>\n",
       "      <th>genres</th>\n",
       "    </tr>\n",
       "  </thead>\n",
       "  <tbody>\n",
       "    <tr>\n",
       "      <th>0</th>\n",
       "      <td>1</td>\n",
       "      <td>Toy Story (1995)</td>\n",
       "      <td>Adventure|Animation|Children|Comedy|Fantasy</td>\n",
       "    </tr>\n",
       "    <tr>\n",
       "      <th>1</th>\n",
       "      <td>2</td>\n",
       "      <td>Jumanji (1995)</td>\n",
       "      <td>Adventure|Children|Fantasy</td>\n",
       "    </tr>\n",
       "    <tr>\n",
       "      <th>2</th>\n",
       "      <td>3</td>\n",
       "      <td>Grumpier Old Men (1995)</td>\n",
       "      <td>Comedy|Romance</td>\n",
       "    </tr>\n",
       "    <tr>\n",
       "      <th>3</th>\n",
       "      <td>4</td>\n",
       "      <td>Waiting to Exhale (1995)</td>\n",
       "      <td>Comedy|Drama|Romance</td>\n",
       "    </tr>\n",
       "    <tr>\n",
       "      <th>4</th>\n",
       "      <td>5</td>\n",
       "      <td>Father of the Bride Part II (1995)</td>\n",
       "      <td>Comedy</td>\n",
       "    </tr>\n",
       "  </tbody>\n",
       "</table>\n",
       "</div>"
      ],
      "text/plain": [
       "   movieId                               title  \\\n",
       "0        1                    Toy Story (1995)   \n",
       "1        2                      Jumanji (1995)   \n",
       "2        3             Grumpier Old Men (1995)   \n",
       "3        4            Waiting to Exhale (1995)   \n",
       "4        5  Father of the Bride Part II (1995)   \n",
       "\n",
       "                                        genres  \n",
       "0  Adventure|Animation|Children|Comedy|Fantasy  \n",
       "1                   Adventure|Children|Fantasy  \n",
       "2                               Comedy|Romance  \n",
       "3                         Comedy|Drama|Romance  \n",
       "4                                       Comedy  "
      ]
     },
     "execution_count": 5,
     "metadata": {},
     "output_type": "execute_result"
    }
   ],
   "source": [
    "## Load the movies data into a dataframe\n",
    "movies_df = pd.read_csv(\"movies.csv\")\n",
    "movies_df.head()"
   ]
  },
  {
   "cell_type": "markdown",
   "id": "19edc40b",
   "metadata": {},
   "source": [
    "#### Step3: Calculate stats/metrics on the above datasets."
   ]
  },
  {
   "cell_type": "code",
   "execution_count": 6,
   "id": "1b15826d",
   "metadata": {},
   "outputs": [],
   "source": [
    "## Calculate the total # of records present in ratings_df\n",
    "## Total # of unique movies from ratings_df\n",
    "## Total # of unique users from ratings_df\n",
    "n_ratings = len(ratings_df)\n",
    "n_movies = len(ratings_df['movieId'].unique())\n",
    "n_users = len(ratings_df['userId'].unique())"
   ]
  },
  {
   "cell_type": "code",
   "execution_count": 7,
   "id": "645cd99f",
   "metadata": {},
   "outputs": [
    {
     "name": "stdout",
     "output_type": "stream",
     "text": [
      "Number of ratings: 100836\n",
      "Number of unique movieId's: 9724\n",
      "Number of unique users: 610\n",
      "Average ratings per user: 165.3\n",
      "Average ratings per movie: 10.37\n"
     ]
    }
   ],
   "source": [
    "## Print the # of ratings. unique movieid, unique users and average user and movies\n",
    "print(f\"Number of ratings: {n_ratings}\")\n",
    "print(f\"Number of unique movieId's: {n_movies}\")\n",
    "print(f\"Number of unique users: {n_users}\")\n",
    "print(f\"Average ratings per user: {round(n_ratings/n_users, 2)}\")\n",
    "print(f\"Average ratings per movie: {round(n_ratings/n_movies, 2)}\")"
   ]
  },
  {
   "cell_type": "markdown",
   "id": "fe8f1320",
   "metadata": {},
   "source": [
    "In the above step, we calculated the total # of ratings given to the movies, # of unique movies in the dataset, # of unique users in the ratings dataframe and average ratings per user and movies.\n",
    "\n",
    "On an average, a user has provided 165.3 # of ratings for the movies and each movie has received 10.37 # of ratings from the users."
   ]
  },
  {
   "cell_type": "code",
   "execution_count": 8,
   "id": "72be13c5",
   "metadata": {},
   "outputs": [
    {
     "data": {
      "text/html": [
       "<div>\n",
       "<style scoped>\n",
       "    .dataframe tbody tr th:only-of-type {\n",
       "        vertical-align: middle;\n",
       "    }\n",
       "\n",
       "    .dataframe tbody tr th {\n",
       "        vertical-align: top;\n",
       "    }\n",
       "\n",
       "    .dataframe thead th {\n",
       "        text-align: right;\n",
       "    }\n",
       "</style>\n",
       "<table border=\"1\" class=\"dataframe\">\n",
       "  <thead>\n",
       "    <tr style=\"text-align: right;\">\n",
       "      <th></th>\n",
       "      <th>userId</th>\n",
       "      <th>n_ratings</th>\n",
       "    </tr>\n",
       "  </thead>\n",
       "  <tbody>\n",
       "    <tr>\n",
       "      <th>0</th>\n",
       "      <td>1</td>\n",
       "      <td>232</td>\n",
       "    </tr>\n",
       "    <tr>\n",
       "      <th>1</th>\n",
       "      <td>2</td>\n",
       "      <td>29</td>\n",
       "    </tr>\n",
       "    <tr>\n",
       "      <th>2</th>\n",
       "      <td>3</td>\n",
       "      <td>39</td>\n",
       "    </tr>\n",
       "    <tr>\n",
       "      <th>3</th>\n",
       "      <td>4</td>\n",
       "      <td>216</td>\n",
       "    </tr>\n",
       "    <tr>\n",
       "      <th>4</th>\n",
       "      <td>5</td>\n",
       "      <td>44</td>\n",
       "    </tr>\n",
       "  </tbody>\n",
       "</table>\n",
       "</div>"
      ],
      "text/plain": [
       "   userId  n_ratings\n",
       "0       1        232\n",
       "1       2         29\n",
       "2       3         39\n",
       "3       4        216\n",
       "4       5         44"
      ]
     },
     "execution_count": 8,
     "metadata": {},
     "output_type": "execute_result"
    }
   ],
   "source": [
    "## Calculate the count of movies watched by user frequency\n",
    "user_freq = ratings_df[['userId', 'movieId']].groupby('userId').count().reset_index()\n",
    "user_freq.columns = ['userId', 'n_ratings']\n",
    "user_freq.head()"
   ]
  },
  {
   "cell_type": "code",
   "execution_count": 9,
   "id": "39ff70fb",
   "metadata": {},
   "outputs": [
    {
     "data": {
      "text/html": [
       "<div>\n",
       "<style scoped>\n",
       "    .dataframe tbody tr th:only-of-type {\n",
       "        vertical-align: middle;\n",
       "    }\n",
       "\n",
       "    .dataframe tbody tr th {\n",
       "        vertical-align: top;\n",
       "    }\n",
       "\n",
       "    .dataframe thead th {\n",
       "        text-align: right;\n",
       "    }\n",
       "</style>\n",
       "<table border=\"1\" class=\"dataframe\">\n",
       "  <thead>\n",
       "    <tr style=\"text-align: right;\">\n",
       "      <th></th>\n",
       "      <th>movieId</th>\n",
       "      <th>title</th>\n",
       "      <th>genres</th>\n",
       "    </tr>\n",
       "  </thead>\n",
       "  <tbody>\n",
       "    <tr>\n",
       "      <th>2689</th>\n",
       "      <td>3604</td>\n",
       "      <td>Gypsy (1962)</td>\n",
       "      <td>Musical</td>\n",
       "    </tr>\n",
       "  </tbody>\n",
       "</table>\n",
       "</div>"
      ],
      "text/plain": [
       "      movieId         title   genres\n",
       "2689     3604  Gypsy (1962)  Musical"
      ]
     },
     "execution_count": 9,
     "metadata": {},
     "output_type": "execute_result"
    }
   ],
   "source": [
    "# Find Lowest and Highest rated movies:\n",
    "mean_rating = ratings_df.groupby('movieId')[['rating']].mean()\n",
    "# Lowest rated movie\n",
    "lowest_rated = mean_rating['rating'].idxmin()\n",
    "movies_df.loc[movies_df['movieId'] == lowest_rated]"
   ]
  },
  {
   "cell_type": "code",
   "execution_count": 10,
   "id": "1e219df8",
   "metadata": {},
   "outputs": [
    {
     "data": {
      "text/html": [
       "<div>\n",
       "<style scoped>\n",
       "    .dataframe tbody tr th:only-of-type {\n",
       "        vertical-align: middle;\n",
       "    }\n",
       "\n",
       "    .dataframe tbody tr th {\n",
       "        vertical-align: top;\n",
       "    }\n",
       "\n",
       "    .dataframe thead th {\n",
       "        text-align: right;\n",
       "    }\n",
       "</style>\n",
       "<table border=\"1\" class=\"dataframe\">\n",
       "  <thead>\n",
       "    <tr style=\"text-align: right;\">\n",
       "      <th></th>\n",
       "      <th>movieId</th>\n",
       "      <th>title</th>\n",
       "      <th>genres</th>\n",
       "    </tr>\n",
       "  </thead>\n",
       "  <tbody>\n",
       "    <tr>\n",
       "      <th>48</th>\n",
       "      <td>53</td>\n",
       "      <td>Lamerica (1994)</td>\n",
       "      <td>Adventure|Drama</td>\n",
       "    </tr>\n",
       "  </tbody>\n",
       "</table>\n",
       "</div>"
      ],
      "text/plain": [
       "    movieId            title           genres\n",
       "48       53  Lamerica (1994)  Adventure|Drama"
      ]
     },
     "execution_count": 10,
     "metadata": {},
     "output_type": "execute_result"
    }
   ],
   "source": [
    "# Highest rated movie\n",
    "highest_rated = mean_rating['rating'].idxmax()\n",
    "movies_df.loc[movies_df['movieId'] == highest_rated]"
   ]
  },
  {
   "cell_type": "code",
   "execution_count": 13,
   "id": "6c20be59",
   "metadata": {},
   "outputs": [
    {
     "data": {
      "text/html": [
       "<div>\n",
       "<style scoped>\n",
       "    .dataframe tbody tr th:only-of-type {\n",
       "        vertical-align: middle;\n",
       "    }\n",
       "\n",
       "    .dataframe tbody tr th {\n",
       "        vertical-align: top;\n",
       "    }\n",
       "\n",
       "    .dataframe thead th {\n",
       "        text-align: right;\n",
       "    }\n",
       "</style>\n",
       "<table border=\"1\" class=\"dataframe\">\n",
       "  <thead>\n",
       "    <tr style=\"text-align: right;\">\n",
       "      <th></th>\n",
       "      <th>userId</th>\n",
       "      <th>movieId</th>\n",
       "      <th>rating</th>\n",
       "      <th>timestamp</th>\n",
       "    </tr>\n",
       "  </thead>\n",
       "  <tbody>\n",
       "    <tr>\n",
       "      <th>13368</th>\n",
       "      <td>85</td>\n",
       "      <td>53</td>\n",
       "      <td>5.0</td>\n",
       "      <td>889468268</td>\n",
       "    </tr>\n",
       "    <tr>\n",
       "      <th>96115</th>\n",
       "      <td>603</td>\n",
       "      <td>53</td>\n",
       "      <td>5.0</td>\n",
       "      <td>963180003</td>\n",
       "    </tr>\n",
       "  </tbody>\n",
       "</table>\n",
       "</div>"
      ],
      "text/plain": [
       "       userId  movieId  rating  timestamp\n",
       "13368      85       53     5.0  889468268\n",
       "96115     603       53     5.0  963180003"
      ]
     },
     "execution_count": 13,
     "metadata": {},
     "output_type": "execute_result"
    }
   ],
   "source": [
    "# show users who rated movies highest\n",
    "ratings_df[ratings_df['movieId']==highest_rated]\n"
   ]
  },
  {
   "cell_type": "code",
   "execution_count": 12,
   "id": "3546818a",
   "metadata": {},
   "outputs": [
    {
     "data": {
      "text/html": [
       "<div>\n",
       "<style scoped>\n",
       "    .dataframe tbody tr th:only-of-type {\n",
       "        vertical-align: middle;\n",
       "    }\n",
       "\n",
       "    .dataframe tbody tr th {\n",
       "        vertical-align: top;\n",
       "    }\n",
       "\n",
       "    .dataframe thead th {\n",
       "        text-align: right;\n",
       "    }\n",
       "</style>\n",
       "<table border=\"1\" class=\"dataframe\">\n",
       "  <thead>\n",
       "    <tr style=\"text-align: right;\">\n",
       "      <th></th>\n",
       "      <th>userId</th>\n",
       "      <th>movieId</th>\n",
       "      <th>rating</th>\n",
       "      <th>timestamp</th>\n",
       "    </tr>\n",
       "  </thead>\n",
       "  <tbody>\n",
       "    <tr>\n",
       "      <th>13633</th>\n",
       "      <td>89</td>\n",
       "      <td>3604</td>\n",
       "      <td>0.5</td>\n",
       "      <td>1520408880</td>\n",
       "    </tr>\n",
       "  </tbody>\n",
       "</table>\n",
       "</div>"
      ],
      "text/plain": [
       "       userId  movieId  rating   timestamp\n",
       "13633      89     3604     0.5  1520408880"
      ]
     },
     "execution_count": 12,
     "metadata": {},
     "output_type": "execute_result"
    }
   ],
   "source": [
    "# show users who rated movies lowest\n",
    "ratings_df[ratings_df['movieId']==lowest_rated]"
   ]
  },
  {
   "cell_type": "code",
   "execution_count": 14,
   "id": "bd860e70",
   "metadata": {},
   "outputs": [],
   "source": [
    "# The above movies has very low dataset. We will use bayesian average\n",
    "movie_stats = ratings_df.groupby('movieId')[['rating']].agg(['count', 'mean'])\n",
    "movie_stats.columns = movie_stats.columns.droplevel()"
   ]
  },
  {
   "cell_type": "markdown",
   "id": "0d16180f",
   "metadata": {},
   "source": [
    "In the above steps, we calculated the count of ratings provided by each user present in the dataset, movies that recieved lowest and highest ratings from the users. Finally, we have also shown number of users rating the lowest and highest rating movies."
   ]
  },
  {
   "cell_type": "markdown",
   "id": "0181bfa1",
   "metadata": {},
   "source": [
    "#### Step 4: Create user and movie matrix using csr_matrix available in scipy.sparse library"
   ]
  },
  {
   "cell_type": "code",
   "execution_count": 15,
   "id": "d1ecad0b",
   "metadata": {},
   "outputs": [],
   "source": [
    "# Import Library to create user-item matrix using scipy csr matrix\n",
    "from scipy.sparse import csr_matrix"
   ]
  },
  {
   "cell_type": "code",
   "execution_count": 16,
   "id": "81a9ac3f",
   "metadata": {},
   "outputs": [],
   "source": [
    "## Function to create user item matrix\n",
    "def create_matrix(df):\n",
    "      \n",
    "    N = len(df['userId'].unique())\n",
    "    M = len(df['movieId'].unique())\n",
    "      \n",
    "    # Map Ids to indices\n",
    "    user_mapper = dict(zip(np.unique(df[\"userId\"]), list(range(N))))\n",
    "    movie_mapper = dict(zip(np.unique(df[\"movieId\"]), list(range(M))))\n",
    "      \n",
    "    # Map indices to IDs\n",
    "    user_inv_mapper = dict(zip(list(range(N)), np.unique(df[\"userId\"])))\n",
    "    movie_inv_mapper = dict(zip(list(range(M)), np.unique(df[\"movieId\"])))\n",
    "      \n",
    "    user_index = [user_mapper[i] for i in df['userId']]\n",
    "    movie_index = [movie_mapper[i] for i in df['movieId']]\n",
    "  \n",
    "    X = csr_matrix((df[\"rating\"], (movie_index, user_index)), shape=(M, N))\n",
    "      \n",
    "    return X, user_mapper, movie_mapper, user_inv_mapper, movie_inv_mapper"
   ]
  },
  {
   "cell_type": "code",
   "execution_count": 17,
   "id": "e760c90a",
   "metadata": {},
   "outputs": [],
   "source": [
    "## Call the create matrix function and assign to the variables\n",
    "X, user_mapper, movie_mapper, user_inv_mapper, movie_inv_mapper = create_matrix(ratings_df)"
   ]
  },
  {
   "cell_type": "markdown",
   "id": "b882b9b4",
   "metadata": {},
   "source": [
    "In this step, we created a function to build matrix between users and movies. Initially, the length of users and movies present in the dataset has been taken. Then identifiers have been assigned to user id and movie id after removing the duplicates present in the dataset.\n",
    "\n",
    "CSR Matrix has been created with the list of user id and movie ids present in the dataset. Upon creating the matrix, the following values are returned from the function.\n",
    "\n",
    "X: Matrix between movie ids and user ids.\n",
    "user_mapper: Here, unique id has been assigned to each user id and created dictionary of key value pairs.\n",
    "movie_mapper: Here, unique id has been assigned to each movie id and created dictionary of key value pairs.\n",
    "user_inv_mapper: Mapping indices to each user id\n",
    "movie_inv_mapper: Mapping indices to each movie id"
   ]
  },
  {
   "cell_type": "markdown",
   "id": "9a0c77d7",
   "metadata": {},
   "source": [
    "#### Step 5: Function to find similar movies using KNN algorithm"
   ]
  },
  {
   "cell_type": "code",
   "execution_count": 18,
   "id": "f0eff6ef",
   "metadata": {},
   "outputs": [],
   "source": [
    "## Import the library to calculate the similar movies using KNN\n",
    "from sklearn.neighbors import NearestNeighbors"
   ]
  },
  {
   "cell_type": "code",
   "execution_count": 19,
   "id": "8c8567a0",
   "metadata": {},
   "outputs": [],
   "source": [
    "## Function to find the similar movies using KNN \n",
    "def find_similar_movies(movie_id, X, k, metric='cosine', show_distance=False):\n",
    "      \n",
    "    neighbour_ids = []\n",
    "      \n",
    "    movie_ind = movie_mapper[movie_id]\n",
    "    movie_vec = X[movie_ind]\n",
    "    k+=1\n",
    "    kNN = NearestNeighbors(n_neighbors=k, algorithm=\"brute\", metric=metric)\n",
    "    kNN.fit(X)\n",
    "    movie_vec = movie_vec.reshape(1,-1)\n",
    "    neighbour = kNN.kneighbors(movie_vec, return_distance=show_distance)\n",
    "    for i in range(0,k):\n",
    "        n = neighbour.item(i)\n",
    "        neighbour_ids.append(movie_inv_mapper[n])\n",
    "    neighbour_ids.pop(0)\n",
    "    return neighbour_ids"
   ]
  },
  {
   "cell_type": "markdown",
   "id": "0a05ebb4",
   "metadata": {},
   "source": [
    "A function has been created to find similar movies based on the movie id provided as input to the user. Following are the parameters used as a input to the function.\n",
    "\n",
    "movie_id: Movie id provided by the user; This is the movie user has watched and he wants movies similar to this\n",
    "X: CSR Matrix created between user ids and movie ids\n",
    "k: Number of neighbors based on the movie id requested by the user\n",
    "metric: Cosine similarity measures the similarity between two vectors of an inner product space. It is measured by the cosine of the angle between two vectors and determines whether two vectors are pointing in roughly the same direction. It is often used to measure document similarity in text analysis.\n",
    "Upon calling the function, it calculates the neighbors based on the user input (k) values and returns all the adjacent movie ids."
   ]
  },
  {
   "cell_type": "markdown",
   "id": "7fd1775c",
   "metadata": {},
   "source": [
    "#### Step 6: Calculate movie watch list based on watched movie"
   ]
  },
  {
   "cell_type": "code",
   "execution_count": 20,
   "id": "e9086bd1",
   "metadata": {},
   "outputs": [],
   "source": [
    "## Create dictionary with movie id as key and title as value\n",
    "movie_titles = dict(zip(movies_df['movieId'], movies_df['title']))"
   ]
  },
  {
   "cell_type": "code",
   "execution_count": 21,
   "id": "806dac80",
   "metadata": {},
   "outputs": [
    {
     "name": "stdout",
     "output_type": "stream",
     "text": [
      "The minimum and maximum movie id 1 and 193609\n"
     ]
    }
   ],
   "source": [
    "## Get user input for movie id\n",
    "min_movie_id = min(movie_mapper.keys())\n",
    "max_movie_id = max(movie_mapper.keys())\n",
    "print(\"The minimum and maximum movie id {} and {}\".format(min_movie_id, max_movie_id))"
   ]
  },
  {
   "cell_type": "code",
   "execution_count": 22,
   "id": "1d6ebe62",
   "metadata": {},
   "outputs": [
    {
     "name": "stdout",
     "output_type": "stream",
     "text": [
      "\n",
      "Please enter the movie id between 1 and  193609: \n",
      "2\n",
      "The movie id 2 is present in the mapper list\n",
      "\n",
      "\u001b[1mSince you watched the movie 'Jumanji (1995)', below are some other recommendations\u001b[0m\n",
      "Lion King, The (1994)\n",
      "Mrs. Doubtfire (1993)\n",
      "Mask, The (1994)\n",
      "Jurassic Park (1993)\n",
      "Home Alone (1990)\n",
      "Nightmare Before Christmas, The (1993)\n",
      "Aladdin (1992)\n",
      "Beauty and the Beast (1991)\n",
      "Ace Ventura: When Nature Calls (1995)\n",
      "Santa Clause, The (1994)\n",
      "\n",
      "Do you want to check for other movies (Y/N):\n",
      "N\n"
     ]
    }
   ],
   "source": [
    "## Get the user input of movie id.\n",
    "while True:\n",
    "    print(\"\\nPlease enter the movie id between {} and  {}: \".format(min_movie_id, max_movie_id))\n",
    "    movie_id = int(input())\n",
    "    if int(movie_id) in movie_mapper.keys():\n",
    "        print(\"The movie id {} is present in the mapper list\".format(movie_id))\n",
    "        similar_ids = find_similar_movies(movie_id, X, k=10)\n",
    "        movie_title = movie_titles[movie_id]\n",
    "        print(f\"\\n\\033[1mSince you watched the movie \\'{movie_title}\\', below are some other recommendations\\033[0m\")\n",
    "        for i in similar_ids:\n",
    "            print(movie_titles[i])\n",
    "        print(\"\\nDo you want to check for other movies (Y/N):\")\n",
    "        user_yn = input()\n",
    "        if user_yn.upper() == 'Y':\n",
    "            continue\n",
    "        else:\n",
    "            break\n",
    "    else:\n",
    "        print(\"The movie id {} is not present in the mapper list\".format(movie_id))\n",
    "        print(\"Please enter someother value\")"
   ]
  },
  {
   "cell_type": "markdown",
   "id": "f614781a",
   "metadata": {},
   "source": [
    "A custom function has been created as above to get user input on movie id. The movie id has been passed to find_similar_movies function which returns the list of 10 movies similar to the movie watched by the user.\n",
    "\n",
    "If user wants to continue finding the list based on other movie, he would just provide the input as \"Y\" and continue the search. If he decides to end the search, he would just provide the input as \"N\".\n",
    "\n",
    "In addition, if the movie id provided by user is not present in the list, the function will ask the user to provide the correct id.\n",
    "\n",
    "Source: https://www.geeksforgeeks.org/recommendation-system-in-python/"
   ]
  },
  {
   "cell_type": "code",
   "execution_count": null,
   "id": "63e93980",
   "metadata": {},
   "outputs": [],
   "source": []
  }
 ],
 "metadata": {
  "kernelspec": {
   "display_name": "Python 3 (ipykernel)",
   "language": "python",
   "name": "python3"
  },
  "language_info": {
   "codemirror_mode": {
    "name": "ipython",
    "version": 3
   },
   "file_extension": ".py",
   "mimetype": "text/x-python",
   "name": "python",
   "nbconvert_exporter": "python",
   "pygments_lexer": "ipython3",
   "version": "3.9.7"
  }
 },
 "nbformat": 4,
 "nbformat_minor": 5
}
