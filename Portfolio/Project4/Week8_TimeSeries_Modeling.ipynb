{
 "cells": [
  {
   "cell_type": "markdown",
   "id": "edd39d08",
   "metadata": {},
   "source": [
    "# Week8 Assignment - Time Series Modeling"
   ]
  },
  {
   "cell_type": "markdown",
   "id": "b7899aa7",
   "metadata": {},
   "source": [
    "Author: Anjani Bonda\n",
    "\n",
    "Date: 10/22/2022"
   ]
  },
  {
   "cell_type": "markdown",
   "id": "32c026d9",
   "metadata": {},
   "source": [
    "You will be using the dataset us_retail_sales.csv for this assignment. This data gives the total monthly retail sales in the US from January 1992 until June 2021. With this dataset, complete the following steps:"
   ]
  },
  {
   "cell_type": "code",
   "execution_count": 1,
   "id": "37227fb4",
   "metadata": {},
   "outputs": [],
   "source": [
    "## Importing libraries required for this assignment\n",
    "import pandas as pd\n",
    "import numpy as np\n",
    "import matplotlib.pyplot as plt\n",
    "import seaborn as sns\n",
    "from sklearn.linear_model import LinearRegression\n",
    "from sklearn import metrics\n",
    "from datetime import datetime"
   ]
  },
  {
   "cell_type": "code",
   "execution_count": 2,
   "id": "770f7912",
   "metadata": {},
   "outputs": [],
   "source": [
    "## Display all columns in pandas dataframe\n",
    "pd.set_option('display.max_columns', None)\n",
    "pd.set_option('display.max_rows', None)"
   ]
  },
  {
   "cell_type": "markdown",
   "id": "a46f7370",
   "metadata": {},
   "source": [
    "#### Load the Sales dataset."
   ]
  },
  {
   "cell_type": "code",
   "execution_count": 3,
   "id": "bac434c4",
   "metadata": {},
   "outputs": [
    {
     "data": {
      "text/html": [
       "<div>\n",
       "<style scoped>\n",
       "    .dataframe tbody tr th:only-of-type {\n",
       "        vertical-align: middle;\n",
       "    }\n",
       "\n",
       "    .dataframe tbody tr th {\n",
       "        vertical-align: top;\n",
       "    }\n",
       "\n",
       "    .dataframe thead th {\n",
       "        text-align: right;\n",
       "    }\n",
       "</style>\n",
       "<table border=\"1\" class=\"dataframe\">\n",
       "  <thead>\n",
       "    <tr style=\"text-align: right;\">\n",
       "      <th></th>\n",
       "      <th>YEAR</th>\n",
       "      <th>JAN</th>\n",
       "      <th>FEB</th>\n",
       "      <th>MAR</th>\n",
       "      <th>APR</th>\n",
       "      <th>MAY</th>\n",
       "      <th>JUN</th>\n",
       "      <th>JUL</th>\n",
       "      <th>AUG</th>\n",
       "      <th>SEP</th>\n",
       "      <th>OCT</th>\n",
       "      <th>NOV</th>\n",
       "      <th>DEC</th>\n",
       "    </tr>\n",
       "  </thead>\n",
       "  <tbody>\n",
       "    <tr>\n",
       "      <th>0</th>\n",
       "      <td>1992</td>\n",
       "      <td>146925</td>\n",
       "      <td>147223</td>\n",
       "      <td>146805</td>\n",
       "      <td>148032</td>\n",
       "      <td>149010</td>\n",
       "      <td>149800</td>\n",
       "      <td>150761.0</td>\n",
       "      <td>151067.0</td>\n",
       "      <td>152588.0</td>\n",
       "      <td>153521.0</td>\n",
       "      <td>153583.0</td>\n",
       "      <td>155614.0</td>\n",
       "    </tr>\n",
       "    <tr>\n",
       "      <th>1</th>\n",
       "      <td>1993</td>\n",
       "      <td>157555</td>\n",
       "      <td>156266</td>\n",
       "      <td>154752</td>\n",
       "      <td>158979</td>\n",
       "      <td>160605</td>\n",
       "      <td>160127</td>\n",
       "      <td>162816.0</td>\n",
       "      <td>162506.0</td>\n",
       "      <td>163258.0</td>\n",
       "      <td>164685.0</td>\n",
       "      <td>166594.0</td>\n",
       "      <td>168161.0</td>\n",
       "    </tr>\n",
       "    <tr>\n",
       "      <th>2</th>\n",
       "      <td>1994</td>\n",
       "      <td>167518</td>\n",
       "      <td>169649</td>\n",
       "      <td>172766</td>\n",
       "      <td>173106</td>\n",
       "      <td>172329</td>\n",
       "      <td>174241</td>\n",
       "      <td>174781.0</td>\n",
       "      <td>177295.0</td>\n",
       "      <td>178787.0</td>\n",
       "      <td>180561.0</td>\n",
       "      <td>180703.0</td>\n",
       "      <td>181524.0</td>\n",
       "    </tr>\n",
       "    <tr>\n",
       "      <th>3</th>\n",
       "      <td>1995</td>\n",
       "      <td>182413</td>\n",
       "      <td>179488</td>\n",
       "      <td>181013</td>\n",
       "      <td>181686</td>\n",
       "      <td>183536</td>\n",
       "      <td>186081</td>\n",
       "      <td>185431.0</td>\n",
       "      <td>186806.0</td>\n",
       "      <td>187366.0</td>\n",
       "      <td>186565.0</td>\n",
       "      <td>189055.0</td>\n",
       "      <td>190774.0</td>\n",
       "    </tr>\n",
       "    <tr>\n",
       "      <th>4</th>\n",
       "      <td>1996</td>\n",
       "      <td>189135</td>\n",
       "      <td>192266</td>\n",
       "      <td>194029</td>\n",
       "      <td>194744</td>\n",
       "      <td>196205</td>\n",
       "      <td>196136</td>\n",
       "      <td>196187.0</td>\n",
       "      <td>196218.0</td>\n",
       "      <td>198859.0</td>\n",
       "      <td>200509.0</td>\n",
       "      <td>200174.0</td>\n",
       "      <td>201284.0</td>\n",
       "    </tr>\n",
       "  </tbody>\n",
       "</table>\n",
       "</div>"
      ],
      "text/plain": [
       "   YEAR     JAN     FEB     MAR     APR     MAY     JUN       JUL       AUG  \\\n",
       "0  1992  146925  147223  146805  148032  149010  149800  150761.0  151067.0   \n",
       "1  1993  157555  156266  154752  158979  160605  160127  162816.0  162506.0   \n",
       "2  1994  167518  169649  172766  173106  172329  174241  174781.0  177295.0   \n",
       "3  1995  182413  179488  181013  181686  183536  186081  185431.0  186806.0   \n",
       "4  1996  189135  192266  194029  194744  196205  196136  196187.0  196218.0   \n",
       "\n",
       "        SEP       OCT       NOV       DEC  \n",
       "0  152588.0  153521.0  153583.0  155614.0  \n",
       "1  163258.0  164685.0  166594.0  168161.0  \n",
       "2  178787.0  180561.0  180703.0  181524.0  \n",
       "3  187366.0  186565.0  189055.0  190774.0  \n",
       "4  198859.0  200509.0  200174.0  201284.0  "
      ]
     },
     "execution_count": 3,
     "metadata": {},
     "output_type": "execute_result"
    }
   ],
   "source": [
    "## Load the data into a dataframe\n",
    "retail_df = pd.read_csv('us_retail_sales.csv') \n",
    "retail_df.head(5)"
   ]
  },
  {
   "cell_type": "code",
   "execution_count": 4,
   "id": "7f41b5d6",
   "metadata": {},
   "outputs": [
    {
     "data": {
      "text/plain": [
       "(30, 13)"
      ]
     },
     "execution_count": 4,
     "metadata": {},
     "output_type": "execute_result"
    }
   ],
   "source": [
    "## Printing number of rows and columns of the loaded dataframe\n",
    "retail_df.shape"
   ]
  },
  {
   "cell_type": "code",
   "execution_count": 5,
   "id": "1fec321a",
   "metadata": {},
   "outputs": [
    {
     "data": {
      "text/plain": [
       "YEAR      int64\n",
       "JAN       int64\n",
       "FEB       int64\n",
       "MAR       int64\n",
       "APR       int64\n",
       "MAY       int64\n",
       "JUN       int64\n",
       "JUL     float64\n",
       "AUG     float64\n",
       "SEP     float64\n",
       "OCT     float64\n",
       "NOV     float64\n",
       "DEC     float64\n",
       "dtype: object"
      ]
     },
     "execution_count": 5,
     "metadata": {},
     "output_type": "execute_result"
    }
   ],
   "source": [
    "## Printing the dtype for each of the column\n",
    "retail_df.dtypes"
   ]
  },
  {
   "cell_type": "code",
   "execution_count": 6,
   "id": "aeef45c9",
   "metadata": {},
   "outputs": [
    {
     "data": {
      "text/html": [
       "<div>\n",
       "<style scoped>\n",
       "    .dataframe tbody tr th:only-of-type {\n",
       "        vertical-align: middle;\n",
       "    }\n",
       "\n",
       "    .dataframe tbody tr th {\n",
       "        vertical-align: top;\n",
       "    }\n",
       "\n",
       "    .dataframe thead th {\n",
       "        text-align: right;\n",
       "    }\n",
       "</style>\n",
       "<table border=\"1\" class=\"dataframe\">\n",
       "  <thead>\n",
       "    <tr style=\"text-align: right;\">\n",
       "      <th></th>\n",
       "      <th>YEAR</th>\n",
       "      <th>JAN</th>\n",
       "      <th>FEB</th>\n",
       "      <th>MAR</th>\n",
       "      <th>APR</th>\n",
       "      <th>MAY</th>\n",
       "      <th>JUN</th>\n",
       "      <th>JUL</th>\n",
       "      <th>AUG</th>\n",
       "      <th>SEP</th>\n",
       "      <th>OCT</th>\n",
       "      <th>NOV</th>\n",
       "      <th>DEC</th>\n",
       "    </tr>\n",
       "  </thead>\n",
       "  <tbody>\n",
       "    <tr>\n",
       "      <th>count</th>\n",
       "      <td>30.000000</td>\n",
       "      <td>30.000000</td>\n",
       "      <td>30.000000</td>\n",
       "      <td>30.000000</td>\n",
       "      <td>30.000000</td>\n",
       "      <td>30.000000</td>\n",
       "      <td>30.000000</td>\n",
       "      <td>29.000000</td>\n",
       "      <td>29.000000</td>\n",
       "      <td>29.000000</td>\n",
       "      <td>29.00000</td>\n",
       "      <td>29.000000</td>\n",
       "      <td>29.000000</td>\n",
       "    </tr>\n",
       "    <tr>\n",
       "      <th>mean</th>\n",
       "      <td>2006.500000</td>\n",
       "      <td>304803.833333</td>\n",
       "      <td>305200.900000</td>\n",
       "      <td>307533.566667</td>\n",
       "      <td>306719.600000</td>\n",
       "      <td>309205.633333</td>\n",
       "      <td>311406.966667</td>\n",
       "      <td>304375.448276</td>\n",
       "      <td>305451.965517</td>\n",
       "      <td>306078.206897</td>\n",
       "      <td>307310.62069</td>\n",
       "      <td>307794.896552</td>\n",
       "      <td>308099.620690</td>\n",
       "    </tr>\n",
       "    <tr>\n",
       "      <th>std</th>\n",
       "      <td>8.803408</td>\n",
       "      <td>97687.399232</td>\n",
       "      <td>96682.043053</td>\n",
       "      <td>100002.422696</td>\n",
       "      <td>98207.161171</td>\n",
       "      <td>99541.010078</td>\n",
       "      <td>101057.212178</td>\n",
       "      <td>92471.103673</td>\n",
       "      <td>92504.808195</td>\n",
       "      <td>93008.417392</td>\n",
       "      <td>92836.64419</td>\n",
       "      <td>92702.551770</td>\n",
       "      <td>91784.061634</td>\n",
       "    </tr>\n",
       "    <tr>\n",
       "      <th>min</th>\n",
       "      <td>1992.000000</td>\n",
       "      <td>146925.000000</td>\n",
       "      <td>147223.000000</td>\n",
       "      <td>146805.000000</td>\n",
       "      <td>148032.000000</td>\n",
       "      <td>149010.000000</td>\n",
       "      <td>149800.000000</td>\n",
       "      <td>150761.000000</td>\n",
       "      <td>151067.000000</td>\n",
       "      <td>152588.000000</td>\n",
       "      <td>153521.00000</td>\n",
       "      <td>153583.000000</td>\n",
       "      <td>155614.000000</td>\n",
       "    </tr>\n",
       "    <tr>\n",
       "      <th>25%</th>\n",
       "      <td>1999.250000</td>\n",
       "      <td>228856.750000</td>\n",
       "      <td>231470.750000</td>\n",
       "      <td>233019.000000</td>\n",
       "      <td>233235.500000</td>\n",
       "      <td>234976.500000</td>\n",
       "      <td>235967.250000</td>\n",
       "      <td>233948.000000</td>\n",
       "      <td>236566.000000</td>\n",
       "      <td>237481.000000</td>\n",
       "      <td>237553.00000</td>\n",
       "      <td>240544.000000</td>\n",
       "      <td>245485.000000</td>\n",
       "    </tr>\n",
       "    <tr>\n",
       "      <th>50%</th>\n",
       "      <td>2006.500000</td>\n",
       "      <td>303486.000000</td>\n",
       "      <td>304592.500000</td>\n",
       "      <td>308655.500000</td>\n",
       "      <td>311233.500000</td>\n",
       "      <td>308690.000000</td>\n",
       "      <td>312957.000000</td>\n",
       "      <td>313520.000000</td>\n",
       "      <td>310046.000000</td>\n",
       "      <td>310673.000000</td>\n",
       "      <td>310479.00000</td>\n",
       "      <td>306675.000000</td>\n",
       "      <td>308413.000000</td>\n",
       "    </tr>\n",
       "    <tr>\n",
       "      <th>75%</th>\n",
       "      <td>2013.750000</td>\n",
       "      <td>371527.000000</td>\n",
       "      <td>377008.500000</td>\n",
       "      <td>379221.000000</td>\n",
       "      <td>376797.500000</td>\n",
       "      <td>382698.250000</td>\n",
       "      <td>383839.750000</td>\n",
       "      <td>373554.000000</td>\n",
       "      <td>372489.000000</td>\n",
       "      <td>372505.000000</td>\n",
       "      <td>373663.00000</td>\n",
       "      <td>373914.000000</td>\n",
       "      <td>377032.000000</td>\n",
       "    </tr>\n",
       "    <tr>\n",
       "      <th>max</th>\n",
       "      <td>2021.000000</td>\n",
       "      <td>520162.000000</td>\n",
       "      <td>504458.000000</td>\n",
       "      <td>559871.000000</td>\n",
       "      <td>562269.000000</td>\n",
       "      <td>548987.000000</td>\n",
       "      <td>550782.000000</td>\n",
       "      <td>481627.000000</td>\n",
       "      <td>483716.000000</td>\n",
       "      <td>493327.000000</td>\n",
       "      <td>493991.00000</td>\n",
       "      <td>488652.000000</td>\n",
       "      <td>484782.000000</td>\n",
       "    </tr>\n",
       "  </tbody>\n",
       "</table>\n",
       "</div>"
      ],
      "text/plain": [
       "              YEAR            JAN            FEB            MAR  \\\n",
       "count    30.000000      30.000000      30.000000      30.000000   \n",
       "mean   2006.500000  304803.833333  305200.900000  307533.566667   \n",
       "std       8.803408   97687.399232   96682.043053  100002.422696   \n",
       "min    1992.000000  146925.000000  147223.000000  146805.000000   \n",
       "25%    1999.250000  228856.750000  231470.750000  233019.000000   \n",
       "50%    2006.500000  303486.000000  304592.500000  308655.500000   \n",
       "75%    2013.750000  371527.000000  377008.500000  379221.000000   \n",
       "max    2021.000000  520162.000000  504458.000000  559871.000000   \n",
       "\n",
       "                 APR            MAY            JUN            JUL  \\\n",
       "count      30.000000      30.000000      30.000000      29.000000   \n",
       "mean   306719.600000  309205.633333  311406.966667  304375.448276   \n",
       "std     98207.161171   99541.010078  101057.212178   92471.103673   \n",
       "min    148032.000000  149010.000000  149800.000000  150761.000000   \n",
       "25%    233235.500000  234976.500000  235967.250000  233948.000000   \n",
       "50%    311233.500000  308690.000000  312957.000000  313520.000000   \n",
       "75%    376797.500000  382698.250000  383839.750000  373554.000000   \n",
       "max    562269.000000  548987.000000  550782.000000  481627.000000   \n",
       "\n",
       "                 AUG            SEP           OCT            NOV  \\\n",
       "count      29.000000      29.000000      29.00000      29.000000   \n",
       "mean   305451.965517  306078.206897  307310.62069  307794.896552   \n",
       "std     92504.808195   93008.417392   92836.64419   92702.551770   \n",
       "min    151067.000000  152588.000000  153521.00000  153583.000000   \n",
       "25%    236566.000000  237481.000000  237553.00000  240544.000000   \n",
       "50%    310046.000000  310673.000000  310479.00000  306675.000000   \n",
       "75%    372489.000000  372505.000000  373663.00000  373914.000000   \n",
       "max    483716.000000  493327.000000  493991.00000  488652.000000   \n",
       "\n",
       "                 DEC  \n",
       "count      29.000000  \n",
       "mean   308099.620690  \n",
       "std     91784.061634  \n",
       "min    155614.000000  \n",
       "25%    245485.000000  \n",
       "50%    308413.000000  \n",
       "75%    377032.000000  \n",
       "max    484782.000000  "
      ]
     },
     "execution_count": 6,
     "metadata": {},
     "output_type": "execute_result"
    }
   ],
   "source": [
    "## Looking at summary information about your data (total, mean, min, max, freq, unique, etc.)\n",
    "retail_df.describe()"
   ]
  },
  {
   "cell_type": "markdown",
   "id": "b8aa9785",
   "metadata": {},
   "source": [
    "#### Perform Exploratory Data Analysis"
   ]
  },
  {
   "cell_type": "code",
   "execution_count": 7,
   "id": "1ce97171",
   "metadata": {},
   "outputs": [],
   "source": [
    "# Use melt to convert from wide to long format\n",
    "retail_df2 = pd.melt(retail_df, id_vars='YEAR', value_vars=['JAN', 'FEB', 'MAR', \n",
    "                                              'APR', 'MAY', 'JUN', 'JUL', 'AUG', 'SEP', 'OCT', 'NOV', 'DEC'])"
   ]
  },
  {
   "cell_type": "code",
   "execution_count": 8,
   "id": "a1d60782",
   "metadata": {},
   "outputs": [],
   "source": [
    "# Convert Year to string\n",
    "retail_df2['YEAR'] = retail_df2['YEAR'].astype(str)"
   ]
  },
  {
   "cell_type": "code",
   "execution_count": 9,
   "id": "c67c5549",
   "metadata": {},
   "outputs": [],
   "source": [
    "# Build a new column for date\n",
    "retail_df2['Date'] = retail_df2['variable'] + '-01-' + retail_df2['YEAR']\n",
    "\n",
    "# Convert Date to Datetime\n",
    "retail_df2['Date'] = pd.to_datetime(retail_df2['Date'])"
   ]
  },
  {
   "cell_type": "code",
   "execution_count": 10,
   "id": "fa0ba9b5",
   "metadata": {},
   "outputs": [],
   "source": [
    "# Drop NA\n",
    "retail_df2.dropna(inplace=True)"
   ]
  },
  {
   "cell_type": "code",
   "execution_count": 11,
   "id": "b6106813",
   "metadata": {},
   "outputs": [],
   "source": [
    "# Sort by date\n",
    "retail_df2 = retail_df2.sort_values(by=['Date'])"
   ]
  },
  {
   "cell_type": "markdown",
   "id": "19337a06",
   "metadata": {},
   "source": [
    "#### 1. Plot the data with proper labeling and make some observations on the graph."
   ]
  },
  {
   "cell_type": "code",
   "execution_count": 12,
   "id": "532697e3",
   "metadata": {},
   "outputs": [
    {
     "data": {
      "image/png": "[encoded data removed]",
      "text/plain": [
       "<Figure size 432x288 with 1 Axes>"
      ]
     },
     "metadata": {
      "needs_background": "dark"
     },
     "output_type": "display_data"
    }
   ],
   "source": [
    "# Create an area chart\n",
    "plt.fill_between(retail_df2['Date'], retail_df2['value'], color=\"skyblue\", alpha=0.4)\n",
    "plt.plot(retail_df2['Date'], retail_df2['value'], color=\"Slateblue\", alpha=0.6, linewidth=2)\n",
    "plt.box(False)\n",
    "plt.title('US Retail Sales', loc='left', fontsize=15, color='grey')\n",
    "plt.xlabel('Date', fontsize=12, color='grey')\n",
    "plt.ylabel('Monthly Retail Sales', fontsize=12, color='grey')\n",
    "plt.tick_params(axis='x', colors='grey')\n",
    "plt.tick_params(axis='y', colors='grey')\n",
    "plt.show()"
   ]
  },
  {
   "cell_type": "markdown",
   "id": "2e646da0",
   "metadata": {},
   "source": [
    "#### Observation"
   ]
  },
  {
   "cell_type": "markdown",
   "id": "1ab7f59c",
   "metadata": {},
   "source": [
    "US Retail sales have been steadily increasing since 1992. As you can see in the chart, small decreases in retail sales were seen during the housing crisis (2008-2009) and at the beggining of the pandemic (2020)"
   ]
  },
  {
   "cell_type": "markdown",
   "id": "38222f26",
   "metadata": {},
   "source": [
    "#### 2. Split this data into a training and test set. Use the last year of data (July 2020 – June 2021) of data as your test set and the rest as your training set."
   ]
  },
  {
   "cell_type": "code",
   "execution_count": 13,
   "id": "c1ddeb03",
   "metadata": {},
   "outputs": [],
   "source": [
    "# Build a new feature from date to be used as a predictor (using ordinal time)\n",
    "retail_df2['O-Date'] = pd.to_datetime(retail_df2['Date'])\n",
    "retail_df2['O-Date'] = retail_df2['O-Date'].map(datetime.toordinal)"
   ]
  },
  {
   "cell_type": "code",
   "execution_count": 14,
   "id": "1951c356",
   "metadata": {},
   "outputs": [],
   "source": [
    "# Build a new predictor for month\n",
    "months = dict(JAN=1, FEB=2, MAR=3, APR=4, MAY=5, JUN=6, JUL=7, AUG=8, SEP=9, OCT=10, NOV=11, DEC=12)\n",
    "retail_df2['Month'] = retail_df2['variable'].map(months)"
   ]
  },
  {
   "cell_type": "code",
   "execution_count": 15,
   "id": "8349422d",
   "metadata": {},
   "outputs": [],
   "source": [
    "## Spliting based on row value\n",
    "training = retail_df2.iloc[0:341]\n",
    "test = retail_df2.iloc[342:354]"
   ]
  },
  {
   "cell_type": "code",
   "execution_count": 16,
   "id": "2d68cde8",
   "metadata": {},
   "outputs": [],
   "source": [
    "# Split out x & y reshape date fields\n",
    "x_train = training[['O-Date', 'Month']]\n",
    "y_train = training['value']\n",
    "x_test = test[['O-Date', 'Month']]\n",
    "y_test = test['value']"
   ]
  },
  {
   "cell_type": "markdown",
   "id": "d0a55bb4",
   "metadata": {},
   "source": [
    "#### 3. Use the training set to build a predictive model for the monthly retail sales."
   ]
  },
  {
   "cell_type": "code",
   "execution_count": 17,
   "id": "43ef86fb",
   "metadata": {},
   "outputs": [
    {
     "data": {
      "text/html": [
       "<style>#sk-container-id-1 {color: black;background-color: white;}#sk-container-id-1 pre{padding: 0;}#sk-container-id-1 div.sk-toggleable {background-color: white;}#sk-container-id-1 label.sk-toggleable__label {cursor: pointer;display: block;width: 100%;margin-bottom: 0;padding: 0.3em;box-sizing: border-box;text-align: center;}#sk-container-id-1 label.sk-toggleable__label-arrow:before {content: \"▸\";float: left;margin-right: 0.25em;color: #696969;}#sk-container-id-1 label.sk-toggleable__label-arrow:hover:before {color: black;}#sk-container-id-1 div.sk-estimator:hover label.sk-toggleable__label-arrow:before {color: black;}#sk-container-id-1 div.sk-toggleable__content {max-height: 0;max-width: 0;overflow: hidden;text-align: left;background-color: #f0f8ff;}#sk-container-id-1 div.sk-toggleable__content pre {margin: 0.2em;color: black;border-radius: 0.25em;background-color: #f0f8ff;}#sk-container-id-1 input.sk-toggleable__control:checked~div.sk-toggleable__content {max-height: 200px;max-width: 100%;overflow: auto;}#sk-container-id-1 input.sk-toggleable__control:checked~label.sk-toggleable__label-arrow:before {content: \"▾\";}#sk-container-id-1 div.sk-estimator input.sk-toggleable__control:checked~label.sk-toggleable__label {background-color: #d4ebff;}#sk-container-id-1 div.sk-label input.sk-toggleable__control:checked~label.sk-toggleable__label {background-color: #d4ebff;}#sk-container-id-1 input.sk-hidden--visually {border: 0;clip: rect(1px 1px 1px 1px);clip: rect(1px, 1px, 1px, 1px);height: 1px;margin: -1px;overflow: hidden;padding: 0;position: absolute;width: 1px;}#sk-container-id-1 div.sk-estimator {font-family: monospace;background-color: #f0f8ff;border: 1px dotted black;border-radius: 0.25em;box-sizing: border-box;margin-bottom: 0.5em;}#sk-container-id-1 div.sk-estimator:hover {background-color: #d4ebff;}#sk-container-id-1 div.sk-parallel-item::after {content: \"\";width: 100%;border-bottom: 1px solid gray;flex-grow: 1;}#sk-container-id-1 div.sk-label:hover label.sk-toggleable__label {background-color: #d4ebff;}#sk-container-id-1 div.sk-serial::before {content: \"\";position: absolute;border-left: 1px solid gray;box-sizing: border-box;top: 0;bottom: 0;left: 50%;z-index: 0;}#sk-container-id-1 div.sk-serial {display: flex;flex-direction: column;align-items: center;background-color: white;padding-right: 0.2em;padding-left: 0.2em;position: relative;}#sk-container-id-1 div.sk-item {position: relative;z-index: 1;}#sk-container-id-1 div.sk-parallel {display: flex;align-items: stretch;justify-content: center;background-color: white;position: relative;}#sk-container-id-1 div.sk-item::before, #sk-container-id-1 div.sk-parallel-item::before {content: \"\";position: absolute;border-left: 1px solid gray;box-sizing: border-box;top: 0;bottom: 0;left: 50%;z-index: -1;}#sk-container-id-1 div.sk-parallel-item {display: flex;flex-direction: column;z-index: 1;position: relative;background-color: white;}#sk-container-id-1 div.sk-parallel-item:first-child::after {align-self: flex-end;width: 50%;}#sk-container-id-1 div.sk-parallel-item:last-child::after {align-self: flex-start;width: 50%;}#sk-container-id-1 div.sk-parallel-item:only-child::after {width: 0;}#sk-container-id-1 div.sk-dashed-wrapped {border: 1px dashed gray;margin: 0 0.4em 0.5em 0.4em;box-sizing: border-box;padding-bottom: 0.4em;background-color: white;}#sk-container-id-1 div.sk-label label {font-family: monospace;font-weight: bold;display: inline-block;line-height: 1.2em;}#sk-container-id-1 div.sk-label-container {text-align: center;}#sk-container-id-1 div.sk-container {/* jupyter's `normalize.less` sets `[hidden] { display: none; }` but bootstrap.min.css set `[hidden] { display: none !important; }` so we also need the `!important` here to be able to override the default hidden behavior on the sphinx rendered scikit-learn.org. See: https://github.com/scikit-learn/scikit-learn/issues/21755 */display: inline-block !important;position: relative;}#sk-container-id-1 div.sk-text-repr-fallback {display: none;}</style><div id=\"sk-container-id-1\" class=\"sk-top-container\"><div class=\"sk-text-repr-fallback\"><pre>LinearRegression()</pre><b>In a Jupyter environment, please rerun this cell to show the HTML representation or trust the notebook. <br />On GitHub, the HTML representation is unable to render, please try loading this page with nbviewer.org.</b></div><div class=\"sk-container\" hidden><div class=\"sk-item\"><div class=\"sk-estimator sk-toggleable\"><input class=\"sk-toggleable__control sk-hidden--visually\" id=\"sk-estimator-id-1\" type=\"checkbox\" checked><label for=\"sk-estimator-id-1\" class=\"sk-toggleable__label sk-toggleable__label-arrow\">LinearRegression</label><div class=\"sk-toggleable__content\"><pre>LinearRegression()</pre></div></div></div></div></div>"
      ],
      "text/plain": [
       "LinearRegression()"
      ]
     },
     "execution_count": 17,
     "metadata": {},
     "output_type": "execute_result"
    }
   ],
   "source": [
    "# Create a model\n",
    "model = LinearRegression()\n",
    "\n",
    "# Fit the model to the training set\n",
    "model.fit(x_train, y_train)"
   ]
  },
  {
   "cell_type": "markdown",
   "id": "0b5096c7",
   "metadata": {},
   "source": [
    "#### 4. Use the model to predict the monthly retail sales on the last year of data."
   ]
  },
  {
   "cell_type": "code",
   "execution_count": 18,
   "id": "8fd66ec1",
   "metadata": {},
   "outputs": [],
   "source": [
    "# Predict the last years retail sales\n",
    "test_predictions = model.predict(x_test)"
   ]
  },
  {
   "cell_type": "markdown",
   "id": "3962d28f",
   "metadata": {},
   "source": [
    "#### 5. Report the RMSE of the model predictions on the test set."
   ]
  },
  {
   "cell_type": "code",
   "execution_count": 19,
   "id": "f9dd158d",
   "metadata": {},
   "outputs": [
    {
     "name": "stdout",
     "output_type": "stream",
     "text": [
      "Test RMSE: 66817.27313121158\n"
     ]
    }
   ],
   "source": [
    "print('Test RMSE:', metrics.mean_squared_error(y_test, test_predictions, squared=False))"
   ]
  },
  {
   "cell_type": "markdown",
   "id": "b4344c48",
   "metadata": {},
   "source": [
    "A large spike in retail sales was seen during the period of time the model is attempting to predict. This is likely causing the increased RMSE."
   ]
  },
  {
   "cell_type": "code",
   "execution_count": null,
   "id": "2bc15a87",
   "metadata": {},
   "outputs": [],
   "source": []
  }
 ],
 "metadata": {
  "kernelspec": {
   "display_name": "Python 3 (ipykernel)",
   "language": "python",
   "name": "python3"
  },
  "language_info": {
   "codemirror_mode": {
    "name": "ipython",
    "version": 3
   },
   "file_extension": ".py",
   "mimetype": "text/x-python",
   "name": "python",
   "nbconvert_exporter": "python",
   "pygments_lexer": "ipython3",
   "version": "3.9.7"
  }
 },
 "nbformat": 4,
 "nbformat_minor": 5
}
