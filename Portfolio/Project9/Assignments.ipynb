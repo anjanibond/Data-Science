{
 "cells": [
  {
   "cell_type": "markdown",
   "metadata": {},
   "source": [
    "## Activity 11"
   ]
  },
  {
   "cell_type": "markdown",
   "metadata": {},
   "source": [
    "### Task 1: Connect to the supplied petsDB, and (OPTIONAL) write a function to check if the connection is OK."
   ]
  },
  {
   "cell_type": "code",
   "execution_count": 1,
   "metadata": {},
   "outputs": [],
   "source": [
    "import sqlite3"
   ]
  },
  {
   "cell_type": "code",
   "execution_count": 2,
   "metadata": {},
   "outputs": [],
   "source": [
    "conn = sqlite3.connect(\"petsdb\")"
   ]
  },
  {
   "cell_type": "code",
   "execution_count": 3,
   "metadata": {},
   "outputs": [],
   "source": [
    "# A tiny function to ensure successful connection\n",
    "def is_opened(conn):\n",
    "    try:\n",
    "        conn.execute(\"SELECT * FROM persons LIMIT 1\")\n",
    "        return True\n",
    "    except sqlite3.ProgrammingError as e:\n",
    "        print(\"Connection closed {}\".format(e))\n",
    "        return False"
   ]
  },
  {
   "cell_type": "code",
   "execution_count": 4,
   "metadata": {},
   "outputs": [
    {
     "name": "stdout",
     "output_type": "stream",
     "text": [
      "True\n"
     ]
    }
   ],
   "source": [
    "print(is_opened(conn))"
   ]
  },
  {
   "cell_type": "code",
   "execution_count": 5,
   "metadata": {},
   "outputs": [],
   "source": [
    "conn.close()"
   ]
  },
  {
   "cell_type": "code",
   "execution_count": 6,
   "metadata": {},
   "outputs": [
    {
     "name": "stdout",
     "output_type": "stream",
     "text": [
      "Connection closed Cannot operate on a closed database.\n",
      "False\n"
     ]
    }
   ],
   "source": [
    "print(is_opened(conn))"
   ]
  },
  {
   "cell_type": "markdown",
   "metadata": {},
   "source": [
    "### Task 2: What are the different age groups in the persons database"
   ]
  },
  {
   "cell_type": "code",
   "execution_count": 8,
   "metadata": {},
   "outputs": [
    {
     "name": "stdout",
     "output_type": "stream",
     "text": [
      "[('persons',), ('pets',)]\n"
     ]
    }
   ],
   "source": [
    "conn = sqlite3.connect(\"petsdb\")\n",
    "c = conn.cursor()\n",
    "c.execute(\"SELECT name FROM sqlite_master WHERE type='table';\")\n",
    "print(c.fetchall()) # print list of tables in petsdb"
   ]
  },
  {
   "cell_type": "code",
   "execution_count": 9,
   "metadata": {},
   "outputs": [
    {
     "name": "stdout",
     "output_type": "stream",
     "text": [
      "1. We have a count of 1 people with age 6\n",
      "2. We have a count of 1 people with age 7\n",
      "3. We have a count of 1 people with age 9\n",
      "4. We have a count of 1 people with age 13\n",
      "5. We have a count of 1 people with age 19\n",
      "6. We have a count of 1 people with age 27\n",
      "7. We have a count of 1 people with age 30\n",
      "8. We have a count of 1 people with age 32\n",
      "9. We have a count of 1 people with age 33\n",
      "10. We have a count of 1 people with age 37\n",
      "11. We have a count of 1 people with age 40\n",
      "12. We have a count of 1 people with age 42\n",
      "13. We have a count of 1 people with age 49\n",
      "14. We have a count of 1 people with age 50\n",
      "15. We have a count of 1 people with age 58\n",
      "16. We have a count of 1 people with age 59\n",
      "17. We have a count of 1 people with age 60\n",
      "18. We have a count of 1 people with age 61\n",
      "19. We have a count of 1 people with age 63\n",
      "20. We have a count of 1 people with age 67\n",
      "21. We have a count of 1 people with age 69\n",
      "22. We have a count of 1 people with age 70\n",
      "23. We have a count of 1 people with age 72\n",
      "24. We have a count of 2 people with age 5\n",
      "25. We have a count of 2 people with age 11\n",
      "26. We have a count of 2 people with age 16\n",
      "27. We have a count of 2 people with age 17\n",
      "28. We have a count of 2 people with age 23\n",
      "29. We have a count of 2 people with age 25\n",
      "30. We have a count of 2 people with age 34\n",
      "31. We have a count of 2 people with age 39\n",
      "32. We have a count of 2 people with age 44\n",
      "33. We have a count of 2 people with age 48\n",
      "34. We have a count of 2 people with age 51\n",
      "35. We have a count of 2 people with age 52\n",
      "36. We have a count of 2 people with age 53\n",
      "37. We have a count of 2 people with age 54\n",
      "38. We have a count of 2 people with age 62\n",
      "39. We have a count of 2 people with age 65\n",
      "40. We have a count of 2 people with age 66\n",
      "41. We have a count of 3 people with age 8\n",
      "42. We have a count of 3 people with age 12\n",
      "43. We have a count of 3 people with age 18\n",
      "44. We have a count of 3 people with age 22\n",
      "45. We have a count of 3 people with age 24\n",
      "46. We have a count of 3 people with age 31\n",
      "47. We have a count of 3 people with age 35\n",
      "48. We have a count of 3 people with age 36\n",
      "49. We have a count of 3 people with age 68\n",
      "50. We have a count of 3 people with age 74\n",
      "51. We have a count of 4 people with age 14\n",
      "52. We have a count of 4 people with age 71\n",
      "53. We have a count of 5 people with age 73\n"
     ]
    }
   ],
   "source": [
    "for row,ppl, age in c.execute(\"SELECT ROW_NUMBER () OVER ( ORDER BY count(*),age) RowNum, count(*) as ppl, age FROM persons GROUP BY age ORDER BY count(*)\"):\n",
    "    print(\"{}. We have a count of {} people with age {}\".format(row,ppl, age))"
   ]
  },
  {
   "cell_type": "markdown",
   "metadata": {},
   "source": [
    "### Task 3: Which age group has maximum number of people?"
   ]
  },
  {
   "cell_type": "code",
   "execution_count": 10,
   "metadata": {},
   "outputs": [
    {
     "name": "stdout",
     "output_type": "stream",
     "text": [
      "Highest count of people is 5 that belong to age group of 73\n"
     ]
    }
   ],
   "source": [
    "for ppl, age in c.execute(\"with cte_data as (SELECT ROW_NUMBER () OVER ( ORDER BY count(*),age) RowNum, count(*) as ppl, age FROM persons GROUP BY age ORDER BY count(*)) SELECT ppl, age FROM    cte_data WHERE   RowNum = (SELECT MAX(RowNum)  FROM cte_data)\"):\n",
    "    print(\"Highest count of people is {} that belong to age group of {}\".format(ppl, age))\n",
    "    "
   ]
  },
  {
   "cell_type": "markdown",
   "metadata": {},
   "source": [
    "### Task 4: How many people do not have a full name (Last name is blank/null)"
   ]
  },
  {
   "cell_type": "code",
   "execution_count": 11,
   "metadata": {},
   "outputs": [
    {
     "name": "stdout",
     "output_type": "stream",
     "text": [
      "Count of persons whose last_name is null - 60\n"
     ]
    }
   ],
   "source": [
    "res = c.execute(\"SELECT count(*) FROM persons WHERE last_name IS null\")\n",
    "for row in res:\n",
    "    print(\"Count of persons whose last_name is null - {}\".format(row[0]))"
   ]
  },
  {
   "cell_type": "markdown",
   "metadata": {},
   "source": [
    "### Task 5: How many people has more than one pet? (*)"
   ]
  },
  {
   "cell_type": "code",
   "execution_count": 12,
   "metadata": {},
   "outputs": [
    {
     "name": "stdout",
     "output_type": "stream",
     "text": [
      "People has more than one pets - 43\n"
     ]
    }
   ],
   "source": [
    "res = c.execute(\"SELECT count(*) FROM (SELECT count(owner_id) FROM pets GROUP BY owner_id HAVING count(owner_id) >1)\")\n",
    "for row in res:\n",
    "    print(\"People has more than one pets - {}\".format(row[0]))"
   ]
  },
  {
   "cell_type": "markdown",
   "metadata": {},
   "source": [
    "### Task 6: How many pets have received treaments?\n"
   ]
  },
  {
   "cell_type": "code",
   "execution_count": 13,
   "metadata": {},
   "outputs": [
    {
     "name": "stdout",
     "output_type": "stream",
     "text": [
      "count of pets have received treament - 36\n"
     ]
    }
   ],
   "source": [
    "res = c.execute(\"SELECT count(*) FROM pets WHERE treatment_done=1\")\n",
    "for row in res:\n",
    "    print(\"count of pets have received treament - {}\".format(row[0]))"
   ]
  },
  {
   "cell_type": "markdown",
   "metadata": {},
   "source": [
    "### Task 7: How many pets have received treatment that we know the type of?"
   ]
  },
  {
   "cell_type": "code",
   "execution_count": 14,
   "metadata": {},
   "outputs": [
    {
     "name": "stdout",
     "output_type": "stream",
     "text": [
      "count of known pet type have received treament - 16\n"
     ]
    }
   ],
   "source": [
    "res = c.execute(\"SELECT count(*) FROM pets WHERE treatment_done=1 AND pet_type IS NOT null\") # pet_type not null will fetch the list of known pet type\n",
    "for row in res:\n",
    "    print(\"count of known pet type have received treament - {}\".format(row[0]))"
   ]
  },
  {
   "cell_type": "markdown",
   "metadata": {},
   "source": [
    "### Task 8: How many pets are there from the city called \"east port\""
   ]
  },
  {
   "cell_type": "code",
   "execution_count": 15,
   "metadata": {},
   "outputs": [
    {
     "name": "stdout",
     "output_type": "stream",
     "text": [
      "count of pets from city='east port' - 49\n"
     ]
    }
   ],
   "source": [
    "res = c.execute(\"SELECT count(*) FROM pets JOIN persons ON pets.owner_id = persons.id WHERE persons.city='east port'\")\n",
    "for row in res:\n",
    "    print(\"count of pets from city='east port' - {}\".format(row[0]))"
   ]
  },
  {
   "cell_type": "markdown",
   "metadata": {},
   "source": [
    "### Task 9: How many pets are there from the city called \"east port\" and who received a treatment?"
   ]
  },
  {
   "cell_type": "code",
   "execution_count": 16,
   "metadata": {},
   "outputs": [
    {
     "name": "stdout",
     "output_type": "stream",
     "text": [
      "count of pets from city='east port' and who received a treatment - 11\n"
     ]
    }
   ],
   "source": [
    "res = c.execute(\"SELECT count(*) FROM pets JOIN persons ON pets.owner_id = persons.id WHERE persons.city='east port' AND pets.treatment_done=1\")\n",
    "for row in res:\n",
    "    print(\"count of pets from city='east port' and who received a treatment - {}\".format(row[0]))"
   ]
  },
  {
   "cell_type": "code",
   "execution_count": null,
   "metadata": {},
   "outputs": [],
   "source": []
  }
 ],
 "metadata": {
  "kernelspec": {
   "display_name": "Python 3 (ipykernel)",
   "language": "python",
   "name": "python3"
  },
  "language_info": {
   "codemirror_mode": {
    "name": "ipython",
    "version": 3
   },
   "file_extension": ".py",
   "mimetype": "text/x-python",
   "name": "python",
   "nbconvert_exporter": "python",
   "pygments_lexer": "ipython3",
   "version": "3.9.7"
  }
 },
 "nbformat": 4,
 "nbformat_minor": 2
}
