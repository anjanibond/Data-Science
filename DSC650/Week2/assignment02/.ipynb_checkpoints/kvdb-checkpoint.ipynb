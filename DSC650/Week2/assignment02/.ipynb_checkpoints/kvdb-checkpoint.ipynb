{
 "cells": [
  {
   "cell_type": "markdown",
   "metadata": {},
   "source": [
    "### Course: DSC650 Assignment 2.1\n",
    "### Author: Anjani Bonda\n",
    "### Date: 3/25/2023"
   ]
  },
  {
   "cell_type": "code",
   "execution_count": 16,
   "metadata": {},
   "outputs": [],
   "source": [
    "import json\n",
    "from pathlib import Path\n",
    "import os\n",
    "\n",
    "import pandas as pd\n",
    "import s3fs\n",
    "\n",
    "\n",
    "def read_cluster_csv(file_path, endpoint_url='https://storage.budsc.midwest-datascience.com'):\n",
    "    s3 = s3fs.S3FileSystem(\n",
    "        anon=True,\n",
    "        client_kwargs={\n",
    "            'endpoint_url': endpoint_url\n",
    "        }\n",
    "    )\n",
    "    return pd.read_csv(s3.open(file_path, mode='rb'))\n",
    "\n",
    "current_dir = Path(os.getcwd()).absolute()\n",
    "results_dir = current_dir.joinpath('results')\n",
    "kv_data_dir = results_dir.joinpath('kvdb')\n",
    "kv_data_dir.mkdir(parents=True, exist_ok=True)\n",
    "\n",
    "people_json = kv_data_dir.joinpath('people.json')\n",
    "visited_json = kv_data_dir.joinpath('visited.json')\n",
    "sites_json = kv_data_dir.joinpath('sites.json')\n",
    "measurements_json = kv_data_dir.joinpath('measurements.json')\n",
    "\n",
    "## setup the directory name for source files\n",
    "\n",
    "sites_dir = r'/home/jovyan/git_akb/dsc650/data/external/tidynomicon/site.csv'\n",
    "person_dir = r'/home/jovyan/git_akb/dsc650/data/external/tidynomicon/person.csv'\n",
    "visit_dir = r'/home/jovyan/git_akb/dsc650/data/external/tidynomicon/visited.csv'\n",
    "measure_dir = r'/home/jovyan/git_akb/dsc650/data/external/tidynomicon/measurements.csv'"
   ]
  },
  {
   "cell_type": "code",
   "execution_count": 17,
   "metadata": {},
   "outputs": [],
   "source": [
    "class KVDB(object):\n",
    "    def __init__(self, db_path):\n",
    "        self._db_path = Path(db_path)\n",
    "        self._db = {}\n",
    "        self._load_db()\n",
    "\n",
    "    def _load_db(self):\n",
    "        if self._db_path.exists():\n",
    "            with open(self._db_path) as f:\n",
    "                self._db = json.load(f)\n",
    "\n",
    "    def get_value(self, key):\n",
    "        return self._db.get(key)\n",
    "\n",
    "    def set_value(self, key, value):\n",
    "        self._db[key] = value\n",
    "\n",
    "    def save(self):\n",
    "        with open(self._db_path, 'w') as f:\n",
    "            json.dump(self._db, f, indent=2)"
   ]
  },
  {
   "cell_type": "code",
   "execution_count": 18,
   "metadata": {},
   "outputs": [],
   "source": [
    "def create_sites_kvdb():\n",
    "    db = KVDB(sites_json)\n",
    "    #df = read_cluster_csv('data/external/tidynomicon/site.csv')\n",
    "    df = pd.read_csv(sites_dir)\n",
    "    for site_id, group_df in df.groupby('site_id'):\n",
    "        db.set_value(site_id, group_df.to_dict(orient='records')[0])\n",
    "    db.save()\n",
    "    print(\"The key-value database for sites file has been created successfully\")\n",
    "\n",
    "\n",
    "def create_people_kvdb():\n",
    "    db = KVDB(people_json)\n",
    "    ## TODO: Implement code\n",
    "    #df = read_cluster_csv('data/external/tidynomicon/person.csv')\n",
    "    df = pd.read_csv(person_dir)\n",
    "    for person_id, group_df in df.groupby('person_id'):\n",
    "        db.set_value(person_id, group_df.to_dict(orient='records')[0])\n",
    "    db.save()\n",
    "    print(\"The key-value database for person file has been created successfully\")\n",
    "\n",
    "\n",
    "def create_visits_kvdb():\n",
    "    db = KVDB(visited_json)\n",
    "    ## TODO: Implement code\n",
    "    #df = read_cluster_csv('data/external/tidynomicon/visited.csv')\n",
    "    df = pd.read_csv(visit_dir)\n",
    "    for composite_id, group_df in df.groupby(['visit_id','site_id']):\n",
    "        db.set_value(str(composite_id), group_df.to_dict(orient='records')[0])\n",
    "    db.save()\n",
    "    print(\"The key-value database for visit file has been created successfully\")\n",
    "\n",
    "\n",
    "def create_measurements_kvdb():\n",
    "    db = KVDB(measurements_json)\n",
    "    ## TODO: Implement code\n",
    "    #df = read_cluster_csv('data/external/tidynomicon/measurements.csv')\n",
    "    df = pd.read_csv(measure_dir)\n",
    "    for composite_id, group_df in df.groupby(['visit_id','person_id','quantity']):\n",
    "        db.set_value(str(composite_id), group_df.to_dict(orient='records')[0])\n",
    "    db.save()\n",
    "    print(\"The key-value database for measurements file has been created successfully\")"
   ]
  },
  {
   "cell_type": "code",
   "execution_count": 19,
   "metadata": {},
   "outputs": [
    {
     "name": "stdout",
     "output_type": "stream",
     "text": [
      "The key-value database for sites file has been created successfully\n",
      "The key-value database for person file has been created successfully\n",
      "The key-value database for visit file has been created successfully\n",
      "The key-value database for measurements file has been created successfully\n"
     ]
    }
   ],
   "source": [
    "create_sites_kvdb()\n",
    "create_people_kvdb()\n",
    "create_visits_kvdb()\n",
    "create_measurements_kvdb()"
   ]
  },
  {
   "cell_type": "code",
   "execution_count": null,
   "metadata": {},
   "outputs": [],
   "source": []
  }
 ],
 "metadata": {
  "kernelspec": {
   "display_name": "Python 3",
   "language": "python",
   "name": "python3"
  },
  "language_info": {
   "codemirror_mode": {
    "name": "ipython",
    "version": 3
   },
   "file_extension": ".py",
   "mimetype": "text/x-python",
   "name": "python",
   "nbconvert_exporter": "python",
   "pygments_lexer": "ipython3",
   "version": "3.8.8"
  }
 },
 "nbformat": 4,
 "nbformat_minor": 4
}
