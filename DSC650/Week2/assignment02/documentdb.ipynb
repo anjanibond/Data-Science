{
 "cells": [
  {
   "cell_type": "markdown",
   "metadata": {},
   "source": [
    "### Course: DSC650 Assignment 2.2\n",
    "### Author: Anjani Bonda\n",
    "### Date: 3/25/2023"
   ]
  },
  {
   "cell_type": "code",
   "execution_count": 13,
   "metadata": {},
   "outputs": [],
   "source": [
    "## create a method to load json file\n",
    "def _load_json(json_path):\n",
    "    '''loads data from .json file'''\n",
    "    with open(json_path) as f:\n",
    "        return json.load(f)"
   ]
  },
  {
   "cell_type": "code",
   "execution_count": 14,
   "metadata": {},
   "outputs": [],
   "source": [
    "from pathlib import Path\n",
    "import json\n",
    "import os\n",
    "\n",
    "from tinydb import TinyDB\n",
    "\n",
    "current_dir = Path(os.getcwd()).absolute()\n",
    "results_dir = current_dir.joinpath('results')\n",
    "kv_data_dir = results_dir.joinpath('kvdb')\n",
    "kv_data_dir.mkdir(parents=True, exist_ok=True)\n",
    "\n",
    "\n",
    "class DocumentDB(object):\n",
    "    def __init__(self, db_path):\n",
    "        ## You can use the code from the previous exmaple if you would like\n",
    "        people_json = kv_data_dir.joinpath('people.json')\n",
    "        visited_json = kv_data_dir.joinpath('visited.json')\n",
    "        sites_json = kv_data_dir.joinpath('sites.json')\n",
    "        measurements_json = kv_data_dir.joinpath('measurements.json')\n",
    "\n",
    "        self._db_path = Path(db_path)\n",
    "        self._db = None\n",
    "        ## TODO: Implement code\n",
    "        self.person_lkp = _load_json(people_json)\n",
    "        self.visit_lkp = _load_json(visited_json)\n",
    "        self.site_lkp = _load_json(sites_json)\n",
    "        self.measure_lkp = _load_json(measurements_json)\n",
    "        \n",
    "        self._load_db()\n",
    "    \n",
    "    ## Create a method to get sites based on site_id\n",
    "    def _get_site(self, site_id):\n",
    "        '''return sites based on site_id'''\n",
    "        return self.site_lkp[str(site_id)]\n",
    "    \n",
    "    ## Create a method to get measurements based on person_id\n",
    "    def _get_measurements(self, person_id):\n",
    "        '''return measurements based on person_id'''\n",
    "        measurements = []\n",
    "        measurements.extend([\n",
    "            values for values in self.measure_lkp.values()\n",
    "            if str(values['person_id']) == str(person_id)\n",
    "        ])\n",
    "        return measurements\n",
    "    \n",
    "    ## Create a method to get visits based on visit_id\n",
    "    def _get_visit(self, visit_id):\n",
    "        '''returns visit info about a specific site visit_id'''\n",
    "        \n",
    "        for key, value in self.visit_lkp.items():\n",
    "            k = key.replace('(',\"\").split(\",\")\n",
    "            if str(k[0]) == str(visit_id):\n",
    "                visit = value\n",
    "        ## call get_sites method based on site_id\n",
    "        site_id = visit['site_id']\n",
    "        site = self._get_site(site_id) # retrieve info about site      \n",
    "        visit['site'] = site # Append site info to visit info\n",
    "        return visit\n",
    "            \n",
    "\n",
    "    def _load_db(self):\n",
    "        self._db = TinyDB(self._db_path)\n",
    "        ## TODO: Implement code\n",
    "        persons = self.person_lkp.items()\n",
    "        for person_id, record in persons:\n",
    "            # return individual's list of records:\n",
    "            measurements = self._get_measurements(person_id)\n",
    "            # extract set of unique visit_id's from id's in list of measurements\n",
    "            visit_ids = set([measurement['visit_id'] for measurement in measurements])\n",
    "            visits = []\n",
    "            for visit_id in visit_ids: # iterate through set of individual's visit_id's\n",
    "                visit = self._get_visit(visit_id) # returns info from visit\n",
    "                # add measurement info from visit\n",
    "                visit['measurements'] = [\n",
    "                    measurement for measurement in measurements\n",
    "                    if visit_id == measurement['visit_id']\n",
    "                ]\n",
    "                visits.append(visit)\n",
    "            record['visits'] = visits # add visit info to record\n",
    "            self._db.insert(record)"
   ]
  },
  {
   "cell_type": "code",
   "execution_count": 15,
   "metadata": {},
   "outputs": [
    {
     "name": "stdout",
     "output_type": "stream",
     "text": [
      "The tinyDB creation has completed successfully\n"
     ]
    }
   ],
   "source": [
    "db_path = results_dir.joinpath('patient-info.json')\n",
    "if db_path.exists():\n",
    "    os.remove(db_path)\n",
    "try: \n",
    "    db = DocumentDB(db_path)\n",
    "except:\n",
    "    print(\"The tinyDB creation has failed\")\n",
    "else:\n",
    "    print(\"The tinyDB creation has completed successfully\")"
   ]
  },
  {
   "cell_type": "code",
   "execution_count": null,
   "metadata": {},
   "outputs": [],
   "source": []
  }
 ],
 "metadata": {
  "kernelspec": {
   "display_name": "Python 3 (ipykernel)",
   "language": "python",
   "name": "python3"
  },
  "language_info": {
   "codemirror_mode": {
    "name": "ipython",
    "version": 3
   },
   "file_extension": ".py",
   "mimetype": "text/x-python",
   "name": "python",
   "nbconvert_exporter": "python",
   "pygments_lexer": "ipython3",
   "version": "3.9.7"
  }
 },
 "nbformat": 4,
 "nbformat_minor": 4
}
