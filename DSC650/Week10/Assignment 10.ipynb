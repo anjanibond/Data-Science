{
 "cells": [
  {
   "cell_type": "markdown",
   "metadata": {},
   "source": [
    "## Assignment 10\n",
    "\n",
    "Author: Anjani Bonda<br>\n",
    "Date: 5/20/2023<br>"
   ]
  },
  {
   "cell_type": "markdown",
   "metadata": {},
   "source": [
    "### Assignment 10.1\n",
    "\n",
    "In the first part of the assignment, you will implement basic text-preprocessing functions in Python. These functions do not need to scale to large text documents and will only need to handle small inputs."
   ]
  },
  {
   "cell_type": "markdown",
   "metadata": {},
   "source": [
    "#### Assignment 10.1.a\n",
    "Create a tokenize function that splits a sentence into words. Ensure that your tokenizer removes basic punctuation.\n",
    "\n",
    "```\n",
    "def tokenize(sentence):\n",
    "    tokens = []\n",
    "    # tokenize the sentence\n",
    "    return tokens\n",
    "```"
   ]
  },
  {
   "cell_type": "code",
   "execution_count": 1,
   "metadata": {},
   "outputs": [],
   "source": [
    "import string\n",
    "\n",
    "def tokenize(sentence):\n",
    "    # standardize text to lowercase\n",
    "    sentence = sentence.lower()\n",
    "    # remove any punctuation\n",
    "    sentence = \"\".join(char for char in sentence if char not in string.punctuation)   \n",
    "    # split words into tokens\n",
    "    return sentence.split()"
   ]
  },
  {
   "cell_type": "code",
   "execution_count": 2,
   "metadata": {},
   "outputs": [
    {
     "data": {
      "text/plain": [
       "'Hello Everyone! Welcome to Bellevue University - DSC650 program'"
      ]
     },
     "execution_count": 2,
     "metadata": {},
     "output_type": "execute_result"
    }
   ],
   "source": [
    "sentence = \"Hello Everyone! Welcome to Bellevue University - DSC650 program\"\n",
    "sentence"
   ]
  },
  {
   "cell_type": "code",
   "execution_count": 3,
   "metadata": {},
   "outputs": [
    {
     "data": {
      "text/plain": [
       "['hello',\n",
       " 'everyone',\n",
       " 'welcome',\n",
       " 'to',\n",
       " 'bellevue',\n",
       " 'university',\n",
       " 'dsc650',\n",
       " 'program']"
      ]
     },
     "execution_count": 3,
     "metadata": {},
     "output_type": "execute_result"
    }
   ],
   "source": [
    "tokenized_text = tokenize(sentence)\n",
    "tokenized_text"
   ]
  },
  {
   "cell_type": "markdown",
   "metadata": {},
   "source": [
    "#### Assignment 10.1.b\n",
    "\n",
    "Implement an `ngram` function that splits tokens into N-grams. \n",
    "\n",
    "```\n",
    "def ngram(tokens, n):\n",
    "    ngrams = []\n",
    "    # Create ngrams\n",
    "    return ngrams\n",
    "```"
   ]
  },
  {
   "cell_type": "code",
   "execution_count": 6,
   "metadata": {},
   "outputs": [],
   "source": [
    "def ngram(tokens, n):\n",
    "    # zipping tokens into ngrams\n",
    "    temp = zip(*[tokens[x:] for x in range(0, n)])\n",
    "    \n",
    "    # join the ngrams\n",
    "    return [\" \".join(ngram) for ngram in temp]"
   ]
  },
  {
   "cell_type": "code",
   "execution_count": 7,
   "metadata": {},
   "outputs": [
    {
     "data": {
      "text/plain": [
       "['hello',\n",
       " 'everyone',\n",
       " 'welcome',\n",
       " 'to',\n",
       " 'bellevue',\n",
       " 'university',\n",
       " 'dsc650',\n",
       " 'program']"
      ]
     },
     "execution_count": 7,
     "metadata": {},
     "output_type": "execute_result"
    }
   ],
   "source": [
    "# Assign words/ngrams into a list where n=1 and print\n",
    "unigram = ngram(tokenized_text, 1)\n",
    "unigram"
   ]
  },
  {
   "cell_type": "code",
   "execution_count": 10,
   "metadata": {},
   "outputs": [
    {
     "data": {
      "text/plain": [
       "['hello everyone welcome',\n",
       " 'everyone welcome to',\n",
       " 'welcome to bellevue',\n",
       " 'to bellevue university',\n",
       " 'bellevue university dsc650',\n",
       " 'university dsc650 program']"
      ]
     },
     "execution_count": 10,
     "metadata": {},
     "output_type": "execute_result"
    }
   ],
   "source": [
    "# Assign ngrams in triplets into a list and print\n",
    "trigram = ngram(tokenized_text, 3)\n",
    "trigram"
   ]
  },
  {
   "cell_type": "markdown",
   "metadata": {},
   "source": [
    "#### Assignment 10.1.c\n",
    "\n",
    "Implement an one_hot_encode function to create a vector from a numerical vector from a list of tokens.\n",
    "\n",
    "```\n",
    "def one_hot_encode(tokens, num_words):\n",
    "    token_index = {}\n",
    "    results = ''\n",
    "    return results\n",
    "```"
   ]
  },
  {
   "cell_type": "code",
   "execution_count": 11,
   "metadata": {},
   "outputs": [],
   "source": [
    "# Import required library/libraries\n",
    "import numpy as np"
   ]
  },
  {
   "cell_type": "code",
   "execution_count": 12,
   "metadata": {},
   "outputs": [],
   "source": [
    "def one_hot_encode(tokens, num_words):\n",
    "    # build index of the tokens\n",
    "    token_index = {}\n",
    "    for word in tokens:\n",
    "        if word not in token_index:\n",
    "            token_index[word] = len(token_index) + 1\n",
    "            \n",
    "    # vectorize tokens\n",
    "    max_length = 10\n",
    "    # create vector of zeros\n",
    "    results = np.zeros(shape=(max_length,max(token_index.values()) + 1))\n",
    "    # One_hot_encode the words to the vector - results\n",
    "    for x, word in list(enumerate(tokens))[:max_length]:\n",
    "        index = token_index.get(word)\n",
    "        results[x, index] = 1\n",
    "    return results"
   ]
  },
  {
   "cell_type": "code",
   "execution_count": 13,
   "metadata": {},
   "outputs": [
    {
     "data": {
      "text/plain": [
       "array([[0., 1., 0., 0., 0., 0., 0., 0., 0.],\n",
       "       [0., 0., 1., 0., 0., 0., 0., 0., 0.],\n",
       "       [0., 0., 0., 1., 0., 0., 0., 0., 0.],\n",
       "       [0., 0., 0., 0., 1., 0., 0., 0., 0.],\n",
       "       [0., 0., 0., 0., 0., 1., 0., 0., 0.],\n",
       "       [0., 0., 0., 0., 0., 0., 1., 0., 0.],\n",
       "       [0., 0., 0., 0., 0., 0., 0., 1., 0.],\n",
       "       [0., 0., 0., 0., 0., 0., 0., 0., 1.],\n",
       "       [0., 0., 0., 0., 0., 0., 0., 0., 0.],\n",
       "       [0., 0., 0., 0., 0., 0., 0., 0., 0.]])"
      ]
     },
     "execution_count": 13,
     "metadata": {},
     "output_type": "execute_result"
    }
   ],
   "source": [
    "one_hot_text = one_hot_encode(tokenized_text, 100)\n",
    "one_hot_text"
   ]
  },
  {
   "cell_type": "markdown",
   "metadata": {},
   "source": [
    "### Assignment 10.2\n",
    "\n",
    "Using listings 6.16, 6.17, and 6.18 in Deep Learning with Python as a guide, train a sequential model with embeddings on the IMDB data found in data/external/imdb/. Produce the model performance metrics and training and validation accuracy curves within the Jupyter notebook."
   ]
  },
  {
   "cell_type": "code",
   "execution_count": 15,
   "metadata": {},
   "outputs": [],
   "source": [
    "## Import required library/libraries.\n",
    "import os"
   ]
  },
  {
   "cell_type": "code",
   "execution_count": 12,
   "metadata": {},
   "outputs": [],
   "source": [
    "# Process labels of the IMDB dataset\n",
    "imdb_dir = '/home/jovyan/dsc650/data/external/imdb/aclImdb'\n",
    "train_dir = os.path.join(imdb_dir, 'train')\n",
    "\n",
    "labels = []\n",
    "texts = []\n",
    "\n",
    "for label_type in ['neg', 'pos']:\n",
    "    dir_name = os.path.join(train_dir, label_type)\n",
    "    for fname in os.listdir(dir_name):\n",
    "        if fname[-4:] == '.txt':\n",
    "            f = open(os.path.join(dir_name, fname))\n",
    "            texts.append(f.read())\n",
    "            f.close()\n",
    "            if label_type == 'neg':\n",
    "                labels.append(0)\n",
    "            else:\n",
    "                labels.append(1)"
   ]
  },
  {
   "cell_type": "code",
   "execution_count": 13,
   "metadata": {},
   "outputs": [
    {
     "name": "stdout",
     "output_type": "stream",
     "text": [
      "Found 88582 unique tokens.\n",
      "Shape of data tensor: (25000, 100)\n",
      "Shape of label tensor: (25000,)\n"
     ]
    }
   ],
   "source": [
    "# Tokenizing the text and prepare a train/val split\n",
    "from keras.preprocessing.text import Tokenizer\n",
    "from keras.preprocessing.sequence import pad_sequences\n",
    "import numpy as np\n",
    "\n",
    "maxlen = 100 \n",
    "training_samples = 200 \n",
    "validation_samples = 10000\n",
    "max_words = 10000 \n",
    "\n",
    "tokenizer = Tokenizer(num_words=max_words)\n",
    "tokenizer.fit_on_texts(texts)\n",
    "sequences = tokenizer.texts_to_sequences(texts)\n",
    "\n",
    "word_index = tokenizer.word_index\n",
    "print('Found %s unique tokens.' % len(word_index))\n",
    "\n",
    "data = pad_sequences(sequences, maxlen=maxlen)\n",
    "\n",
    "labels = np.asarray(labels)\n",
    "print('Shape of data tensor:', data.shape)\n",
    "print('Shape of label tensor:', labels.shape)\n",
    "\n",
    "indices = np.arange(data.shape[0])\n",
    "np.random.shuffle(indices) # shuffle data before splitting\n",
    "data = data[indices]\n",
    "labels = labels[indices]\n",
    "\n",
    "x_train = data[:training_samples]\n",
    "y_train = labels[:training_samples]\n",
    "x_val = data[training_samples: training_samples + validation_samples]\n",
    "y_val = labels[training_samples: training_samples + validation_samples]"
   ]
  },
  {
   "cell_type": "code",
   "execution_count": 14,
   "metadata": {},
   "outputs": [
    {
     "name": "stdout",
     "output_type": "stream",
     "text": [
      "Model: \"sequential\"\n",
      "_________________________________________________________________\n",
      "Layer (type)                 Output Shape              Param #   \n",
      "=================================================================\n",
      "embedding (Embedding)        (None, 100, 100)          1000000   \n",
      "_________________________________________________________________\n",
      "flatten (Flatten)            (None, 10000)             0         \n",
      "_________________________________________________________________\n",
      "dense (Dense)                (None, 32)                320032    \n",
      "_________________________________________________________________\n",
      "dense_1 (Dense)              (None, 1)                 33        \n",
      "=================================================================\n",
      "Total params: 1,320,065\n",
      "Trainable params: 1,320,065\n",
      "Non-trainable params: 0\n",
      "_________________________________________________________________\n",
      "Epoch 1/10\n",
      "7/7 [==============================] - 1s 158ms/step - loss: 0.6882 - acc: 0.4850 - val_loss: 0.6966 - val_acc: 0.5147\n",
      "Epoch 2/10\n",
      "7/7 [==============================] - 1s 113ms/step - loss: 0.4924 - acc: 0.9800 - val_loss: 0.6991 - val_acc: 0.5233\n",
      "Epoch 3/10\n",
      "7/7 [==============================] - 1s 107ms/step - loss: 0.2739 - acc: 0.9850 - val_loss: 0.6986 - val_acc: 0.5264\n",
      "Epoch 4/10\n",
      "7/7 [==============================] - 1s 111ms/step - loss: 0.1183 - acc: 1.0000 - val_loss: 0.7063 - val_acc: 0.5274\n",
      "Epoch 5/10\n",
      "7/7 [==============================] - 1s 114ms/step - loss: 0.0560 - acc: 1.0000 - val_loss: 0.7053 - val_acc: 0.5260\n",
      "Epoch 6/10\n",
      "7/7 [==============================] - 1s 111ms/step - loss: 0.0290 - acc: 1.0000 - val_loss: 0.7188 - val_acc: 0.5278\n",
      "Epoch 7/10\n",
      "7/7 [==============================] - 1s 116ms/step - loss: 0.0161 - acc: 1.0000 - val_loss: 0.7259 - val_acc: 0.5282\n",
      "Epoch 8/10\n",
      "7/7 [==============================] - 1s 110ms/step - loss: 0.0094 - acc: 1.0000 - val_loss: 0.7454 - val_acc: 0.5296\n",
      "Epoch 9/10\n",
      "7/7 [==============================] - 1s 110ms/step - loss: 0.0057 - acc: 1.0000 - val_loss: 0.7419 - val_acc: 0.5270\n",
      "Epoch 10/10\n",
      "7/7 [==============================] - 1s 108ms/step - loss: 0.0034 - acc: 1.0000 - val_loss: 0.7505 - val_acc: 0.5291\n"
     ]
    }
   ],
   "source": [
    "# Train the model without pretrained word embeddings\n",
    "from keras.models import Sequential\n",
    "from keras.layers import Embedding, Flatten, Dense\n",
    "\n",
    "embedding_dim = 100\n",
    "\n",
    "model = Sequential()\n",
    "model.add(Embedding(max_words, embedding_dim, input_length=maxlen))\n",
    "model.add(Flatten())\n",
    "model.add(Dense(32, activation='relu'))\n",
    "model.add(Dense(1, activation='sigmoid'))\n",
    "model.summary()\n",
    "\n",
    "# Compile and train the model\n",
    "model.compile(optimizer='rmsprop',\n",
    "              loss='binary_crossentropy',\n",
    "              metrics=['acc'])\n",
    "history = model.fit(x_train, y_train,\n",
    "                    epochs=10,\n",
    "                    batch_size=32,\n",
    "validation_data=(x_val, y_val))"
   ]
  },
  {
   "cell_type": "markdown",
   "metadata": {},
   "source": [
    "Evaluate the model on test data"
   ]
  },
  {
   "cell_type": "code",
   "execution_count": 15,
   "metadata": {},
   "outputs": [],
   "source": [
    "# Tokenize the data of the test set\n",
    "test_dir = os.path.join(imdb_dir, 'test')\n",
    "\n",
    "labels = []\n",
    "texts = []\n",
    "\n",
    "for label_type in ['neg', 'pos']:\n",
    "    dir_name = os.path.join(test_dir, label_type)\n",
    "    for fname in sorted(os.listdir(dir_name)):\n",
    "        if fname[-4:] == '.txt':\n",
    "            f = open(os.path.join(dir_name, fname))\n",
    "            texts.append(f.read())\n",
    "            f.close()\n",
    "            if label_type == 'neg':\n",
    "                labels.append(0)\n",
    "            else:\n",
    "                labels.append(1)\n",
    "\n",
    "sequences = tokenizer.texts_to_sequences(texts)\n",
    "x_test = pad_sequences(sequences, maxlen=maxlen)\n",
    "y_test = np.asarray(labels)"
   ]
  },
  {
   "cell_type": "markdown",
   "metadata": {},
   "source": [
    "Plot the model's performance over time:"
   ]
  },
  {
   "cell_type": "code",
   "execution_count": 16,
   "metadata": {},
   "outputs": [
    {
     "data": {
      "image/png": "[encoded data removed]",
      "text/plain": [
       "<Figure size 432x288 with 1 Axes>"
      ]
     },
     "metadata": {
      "needs_background": "light"
     },
     "output_type": "display_data"
    },
    {
     "data": {
      "image/png": "[encoded data removed]",
      "text/plain": [
       "<Figure size 432x288 with 1 Axes>"
      ]
     },
     "metadata": {
      "needs_background": "light"
     },
     "output_type": "display_data"
    }
   ],
   "source": [
    "# Plot the results\n",
    "import matplotlib.pyplot as plt\n",
    "\n",
    "acc = history.history['acc']\n",
    "val_acc = history.history['val_acc']\n",
    "loss = history.history['loss']\n",
    "val_loss = history.history['val_loss']\n",
    "\n",
    "epochs = range(1, len(acc) + 1)\n",
    "\n",
    "plt.plot(epochs, acc, 'bo', label='Training acc')\n",
    "plt.plot(epochs, val_acc, 'b', label='Validation acc')\n",
    "plt.title('Training and validation accuracy')\n",
    "plt.legend()\n",
    "\n",
    "plt.figure()\n",
    "\n",
    "plt.plot(epochs, loss, 'bo', label='Training loss')\n",
    "plt.plot(epochs, val_loss, 'b', label='Validation loss')\n",
    "plt.title('Training and validation loss')\n",
    "plt.legend()\n",
    "\n",
    "plt.show()"
   ]
  },
  {
   "cell_type": "markdown",
   "metadata": {},
   "source": [
    "Evaluate the model"
   ]
  },
  {
   "cell_type": "code",
   "execution_count": 17,
   "metadata": {},
   "outputs": [
    {
     "name": "stdout",
     "output_type": "stream",
     "text": [
      "782/782 [==============================] - 2s 2ms/step - loss: 0.7586 - acc: 0.5310\n",
      "Model Loss:     0.759\n",
      "Model Accuracy: 53.1%\n"
     ]
    }
   ],
   "source": [
    "# Evaluate the model on the test set\n",
    "eval = model.evaluate(x_test, y_test)\n",
    "print(f\"Model Loss:     {eval[0]:.3f}\")\n",
    "print(f\"Model Accuracy: {eval[1]*100:.1f}%\")"
   ]
  },
  {
   "cell_type": "markdown",
   "metadata": {},
   "source": [
    "#### Assignment 10.3\n",
    "\n",
    "Using listing 6.27 in Deep Learning with Python as a guide, fit the same data with an LSTM layer. Produce the model performance metrics and training and validation accuracy curves within the Jupyter notebook."
   ]
  },
  {
   "cell_type": "code",
   "execution_count": 18,
   "metadata": {},
   "outputs": [
    {
     "name": "stdout",
     "output_type": "stream",
     "text": [
      "Epoch 1/10\n",
      "2/2 [==============================] - 1s 255ms/step - loss: 0.6937 - acc: 0.4688 - val_loss: 0.6913 - val_acc: 0.6000\n",
      "Epoch 2/10\n",
      "2/2 [==============================] - 0s 90ms/step - loss: 0.6889 - acc: 0.8188 - val_loss: 0.6906 - val_acc: 0.6000\n",
      "Epoch 3/10\n",
      "2/2 [==============================] - 0s 70ms/step - loss: 0.6843 - acc: 0.8750 - val_loss: 0.6904 - val_acc: 0.6500\n",
      "Epoch 4/10\n",
      "2/2 [==============================] - 0s 74ms/step - loss: 0.6780 - acc: 0.9062 - val_loss: 0.6897 - val_acc: 0.5750\n",
      "Epoch 5/10\n",
      "2/2 [==============================] - 0s 81ms/step - loss: 0.6687 - acc: 0.9438 - val_loss: 0.6890 - val_acc: 0.5500\n",
      "Epoch 6/10\n",
      "2/2 [==============================] - 0s 75ms/step - loss: 0.6551 - acc: 0.9438 - val_loss: 0.6873 - val_acc: 0.5500\n",
      "Epoch 7/10\n",
      "2/2 [==============================] - 0s 78ms/step - loss: 0.6323 - acc: 0.9688 - val_loss: 0.6849 - val_acc: 0.5000\n",
      "Epoch 8/10\n",
      "2/2 [==============================] - 0s 75ms/step - loss: 0.5867 - acc: 0.9750 - val_loss: 0.6970 - val_acc: 0.5250\n",
      "Epoch 9/10\n",
      "2/2 [==============================] - 0s 74ms/step - loss: 0.4855 - acc: 0.8687 - val_loss: 0.6690 - val_acc: 0.5250\n",
      "Epoch 10/10\n",
      "2/2 [==============================] - 0s 76ms/step - loss: 0.3736 - acc: 0.9625 - val_loss: 0.8972 - val_acc: 0.5500\n"
     ]
    }
   ],
   "source": [
    "# Use the LSTM layer in Keras\n",
    "from keras.layers import LSTM\n",
    "\n",
    "max_features = 10000 # Number of words to consider as features\n",
    "\n",
    "model = Sequential()\n",
    "model.add(Embedding(max_features, 32))\n",
    "model.add(LSTM(32))\n",
    "model.add(Dense(1, activation='sigmoid'))\n",
    "\n",
    "model.compile(optimizer='rmsprop',\n",
    "              loss='binary_crossentropy',\n",
    "              metrics=['acc'])\n",
    "history = model.fit(x_train, y_train,\n",
    "                    epochs=10,\n",
    "                    batch_size=128,\n",
    "                    validation_split=0.2)"
   ]
  },
  {
   "cell_type": "markdown",
   "metadata": {},
   "source": [
    "Plot the LSTM model's performance over time"
   ]
  },
  {
   "cell_type": "code",
   "execution_count": 19,
   "metadata": {},
   "outputs": [
    {
     "data": {
      "image/png": "[encoded data removed]",
      "text/plain": [
       "<Figure size 432x288 with 1 Axes>"
      ]
     },
     "metadata": {
      "needs_background": "light"
     },
     "output_type": "display_data"
    },
    {
     "data": {
      "image/png": "[encoded data removed]",
      "text/plain": [
       "<Figure size 432x288 with 1 Axes>"
      ]
     },
     "metadata": {
      "needs_background": "light"
     },
     "output_type": "display_data"
    }
   ],
   "source": [
    "# Plot the results\n",
    "import matplotlib.pyplot as plt\n",
    "\n",
    "acc = history.history['acc']\n",
    "val_acc = history.history['val_acc']\n",
    "loss = history.history['loss']\n",
    "val_loss = history.history['val_loss']\n",
    "\n",
    "epochs = range(1, len(acc) + 1)\n",
    "\n",
    "plt.plot(epochs, acc, 'bo', label='Training acc')\n",
    "plt.plot(epochs, val_acc, 'b', label='Validation acc')\n",
    "plt.title('Training and validation accuracy')\n",
    "plt.legend()\n",
    "\n",
    "plt.figure()\n",
    "\n",
    "plt.plot(epochs, loss, 'bo', label='Training loss')\n",
    "plt.plot(epochs, val_loss, 'b', label='Validation loss')\n",
    "plt.title('Training and validation loss')\n",
    "plt.legend()\n",
    "\n",
    "plt.show()"
   ]
  },
  {
   "cell_type": "markdown",
   "metadata": {},
   "source": [
    "Evaluate the LSTM model"
   ]
  },
  {
   "cell_type": "code",
   "execution_count": 21,
   "metadata": {},
   "outputs": [
    {
     "name": "stdout",
     "output_type": "stream",
     "text": [
      "782/782 [==============================] - 14s 18ms/step - loss: 0.8248 - acc: 0.5749\n",
      "Model Loss:     0.825\n",
      "Model Accuracy: 57.5%\n"
     ]
    }
   ],
   "source": [
    "# Evaluate the model on the test set\n",
    "eval = model.evaluate(x_test, y_test)\n",
    "print(f\"Model Loss:     {eval[0]:.3f}\")\n",
    "print(f\"Model Accuracy: {eval[1]*100:.1f}%\")"
   ]
  },
  {
   "cell_type": "markdown",
   "metadata": {},
   "source": [
    "#### Assignment 10.4\n",
    "\n",
    "Using listing 6.46 in Deep Learning with Python as a guide, fit the same data with a simple 1D convnet. Produce the model performance metrics and training and validation accuracy curves within the Jupyter notebook."
   ]
  },
  {
   "cell_type": "markdown",
   "metadata": {},
   "source": [
    "Example 1D convnet for the IMDB dataset"
   ]
  },
  {
   "cell_type": "code",
   "execution_count": 22,
   "metadata": {},
   "outputs": [
    {
     "name": "stdout",
     "output_type": "stream",
     "text": [
      "Model: \"sequential_2\"\n",
      "_________________________________________________________________\n",
      "Layer (type)                 Output Shape              Param #   \n",
      "=================================================================\n",
      "embedding_2 (Embedding)      (None, 100, 128)          1280000   \n",
      "_________________________________________________________________\n",
      "conv1d (Conv1D)              (None, 94, 32)            28704     \n",
      "_________________________________________________________________\n",
      "max_pooling1d (MaxPooling1D) (None, 18, 32)            0         \n",
      "_________________________________________________________________\n",
      "conv1d_1 (Conv1D)            (None, 12, 32)            7200      \n",
      "_________________________________________________________________\n",
      "global_max_pooling1d (Global (None, 32)                0         \n",
      "_________________________________________________________________\n",
      "dense_3 (Dense)              (None, 1)                 33        \n",
      "=================================================================\n",
      "Total params: 1,315,937\n",
      "Trainable params: 1,315,937\n",
      "Non-trainable params: 0\n",
      "_________________________________________________________________\n",
      "Epoch 1/10\n",
      "2/2 [==============================] - 0s 70ms/step - loss: 3.8011 - acc: 0.4938 - val_loss: 1.7573 - val_acc: 0.5000\n",
      "Epoch 2/10\n",
      "2/2 [==============================] - 0s 24ms/step - loss: 1.9258 - acc: 0.4938 - val_loss: 1.6315 - val_acc: 0.5000\n",
      "Epoch 3/10\n",
      "2/2 [==============================] - 0s 23ms/step - loss: 1.6121 - acc: 0.4938 - val_loss: 1.5262 - val_acc: 0.5000\n",
      "Epoch 4/10\n",
      "2/2 [==============================] - 0s 27ms/step - loss: 1.3692 - acc: 0.4938 - val_loss: 1.3960 - val_acc: 0.5000\n",
      "Epoch 5/10\n",
      "2/2 [==============================] - 0s 26ms/step - loss: 1.2292 - acc: 0.4938 - val_loss: 1.3754 - val_acc: 0.5000\n",
      "Epoch 6/10\n",
      "2/2 [==============================] - 0s 29ms/step - loss: 1.1972 - acc: 0.4938 - val_loss: 1.3538 - val_acc: 0.5000\n",
      "Epoch 7/10\n",
      "2/2 [==============================] - 0s 26ms/step - loss: 1.1655 - acc: 0.4938 - val_loss: 1.3315 - val_acc: 0.5000\n",
      "Epoch 8/10\n",
      "2/2 [==============================] - 0s 28ms/step - loss: 1.1356 - acc: 0.4938 - val_loss: 1.3119 - val_acc: 0.5000\n",
      "Epoch 9/10\n",
      "2/2 [==============================] - 0s 23ms/step - loss: 1.1095 - acc: 0.4938 - val_loss: 1.2922 - val_acc: 0.5000\n",
      "Epoch 10/10\n",
      "2/2 [==============================] - 0s 26ms/step - loss: 1.0841 - acc: 0.4938 - val_loss: 1.2723 - val_acc: 0.5000\n"
     ]
    }
   ],
   "source": [
    "# Train and evaluate a simple 1D convnet on the IMDB data\n",
    "from keras.models import Sequential\n",
    "from keras import layers\n",
    "from tensorflow.keras.optimizers import RMSprop\n",
    "\n",
    "max_len = 100 # set to match dimensions\n",
    "\n",
    "model = Sequential()\n",
    "model.add(layers.Embedding(max_features, 128, input_length=max_len))\n",
    "model.add(layers.Conv1D(32, 7, activation='relu'))\n",
    "model.add(layers.MaxPooling1D(5))\n",
    "model.add(layers.Conv1D(32, 7, activation='relu'))\n",
    "model.add(layers.GlobalMaxPooling1D())\n",
    "model.add(layers.Dense(1))\n",
    "\n",
    "model.summary()\n",
    "\n",
    "model.compile(optimizer=RMSprop(lr=1e-4),\n",
    "              loss='binary_crossentropy',\n",
    "              metrics=['acc'])\n",
    "history = model.fit(x_train, y_train,\n",
    "                    epochs=10,\n",
    "                    batch_size=128,\n",
    "                    validation_split=0.2)"
   ]
  },
  {
   "cell_type": "markdown",
   "metadata": {},
   "source": [
    "Plot the 1D convnet model's performance over time"
   ]
  },
  {
   "cell_type": "code",
   "execution_count": 23,
   "metadata": {},
   "outputs": [
    {
     "data": {
      "image/png": "[encoded data removed]",
      "text/plain": [
       "<Figure size 432x288 with 1 Axes>"
      ]
     },
     "metadata": {
      "needs_background": "light"
     },
     "output_type": "display_data"
    },
    {
     "data": {
      "image/png": "[encoded data removed]",
      "text/plain": [
       "<Figure size 432x288 with 1 Axes>"
      ]
     },
     "metadata": {
      "needs_background": "light"
     },
     "output_type": "display_data"
    }
   ],
   "source": [
    "# Plot the results\n",
    "import matplotlib.pyplot as plt\n",
    "\n",
    "acc = history.history['acc']\n",
    "val_acc = history.history['val_acc']\n",
    "loss = history.history['loss']\n",
    "val_loss = history.history['val_loss']\n",
    "\n",
    "epochs = range(1, len(acc) + 1)\n",
    "\n",
    "plt.plot(epochs, acc, 'bo', label='Training acc')\n",
    "plt.plot(epochs, val_acc, 'b', label='Validation acc')\n",
    "plt.title('Training and validation accuracy')\n",
    "plt.legend()\n",
    "\n",
    "plt.figure()\n",
    "\n",
    "plt.plot(epochs, loss, 'bo', label='Training loss')\n",
    "plt.plot(epochs, val_loss, 'b', label='Validation loss')\n",
    "plt.title('Training and validation loss')\n",
    "plt.legend()\n",
    "\n",
    "plt.show()"
   ]
  },
  {
   "cell_type": "code",
   "execution_count": 24,
   "metadata": {},
   "outputs": [
    {
     "name": "stdout",
     "output_type": "stream",
     "text": [
      "782/782 [==============================] - 3s 4ms/step - loss: 1.2980 - acc: 0.5000\n",
      "Model Loss:     1.298\n",
      "Model Accuracy: 50.0%\n"
     ]
    }
   ],
   "source": [
    "# Evaluate the model on the test set\n",
    "eval = model.evaluate(x_test, y_test)\n",
    "print(f\"Model Loss:     {eval[0]:.3f}\")\n",
    "print(f\"Model Accuracy: {eval[1]*100:.1f}%\")"
   ]
  },
  {
   "cell_type": "code",
   "execution_count": null,
   "metadata": {},
   "outputs": [],
   "source": []
  }
 ],
 "metadata": {
  "kernelspec": {
   "display_name": "Python 3 (ipykernel)",
   "language": "python",
   "name": "python3"
  },
  "language_info": {
   "codemirror_mode": {
    "name": "ipython",
    "version": 3
   },
   "file_extension": ".py",
   "mimetype": "text/x-python",
   "name": "python",
   "nbconvert_exporter": "python",
   "pygments_lexer": "ipython3",
   "version": "3.9.7"
  }
 },
 "nbformat": 4,
 "nbformat_minor": 4
}
