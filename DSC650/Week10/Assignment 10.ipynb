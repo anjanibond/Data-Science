{
 "cells": [
  {
   "cell_type": "markdown",
   "metadata": {},
   "source": [
    "## Assignment 10\n",
    "\n",
    "Author: Anjani Bonda<br>\n",
    "Date: 5/20/2023<br>"
   ]
  },
  {
   "cell_type": "markdown",
   "metadata": {},
   "source": [
    "### Assignment 10.1\n",
    "\n",
    "In the first part of the assignment, you will implement basic text-preprocessing functions in Python. These functions do not need to scale to large text documents and will only need to handle small inputs."
   ]
  },
  {
   "cell_type": "markdown",
   "metadata": {},
   "source": [
    "#### Assignment 10.1.a\n",
    "Create a tokenize function that splits a sentence into words. Ensure that your tokenizer removes basic punctuation.\n",
    "\n",
    "```\n",
    "def tokenize(sentence):\n",
    "    tokens = []\n",
    "    # tokenize the sentence\n",
    "    return tokens\n",
    "```"
   ]
  },
  {
   "cell_type": "code",
   "execution_count": 1,
   "metadata": {
    "tags": []
   },
   "outputs": [],
   "source": [
    "import string\n",
    "\n",
    "def tokenize(sentence):\n",
    "    # standardize text to lowercase\n",
    "    sentence = sentence.lower()\n",
    "    # remove any punctuation\n",
    "    sentence = \"\".join(char for char in sentence if char not in string.punctuation)   \n",
    "    # split words into tokens\n",
    "    return sentence.split()"
   ]
  },
  {
   "cell_type": "code",
   "execution_count": 2,
   "metadata": {
    "tags": []
   },
   "outputs": [
    {
     "data": {
      "text/plain": [
       "'Hello Everyone! Welcome to Bellevue University - DSC650 program'"
      ]
     },
     "execution_count": 2,
     "metadata": {},
     "output_type": "execute_result"
    }
   ],
   "source": [
    "sentence = \"Hello Everyone! Welcome to Bellevue University - DSC650 program\"\n",
    "sentence"
   ]
  },
  {
   "cell_type": "code",
   "execution_count": 3,
   "metadata": {
    "tags": []
   },
   "outputs": [
    {
     "data": {
      "text/plain": [
       "['hello',\n",
       " 'everyone',\n",
       " 'welcome',\n",
       " 'to',\n",
       " 'bellevue',\n",
       " 'university',\n",
       " 'dsc650',\n",
       " 'program']"
      ]
     },
     "execution_count": 3,
     "metadata": {},
     "output_type": "execute_result"
    }
   ],
   "source": [
    "tokenized_text = tokenize(sentence)\n",
    "tokenized_text"
   ]
  },
  {
   "cell_type": "markdown",
   "metadata": {},
   "source": [
    "#### Assignment 10.1.b\n",
    "\n",
    "Implement an `ngram` function that splits tokens into N-grams. \n",
    "\n",
    "```\n",
    "def ngram(tokens, n):\n",
    "    ngrams = []\n",
    "    # Create ngrams\n",
    "    return ngrams\n",
    "```"
   ]
  },
  {
   "cell_type": "code",
   "execution_count": 4,
   "metadata": {
    "tags": []
   },
   "outputs": [],
   "source": [
    "def ngram(tokens, n):\n",
    "    # zipping tokens into ngrams\n",
    "    temp = zip(*[tokens[x:] for x in range(0, n)])\n",
    "    \n",
    "    # join the ngrams\n",
    "    return [\" \".join(ngram) for ngram in temp]"
   ]
  },
  {
   "cell_type": "code",
   "execution_count": 5,
   "metadata": {
    "tags": []
   },
   "outputs": [
    {
     "data": {
      "text/plain": [
       "['hello',\n",
       " 'everyone',\n",
       " 'welcome',\n",
       " 'to',\n",
       " 'bellevue',\n",
       " 'university',\n",
       " 'dsc650',\n",
       " 'program']"
      ]
     },
     "execution_count": 5,
     "metadata": {},
     "output_type": "execute_result"
    }
   ],
   "source": [
    "# Assign words/ngrams into a list where n=1 and print\n",
    "unigram = ngram(tokenized_text, 1)\n",
    "unigram"
   ]
  },
  {
   "cell_type": "code",
   "execution_count": 6,
   "metadata": {
    "tags": []
   },
   "outputs": [
    {
     "data": {
      "text/plain": [
       "['hello everyone welcome',\n",
       " 'everyone welcome to',\n",
       " 'welcome to bellevue',\n",
       " 'to bellevue university',\n",
       " 'bellevue university dsc650',\n",
       " 'university dsc650 program']"
      ]
     },
     "execution_count": 6,
     "metadata": {},
     "output_type": "execute_result"
    }
   ],
   "source": [
    "# Assign ngrams in triplets into a list where n=3 and print\n",
    "trigram = ngram(tokenized_text, 3)\n",
    "trigram"
   ]
  },
  {
   "cell_type": "markdown",
   "metadata": {},
   "source": [
    "#### Assignment 10.1.c"
   ]
  },
  {
   "cell_type": "code",
   "execution_count": 25,
   "metadata": {
    "tags": []
   },
   "outputs": [],
   "source": [
    "# Import required library/libraries\n",
    "import numpy as np"
   ]
  },
  {
   "cell_type": "code",
   "execution_count": 26,
   "metadata": {
    "tags": []
   },
   "outputs": [],
   "source": [
    "# Function - one_hot_encode to create a vector from a numerical vector from a list of tokens\n",
    "def one_hot_encode(tokens, num_words):\n",
    "    # build index of the tokens\n",
    "    token_index = {}\n",
    "    for word in tokens:\n",
    "        if word not in token_index:\n",
    "            token_index[word] = len(token_index) + 1\n",
    "            \n",
    "    # vectorize tokens\n",
    "    max_length = 10\n",
    "    # create vector of zeros\n",
    "    results = np.zeros(shape=(max_length,max(token_index.values()) + 1))\n",
    "    # One_hot_encode the words to the vector - results\n",
    "    for x, word in list(enumerate(tokens))[:max_length]:\n",
    "        index = token_index.get(word)\n",
    "        results[x, index] = 1\n",
    "    return results"
   ]
  },
  {
   "cell_type": "code",
   "execution_count": 27,
   "metadata": {
    "tags": []
   },
   "outputs": [
    {
     "data": {
      "text/plain": [
       "array([[0., 1., 0., 0., 0., 0., 0., 0., 0.],\n",
       "       [0., 0., 1., 0., 0., 0., 0., 0., 0.],\n",
       "       [0., 0., 0., 1., 0., 0., 0., 0., 0.],\n",
       "       [0., 0., 0., 0., 1., 0., 0., 0., 0.],\n",
       "       [0., 0., 0., 0., 0., 1., 0., 0., 0.],\n",
       "       [0., 0., 0., 0., 0., 0., 1., 0., 0.],\n",
       "       [0., 0., 0., 0., 0., 0., 0., 1., 0.],\n",
       "       [0., 0., 0., 0., 0., 0., 0., 0., 1.],\n",
       "       [0., 0., 0., 0., 0., 0., 0., 0., 0.],\n",
       "       [0., 0., 0., 0., 0., 0., 0., 0., 0.]])"
      ]
     },
     "execution_count": 27,
     "metadata": {},
     "output_type": "execute_result"
    }
   ],
   "source": [
    "one_hot_text = one_hot_encode(tokenized_text, 100)\n",
    "one_hot_text"
   ]
  },
  {
   "cell_type": "markdown",
   "metadata": {},
   "source": [
    "### Assignment 10.2\n",
    "\n",
    "Using listings 6.16, 6.17, and 6.18 in Deep Learning with Python as a guide, train a sequential model with embeddings on the IMDB data found in data/external/imdb/. Produce the model performance metrics and training and validation accuracy curves within the Jupyter notebook."
   ]
  },
  {
   "cell_type": "code",
   "execution_count": 28,
   "metadata": {
    "tags": []
   },
   "outputs": [],
   "source": [
    "## Import required library/libraries.\n",
    "import os"
   ]
  },
  {
   "cell_type": "code",
   "execution_count": 29,
   "metadata": {
    "tags": []
   },
   "outputs": [],
   "source": [
    "# Read and process labels of the IMDB dataset\n",
    "imdb_dir = '/home/jovyan/dsc650/data/external/imdb/aclImdb'\n",
    "train_dir = os.path.join(imdb_dir, 'train')\n",
    "\n",
    "labels = []\n",
    "texts = []\n",
    "\n",
    "for label_type in ['neg', 'pos']:\n",
    "    dir_name = os.path.join(train_dir, label_type)\n",
    "    for fname in os.listdir(dir_name):\n",
    "        if fname[-4:] == '.txt':\n",
    "            f = open(os.path.join(dir_name, fname))\n",
    "            texts.append(f.read())\n",
    "            f.close()\n",
    "            if label_type == 'neg':\n",
    "                labels.append(0)\n",
    "            else:\n",
    "                labels.append(1)"
   ]
  },
  {
   "cell_type": "code",
   "execution_count": 30,
   "metadata": {
    "tags": []
   },
   "outputs": [
    {
     "name": "stdout",
     "output_type": "stream",
     "text": [
      "Found 88582 unique tokens.\n",
      "Shape of data tensor: (25000, 100)\n",
      "Shape of label tensor: (25000,)\n"
     ]
    }
   ],
   "source": [
    "# Tokenize text and prepare a train and test samples split\n",
    "from keras.preprocessing.text import Tokenizer\n",
    "#from keras_preprocessing.sequence import pad_sequences\n",
    "from keras.utils import pad_sequences\n",
    "import numpy as np\n",
    "\n",
    "maxlen = 100 \n",
    "train_samples = 200 \n",
    "test_samples = 10000\n",
    "max_words = 10000 \n",
    "\n",
    "tokenizer = Tokenizer(num_words=max_words)\n",
    "tokenizer.fit_on_texts(texts)\n",
    "sequences = tokenizer.texts_to_sequences(texts)\n",
    "\n",
    "word_index = tokenizer.word_index\n",
    "print('Found %s unique tokens.' % len(word_index))\n",
    "\n",
    "data = pad_sequences(sequences, maxlen=maxlen)\n",
    "\n",
    "labels = np.asarray(labels)\n",
    "print('Shape of data tensor:', data.shape)\n",
    "print('Shape of label tensor:', labels.shape)\n",
    "\n",
    "indices = np.arange(data.shape[0])\n",
    "np.random.shuffle(indices) \n",
    "data = data[indices]\n",
    "labels = labels[indices]\n",
    "\n",
    "x_train = data[:train_samples]\n",
    "y_train = labels[:train_samples]\n",
    "x_test = data[train_samples: train_samples + test_samples]\n",
    "y_test = labels[train_samples: train_samples + test_samples]"
   ]
  },
  {
   "cell_type": "code",
   "execution_count": 35,
   "metadata": {
    "tags": []
   },
   "outputs": [
    {
     "name": "stdout",
     "output_type": "stream",
     "text": [
      "Model: \"sequential_5\"\n",
      "_________________________________________________________________\n",
      " Layer (type)                Output Shape              Param #   \n",
      "=================================================================\n",
      " embedding_5 (Embedding)     (None, 100, 100)          1000000   \n",
      "                                                                 \n",
      " flatten_3 (Flatten)         (None, 10000)             0         \n",
      "                                                                 \n",
      " dense_8 (Dense)             (None, 32)                320032    \n",
      "                                                                 \n",
      " dense_9 (Dense)             (None, 1)                 33        \n",
      "                                                                 \n",
      "=================================================================\n",
      "Total params: 1,320,065\n",
      "Trainable params: 1,320,065\n",
      "Non-trainable params: 0\n",
      "_________________________________________________________________\n",
      "Epoch 1/10\n",
      "7/7 [==============================] - 3s 326ms/step - loss: 0.6905 - acc: 0.5400 - val_loss: 0.6932 - val_acc: 0.5055\n",
      "Epoch 2/10\n",
      "7/7 [==============================] - 2s 313ms/step - loss: 0.5640 - acc: 0.9700 - val_loss: 0.7048 - val_acc: 0.5010\n",
      "Epoch 3/10\n",
      "7/7 [==============================] - 2s 316ms/step - loss: 0.4169 - acc: 0.9700 - val_loss: 0.7074 - val_acc: 0.5078\n",
      "Epoch 4/10\n",
      "7/7 [==============================] - 2s 343ms/step - loss: 0.2629 - acc: 0.9950 - val_loss: 0.7060 - val_acc: 0.5104\n",
      "Epoch 5/10\n",
      "7/7 [==============================] - 2s 311ms/step - loss: 0.1584 - acc: 1.0000 - val_loss: 0.7286 - val_acc: 0.5091\n",
      "Epoch 6/10\n",
      "7/7 [==============================] - 2s 309ms/step - loss: 0.0923 - acc: 1.0000 - val_loss: 0.7485 - val_acc: 0.5096\n",
      "Epoch 7/10\n",
      "7/7 [==============================] - 2s 318ms/step - loss: 0.0564 - acc: 1.0000 - val_loss: 0.7423 - val_acc: 0.5119\n",
      "Epoch 8/10\n",
      "7/7 [==============================] - 2s 285ms/step - loss: 0.0361 - acc: 1.0000 - val_loss: 0.7634 - val_acc: 0.5116\n",
      "Epoch 9/10\n",
      "7/7 [==============================] - 2s 290ms/step - loss: 0.0243 - acc: 1.0000 - val_loss: 0.7815 - val_acc: 0.5112\n",
      "Epoch 10/10\n",
      "7/7 [==============================] - 2s 292ms/step - loss: 0.0170 - acc: 1.0000 - val_loss: 0.7923 - val_acc: 0.5124\n"
     ]
    }
   ],
   "source": [
    "# Training the model -  without word embeddings\n",
    "from keras.models import Sequential\n",
    "from keras.layers import Embedding, Flatten, Dense\n",
    "embedding_dim = 100\n",
    "model = Sequential()\n",
    "model.add(Embedding(max_words, embedding_dim, input_length=maxlen))\n",
    "model.add(Flatten())\n",
    "model.add(Dense(32, activation='relu'))\n",
    "model.add(Dense(1, activation='sigmoid'))\n",
    "model.summary()\n",
    "# Compile and fit the model\n",
    "model.compile(optimizer='rmsprop',\n",
    "              loss='binary_crossentropy',\n",
    "              metrics=['acc'])\n",
    "history = model.fit(x_train, y_train,\n",
    "                    epochs=10,\n",
    "                    batch_size=32,\n",
    "validation_data=(x_test, y_test))"
   ]
  },
  {
   "cell_type": "markdown",
   "metadata": {},
   "source": [
    "Evaluate the model on test data"
   ]
  },
  {
   "cell_type": "code",
   "execution_count": 36,
   "metadata": {
    "tags": []
   },
   "outputs": [],
   "source": [
    "# Tokenize the data of test set\n",
    "test_dir = os.path.join(imdb_dir, 'test')\n",
    "\n",
    "labels = []\n",
    "texts = []\n",
    "\n",
    "for label_type in ['neg', 'pos']:\n",
    "    dir_name = os.path.join(test_dir, label_type)\n",
    "    for fname in sorted(os.listdir(dir_name)):\n",
    "        if fname[-4:] == '.txt':\n",
    "            f = open(os.path.join(dir_name, fname))\n",
    "            texts.append(f.read())\n",
    "            f.close()\n",
    "            if label_type == 'neg':\n",
    "                labels.append(0)\n",
    "            else:\n",
    "                labels.append(1)\n",
    "\n",
    "sequences = tokenizer.texts_to_sequences(texts)\n",
    "x_test = pad_sequences(sequences, maxlen=maxlen)\n",
    "y_test = np.asarray(labels)"
   ]
  },
  {
   "cell_type": "markdown",
   "metadata": {},
   "source": [
    "Plot the model's performance over time:"
   ]
  },
  {
   "cell_type": "code",
   "execution_count": 38,
   "metadata": {
    "tags": []
   },
   "outputs": [
    {
     "data": {
      "image/png": "[encoded data removed]",
      "text/plain": [
       "<Figure size 640x480 with 1 Axes>"
      ]
     },
     "metadata": {},
     "output_type": "display_data"
    },
    {
     "data": {
      "image/png": "[encoded data removed]",
      "text/plain": [
       "<Figure size 640x480 with 1 Axes>"
      ]
     },
     "metadata": {},
     "output_type": "display_data"
    }
   ],
   "source": [
    "# Plotting the results with matplotlib\n",
    "import matplotlib.pyplot as plt\n",
    "\n",
    "accu = history.history['acc']\n",
    "test_accu = history.history['val_acc']\n",
    "loss = history.history['loss']\n",
    "test_loss = history.history['val_loss']\n",
    "\n",
    "epochs = range(1, len(acc) + 1)\n",
    "\n",
    "plt.plot(epochs, accu, 'bo', label='Training accuracy')\n",
    "plt.plot(epochs, test_accu, 'b', label='Test accuracy')\n",
    "plt.title('Training & Test accuracy')\n",
    "plt.legend()\n",
    "\n",
    "plt.figure()\n",
    "\n",
    "plt.plot(epochs, loss, 'bo', label='Training loss')\n",
    "plt.plot(epochs, test_loss, 'b', label='Test loss')\n",
    "plt.title('Training & Test loss')\n",
    "plt.legend()\n",
    "plt.show()"
   ]
  },
  {
   "cell_type": "markdown",
   "metadata": {},
   "source": [
    "Evaluate the model"
   ]
  },
  {
   "cell_type": "code",
   "execution_count": 39,
   "metadata": {
    "tags": []
   },
   "outputs": [
    {
     "name": "stdout",
     "output_type": "stream",
     "text": [
      "782/782 [==============================] - 2s 3ms/step - loss: 0.7923 - acc: 0.5124\n",
      "Model Loss:     0.792\n",
      "Model Accuracy: 51.2%\n"
     ]
    }
   ],
   "source": [
    "# Evaluate the model on the test set\n",
    "eval = model.evaluate(x_test, y_test)\n",
    "print(f\"Model Loss:     {eval[0]:.3f}\")\n",
    "print(f\"Model Accuracy: {eval[1]*100:.1f}%\")"
   ]
  },
  {
   "cell_type": "markdown",
   "metadata": {},
   "source": [
    "#### Assignment 10.3\n",
    "\n",
    "Using listing 6.27 in Deep Learning with Python as a guide, fit the same data with an LSTM layer. Produce the model performance metrics and training and validation accuracy curves within the Jupyter notebook."
   ]
  },
  {
   "cell_type": "code",
   "execution_count": 40,
   "metadata": {
    "tags": []
   },
   "outputs": [
    {
     "name": "stdout",
     "output_type": "stream",
     "text": [
      "Epoch 1/10\n"
     ]
    },
    {
     "name": "stderr",
     "output_type": "stream",
     "text": [
      "2023-05-21 15:47:44.103271: I tensorflow/core/common_runtime/executor.cc:1197] [/device:CPU:0] (DEBUG INFO) Executor start aborting (this does not indicate an error and you can ignore this message): INVALID_ARGUMENT: You must feed a value for placeholder tensor 'gradients/split_2_grad/concat/split_2/split_dim' with dtype int32\n",
      "\t [[{{node gradients/split_2_grad/concat/split_2/split_dim}}]]\n",
      "2023-05-21 15:47:44.105712: I tensorflow/core/common_runtime/executor.cc:1197] [/device:CPU:0] (DEBUG INFO) Executor start aborting (this does not indicate an error and you can ignore this message): INVALID_ARGUMENT: You must feed a value for placeholder tensor 'gradients/split_grad/concat/split/split_dim' with dtype int32\n",
      "\t [[{{node gradients/split_grad/concat/split/split_dim}}]]\n",
      "2023-05-21 15:47:44.107358: I tensorflow/core/common_runtime/executor.cc:1197] [/device:CPU:0] (DEBUG INFO) Executor start aborting (this does not indicate an error and you can ignore this message): INVALID_ARGUMENT: You must feed a value for placeholder tensor 'gradients/split_1_grad/concat/split_1/split_dim' with dtype int32\n",
      "\t [[{{node gradients/split_1_grad/concat/split_1/split_dim}}]]\n",
      "2023-05-21 15:47:44.518498: I tensorflow/core/common_runtime/executor.cc:1197] [/device:CPU:0] (DEBUG INFO) Executor start aborting (this does not indicate an error and you can ignore this message): INVALID_ARGUMENT: You must feed a value for placeholder tensor 'gradients/split_2_grad/concat/split_2/split_dim' with dtype int32\n",
      "\t [[{{node gradients/split_2_grad/concat/split_2/split_dim}}]]\n",
      "2023-05-21 15:47:44.520943: I tensorflow/core/common_runtime/executor.cc:1197] [/device:CPU:0] (DEBUG INFO) Executor start aborting (this does not indicate an error and you can ignore this message): INVALID_ARGUMENT: You must feed a value for placeholder tensor 'gradients/split_grad/concat/split/split_dim' with dtype int32\n",
      "\t [[{{node gradients/split_grad/concat/split/split_dim}}]]\n",
      "2023-05-21 15:47:44.522764: I tensorflow/core/common_runtime/executor.cc:1197] [/device:CPU:0] (DEBUG INFO) Executor start aborting (this does not indicate an error and you can ignore this message): INVALID_ARGUMENT: You must feed a value for placeholder tensor 'gradients/split_1_grad/concat/split_1/split_dim' with dtype int32\n",
      "\t [[{{node gradients/split_1_grad/concat/split_1/split_dim}}]]\n",
      "2023-05-21 15:47:45.399947: I tensorflow/core/common_runtime/executor.cc:1197] [/device:CPU:0] (DEBUG INFO) Executor start aborting (this does not indicate an error and you can ignore this message): INVALID_ARGUMENT: You must feed a value for placeholder tensor 'gradients/split_2_grad/concat/split_2/split_dim' with dtype int32\n",
      "\t [[{{node gradients/split_2_grad/concat/split_2/split_dim}}]]\n",
      "2023-05-21 15:47:45.402517: I tensorflow/core/common_runtime/executor.cc:1197] [/device:CPU:0] (DEBUG INFO) Executor start aborting (this does not indicate an error and you can ignore this message): INVALID_ARGUMENT: You must feed a value for placeholder tensor 'gradients/split_grad/concat/split/split_dim' with dtype int32\n",
      "\t [[{{node gradients/split_grad/concat/split/split_dim}}]]\n",
      "2023-05-21 15:47:45.404297: I tensorflow/core/common_runtime/executor.cc:1197] [/device:CPU:0] (DEBUG INFO) Executor start aborting (this does not indicate an error and you can ignore this message): INVALID_ARGUMENT: You must feed a value for placeholder tensor 'gradients/split_1_grad/concat/split_1/split_dim' with dtype int32\n",
      "\t [[{{node gradients/split_1_grad/concat/split_1/split_dim}}]]\n"
     ]
    },
    {
     "name": "stdout",
     "output_type": "stream",
     "text": [
      "2/2 [==============================] - ETA: 0s - loss: 0.6930 - acc: 0.5312"
     ]
    },
    {
     "name": "stderr",
     "output_type": "stream",
     "text": [
      "2023-05-21 15:47:47.539094: I tensorflow/core/common_runtime/executor.cc:1197] [/device:CPU:0] (DEBUG INFO) Executor start aborting (this does not indicate an error and you can ignore this message): INVALID_ARGUMENT: You must feed a value for placeholder tensor 'gradients/split_2_grad/concat/split_2/split_dim' with dtype int32\n",
      "\t [[{{node gradients/split_2_grad/concat/split_2/split_dim}}]]\n",
      "2023-05-21 15:47:47.541973: I tensorflow/core/common_runtime/executor.cc:1197] [/device:CPU:0] (DEBUG INFO) Executor start aborting (this does not indicate an error and you can ignore this message): INVALID_ARGUMENT: You must feed a value for placeholder tensor 'gradients/split_grad/concat/split/split_dim' with dtype int32\n",
      "\t [[{{node gradients/split_grad/concat/split/split_dim}}]]\n",
      "2023-05-21 15:47:47.543692: I tensorflow/core/common_runtime/executor.cc:1197] [/device:CPU:0] (DEBUG INFO) Executor start aborting (this does not indicate an error and you can ignore this message): INVALID_ARGUMENT: You must feed a value for placeholder tensor 'gradients/split_1_grad/concat/split_1/split_dim' with dtype int32\n",
      "\t [[{{node gradients/split_1_grad/concat/split_1/split_dim}}]]\n"
     ]
    },
    {
     "name": "stdout",
     "output_type": "stream",
     "text": [
      "2/2 [==============================] - 4s 831ms/step - loss: 0.6930 - acc: 0.5312 - val_loss: 0.6904 - val_acc: 0.6000\n",
      "Epoch 2/10\n",
      "2/2 [==============================] - 0s 155ms/step - loss: 0.6890 - acc: 0.5688 - val_loss: 0.6868 - val_acc: 0.6000\n",
      "Epoch 3/10\n",
      "2/2 [==============================] - 0s 163ms/step - loss: 0.6853 - acc: 0.5750 - val_loss: 0.6859 - val_acc: 0.6000\n",
      "Epoch 4/10\n",
      "2/2 [==============================] - 0s 210ms/step - loss: 0.6828 - acc: 0.5750 - val_loss: 0.6842 - val_acc: 0.6000\n",
      "Epoch 5/10\n",
      "2/2 [==============================] - 0s 152ms/step - loss: 0.6798 - acc: 0.5750 - val_loss: 0.6832 - val_acc: 0.6000\n",
      "Epoch 6/10\n",
      "2/2 [==============================] - 0s 203ms/step - loss: 0.6765 - acc: 0.5750 - val_loss: 0.6800 - val_acc: 0.6000\n",
      "Epoch 7/10\n",
      "2/2 [==============================] - 0s 162ms/step - loss: 0.6717 - acc: 0.5750 - val_loss: 0.6790 - val_acc: 0.6000\n",
      "Epoch 8/10\n",
      "2/2 [==============================] - 0s 156ms/step - loss: 0.6688 - acc: 0.5750 - val_loss: 0.6799 - val_acc: 0.6000\n",
      "Epoch 9/10\n",
      "2/2 [==============================] - 0s 170ms/step - loss: 0.6646 - acc: 0.5750 - val_loss: 0.6772 - val_acc: 0.6000\n",
      "Epoch 10/10\n",
      "2/2 [==============================] - 0s 149ms/step - loss: 0.6586 - acc: 0.5750 - val_loss: 0.6773 - val_acc: 0.6000\n"
     ]
    }
   ],
   "source": [
    "# LSTM layer in Keras\n",
    "from keras.layers import LSTM\n",
    "\n",
    "max_features = 10000 \n",
    "\n",
    "model = Sequential()\n",
    "model.add(Embedding(max_features, 32))\n",
    "model.add(LSTM(32))\n",
    "model.add(Dense(1, activation='sigmoid'))\n",
    "\n",
    "model.compile(optimizer='rmsprop',\n",
    "              loss='binary_crossentropy',\n",
    "              metrics=['acc'])\n",
    "history = model.fit(x_train, y_train,\n",
    "                    epochs=10,\n",
    "                    batch_size=128,\n",
    "                    validation_split=0.2)"
   ]
  },
  {
   "cell_type": "code",
   "execution_count": 41,
   "metadata": {
    "tags": []
   },
   "outputs": [
    {
     "data": {
      "image/png": "[encoded data removed]",
      "text/plain": [
       "<Figure size 640x480 with 1 Axes>"
      ]
     },
     "metadata": {},
     "output_type": "display_data"
    },
    {
     "data": {
      "image/png": "[encoded data removed]",
      "text/plain": [
       "<Figure size 640x480 with 1 Axes>"
      ]
     },
     "metadata": {},
     "output_type": "display_data"
    }
   ],
   "source": [
    "# Plot the results\n",
    "import matplotlib.pyplot as plt\n",
    "\n",
    "accu = history.history['acc']\n",
    "test_accu = history.history['val_acc']\n",
    "loss = history.history['loss']\n",
    "test_loss = history.history['val_loss']\n",
    "\n",
    "epochs = range(1, len(acc) + 1)\n",
    "\n",
    "plt.plot(epochs, accu, 'bo', label='Training accuracy')\n",
    "plt.plot(epochs, test_accu, 'b', label='Test accuracy')\n",
    "plt.title('Training and Test accuracy')\n",
    "plt.legend()\n",
    "\n",
    "plt.figure()\n",
    "\n",
    "plt.plot(epochs, loss, 'bo', label='Training loss')\n",
    "plt.plot(epochs, test_loss, 'b', label='Test loss')\n",
    "plt.title('Training and Test loss')\n",
    "plt.legend()\n",
    "\n",
    "plt.show()"
   ]
  },
  {
   "cell_type": "code",
   "execution_count": 42,
   "metadata": {
    "tags": []
   },
   "outputs": [
    {
     "name": "stdout",
     "output_type": "stream",
     "text": [
      "782/782 [==============================] - 19s 25ms/step - loss: 0.6956 - acc: 0.5000\n",
      "Model Loss:     0.696\n",
      "Model Accuracy: 50.0%\n"
     ]
    }
   ],
   "source": [
    "# Evaluate the model on the test set\n",
    "eval = model.evaluate(x_test, y_test)\n",
    "print(f\"Model Loss:     {eval[0]:.3f}\")\n",
    "print(f\"Model Accuracy: {eval[1]*100:.1f}%\")"
   ]
  },
  {
   "cell_type": "markdown",
   "metadata": {},
   "source": [
    "#### Assignment 10.4\n",
    "\n",
    "Using listing 6.46 in Deep Learning with Python as a guide, fit the same data with a simple 1D convnet. Produce the model performance metrics and training and validation accuracy curves within the Jupyter notebook."
   ]
  },
  {
   "cell_type": "code",
   "execution_count": 43,
   "metadata": {
    "tags": []
   },
   "outputs": [
    {
     "name": "stdout",
     "output_type": "stream",
     "text": [
      "Model: \"sequential_7\"\n",
      "_________________________________________________________________\n",
      " Layer (type)                Output Shape              Param #   \n",
      "=================================================================\n",
      " embedding_7 (Embedding)     (None, 100, 128)          1280000   \n",
      "                                                                 \n",
      " conv1d_2 (Conv1D)           (None, 94, 32)            28704     \n",
      "                                                                 \n",
      " max_pooling1d_1 (MaxPooling  (None, 18, 32)           0         \n",
      " 1D)                                                             \n",
      "                                                                 \n",
      " conv1d_3 (Conv1D)           (None, 12, 32)            7200      \n",
      "                                                                 \n",
      " global_max_pooling1d_1 (Glo  (None, 32)               0         \n",
      " balMaxPooling1D)                                                \n",
      "                                                                 \n",
      " dense_11 (Dense)            (None, 1)                 33        \n",
      "                                                                 \n",
      "=================================================================\n",
      "Total params: 1,315,937\n",
      "Trainable params: 1,315,937\n",
      "Non-trainable params: 0\n",
      "_________________________________________________________________\n"
     ]
    },
    {
     "name": "stderr",
     "output_type": "stream",
     "text": [
      "WARNING:absl:`lr` is deprecated in Keras optimizer, please use `learning_rate` or use the legacy optimizer, e.g.,tf.keras.optimizers.legacy.RMSprop.\n"
     ]
    },
    {
     "name": "stdout",
     "output_type": "stream",
     "text": [
      "Epoch 1/10\n",
      "2/2 [==============================] - 1s 288ms/step - loss: 1.5926 - acc: 0.4250 - val_loss: 0.8142 - val_acc: 0.4000\n",
      "Epoch 2/10\n",
      "2/2 [==============================] - 0s 65ms/step - loss: 0.6565 - acc: 0.4375 - val_loss: 0.7437 - val_acc: 0.4000\n",
      "Epoch 3/10\n",
      "2/2 [==============================] - 0s 68ms/step - loss: 0.5502 - acc: 0.9062 - val_loss: 0.7011 - val_acc: 0.3500\n",
      "Epoch 4/10\n",
      "2/2 [==============================] - 0s 80ms/step - loss: 0.4814 - acc: 1.0000 - val_loss: 0.6964 - val_acc: 0.4000\n",
      "Epoch 5/10\n",
      "2/2 [==============================] - 0s 57ms/step - loss: 0.4356 - acc: 1.0000 - val_loss: 0.6833 - val_acc: 0.6750\n",
      "Epoch 6/10\n",
      "2/2 [==============================] - 0s 55ms/step - loss: 0.3946 - acc: 1.0000 - val_loss: 0.6818 - val_acc: 0.6750\n",
      "Epoch 7/10\n",
      "2/2 [==============================] - 0s 67ms/step - loss: 0.3575 - acc: 1.0000 - val_loss: 0.6704 - val_acc: 0.6250\n",
      "Epoch 8/10\n",
      "2/2 [==============================] - 0s 62ms/step - loss: 0.3207 - acc: 1.0000 - val_loss: 0.6679 - val_acc: 0.6000\n",
      "Epoch 9/10\n",
      "2/2 [==============================] - 0s 68ms/step - loss: 0.2885 - acc: 1.0000 - val_loss: 0.6658 - val_acc: 0.6000\n",
      "Epoch 10/10\n",
      "2/2 [==============================] - 0s 58ms/step - loss: 0.2564 - acc: 1.0000 - val_loss: 0.6714 - val_acc: 0.6250\n"
     ]
    }
   ],
   "source": [
    "# Train and evaluate a simple 1D convnet on  IMDB dataset\n",
    "from keras.models import Sequential\n",
    "from keras import layers\n",
    "from tensorflow.keras.optimizers import RMSprop\n",
    "\n",
    "max_len = 100 # to match dimensions\n",
    "model = Sequential()\n",
    "model.add(layers.Embedding(max_features, 128, input_length=max_len))\n",
    "model.add(layers.Conv1D(32, 7, activation='relu'))\n",
    "model.add(layers.MaxPooling1D(5))\n",
    "model.add(layers.Conv1D(32, 7, activation='relu'))\n",
    "model.add(layers.GlobalMaxPooling1D())\n",
    "model.add(layers.Dense(1))\n",
    "model.summary()\n",
    "model.compile(optimizer=RMSprop(lr=1e-4),\n",
    "              loss='binary_crossentropy',\n",
    "              metrics=['acc'])\n",
    "history = model.fit(x_train, y_train,\n",
    "                    epochs=10,\n",
    "                    batch_size=128,\n",
    "                    validation_split=0.2)"
   ]
  },
  {
   "cell_type": "code",
   "execution_count": 44,
   "metadata": {
    "tags": []
   },
   "outputs": [
    {
     "data": {
      "image/png": "[encoded data removed]",
      "text/plain": [
       "<Figure size 640x480 with 1 Axes>"
      ]
     },
     "metadata": {},
     "output_type": "display_data"
    },
    {
     "data": {
      "image/png": "[encoded data removed]",
      "text/plain": [
       "<Figure size 640x480 with 1 Axes>"
      ]
     },
     "metadata": {},
     "output_type": "display_data"
    }
   ],
   "source": [
    "# Plot the results\n",
    "import matplotlib.pyplot as plt\n",
    "\n",
    "accu = history.history['acc']\n",
    "test_acc = history.history['val_acc']\n",
    "loss = history.history['loss']\n",
    "test_loss = history.history['val_loss']\n",
    "epochs = range(1, len(acc) + 1)\n",
    "plt.plot(epochs, accu, 'bo', label='Training accuracy')\n",
    "plt.plot(epochs, test_accu, 'b', label='Test accuracy')\n",
    "plt.title('Training and Test accuracy')\n",
    "plt.legend()\n",
    "plt.figure()\n",
    "\n",
    "plt.plot(epochs, loss, 'bo', label='Training loss')\n",
    "plt.plot(epochs, test_loss, 'b', label='Test loss')\n",
    "plt.title('Training and Test loss')\n",
    "plt.legend()\n",
    "plt.show()"
   ]
  },
  {
   "cell_type": "code",
   "execution_count": 45,
   "metadata": {
    "tags": []
   },
   "outputs": [
    {
     "name": "stdout",
     "output_type": "stream",
     "text": [
      "782/782 [==============================] - 3s 4ms/step - loss: 0.6923 - acc: 0.5140\n",
      "Model Loss:     0.692\n",
      "Model Accuracy: 51.4%\n"
     ]
    }
   ],
   "source": [
    "# Evaluate model on the test set\n",
    "eval = model.evaluate(x_test, y_test)\n",
    "print(f\"Model Loss:     {eval[0]:.3f}\")\n",
    "print(f\"Model Accuracy: {eval[1]*100:.1f}%\")"
   ]
  },
  {
   "cell_type": "code",
   "execution_count": null,
   "metadata": {},
   "outputs": [],
   "source": []
  }
 ],
 "metadata": {
  "kernelspec": {
   "display_name": "Python 3 (ipykernel)",
   "language": "python",
   "name": "python3"
  },
  "language_info": {
   "codemirror_mode": {
    "name": "ipython",
    "version": 3
   },
   "file_extension": ".py",
   "mimetype": "text/x-python",
   "name": "python",
   "nbconvert_exporter": "python",
   "pygments_lexer": "ipython3",
   "version": "3.10.10"
  }
 },
 "nbformat": 4,
 "nbformat_minor": 4
}
