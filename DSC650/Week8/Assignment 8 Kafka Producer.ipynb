{
 "cells": [
  {
   "cell_type": "markdown",
   "metadata": {},
   "source": [
    "## Assignment 08 - Kafka Producer\n",
    "\n",
    "<br>Author: Anjani Bonda\n",
    "<br>Date: 5/6/2023"
   ]
  },
  {
   "cell_type": "code",
   "execution_count": 19,
   "metadata": {
    "tags": []
   },
   "outputs": [],
   "source": [
    "# Load necessary modules/libraries.\n",
    "\n",
    "import json\n",
    "import uuid\n",
    "import pandas as pd\n",
    "\n",
    "from kafka import KafkaProducer, KafkaAdminClient\n",
    "from kafka.admin.new_topic import NewTopic\n",
    "from kafka.errors import TopicAlreadyExistsError"
   ]
  },
  {
   "cell_type": "markdown",
   "metadata": {},
   "source": [
    "### Configuration Parameters\n",
    "#### Updated with appropriate values "
   ]
  },
  {
   "cell_type": "code",
   "execution_count": 20,
   "metadata": {
    "tags": []
   },
   "outputs": [
    {
     "data": {
      "text/plain": [
       "{'bootstrap_servers': ['kafka.kafka.svc.cluster.local:9092'],\n",
       " 'first_name': 'Anjani',\n",
       " 'last_name': 'Bonda',\n",
       " 'client_id': 'BondaAnjani',\n",
       " 'topic_prefix': 'BondaAnjani'}"
      ]
     },
     "execution_count": 20,
     "metadata": {},
     "output_type": "execute_result"
    }
   ],
   "source": [
    "config = dict(\n",
    "    bootstrap_servers=['kafka.kafka.svc.cluster.local:9092'],\n",
    "    first_name='Anjani',\n",
    "    last_name='Bonda'\n",
    ")\n",
    "\n",
    "config['client_id'] = '{}{}'.format(\n",
    "    config['last_name'], \n",
    "    config['first_name']\n",
    ")\n",
    "config['topic_prefix'] = '{}{}'.format(\n",
    "    config['last_name'], \n",
    "    config['first_name']\n",
    ")\n",
    "\n",
    "config"
   ]
  },
  {
   "cell_type": "markdown",
   "metadata": {},
   "source": [
    "### Create Topic Utility Function"
   ]
  },
  {
   "cell_type": "code",
   "execution_count": 21,
   "metadata": {
    "tags": []
   },
   "outputs": [
    {
     "name": "stdout",
     "output_type": "stream",
     "text": [
      "Topic \"BondaAnjani-locations\" already exists\n"
     ]
    }
   ],
   "source": [
    "def create_kafka_topic(topic_name, config=config, num_partitions=1, replication_factor=1):\n",
    "    bootstrap_servers = config['bootstrap_servers']\n",
    "    client_id = config['client_id']\n",
    "    topic_prefix = config['topic_prefix']\n",
    "    name = '{}-{}'.format(topic_prefix, topic_name)\n",
    "    \n",
    "    admin_client = KafkaAdminClient(\n",
    "        bootstrap_servers=bootstrap_servers, \n",
    "        client_id=client_id\n",
    "    )\n",
    "    \n",
    "    topic = NewTopic(\n",
    "        name=name,\n",
    "        num_partitions=num_partitions,\n",
    "        replication_factor=replication_factor\n",
    "    )\n",
    "\n",
    "    topic_list = [topic]\n",
    "    try:\n",
    "        admin_client.create_topics(new_topics=topic_list)\n",
    "        print('Created topic \"{}\"'.format(name))\n",
    "    except TopicAlreadyExistsError as e:\n",
    "        print('Topic \"{}\" already exists'.format(name))\n",
    "    \n",
    "# Create topic for locations.\n",
    "create_kafka_topic('locations')"
   ]
  },
  {
   "cell_type": "code",
   "execution_count": 22,
   "metadata": {
    "tags": []
   },
   "outputs": [
    {
     "name": "stdout",
     "output_type": "stream",
     "text": [
      "Topic \"BondaAnjani-accelerations\" already exists\n"
     ]
    }
   ],
   "source": [
    "# Create topic for accelerations.\n",
    "create_kafka_topic('accelerations')"
   ]
  },
  {
   "cell_type": "markdown",
   "metadata": {},
   "source": [
    "#### Kafka Producer\n",
    "\n",
    "The following code creates a `KafkaProducer` object which you can use to send Python objects that are serialized as JSON.\n",
    "\n",
    "**Note:** This producer serializes Python objects as JSON. This means that object must be JSON serializable.  As an example, Python `DateTime` values are not JSON serializable and must be converted to a string (e.g. ISO 8601) or a numeric value (e.g. a Unix timestamp) before being sent."
   ]
  },
  {
   "cell_type": "code",
   "execution_count": 23,
   "metadata": {
    "tags": []
   },
   "outputs": [],
   "source": [
    "producer = KafkaProducer(\n",
    "  bootstrap_servers=config['bootstrap_servers'],\n",
    "  value_serializer=lambda x: json.dumps(x).encode('utf-8')\n",
    ")"
   ]
  },
  {
   "cell_type": "markdown",
   "metadata": {},
   "source": [
    "#### Send Data Function\n",
    "\n",
    "The `send_data` function sends a Python object to a Kafka topic. This function adds the `topic_prefix` to the topic so `send_data('locations', data)` sends a JSON serialized message to `DoeJohn-locations`. The function also registers callbacks to let you know if the message has been sent or if an error has occured. "
   ]
  },
  {
   "cell_type": "code",
   "execution_count": 24,
   "metadata": {
    "tags": []
   },
   "outputs": [],
   "source": [
    "def on_send_success(record_metadata):\n",
    "    print('Message sent:\\n    Topic: \"{}\"\\n    Partition: {}\\n    Offset: {}'.format(\n",
    "        record_metadata.topic,\n",
    "        record_metadata.partition,\n",
    "        record_metadata.offset\n",
    "    ))\n",
    "    \n",
    "def on_send_error(excp):\n",
    "    print('I am an errback', exc_info=excp)\n",
    "    \n",
    "    \n",
    "def send_data(topic, data, config=config, producer=producer, msg_key=None):\n",
    "    topic_prefix = config['topic_prefix']\n",
    "    topic_name = '{}-{}'.format(topic_prefix, topic)\n",
    "    \n",
    "    if msg_key is not None:\n",
    "        key = msg_key\n",
    "    else:\n",
    "        key = uuid.uuid4().hex\n",
    "    \n",
    "    producer.send(\n",
    "        topic_name, \n",
    "        value=data,\n",
    "        key=key.encode('utf-8')\n",
    "    ).add_callback(on_send_success).add_errback(on_send_error)"
   ]
  },
  {
   "cell_type": "code",
   "execution_count": 25,
   "metadata": {
    "tags": []
   },
   "outputs": [],
   "source": [
    "# Load 'locations'data.\n",
    "locations_data_dir = '/home/jovyan/dsc650/data/processed/bdd/locations'\n",
    "locations_df = pd.read_parquet(locations_data_dir)"
   ]
  },
  {
   "cell_type": "code",
   "execution_count": 26,
   "metadata": {
    "tags": []
   },
   "outputs": [
    {
     "name": "stdout",
     "output_type": "stream",
     "text": [
      "<class 'pandas.core.frame.DataFrame'>\n",
      "RangeIndex: 478 entries, 0 to 477\n",
      "Data columns (total 14 columns):\n",
      " #   Column     Non-Null Count  Dtype         \n",
      "---  ------     --------------  -----         \n",
      " 0   id         327 non-null    object        \n",
      " 1   ride_id    478 non-null    object        \n",
      " 2   uuid       478 non-null    object        \n",
      " 3   timestamp  478 non-null    datetime64[ns]\n",
      " 4   offset     478 non-null    float64       \n",
      " 5   course     478 non-null    float64       \n",
      " 6   latitude   478 non-null    float64       \n",
      " 7   longitude  478 non-null    float64       \n",
      " 8   geohash    478 non-null    object        \n",
      " 9   speed      478 non-null    float64       \n",
      " 10  accuracy   478 non-null    float64       \n",
      " 11  timelapse  478 non-null    bool          \n",
      " 12  filename   478 non-null    object        \n",
      " 13  t          478 non-null    category      \n",
      "dtypes: bool(1), category(1), datetime64[ns](1), float64(6), object(5)\n",
      "memory usage: 47.2+ KB\n"
     ]
    }
   ],
   "source": [
    "# Check columns and datatypes for locations_df since few datatypes are not json serializable\n",
    "locations_df.info()"
   ]
  },
  {
   "cell_type": "code",
   "execution_count": 27,
   "metadata": {
    "tags": []
   },
   "outputs": [
    {
     "name": "stderr",
     "output_type": "stream",
     "text": [
      "/tmp/ipykernel_281/1817710994.py:3: UserWarning: DataFrame columns are not unique, some columns will be omitted.\n",
      "  data_dict = locations_df.set_index('t').transpose().to_dict()\n"
     ]
    }
   ],
   "source": [
    "# Change datatype timestamp to string and dataframe to dictionary for sending data to topic.\n",
    "locations_df['timestamp'] = locations_df['timestamp'].astype('str')\n",
    "data_dict = locations_df.set_index('t').transpose().to_dict() "
   ]
  },
  {
   "cell_type": "code",
   "execution_count": 28,
   "metadata": {
    "tags": []
   },
   "outputs": [
    {
     "name": "stdout",
     "output_type": "stream",
     "text": [
      "Message sent:\n",
      "    Topic: \"BondaAnjani-locations\"\n",
      "    Partition: 0\n",
      "    Offset: 34\n",
      "Message sent:\n",
      "    Topic: \"BondaAnjani-locations\"\n",
      "    Partition: 0\n",
      "    Offset: 35\n",
      "Message sent:\n",
      "    Topic: \"BondaAnjani-locations\"\n",
      "    Partition: 0\n",
      "    Offset: 36\n",
      "Message sent:\n",
      "    Topic: \"BondaAnjani-locations\"\n",
      "    Partition: 0\n",
      "    Offset: 37\n",
      "Message sent:\n",
      "    Topic: \"BondaAnjani-locations\"\n",
      "    Partition: 0\n",
      "    Offset: 38\n",
      "Message sent:\n",
      "    Topic: \"BondaAnjani-locations\"\n",
      "    Partition: 0\n",
      "    Offset: 39\n",
      "Message sent:\n",
      "    Topic: \"BondaAnjani-locations\"\n",
      "    Partition: 0\n",
      "    Offset: 40\n",
      "Message sent:\n",
      "    Topic: \"BondaAnjani-locations\"\n",
      "    Partition: 0\n",
      "    Offset: 41\n",
      "Message sent:\n",
      "    Topic: \"BondaAnjani-locations\"\n",
      "    Partition: 0\n",
      "    Offset: 42\n",
      "Message sent:\n",
      "    Topic: \"BondaAnjani-locations\"\n",
      "    Partition: 0\n",
      "    Offset: 43\n",
      "Message sent:\n",
      "    Topic: \"BondaAnjani-locations\"\n",
      "    Partition: 0\n",
      "    Offset: 44\n",
      "Message sent:\n",
      "    Topic: \"BondaAnjani-locations\"\n",
      "    Partition: 0\n",
      "    Offset: 45\n",
      "Message sent:\n",
      "    Topic: \"BondaAnjani-locations\"\n",
      "    Partition: 0\n",
      "    Offset: 46\n",
      "Message sent:\n",
      "    Topic: \"BondaAnjani-locations\"\n",
      "    Partition: 0\n",
      "    Offset: 47\n",
      "Message sent:\n",
      "    Topic: \"BondaAnjani-locations\"\n",
      "    Partition: 0\n",
      "    Offset: 48\n",
      "Message sent:\n",
      "    Topic: \"BondaAnjani-locations\"\n",
      "    Partition: 0\n",
      "    Offset: 49\n",
      "Message sent:\n",
      "    Topic: \"BondaAnjani-locations\"\n",
      "    Partition: 0\n",
      "    Offset: 50\n",
      "Message sent:\n",
      "    Topic: \"BondaAnjani-locations\"\n",
      "    Partition: 0\n",
      "    Offset: 51\n",
      "Message sent:\n",
      "    Topic: \"BondaAnjani-locations\"\n",
      "    Partition: 0\n",
      "    Offset: 52\n",
      "Message sent:\n",
      "    Topic: \"BondaAnjani-locations\"\n",
      "    Partition: 0\n",
      "    Offset: 53\n",
      "Message sent:\n",
      "    Topic: \"BondaAnjani-locations\"\n",
      "    Partition: 0\n",
      "    Offset: 54\n",
      "Message sent:\n",
      "    Topic: \"BondaAnjani-locations\"\n",
      "    Partition: 0\n",
      "    Offset: 55\n",
      "Message sent:\n",
      "    Topic: \"BondaAnjani-locations\"\n",
      "    Partition: 0\n",
      "    Offset: 56\n",
      "Message sent:\n",
      "    Topic: \"BondaAnjani-locations\"\n",
      "    Partition: 0\n",
      "    Offset: 57\n",
      "Message sent:\n",
      "    Topic: \"BondaAnjani-locations\"\n",
      "    Partition: 0\n",
      "    Offset: 58\n",
      "Message sent:\n",
      "    Topic: \"BondaAnjani-locations\"\n",
      "    Partition: 0\n",
      "    Offset: 59\n",
      "Message sent:\n",
      "    Topic: \"BondaAnjani-locations\"\n",
      "    Partition: 0\n",
      "    Offset: 60\n",
      "Message sent:\n",
      "    Topic: \"BondaAnjani-locations\"\n",
      "    Partition: 0\n",
      "    Offset: 61\n",
      "Message sent:\n",
      "    Topic: \"BondaAnjani-locations\"\n",
      "    Partition: 0\n",
      "    Offset: 62\n",
      "Message sent:\n",
      "    Topic: \"BondaAnjani-locations\"\n",
      "    Partition: 0\n",
      "    Offset: 63\n",
      "Message sent:\n",
      "    Topic: \"BondaAnjani-locations\"\n",
      "    Partition: 0\n",
      "    Offset: 64\n",
      "Message sent:\n",
      "    Topic: \"BondaAnjani-locations\"\n",
      "    Partition: 0\n",
      "    Offset: 65\n",
      "Message sent:\n",
      "    Topic: \"BondaAnjani-locations\"\n",
      "    Partition: 0\n",
      "    Offset: 66\n",
      "Message sent:\n",
      "    Topic: \"BondaAnjani-locations\"\n",
      "    Partition: 0\n",
      "    Offset: 67\n"
     ]
    }
   ],
   "source": [
    "for key,value in data_dict.items():\n",
    "    send_data(topic='locations', data=value, config=config, producer=producer, msg_key=key)"
   ]
  },
  {
   "cell_type": "code",
   "execution_count": 29,
   "metadata": {
    "tags": []
   },
   "outputs": [],
   "source": [
    "# Load 'accelerations' data.\n",
    "accelerations_data_dir = '/home/jovyan/dsc650/data/processed/bdd/accelerations'\n",
    "accelerations_df = pd.read_parquet(accelerations_data_dir)"
   ]
  },
  {
   "cell_type": "code",
   "execution_count": 30,
   "metadata": {
    "tags": []
   },
   "outputs": [
    {
     "name": "stdout",
     "output_type": "stream",
     "text": [
      "<class 'pandas.core.frame.DataFrame'>\n",
      "RangeIndex: 23512 entries, 0 to 23511\n",
      "Data columns (total 11 columns):\n",
      " #   Column     Non-Null Count  Dtype         \n",
      "---  ------     --------------  -----         \n",
      " 0   id         16056 non-null  object        \n",
      " 1   ride_id    23512 non-null  object        \n",
      " 2   uuid       23512 non-null  object        \n",
      " 3   timestamp  23512 non-null  datetime64[ns]\n",
      " 4   offset     23512 non-null  float64       \n",
      " 5   x          23512 non-null  float64       \n",
      " 6   y          23512 non-null  float64       \n",
      " 7   z          23512 non-null  float64       \n",
      " 8   timelapse  23512 non-null  bool          \n",
      " 9   filename   23512 non-null  object        \n",
      " 10  t          23512 non-null  category      \n",
      "dtypes: bool(1), category(1), datetime64[ns](1), float64(4), object(4)\n",
      "memory usage: 1.7+ MB\n"
     ]
    }
   ],
   "source": [
    "# Check columns and datatypes for accelerations_df as few datatypes are not json serializable.\n",
    "accelerations_df.info()"
   ]
  },
  {
   "cell_type": "code",
   "execution_count": 31,
   "metadata": {
    "tags": []
   },
   "outputs": [
    {
     "name": "stderr",
     "output_type": "stream",
     "text": [
      "/tmp/ipykernel_281/1633942791.py:3: UserWarning: DataFrame columns are not unique, some columns will be omitted.\n",
      "  data_dict = accelerations_df.set_index('t').transpose().to_dict()\n"
     ]
    }
   ],
   "source": [
    "# Change datatype timestamp to string and dataframe to dictionary for sending data to topic.\n",
    "accelerations_df['timestamp'] = accelerations_df['timestamp'].astype('str')\n",
    "data_dict = accelerations_df.set_index('t').transpose().to_dict() "
   ]
  },
  {
   "cell_type": "code",
   "execution_count": 32,
   "metadata": {
    "tags": []
   },
   "outputs": [
    {
     "name": "stdout",
     "output_type": "stream",
     "text": [
      "Message sent:\n",
      "    Topic: \"BondaAnjani-accelerations\"\n",
      "    Partition: 0\n",
      "    Offset: 34\n",
      "Message sent:\n",
      "    Topic: \"BondaAnjani-accelerations\"\n",
      "    Partition: 0\n",
      "    Offset: 35\n",
      "Message sent:\n",
      "    Topic: \"BondaAnjani-accelerations\"\n",
      "    Partition: 0\n",
      "    Offset: 36\n",
      "Message sent:\n",
      "    Topic: \"BondaAnjani-accelerations\"\n",
      "    Partition: 0\n",
      "    Offset: 37\n",
      "Message sent:\n",
      "    Topic: \"BondaAnjani-accelerations\"\n",
      "    Partition: 0\n",
      "    Offset: 38\n",
      "Message sent:\n",
      "    Topic: \"BondaAnjani-accelerations\"\n",
      "    Partition: 0\n",
      "    Offset: 39\n",
      "Message sent:\n",
      "    Topic: \"BondaAnjani-accelerations\"\n",
      "    Partition: 0\n",
      "    Offset: 40\n",
      "Message sent:\n",
      "    Topic: \"BondaAnjani-accelerations\"\n",
      "    Partition: 0\n",
      "    Offset: 41\n",
      "Message sent:\n",
      "    Topic: \"BondaAnjani-accelerations\"\n",
      "    Partition: 0\n",
      "    Offset: 42\n",
      "Message sent:\n",
      "    Topic: \"BondaAnjani-accelerations\"\n",
      "    Partition: 0\n",
      "    Offset: 43\n",
      "Message sent:\n",
      "    Topic: \"BondaAnjani-accelerations\"\n",
      "    Partition: 0\n",
      "    Offset: 44\n",
      "Message sent:\n",
      "    Topic: \"BondaAnjani-accelerations\"\n",
      "    Partition: 0\n",
      "    Offset: 45\n",
      "Message sent:\n",
      "    Topic: \"BondaAnjani-accelerations\"\n",
      "    Partition: 0\n",
      "    Offset: 46\n",
      "Message sent:\n",
      "    Topic: \"BondaAnjani-accelerations\"\n",
      "    Partition: 0\n",
      "    Offset: 47\n",
      "Message sent:\n",
      "    Topic: \"BondaAnjani-accelerations\"\n",
      "    Partition: 0\n",
      "    Offset: 48\n",
      "Message sent:\n",
      "    Topic: \"BondaAnjani-accelerations\"\n",
      "    Partition: 0\n",
      "    Offset: 49\n",
      "Message sent:\n",
      "    Topic: \"BondaAnjani-accelerations\"\n",
      "    Partition: 0\n",
      "    Offset: 50\n",
      "Message sent:\n",
      "    Topic: \"BondaAnjani-accelerations\"\n",
      "    Partition: 0\n",
      "    Offset: 51\n",
      "Message sent:\n",
      "    Topic: \"BondaAnjani-accelerations\"\n",
      "    Partition: 0\n",
      "    Offset: 52\n",
      "Message sent:\n",
      "    Topic: \"BondaAnjani-accelerations\"\n",
      "    Partition: 0\n",
      "    Offset: 53\n",
      "Message sent:\n",
      "    Topic: \"BondaAnjani-accelerations\"\n",
      "    Partition: 0\n",
      "    Offset: 54\n",
      "Message sent:\n",
      "    Topic: \"BondaAnjani-accelerations\"\n",
      "    Partition: 0\n",
      "    Offset: 55\n",
      "Message sent:\n",
      "    Topic: \"BondaAnjani-accelerations\"\n",
      "    Partition: 0\n",
      "    Offset: 56\n",
      "Message sent:\n",
      "    Topic: \"BondaAnjani-accelerations\"\n",
      "    Partition: 0\n",
      "    Offset: 57\n",
      "Message sent:\n",
      "    Topic: \"BondaAnjani-accelerations\"\n",
      "    Partition: 0\n",
      "    Offset: 58\n",
      "Message sent:\n",
      "    Topic: \"BondaAnjani-accelerations\"\n",
      "    Partition: 0\n",
      "    Offset: 59\n",
      "Message sent:\n",
      "    Topic: \"BondaAnjani-accelerations\"\n",
      "    Partition: 0\n",
      "    Offset: 60\n",
      "Message sent:\n",
      "    Topic: \"BondaAnjani-accelerations\"\n",
      "    Partition: 0\n",
      "    Offset: 61\n",
      "Message sent:\n",
      "    Topic: \"BondaAnjani-accelerations\"\n",
      "    Partition: 0\n",
      "    Offset: 62\n",
      "Message sent:\n",
      "    Topic: \"BondaAnjani-accelerations\"\n",
      "    Partition: 0\n",
      "    Offset: 63\n",
      "Message sent:\n",
      "    Topic: \"BondaAnjani-accelerations\"\n",
      "    Partition: 0\n",
      "    Offset: 64\n",
      "Message sent:\n",
      "    Topic: \"BondaAnjani-accelerations\"\n",
      "    Partition: 0\n",
      "    Offset: 65\n",
      "Message sent:\n",
      "    Topic: \"BondaAnjani-accelerations\"\n",
      "    Partition: 0\n",
      "    Offset: 66\n",
      "Message sent:\n",
      "    Topic: \"BondaAnjani-accelerations\"\n",
      "    Partition: 0\n",
      "    Offset: 67\n"
     ]
    }
   ],
   "source": [
    "for key,value in data_dict.items():\n",
    "    send_data(topic='accelerations', data=value, config=config, producer=producer, msg_key=key)"
   ]
  },
  {
   "cell_type": "code",
   "execution_count": null,
   "metadata": {},
   "outputs": [],
   "source": []
  }
 ],
 "metadata": {
  "kernelspec": {
   "display_name": "Python 3 (ipykernel)",
   "language": "python",
   "name": "python3"
  },
  "language_info": {
   "codemirror_mode": {
    "name": "ipython",
    "version": 3
   },
   "file_extension": ".py",
   "mimetype": "text/x-python",
   "name": "python",
   "nbconvert_exporter": "python",
   "pygments_lexer": "ipython3",
   "version": "3.10.10"
  }
 },
 "nbformat": 4,
 "nbformat_minor": 4
}
