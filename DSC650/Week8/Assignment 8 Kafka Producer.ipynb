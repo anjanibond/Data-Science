{
 "cells": [
  {
   "cell_type": "markdown",
   "metadata": {},
   "source": [
    "## Assignment 08 - Kafka Producer\n",
    "\n",
    "<br>Author: Anjani Bonda\n",
    "<br>Date: 5/6/2023"
   ]
  },
  {
   "cell_type": "code",
   "execution_count": 12,
   "metadata": {},
   "outputs": [
    {
     "ename": "ImportError",
     "evalue": "cannot import name 'IncompatibleBrokerVersion' from 'kafka.errors' (/Users/anjanibonda/opt/anaconda3/lib/python3.9/site-packages/kafka/errors.py)",
     "output_type": "error",
     "traceback": [
      "\u001b[0;31m---------------------------------------------------------------------------\u001b[0m",
      "\u001b[0;31mImportError\u001b[0m                               Traceback (most recent call last)",
      "Input \u001b[0;32mIn [12]\u001b[0m, in \u001b[0;36m<cell line: 7>\u001b[0;34m()\u001b[0m\n\u001b[1;32m      4\u001b[0m \u001b[38;5;28;01mimport\u001b[39;00m \u001b[38;5;21;01muuid\u001b[39;00m\n\u001b[1;32m      5\u001b[0m \u001b[38;5;28;01mimport\u001b[39;00m \u001b[38;5;21;01mpandas\u001b[39;00m \u001b[38;5;28;01mas\u001b[39;00m \u001b[38;5;21;01mpd\u001b[39;00m\n\u001b[0;32m----> 7\u001b[0m \u001b[38;5;28;01mfrom\u001b[39;00m \u001b[38;5;21;01mkafka\u001b[39;00m \u001b[38;5;28;01mimport\u001b[39;00m KafkaProducer, KafkaAdminClient\n",
      "File \u001b[0;32m~/opt/anaconda3/lib/python3.9/site-packages/kafka/__init__.py:21\u001b[0m, in \u001b[0;36m<module>\u001b[0;34m\u001b[0m\n\u001b[1;32m     16\u001b[0m             \u001b[38;5;28;01mpass\u001b[39;00m\n\u001b[1;32m     18\u001b[0m logging\u001b[38;5;241m.\u001b[39mgetLogger(\u001b[38;5;18m__name__\u001b[39m)\u001b[38;5;241m.\u001b[39maddHandler(NullHandler())\n\u001b[0;32m---> 21\u001b[0m \u001b[38;5;28;01mfrom\u001b[39;00m \u001b[38;5;21;01mkafka\u001b[39;00m\u001b[38;5;21;01m.\u001b[39;00m\u001b[38;5;21;01mconsumer\u001b[39;00m \u001b[38;5;28;01mimport\u001b[39;00m KafkaConsumer\n\u001b[1;32m     22\u001b[0m \u001b[38;5;28;01mfrom\u001b[39;00m \u001b[38;5;21;01mkafka\u001b[39;00m\u001b[38;5;21;01m.\u001b[39;00m\u001b[38;5;21;01mconsumer\u001b[39;00m\u001b[38;5;21;01m.\u001b[39;00m\u001b[38;5;21;01msubscription_state\u001b[39;00m \u001b[38;5;28;01mimport\u001b[39;00m ConsumerRebalanceListener\n\u001b[1;32m     23\u001b[0m \u001b[38;5;28;01mfrom\u001b[39;00m \u001b[38;5;21;01mkafka\u001b[39;00m\u001b[38;5;21;01m.\u001b[39;00m\u001b[38;5;21;01mproducer\u001b[39;00m \u001b[38;5;28;01mimport\u001b[39;00m KafkaProducer\n",
      "File \u001b[0;32m~/opt/anaconda3/lib/python3.9/site-packages/kafka/admin/__init__.py:4\u001b[0m, in \u001b[0;36m<module>\u001b[0;34m\u001b[0m\n\u001b[1;32m      1\u001b[0m \u001b[38;5;28;01mfrom\u001b[39;00m \u001b[38;5;21;01m__future__\u001b[39;00m \u001b[38;5;28;01mimport\u001b[39;00m absolute_import\n\u001b[1;32m      3\u001b[0m \u001b[38;5;28;01mfrom\u001b[39;00m \u001b[38;5;21;01mkafka\u001b[39;00m\u001b[38;5;21;01m.\u001b[39;00m\u001b[38;5;21;01madmin\u001b[39;00m\u001b[38;5;21;01m.\u001b[39;00m\u001b[38;5;21;01mconfig_resource\u001b[39;00m \u001b[38;5;28;01mimport\u001b[39;00m ConfigResource, ConfigResourceType\n\u001b[0;32m----> 4\u001b[0m \u001b[38;5;28;01mfrom\u001b[39;00m \u001b[38;5;21;01mkafka\u001b[39;00m\u001b[38;5;21;01m.\u001b[39;00m\u001b[38;5;21;01madmin\u001b[39;00m\u001b[38;5;21;01m.\u001b[39;00m\u001b[38;5;21;01mclient\u001b[39;00m \u001b[38;5;28;01mimport\u001b[39;00m KafkaAdminClient\n\u001b[1;32m      5\u001b[0m \u001b[38;5;28;01mfrom\u001b[39;00m \u001b[38;5;21;01mkafka\u001b[39;00m\u001b[38;5;21;01m.\u001b[39;00m\u001b[38;5;21;01madmin\u001b[39;00m\u001b[38;5;21;01m.\u001b[39;00m\u001b[38;5;21;01macl_resource\u001b[39;00m \u001b[38;5;28;01mimport\u001b[39;00m (ACL, ACLFilter, ResourcePattern, ResourcePatternFilter, ACLOperation,\n\u001b[1;32m      6\u001b[0m                                       ResourceType, ACLPermissionType, ACLResourcePatternType)\n\u001b[1;32m      7\u001b[0m \u001b[38;5;28;01mfrom\u001b[39;00m \u001b[38;5;21;01mkafka\u001b[39;00m\u001b[38;5;21;01m.\u001b[39;00m\u001b[38;5;21;01madmin\u001b[39;00m\u001b[38;5;21;01m.\u001b[39;00m\u001b[38;5;21;01mnew_topic\u001b[39;00m \u001b[38;5;28;01mimport\u001b[39;00m NewTopic\n",
      "File \u001b[0;32m~/opt/anaconda3/lib/python3.9/site-packages/kafka/admin/client.py:16\u001b[0m, in \u001b[0;36m<module>\u001b[0;34m\u001b[0m\n\u001b[1;32m     14\u001b[0m \u001b[38;5;28;01mfrom\u001b[39;00m \u001b[38;5;21;01mkafka\u001b[39;00m\u001b[38;5;21;01m.\u001b[39;00m\u001b[38;5;21;01mcoordinator\u001b[39;00m\u001b[38;5;21;01m.\u001b[39;00m\u001b[38;5;21;01mprotocol\u001b[39;00m \u001b[38;5;28;01mimport\u001b[39;00m ConsumerProtocolMemberMetadata, ConsumerProtocolMemberAssignment, ConsumerProtocol\n\u001b[1;32m     15\u001b[0m \u001b[38;5;28;01mimport\u001b[39;00m \u001b[38;5;21;01mkafka\u001b[39;00m\u001b[38;5;21;01m.\u001b[39;00m\u001b[38;5;21;01merrors\u001b[39;00m \u001b[38;5;28;01mas\u001b[39;00m \u001b[38;5;21;01mErrors\u001b[39;00m\n\u001b[0;32m---> 16\u001b[0m \u001b[38;5;28;01mfrom\u001b[39;00m \u001b[38;5;21;01mkafka\u001b[39;00m\u001b[38;5;21;01m.\u001b[39;00m\u001b[38;5;21;01merrors\u001b[39;00m \u001b[38;5;28;01mimport\u001b[39;00m (\n\u001b[1;32m     17\u001b[0m     IncompatibleBrokerVersion, KafkaConfigurationError, NotControllerError,\n\u001b[1;32m     18\u001b[0m     UnrecognizedBrokerVersion, IllegalArgumentError)\n\u001b[1;32m     19\u001b[0m \u001b[38;5;28;01mfrom\u001b[39;00m \u001b[38;5;21;01mkafka\u001b[39;00m\u001b[38;5;21;01m.\u001b[39;00m\u001b[38;5;21;01mmetrics\u001b[39;00m \u001b[38;5;28;01mimport\u001b[39;00m MetricConfig, Metrics\n\u001b[1;32m     20\u001b[0m \u001b[38;5;28;01mfrom\u001b[39;00m \u001b[38;5;21;01mkafka\u001b[39;00m\u001b[38;5;21;01m.\u001b[39;00m\u001b[38;5;21;01mprotocol\u001b[39;00m\u001b[38;5;21;01m.\u001b[39;00m\u001b[38;5;21;01madmin\u001b[39;00m \u001b[38;5;28;01mimport\u001b[39;00m (\n\u001b[1;32m     21\u001b[0m     CreateTopicsRequest, DeleteTopicsRequest, DescribeConfigsRequest, AlterConfigsRequest, CreatePartitionsRequest,\n\u001b[1;32m     22\u001b[0m     ListGroupsRequest, DescribeGroupsRequest, DescribeAclsRequest, CreateAclsRequest, DeleteAclsRequest,\n\u001b[1;32m     23\u001b[0m     DeleteGroupsRequest\n\u001b[1;32m     24\u001b[0m )\n",
      "\u001b[0;31mImportError\u001b[0m: cannot import name 'IncompatibleBrokerVersion' from 'kafka.errors' (/Users/anjanibonda/opt/anaconda3/lib/python3.9/site-packages/kafka/errors.py)"
     ]
    }
   ],
   "source": [
    "# Load necessary modules/libraries.\n",
    "\n",
    "import json\n",
    "import uuid\n",
    "import pandas as pd\n",
    "\n",
    "from kafka import KafkaProducer, KafkaAdminClient\n",
    "\n",
    "#from kafka.admin.new_topic import NewTopic\n",
    "#from kafka.errors import TopicAlreadyExistsError\n",
    "\n",
    "#import warnings\n",
    "#warnings.filterwarnings(\"ignore\")"
   ]
  },
  {
   "cell_type": "markdown",
   "metadata": {},
   "source": [
    "### Configuration Parameters\n",
    "#### Updated with appropriate values "
   ]
  },
  {
   "cell_type": "code",
   "execution_count": 8,
   "metadata": {},
   "outputs": [
    {
     "data": {
      "text/plain": [
       "{'bootstrap_servers': ['kafka.kafka.svc.cluster.local:9092'],\n",
       " 'first_name': 'Anjani',\n",
       " 'last_name': 'Bonda',\n",
       " 'client_id': 'BondaAnjani',\n",
       " 'topic_prefix': 'BondaAnjani'}"
      ]
     },
     "execution_count": 8,
     "metadata": {},
     "output_type": "execute_result"
    }
   ],
   "source": [
    "config = dict(\n",
    "    bootstrap_servers=['kafka.kafka.svc.cluster.local:9092'],\n",
    "    first_name='Anjani',\n",
    "    last_name='Bonda'\n",
    ")\n",
    "\n",
    "config['client_id'] = '{}{}'.format(\n",
    "    config['last_name'], \n",
    "    config['first_name']\n",
    ")\n",
    "config['topic_prefix'] = '{}{}'.format(\n",
    "    config['last_name'], \n",
    "    config['first_name']\n",
    ")\n",
    "\n",
    "config"
   ]
  },
  {
   "cell_type": "markdown",
   "metadata": {},
   "source": [
    "### Create Topic Utility Function"
   ]
  },
  {
   "cell_type": "code",
   "execution_count": 9,
   "metadata": {},
   "outputs": [
    {
     "ename": "NameError",
     "evalue": "name 'KafkaAdminClient' is not defined",
     "output_type": "error",
     "traceback": [
      "\u001b[0;31m---------------------------------------------------------------------------\u001b[0m",
      "\u001b[0;31mNameError\u001b[0m                                 Traceback (most recent call last)",
      "Input \u001b[0;32mIn [9]\u001b[0m, in \u001b[0;36m<cell line: 26>\u001b[0;34m()\u001b[0m\n\u001b[1;32m     23\u001b[0m         \u001b[38;5;28mprint\u001b[39m(\u001b[38;5;124m'\u001b[39m\u001b[38;5;124mTopic \u001b[39m\u001b[38;5;124m\"\u001b[39m\u001b[38;5;132;01m{}\u001b[39;00m\u001b[38;5;124m\"\u001b[39m\u001b[38;5;124m already exists\u001b[39m\u001b[38;5;124m'\u001b[39m\u001b[38;5;241m.\u001b[39mformat(name))\n\u001b[1;32m     25\u001b[0m \u001b[38;5;66;03m# Create topic for locations.\u001b[39;00m\n\u001b[0;32m---> 26\u001b[0m \u001b[43mcreate_kafka_topic\u001b[49m\u001b[43m(\u001b[49m\u001b[38;5;124;43m'\u001b[39;49m\u001b[38;5;124;43mlocations\u001b[39;49m\u001b[38;5;124;43m'\u001b[39;49m\u001b[43m)\u001b[49m\n",
      "Input \u001b[0;32mIn [9]\u001b[0m, in \u001b[0;36mcreate_kafka_topic\u001b[0;34m(topic_name, config, num_partitions, replication_factor)\u001b[0m\n\u001b[1;32m      4\u001b[0m topic_prefix \u001b[38;5;241m=\u001b[39m config[\u001b[38;5;124m'\u001b[39m\u001b[38;5;124mtopic_prefix\u001b[39m\u001b[38;5;124m'\u001b[39m]\n\u001b[1;32m      5\u001b[0m name \u001b[38;5;241m=\u001b[39m \u001b[38;5;124m'\u001b[39m\u001b[38;5;132;01m{}\u001b[39;00m\u001b[38;5;124m-\u001b[39m\u001b[38;5;132;01m{}\u001b[39;00m\u001b[38;5;124m'\u001b[39m\u001b[38;5;241m.\u001b[39mformat(topic_prefix, topic_name)\n\u001b[0;32m----> 7\u001b[0m admin_client \u001b[38;5;241m=\u001b[39m \u001b[43mKafkaAdminClient\u001b[49m(\n\u001b[1;32m      8\u001b[0m     bootstrap_servers\u001b[38;5;241m=\u001b[39mbootstrap_servers, \n\u001b[1;32m      9\u001b[0m     client_id\u001b[38;5;241m=\u001b[39mclient_id\n\u001b[1;32m     10\u001b[0m )\n\u001b[1;32m     12\u001b[0m topic \u001b[38;5;241m=\u001b[39m NewTopic(\n\u001b[1;32m     13\u001b[0m     name\u001b[38;5;241m=\u001b[39mname,\n\u001b[1;32m     14\u001b[0m     num_partitions\u001b[38;5;241m=\u001b[39mnum_partitions,\n\u001b[1;32m     15\u001b[0m     replication_factor\u001b[38;5;241m=\u001b[39mreplication_factor\n\u001b[1;32m     16\u001b[0m )\n\u001b[1;32m     18\u001b[0m topic_list \u001b[38;5;241m=\u001b[39m [topic]\n",
      "\u001b[0;31mNameError\u001b[0m: name 'KafkaAdminClient' is not defined"
     ]
    }
   ],
   "source": [
    "def create_kafka_topic(topic_name, config=config, num_partitions=1, replication_factor=1):\n",
    "    bootstrap_servers = config['bootstrap_servers']\n",
    "    client_id = config['client_id']\n",
    "    topic_prefix = config['topic_prefix']\n",
    "    name = '{}-{}'.format(topic_prefix, topic_name)\n",
    "    \n",
    "    admin_client = KafkaAdminClient(\n",
    "        bootstrap_servers=bootstrap_servers, \n",
    "        client_id=client_id\n",
    "    )\n",
    "    \n",
    "    topic = NewTopic(\n",
    "        name=name,\n",
    "        num_partitions=num_partitions,\n",
    "        replication_factor=replication_factor\n",
    "    )\n",
    "\n",
    "    topic_list = [topic]\n",
    "    try:\n",
    "        admin_client.create_topics(new_topics=topic_list)\n",
    "        print('Created topic \"{}\"'.format(name))\n",
    "    except TopicAlreadyExistsError as e:\n",
    "        print('Topic \"{}\" already exists'.format(name))\n",
    "    \n",
    "# Create topic for locations.\n",
    "create_kafka_topic('locations')"
   ]
  },
  {
   "cell_type": "code",
   "execution_count": 5,
   "metadata": {},
   "outputs": [
    {
     "name": "stdout",
     "output_type": "stream",
     "text": [
      "Created topic \"VenkidusamyKesavAdithya-accelerations\"\n"
     ]
    }
   ],
   "source": [
    "# Create topic for accelerations.\n",
    "create_kafka_topic('accelerations')"
   ]
  },
  {
   "cell_type": "markdown",
   "metadata": {},
   "source": [
    "#### Kafka Producer\n",
    "\n",
    "The following code creates a `KafkaProducer` object which you can use to send Python objects that are serialized as JSON.\n",
    "\n",
    "**Note:** This producer serializes Python objects as JSON. This means that object must be JSON serializable.  As an example, Python `DateTime` values are not JSON serializable and must be converted to a string (e.g. ISO 8601) or a numeric value (e.g. a Unix timestamp) before being sent."
   ]
  },
  {
   "cell_type": "code",
   "execution_count": 7,
   "metadata": {},
   "outputs": [],
   "source": [
    "producer = KafkaProducer(\n",
    "  bootstrap_servers=config['bootstrap_servers'],\n",
    "  value_serializer=lambda x: json.dumps(x).encode('utf-8')\n",
    ")"
   ]
  },
  {
   "cell_type": "markdown",
   "metadata": {},
   "source": [
    "#### Send Data Function\n",
    "\n",
    "The `send_data` function sends a Python object to a Kafka topic. This function adds the `topic_prefix` to the topic so `send_data('locations', data)` sends a JSON serialized message to `DoeJohn-locations`. The function also registers callbacks to let you know if the message has been sent or if an error has occured. "
   ]
  },
  {
   "cell_type": "code",
   "execution_count": 8,
   "metadata": {},
   "outputs": [],
   "source": [
    "def on_send_success(record_metadata):\n",
    "    print('Message sent:\\n    Topic: \"{}\"\\n    Partition: {}\\n    Offset: {}'.format(\n",
    "        record_metadata.topic,\n",
    "        record_metadata.partition,\n",
    "        record_metadata.offset\n",
    "    ))\n",
    "    \n",
    "def on_send_error(excp):\n",
    "    print('I am an errback', exc_info=excp)\n",
    "    \n",
    "    \n",
    "def send_data(topic, data, config=config, producer=producer, msg_key=None):\n",
    "    topic_prefix = config['topic_prefix']\n",
    "    topic_name = '{}-{}'.format(topic_prefix, topic)\n",
    "    \n",
    "    if msg_key is not None:\n",
    "        key = msg_key\n",
    "    else:\n",
    "        key = uuid.uuid4().hex\n",
    "    \n",
    "    producer.send(\n",
    "        topic_name, \n",
    "        value=data,\n",
    "        key=key.encode('utf-8')\n",
    "    ).add_callback(on_send_success).add_errback(on_send_error)"
   ]
  },
  {
   "cell_type": "code",
   "execution_count": 11,
   "metadata": {},
   "outputs": [],
   "source": [
    "# Load 'locations'data.\n",
    "locations_data_dir = '/home/jovyan/dsc650/data/processed/bdd/locations'\n",
    "locations_df = pd.read_parquet(locations_data_dir)\n",
    "locations_df.head()"
   ]
  },
  {
   "cell_type": "code",
   "execution_count": 13,
   "metadata": {},
   "outputs": [
    {
     "name": "stdout",
     "output_type": "stream",
     "text": [
      "<class 'pandas.core.frame.DataFrame'>\n",
      "RangeIndex: 478 entries, 0 to 477\n",
      "Data columns (total 14 columns):\n",
      " #   Column     Non-Null Count  Dtype         \n",
      "---  ------     --------------  -----         \n",
      " 0   id         327 non-null    object        \n",
      " 1   ride_id    478 non-null    object        \n",
      " 2   uuid       478 non-null    object        \n",
      " 3   timestamp  478 non-null    datetime64[ns]\n",
      " 4   offset     478 non-null    float64       \n",
      " 5   course     478 non-null    float64       \n",
      " 6   latitude   478 non-null    float64       \n",
      " 7   longitude  478 non-null    float64       \n",
      " 8   geohash    478 non-null    object        \n",
      " 9   speed      478 non-null    float64       \n",
      " 10  accuracy   478 non-null    float64       \n",
      " 11  timelapse  478 non-null    bool          \n",
      " 12  filename   478 non-null    object        \n",
      " 13  t          478 non-null    category      \n",
      "dtypes: bool(1), category(1), datetime64[ns](1), float64(6), object(5)\n",
      "memory usage: 47.4+ KB\n"
     ]
    }
   ],
   "source": [
    "# Check columns and datatypes for locations_df\n",
    "locations_df.info()"
   ]
  },
  {
   "cell_type": "code",
   "execution_count": 18,
   "metadata": {},
   "outputs": [],
   "source": [
    "# Change datatype timestamp to string and dataframe to dictionary for sending data to topic.\n",
    "#locations_df['timestamp'] = locations_df['timestamp'].astype('str')\n",
    "data_dict = locations_df.set_index('t').transpose().to_dict() "
   ]
  },
  {
   "cell_type": "code",
   "execution_count": 19,
   "metadata": {
    "scrolled": false
   },
   "outputs": [
    {
     "name": "stdout",
     "output_type": "stream",
     "text": [
      "Message sent:\n",
      "    Topic: \"VenkidusamyKesavAdithya-locations\"\n",
      "    Partition: 0\n",
      "    Offset: 0\n",
      "Message sent:\n",
      "    Topic: \"VenkidusamyKesavAdithya-locations\"\n",
      "    Partition: 0\n",
      "    Offset: 1\n",
      "Message sent:\n",
      "    Topic: \"VenkidusamyKesavAdithya-locations\"\n",
      "    Partition: 0\n",
      "    Offset: 2\n",
      "Message sent:\n",
      "    Topic: \"VenkidusamyKesavAdithya-locations\"\n",
      "    Partition: 0\n",
      "    Offset: 3\n",
      "Message sent:\n",
      "    Topic: \"VenkidusamyKesavAdithya-locations\"\n",
      "    Partition: 0\n",
      "    Offset: 4\n",
      "Message sent:\n",
      "    Topic: \"VenkidusamyKesavAdithya-locations\"\n",
      "    Partition: 0\n",
      "    Offset: 5\n",
      "Message sent:\n",
      "    Topic: \"VenkidusamyKesavAdithya-locations\"\n",
      "    Partition: 0\n",
      "    Offset: 6\n",
      "Message sent:\n",
      "    Topic: \"VenkidusamyKesavAdithya-locations\"\n",
      "    Partition: 0\n",
      "    Offset: 7\n",
      "Message sent:\n",
      "    Topic: \"VenkidusamyKesavAdithya-locations\"\n",
      "    Partition: 0\n",
      "    Offset: 8\n",
      "Message sent:\n",
      "    Topic: \"VenkidusamyKesavAdithya-locations\"\n",
      "    Partition: 0\n",
      "    Offset: 9\n",
      "Message sent:\n",
      "    Topic: \"VenkidusamyKesavAdithya-locations\"\n",
      "    Partition: 0\n",
      "    Offset: 10\n",
      "Message sent:\n",
      "    Topic: \"VenkidusamyKesavAdithya-locations\"\n",
      "    Partition: 0\n",
      "    Offset: 11\n",
      "Message sent:\n",
      "    Topic: \"VenkidusamyKesavAdithya-locations\"\n",
      "    Partition: 0\n",
      "    Offset: 12\n",
      "Message sent:\n",
      "    Topic: \"VenkidusamyKesavAdithya-locations\"\n",
      "    Partition: 0\n",
      "    Offset: 13\n",
      "Message sent:\n",
      "    Topic: \"VenkidusamyKesavAdithya-locations\"\n",
      "    Partition: 0\n",
      "    Offset: 14\n",
      "Message sent:\n",
      "    Topic: \"VenkidusamyKesavAdithya-locations\"\n",
      "    Partition: 0\n",
      "    Offset: 15\n",
      "Message sent:\n",
      "    Topic: \"VenkidusamyKesavAdithya-locations\"\n",
      "    Partition: 0\n",
      "    Offset: 16\n",
      "Message sent:\n",
      "    Topic: \"VenkidusamyKesavAdithya-locations\"\n",
      "    Partition: 0\n",
      "    Offset: 17\n",
      "Message sent:\n",
      "    Topic: \"VenkidusamyKesavAdithya-locations\"\n",
      "    Partition: 0\n",
      "    Offset: 18\n",
      "Message sent:\n",
      "    Topic: \"VenkidusamyKesavAdithya-locations\"\n",
      "    Partition: 0\n",
      "    Offset: 19\n",
      "Message sent:\n",
      "    Topic: \"VenkidusamyKesavAdithya-locations\"\n",
      "    Partition: 0\n",
      "    Offset: 20\n",
      "Message sent:\n",
      "    Topic: \"VenkidusamyKesavAdithya-locations\"\n",
      "    Partition: 0\n",
      "    Offset: 21\n",
      "Message sent:\n",
      "    Topic: \"VenkidusamyKesavAdithya-locations\"\n",
      "    Partition: 0\n",
      "    Offset: 22\n",
      "Message sent:\n",
      "    Topic: \"VenkidusamyKesavAdithya-locations\"\n",
      "    Partition: 0\n",
      "    Offset: 23\n",
      "Message sent:\n",
      "    Topic: \"VenkidusamyKesavAdithya-locations\"\n",
      "    Partition: 0\n",
      "    Offset: 24\n",
      "Message sent:\n",
      "    Topic: \"VenkidusamyKesavAdithya-locations\"\n",
      "    Partition: 0\n",
      "    Offset: 25\n",
      "Message sent:\n",
      "    Topic: \"VenkidusamyKesavAdithya-locations\"\n",
      "    Partition: 0\n",
      "    Offset: 26\n",
      "Message sent:\n",
      "    Topic: \"VenkidusamyKesavAdithya-locations\"\n",
      "    Partition: 0\n",
      "    Offset: 27\n",
      "Message sent:\n",
      "    Topic: \"VenkidusamyKesavAdithya-locations\"\n",
      "    Partition: 0\n",
      "    Offset: 28\n",
      "Message sent:\n",
      "    Topic: \"VenkidusamyKesavAdithya-locations\"\n",
      "    Partition: 0\n",
      "    Offset: 29\n",
      "Message sent:\n",
      "    Topic: \"VenkidusamyKesavAdithya-locations\"\n",
      "    Partition: 0\n",
      "    Offset: 30\n",
      "Message sent:\n",
      "    Topic: \"VenkidusamyKesavAdithya-locations\"\n",
      "    Partition: 0\n",
      "    Offset: 31\n",
      "Message sent:\n",
      "    Topic: \"VenkidusamyKesavAdithya-locations\"\n",
      "    Partition: 0\n",
      "    Offset: 32\n",
      "Message sent:\n",
      "    Topic: \"VenkidusamyKesavAdithya-locations\"\n",
      "    Partition: 0\n",
      "    Offset: 33\n"
     ]
    }
   ],
   "source": [
    "for key,value in data_dict.items():\n",
    "    send_data(topic='locations', data=value, config=config, producer=producer, msg_key=key)"
   ]
  },
  {
   "cell_type": "code",
   "execution_count": 20,
   "metadata": {},
   "outputs": [],
   "source": [
    "# Load 'accelerations' data.\n",
    "accelerations_data_dir = '/home/jovyan/dsc650/data/processed/bdd/accelerations'\n",
    "accelerations_df = pd.read_parquet(accelerations_data_dir)\n",
    "accelerations_df.head()"
   ]
  },
  {
   "cell_type": "code",
   "execution_count": 22,
   "metadata": {},
   "outputs": [
    {
     "name": "stdout",
     "output_type": "stream",
     "text": [
      "<class 'pandas.core.frame.DataFrame'>\n",
      "RangeIndex: 23512 entries, 0 to 23511\n",
      "Data columns (total 11 columns):\n",
      " #   Column     Non-Null Count  Dtype         \n",
      "---  ------     --------------  -----         \n",
      " 0   id         16056 non-null  object        \n",
      " 1   ride_id    23512 non-null  object        \n",
      " 2   uuid       23512 non-null  object        \n",
      " 3   timestamp  23512 non-null  datetime64[ns]\n",
      " 4   offset     23512 non-null  float64       \n",
      " 5   x          23512 non-null  float64       \n",
      " 6   y          23512 non-null  float64       \n",
      " 7   z          23512 non-null  float64       \n",
      " 8   timelapse  23512 non-null  bool          \n",
      " 9   filename   23512 non-null  object        \n",
      " 10  t          23512 non-null  category      \n",
      "dtypes: bool(1), category(1), datetime64[ns](1), float64(4), object(4)\n",
      "memory usage: 1.7+ MB\n"
     ]
    }
   ],
   "source": [
    "# Check columns and datatypes for accelerations_df\n",
    "accelerations_df.info()"
   ]
  },
  {
   "cell_type": "code",
   "execution_count": 23,
   "metadata": {},
   "outputs": [],
   "source": [
    "# Change datatype timestamp to string and dataframe to dictionary for sending data to topic.\n",
    "# locations_df['timestamp'] = locations_df['timestamp'].astype('str')\n",
    "accelerations_df['timestamp'] = accelerations_df['timestamp'].astype('str')\n",
    "data_dict = accelerations_df.set_index('t').transpose().to_dict() "
   ]
  },
  {
   "cell_type": "code",
   "execution_count": 24,
   "metadata": {
    "scrolled": false
   },
   "outputs": [
    {
     "name": "stdout",
     "output_type": "stream",
     "text": [
      "Message sent:\n",
      "    Topic: \"VenkidusamyKesavAdithya-accelerations\"\n",
      "    Partition: 0\n",
      "    Offset: 0\n",
      "Message sent:\n",
      "    Topic: \"VenkidusamyKesavAdithya-accelerations\"\n",
      "    Partition: 0\n",
      "    Offset: 1\n",
      "Message sent:\n",
      "    Topic: \"VenkidusamyKesavAdithya-accelerations\"\n",
      "    Partition: 0\n",
      "    Offset: 2\n",
      "Message sent:\n",
      "    Topic: \"VenkidusamyKesavAdithya-accelerations\"\n",
      "    Partition: 0\n",
      "    Offset: 3\n",
      "Message sent:\n",
      "    Topic: \"VenkidusamyKesavAdithya-accelerations\"\n",
      "    Partition: 0\n",
      "    Offset: 4\n",
      "Message sent:\n",
      "    Topic: \"VenkidusamyKesavAdithya-accelerations\"\n",
      "    Partition: 0\n",
      "    Offset: 5\n",
      "Message sent:\n",
      "    Topic: \"VenkidusamyKesavAdithya-accelerations\"\n",
      "    Partition: 0\n",
      "    Offset: 6\n",
      "Message sent:\n",
      "    Topic: \"VenkidusamyKesavAdithya-accelerations\"\n",
      "    Partition: 0\n",
      "    Offset: 7\n",
      "Message sent:\n",
      "    Topic: \"VenkidusamyKesavAdithya-accelerations\"\n",
      "    Partition: 0\n",
      "    Offset: 8\n",
      "Message sent:\n",
      "    Topic: \"VenkidusamyKesavAdithya-accelerations\"\n",
      "    Partition: 0\n",
      "    Offset: 9\n",
      "Message sent:\n",
      "    Topic: \"VenkidusamyKesavAdithya-accelerations\"\n",
      "    Partition: 0\n",
      "    Offset: 10\n",
      "Message sent:\n",
      "    Topic: \"VenkidusamyKesavAdithya-accelerations\"\n",
      "    Partition: 0\n",
      "    Offset: 11\n",
      "Message sent:\n",
      "    Topic: \"VenkidusamyKesavAdithya-accelerations\"\n",
      "    Partition: 0\n",
      "    Offset: 12\n",
      "Message sent:\n",
      "    Topic: \"VenkidusamyKesavAdithya-accelerations\"\n",
      "    Partition: 0\n",
      "    Offset: 13\n",
      "Message sent:\n",
      "    Topic: \"VenkidusamyKesavAdithya-accelerations\"\n",
      "    Partition: 0\n",
      "    Offset: 14\n",
      "Message sent:\n",
      "    Topic: \"VenkidusamyKesavAdithya-accelerations\"\n",
      "    Partition: 0\n",
      "    Offset: 15\n",
      "Message sent:\n",
      "    Topic: \"VenkidusamyKesavAdithya-accelerations\"\n",
      "    Partition: 0\n",
      "    Offset: 16\n",
      "Message sent:\n",
      "    Topic: \"VenkidusamyKesavAdithya-accelerations\"\n",
      "    Partition: 0\n",
      "    Offset: 17\n",
      "Message sent:\n",
      "    Topic: \"VenkidusamyKesavAdithya-accelerations\"\n",
      "    Partition: 0\n",
      "    Offset: 18\n",
      "Message sent:\n",
      "    Topic: \"VenkidusamyKesavAdithya-accelerations\"\n",
      "    Partition: 0\n",
      "    Offset: 19\n",
      "Message sent:\n",
      "    Topic: \"VenkidusamyKesavAdithya-accelerations\"\n",
      "    Partition: 0\n",
      "    Offset: 20\n",
      "Message sent:\n",
      "    Topic: \"VenkidusamyKesavAdithya-accelerations\"\n",
      "    Partition: 0\n",
      "    Offset: 21\n",
      "Message sent:\n",
      "    Topic: \"VenkidusamyKesavAdithya-accelerations\"\n",
      "    Partition: 0\n",
      "    Offset: 22\n",
      "Message sent:\n",
      "    Topic: \"VenkidusamyKesavAdithya-accelerations\"\n",
      "    Partition: 0\n",
      "    Offset: 23\n",
      "Message sent:\n",
      "    Topic: \"VenkidusamyKesavAdithya-accelerations\"\n",
      "    Partition: 0\n",
      "    Offset: 24\n",
      "Message sent:\n",
      "    Topic: \"VenkidusamyKesavAdithya-accelerations\"\n",
      "    Partition: 0\n",
      "    Offset: 25\n",
      "Message sent:\n",
      "    Topic: \"VenkidusamyKesavAdithya-accelerations\"\n",
      "    Partition: 0\n",
      "    Offset: 26\n",
      "Message sent:\n",
      "    Topic: \"VenkidusamyKesavAdithya-accelerations\"\n",
      "    Partition: 0\n",
      "    Offset: 27\n",
      "Message sent:\n",
      "    Topic: \"VenkidusamyKesavAdithya-accelerations\"\n",
      "    Partition: 0\n",
      "    Offset: 28\n",
      "Message sent:\n",
      "    Topic: \"VenkidusamyKesavAdithya-accelerations\"\n",
      "    Partition: 0\n",
      "    Offset: 29\n",
      "Message sent:\n",
      "    Topic: \"VenkidusamyKesavAdithya-accelerations\"\n",
      "    Partition: 0\n",
      "    Offset: 30\n",
      "Message sent:\n",
      "    Topic: \"VenkidusamyKesavAdithya-accelerations\"\n",
      "    Partition: 0\n",
      "    Offset: 31\n",
      "Message sent:\n",
      "    Topic: \"VenkidusamyKesavAdithya-accelerations\"\n",
      "    Partition: 0\n",
      "    Offset: 32\n",
      "Message sent:\n",
      "    Topic: \"VenkidusamyKesavAdithya-accelerations\"\n",
      "    Partition: 0\n",
      "    Offset: 33\n"
     ]
    }
   ],
   "source": [
    "for key,value in data_dict.items():\n",
    "    send_data(topic='accelerations', data=value, config=config, producer=producer, msg_key=key)"
   ]
  }
 ],
 "metadata": {
  "kernelspec": {
   "display_name": "Python 3 (ipykernel)",
   "language": "python",
   "name": "python3"
  },
  "language_info": {
   "codemirror_mode": {
    "name": "ipython",
    "version": 3
   },
   "file_extension": ".py",
   "mimetype": "text/x-python",
   "name": "python",
   "nbconvert_exporter": "python",
   "pygments_lexer": "ipython3",
   "version": "3.9.7"
  }
 },
 "nbformat": 4,
 "nbformat_minor": 4
}
