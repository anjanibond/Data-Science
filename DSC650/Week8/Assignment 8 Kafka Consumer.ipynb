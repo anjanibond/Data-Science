{
 "cells": [
  {
   "cell_type": "markdown",
   "metadata": {},
   "source": [
    "## Assignment 08 - Kafka Consumer\n",
    "\n",
    "<br>Author: Anjani Bonda\n",
    "<br>Date: 5/6/2023"
   ]
  },
  {
   "cell_type": "code",
   "execution_count": 1,
   "metadata": {},
   "outputs": [
    {
     "ename": "SyntaxError",
     "evalue": "invalid syntax (simple.py, line 54)",
     "output_type": "error",
     "traceback": [
      "Traceback \u001b[0;36m(most recent call last)\u001b[0m:\n",
      "  File \u001b[1;32m~/opt/anaconda3/lib/python3.9/site-packages/IPython/core/interactiveshell.py:3397\u001b[0m in \u001b[1;35mrun_code\u001b[0m\n    exec(code_obj, self.user_global_ns, self.user_ns)\n",
      "  Input \u001b[1;32mIn [1]\u001b[0m in \u001b[1;35m<cell line: 4>\u001b[0m\n    from kafka import KafkaConsumer\n",
      "  File \u001b[1;32m~/opt/anaconda3/lib/python3.9/site-packages/kafka/__init__.py:23\u001b[0m in \u001b[1;35m<module>\u001b[0m\n    from kafka.producer import KafkaProducer\n",
      "\u001b[0;36m  File \u001b[0;32m~/opt/anaconda3/lib/python3.9/site-packages/kafka/producer/__init__.py:4\u001b[0;36m in \u001b[0;35m<module>\u001b[0;36m\u001b[0m\n\u001b[0;31m    from .simple import SimpleProducer\u001b[0m\n",
      "\u001b[0;36m  File \u001b[0;32m~/opt/anaconda3/lib/python3.9/site-packages/kafka/producer/simple.py:54\u001b[0;36m\u001b[0m\n\u001b[0;31m    return '<SimpleProducer batch=%s>' % self.async\u001b[0m\n\u001b[0m                                              ^\u001b[0m\n\u001b[0;31mSyntaxError\u001b[0m\u001b[0;31m:\u001b[0m invalid syntax\n"
     ]
    }
   ],
   "source": [
    "# Load necessary/required libraries\n",
    "import pandas as pd\n",
    "import json\n",
    "from kafka import KafkaConsumer\n",
    "\n",
    "import warnings\n",
    "warnings.filterwarnings(\"ignore\")"
   ]
  },
  {
   "cell_type": "markdown",
   "metadata": {},
   "source": [
    "### Configuration Parameters"
   ]
  },
  {
   "cell_type": "code",
   "execution_count": 2,
   "metadata": {},
   "outputs": [
    {
     "data": {
      "text/plain": [
       "{'bootstrap_servers': ['kafka.kafka.svc.cluster.local:9092'],\n",
       " 'first_name': 'Anjani',\n",
       " 'last_name': 'Bonda',\n",
       " 'client_id': 'BondaAnjani',\n",
       " 'topic_prefix': 'BondaAnjani'}"
      ]
     },
     "execution_count": 2,
     "metadata": {},
     "output_type": "execute_result"
    }
   ],
   "source": [
    "config = dict(\n",
    "    bootstrap_servers=['kafka.kafka.svc.cluster.local:9092'],\n",
    "    first_name='Anjani',\n",
    "    last_name='Bonda'\n",
    ")\n",
    "\n",
    "config['client_id'] = '{}{}'.format(\n",
    "    config['last_name'], \n",
    "    config['first_name']\n",
    ")\n",
    "config['topic_prefix'] = '{}{}'.format(\n",
    "    config['last_name'], \n",
    "    config['first_name']\n",
    ")\n",
    "\n",
    "config"
   ]
  },
  {
   "cell_type": "markdown",
   "metadata": {},
   "source": [
    "#### Create a consumer without subscribing to any particular topic"
   ]
  },
  {
   "cell_type": "code",
   "execution_count": 3,
   "metadata": {},
   "outputs": [
    {
     "ename": "NameError",
     "evalue": "name 'KafkaConsumer' is not defined",
     "output_type": "error",
     "traceback": [
      "\u001b[0;31m---------------------------------------------------------------------------\u001b[0m",
      "\u001b[0;31mNameError\u001b[0m                                 Traceback (most recent call last)",
      "Input \u001b[0;32mIn [3]\u001b[0m, in \u001b[0;36m<cell line: 1>\u001b[0;34m()\u001b[0m\n\u001b[0;32m----> 1\u001b[0m general_consumer \u001b[38;5;241m=\u001b[39m \u001b[43mKafkaConsumer\u001b[49m(\n\u001b[1;32m      2\u001b[0m     bootstrap_servers\u001b[38;5;241m=\u001b[39mconfig[\u001b[38;5;124m'\u001b[39m\u001b[38;5;124mbootstrap_servers\u001b[39m\u001b[38;5;124m'\u001b[39m]\n\u001b[1;32m      3\u001b[0m )\n",
      "\u001b[0;31mNameError\u001b[0m: name 'KafkaConsumer' is not defined"
     ]
    }
   ],
   "source": [
    "general_consumer = KafkaConsumer(\n",
    "    bootstrap_servers=config['bootstrap_servers']\n",
    ")"
   ]
  },
  {
   "cell_type": "code",
   "execution_count": 4,
   "metadata": {},
   "outputs": [
    {
     "data": {
      "text/plain": [
       "{'BreitbachScott-accelerations',\n",
       " 'BreitbachScott-locations',\n",
       " 'DoeJohn-accelerations',\n",
       " 'DoeJohn-joined',\n",
       " 'DoeJohn-locations',\n",
       " 'DoeJohn-simple',\n",
       " 'DoeJohn-windowed',\n",
       " 'FuentesAstrid-accelerations',\n",
       " 'FuentesAstrid-joined',\n",
       " 'FuentesAstrid-locations',\n",
       " 'FuentesAstrid-simple',\n",
       " 'FuentesAstrid-windowed',\n",
       " 'Gonzalez-RodholmKiana-locations',\n",
       " 'HallVictoria-accelerations',\n",
       " 'HallVictoria-joined',\n",
       " 'HallVictoria-locations',\n",
       " 'HallVictoria-simple',\n",
       " 'HallVictoria-windowed',\n",
       " 'HarperSadie-accelerations',\n",
       " 'HarperSadie-joined',\n",
       " 'HarperSadie-locations',\n",
       " 'HarperSadie-simple',\n",
       " 'HarperSadie-windowed',\n",
       " 'HowlandErin-accelerations',\n",
       " 'HowlandErin-locations',\n",
       " 'HowlandErin-simple',\n",
       " 'HowlandErin-windowed',\n",
       " 'KaleGanesh-accelerations',\n",
       " 'KaleGanesh-locations',\n",
       " 'KianaGonzalez-Rodholm-accelerations',\n",
       " 'KianaGonzalez-Rodholm-joined',\n",
       " 'KianaGonzalez-Rodholm-locations',\n",
       " 'KianaGonzalez-Rodholm-simple',\n",
       " 'KianaGonzalez-Rodholm-windowed',\n",
       " 'KobyHercskyTheodore-accelerations',\n",
       " 'KobyHercskyTheodore-locations',\n",
       " 'LastnameFirstname-accelerations',\n",
       " 'LastnameFirstname-locations',\n",
       " 'MahajanNitin-accelerations',\n",
       " 'MahajanNitin-locations',\n",
       " 'ManyamChandra-accelerations',\n",
       " 'ManyamChandra-locations',\n",
       " 'ManyamChandrasekhar-accelerations',\n",
       " 'ManyamChandrasekhar-locations',\n",
       " 'NitinMahajan-accelerations',\n",
       " 'NitinMahajan-joined',\n",
       " 'NitinMahajan-locations',\n",
       " 'NitinMahajan-simple',\n",
       " 'NitinMahajan-windowed',\n",
       " 'NoskyChristopher-accelerations',\n",
       " 'NoskyChristopher-joined',\n",
       " 'NoskyChristopher-locations',\n",
       " 'NoskyChristopher-simple',\n",
       " 'NoskyChristopher-windowed',\n",
       " 'PatelParth-accelerations',\n",
       " 'PatelParth-joined',\n",
       " 'PatelParth-locations',\n",
       " 'PatelParth-simple',\n",
       " 'PatelParth-windowed',\n",
       " 'PathakAbhishek-accelerations',\n",
       " 'PathakAbhishek-joined',\n",
       " 'PathakAbhishek-locations',\n",
       " 'PathakAbhishek-simple',\n",
       " 'PathakAbhishek-windowed',\n",
       " 'RapuruSupraja-accelerations',\n",
       " 'RapuruSupraja-locations',\n",
       " 'RaskaMorgan-accelerations',\n",
       " 'RaskaMorgan-locations',\n",
       " 'SankaranarayananRenganathan-accelerations',\n",
       " 'SankaranarayananRenganathan-joined',\n",
       " 'SankaranarayananRenganathan-locations',\n",
       " 'SankaranarayananRenganathan-simple',\n",
       " 'SankaranarayananRenganathan-windowed',\n",
       " 'ShahSumeet-accelerations',\n",
       " 'ShahSumeet-joined',\n",
       " 'ShahSumeet-locations',\n",
       " 'ShahSumeet-simple',\n",
       " 'ShahSumeet-windowed',\n",
       " 'ThangarajArunkumar-accelerations',\n",
       " 'ThangarajArunkumar-joined',\n",
       " 'ThangarajArunkumar-locations',\n",
       " 'ThangarajArunkumar-simple',\n",
       " 'ThangarajArunkumar-windowed',\n",
       " 'TummanapallySharathChandra-accelerations',\n",
       " 'TummanapallySharathChandra-joined',\n",
       " 'TummanapallySharathChandra-locations',\n",
       " 'TummanapallySharathChandra-simple',\n",
       " 'TummanapallySharathChandra-windowed',\n",
       " 'VenkidusamyKesavAdithya-accelerations',\n",
       " 'VenkidusamyKesavAdithya-locations',\n",
       " 'WittlieffHarlan-accelerations',\n",
       " 'WittlieffHarlan-joined',\n",
       " 'WittlieffHarlan-locations',\n",
       " 'WittlieffHarlan-simple',\n",
       " 'WittlieffHarlan-windowed',\n",
       " 'accelerations',\n",
       " 'locations',\n",
       " 'manyamchandra-accelerations',\n",
       " 'manyamchandra-locations',\n",
       " 'rapurusupraja-accelerations',\n",
       " 'rapurusupraja-locations',\n",
       " 'test1test-locations'}"
      ]
     },
     "execution_count": 4,
     "metadata": {},
     "output_type": "execute_result"
    }
   ],
   "source": [
    "# List all topics you are currently allowed to view\n",
    "general_consumer.topics()"
   ]
  },
  {
   "cell_type": "code",
   "execution_count": 5,
   "metadata": {},
   "outputs": [],
   "source": [
    "# Close the consumer, waiting indefinitely for any needed cleanup.\n",
    "general_consumer.close()"
   ]
  },
  {
   "cell_type": "markdown",
   "metadata": {},
   "source": [
    "### Define kafka consumer"
   ]
  },
  {
   "cell_type": "code",
   "execution_count": 6,
   "metadata": {},
   "outputs": [],
   "source": [
    "def create_kafka_consumer(topics, config=config):\n",
    "    bootstrap_servers = config['bootstrap_servers']\n",
    "    client_id = config['client_id']\n",
    "    topic_prefix = config['topic_prefix']    \n",
    "    topic_list = ['{}-{}'.format(topic_prefix, topic) for topic in topics]\n",
    "    \n",
    "    return KafkaConsumer(\n",
    "        *topic_list,\n",
    "        client_id=client_id,\n",
    "        bootstrap_servers=bootstrap_servers,\n",
    "        auto_offset_reset='earliest',\n",
    "        enable_auto_commit=False,\n",
    "        value_deserializer=lambda x: json.loads(x)\n",
    "    )\n",
    "\n",
    "consumer = create_kafka_consumer(['locations', 'accelerations'])"
   ]
  },
  {
   "cell_type": "code",
   "execution_count": 7,
   "metadata": {},
   "outputs": [
    {
     "data": {
      "text/plain": [
       "{'VenkidusamyKesavAdithya-accelerations', 'VenkidusamyKesavAdithya-locations'}"
      ]
     },
     "execution_count": 7,
     "metadata": {},
     "output_type": "execute_result"
    }
   ],
   "source": [
    "# Gets a list of this consumer's current subscriptions\n",
    "consumer.subscription()"
   ]
  },
  {
   "cell_type": "markdown",
   "metadata": {},
   "source": [
    "The following function prints messages from the current consumer subscriptions. It will continue until manually stopped. "
   ]
  },
  {
   "cell_type": "code",
   "execution_count": 8,
   "metadata": {},
   "outputs": [],
   "source": [
    "# The following function prints messages from the current consumer subscriptions. \n",
    "# It will continue until manually stopped.\n",
    "\n",
    "def print_messages(consumer=consumer):\n",
    "    try:\n",
    "        for message in consumer:\n",
    "                msg_metadata = 'Message metadata: {}:{}:{}'.format(\n",
    "                    message.topic, message.partition, message.offset\n",
    "                )\n",
    "\n",
    "                if message.key is not None:\n",
    "                    msg_key = message.key.decode('utf-8')\n",
    "                else:\n",
    "                    msg_key = ''\n",
    "                msg_value = json.dumps(message.value, indent=2)\n",
    "                msg_value = '\\n'.join(['  {}'.format(value) for value in msg_value.split('\\n')])\n",
    "\n",
    "                print('Message metadata:')\n",
    "                print('  Topic: {}'.format(message.topic))\n",
    "                print('  Partition: {}'.format(message.partition))\n",
    "                print('  Offset: {}'.format(message.offset))\n",
    "                print('Message Key: {}'.format(msg_key))\n",
    "                print('Message Value:')\n",
    "                print(msg_value)\n",
    "                print()\n",
    "    except KeyboardInterrupt:\n",
    "        print(\"STOPPING MESSAGE CONSUMER\")\n",
    "\n",
    "print_messages()"
   ]
  },
  {
   "cell_type": "code",
   "execution_count": 12,
   "metadata": {},
   "outputs": [],
   "source": [
    "# Close the consumer, waiting indefinitely for any needed cleanup.\n",
    "consumer.close()"
   ]
  }
 ],
 "metadata": {
  "kernelspec": {
   "display_name": "Python 3 (ipykernel)",
   "language": "python",
   "name": "python3"
  },
  "language_info": {
   "codemirror_mode": {
    "name": "ipython",
    "version": 3
   },
   "file_extension": ".py",
   "mimetype": "text/x-python",
   "name": "python",
   "nbconvert_exporter": "python",
   "pygments_lexer": "ipython3",
   "version": "3.9.7"
  }
 },
 "nbformat": 4,
 "nbformat_minor": 4
}
