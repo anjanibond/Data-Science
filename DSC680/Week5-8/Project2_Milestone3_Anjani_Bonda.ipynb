{
 "cells": [
  {
   "cell_type": "markdown",
   "id": "380fc1e4",
   "metadata": {},
   "source": [
    "# Project 2 - Milestone3\n",
    "# Title - IPL(Indian Premier League) Match Predictive Analysis\n",
    "\n",
    "Author: Anjani Bonda <br>\n",
    "Date: 7/22/2023 <br>"
   ]
  },
  {
   "cell_type": "markdown",
   "id": "8c7e688d",
   "metadata": {},
   "source": [
    "### Data Exploration"
   ]
  },
  {
   "cell_type": "code",
   "execution_count": 47,
   "id": "2a2d6924",
   "metadata": {},
   "outputs": [],
   "source": [
    "## Import required libraries\n",
    "import numpy as np\n",
    "import pandas as pd\n",
    "import matplotlib.pyplot as plt\n",
    "import seaborn as sns\n",
    "from sklearn.preprocessing import LabelEncoder\n",
    "from sklearn.ensemble import RandomForestClassifier\n",
    "from sklearn.linear_model import LogisticRegression\n",
    "from sklearn.model_selection import train_test_split\n",
    "from sklearn.feature_selection import RFE\n",
    "from sklearn.preprocessing import StandardScaler\n",
    "from sklearn.svm import SVC\n",
    "from sklearn.tree import DecisionTreeClassifier\n",
    "from sklearn.metrics import confusion_matrix, classification_report"
   ]
  },
  {
   "cell_type": "code",
   "execution_count": 48,
   "id": "809712c7",
   "metadata": {},
   "outputs": [],
   "source": [
    "## Load source dataset and create dataframe\n",
    "ipl_matches=pd.read_csv(\"/Users/anjanibonda/Data-Science/DSC680/Week5-8/all_season_summary.csv\")"
   ]
  },
  {
   "cell_type": "code",
   "execution_count": 49,
   "id": "618d4a85",
   "metadata": {},
   "outputs": [
    {
     "data": {
      "text/html": [
       "<div>\n",
       "<style scoped>\n",
       "    .dataframe tbody tr th:only-of-type {\n",
       "        vertical-align: middle;\n",
       "    }\n",
       "\n",
       "    .dataframe tbody tr th {\n",
       "        vertical-align: top;\n",
       "    }\n",
       "\n",
       "    .dataframe thead th {\n",
       "        text-align: right;\n",
       "    }\n",
       "</style>\n",
       "<table border=\"1\" class=\"dataframe\">\n",
       "  <thead>\n",
       "    <tr style=\"text-align: right;\">\n",
       "      <th></th>\n",
       "      <th>season</th>\n",
       "      <th>id</th>\n",
       "      <th>name</th>\n",
       "      <th>short_name</th>\n",
       "      <th>description</th>\n",
       "      <th>home_team</th>\n",
       "      <th>away_team</th>\n",
       "      <th>toss_won</th>\n",
       "      <th>decision</th>\n",
       "      <th>1st_inning_score</th>\n",
       "      <th>...</th>\n",
       "      <th>home_playx1</th>\n",
       "      <th>away_playx1</th>\n",
       "      <th>away_key_batsman</th>\n",
       "      <th>away_key_bowler</th>\n",
       "      <th>match_days</th>\n",
       "      <th>umpire1</th>\n",
       "      <th>umpire2</th>\n",
       "      <th>tv_umpire</th>\n",
       "      <th>referee</th>\n",
       "      <th>reserve_umpire</th>\n",
       "    </tr>\n",
       "  </thead>\n",
       "  <tbody>\n",
       "    <tr>\n",
       "      <th>0</th>\n",
       "      <td>2022</td>\n",
       "      <td>1304047</td>\n",
       "      <td>Chennai Super Kings v Kolkata Knight Riders</td>\n",
       "      <td>CSK v KKR</td>\n",
       "      <td>1st Match (N), Indian Premier League at Mumbai...</td>\n",
       "      <td>CSK</td>\n",
       "      <td>KKR</td>\n",
       "      <td>KKR</td>\n",
       "      <td>BOWL FIRST</td>\n",
       "      <td>131/5</td>\n",
       "      <td>...</td>\n",
       "      <td>Ruturaj Gaikwad (UKN),Devon Conway (UKN),Robin...</td>\n",
       "      <td>Ajinkya Rahane (UKN),Venkatesh Iyer (AR),Nitis...</td>\n",
       "      <td>Ajinkya Rahane,Sam Billings</td>\n",
       "      <td>Umesh Yadav,Varun Chakravarthy</td>\n",
       "      <td>26 March 2022 - night match (20-over match)</td>\n",
       "      <td>Anil Chaudhary</td>\n",
       "      <td>Nitin Menon</td>\n",
       "      <td>Virender Sharma</td>\n",
       "      <td>Manu Nayyar</td>\n",
       "      <td>Chirra Ravikanthreddy</td>\n",
       "    </tr>\n",
       "    <tr>\n",
       "      <th>1</th>\n",
       "      <td>2022</td>\n",
       "      <td>1304048</td>\n",
       "      <td>Delhi Capitals v Mumbai Indians</td>\n",
       "      <td>DC v MI</td>\n",
       "      <td>2nd Match (D/N), Indian Premier League at Mumb...</td>\n",
       "      <td>DC</td>\n",
       "      <td>MI</td>\n",
       "      <td>DC</td>\n",
       "      <td>BOWL FIRST</td>\n",
       "      <td>177/5</td>\n",
       "      <td>...</td>\n",
       "      <td>Prithvi Shaw (UKN),Tim Seifert (UKN),Mandeep S...</td>\n",
       "      <td>Rohit Sharma (UKN),Ishan Kishan (WK),Anmolpree...</td>\n",
       "      <td>Ishan Kishan,Rohit Sharma</td>\n",
       "      <td>Basil Thampi,Murugan Ashwin</td>\n",
       "      <td>27 March 2022 - day/night match (20-over match)</td>\n",
       "      <td>Saiyed Khalid</td>\n",
       "      <td>Rod Tucker</td>\n",
       "      <td>Jayaraman Madanagopal</td>\n",
       "      <td>Prakash Bhatt</td>\n",
       "      <td>Nitin Pandit</td>\n",
       "    </tr>\n",
       "    <tr>\n",
       "      <th>2</th>\n",
       "      <td>2022</td>\n",
       "      <td>1304049</td>\n",
       "      <td>Punjab Kings v Royal Challengers Bangalore</td>\n",
       "      <td>PBKS v RCB</td>\n",
       "      <td>3rd Match (N), Indian Premier League at Navi M...</td>\n",
       "      <td>PBKS</td>\n",
       "      <td>RCB</td>\n",
       "      <td>KXIP</td>\n",
       "      <td>BOWL FIRST</td>\n",
       "      <td>205/2</td>\n",
       "      <td>...</td>\n",
       "      <td>Mayank Agarwal (UKN),Shikhar Dhawan (UKN),Bhan...</td>\n",
       "      <td>Faf du Plessis (UKN),Anuj Rawat (UKN),Virat Ko...</td>\n",
       "      <td>Faf du Plessis,Virat Kohli</td>\n",
       "      <td>Mohammed Siraj,Harshal Patel</td>\n",
       "      <td>27 March 2022 - night match (20-over match)</td>\n",
       "      <td>Yeshwant Barde</td>\n",
       "      <td>Nitin Menon</td>\n",
       "      <td>Anil Chaudhary</td>\n",
       "      <td>Manu Nayyar</td>\n",
       "      <td>Rohan Pandit</td>\n",
       "    </tr>\n",
       "    <tr>\n",
       "      <th>3</th>\n",
       "      <td>2022</td>\n",
       "      <td>1304050</td>\n",
       "      <td>Gujarat Titans v Lucknow Super Giants</td>\n",
       "      <td>GT v LSG</td>\n",
       "      <td>4th Match (N), Indian Premier League at Mumbai...</td>\n",
       "      <td>GT</td>\n",
       "      <td>LSG</td>\n",
       "      <td>GT</td>\n",
       "      <td>BOWL FIRST</td>\n",
       "      <td>158/6</td>\n",
       "      <td>...</td>\n",
       "      <td>Shubman Gill (UKN),Matthew Wade (WK),Vijay Sha...</td>\n",
       "      <td>KL Rahul (UKN),Quinton de Kock (WK),Evin Lewis...</td>\n",
       "      <td>Deepak Hooda,Ayush Badoni</td>\n",
       "      <td>Dushmantha Chameera,Krunal Pandya</td>\n",
       "      <td>28 March 2022 - night match (20-over match)</td>\n",
       "      <td>Pashchim Pathak</td>\n",
       "      <td>Virender Sharma</td>\n",
       "      <td>Rod Tucker</td>\n",
       "      <td>Daniel Manohar</td>\n",
       "      <td>Sadashiv Iyer</td>\n",
       "    </tr>\n",
       "    <tr>\n",
       "      <th>4</th>\n",
       "      <td>2022</td>\n",
       "      <td>1304051</td>\n",
       "      <td>Sunrisers Hyderabad v Rajasthan Royals</td>\n",
       "      <td>SRH v RR</td>\n",
       "      <td>5th Match (N), Indian Premier League at Pune, ...</td>\n",
       "      <td>SRH</td>\n",
       "      <td>RR</td>\n",
       "      <td>SRH</td>\n",
       "      <td>BOWL FIRST</td>\n",
       "      <td>210/6</td>\n",
       "      <td>...</td>\n",
       "      <td>Kane Williamson (UKN),Abhishek Sharma (AR),Rah...</td>\n",
       "      <td>Jos Buttler (UKN),Yashasvi Jaiswal (UKN),Sanju...</td>\n",
       "      <td>Sanju Samson,Devdutt Padikkal</td>\n",
       "      <td>Yuzvendra Chahal,Prasidh Krishna</td>\n",
       "      <td>29 March 2022 - night match (20-over match)</td>\n",
       "      <td>Ulhas Gandhe</td>\n",
       "      <td>Bruce Oxenford</td>\n",
       "      <td>KN Ananthapadmanabhan</td>\n",
       "      <td>Shakti Singh</td>\n",
       "      <td>Saidharshan Kumar</td>\n",
       "    </tr>\n",
       "  </tbody>\n",
       "</table>\n",
       "<p>5 rows × 45 columns</p>\n",
       "</div>"
      ],
      "text/plain": [
       "   season       id                                         name  short_name  \\\n",
       "0    2022  1304047  Chennai Super Kings v Kolkata Knight Riders   CSK v KKR   \n",
       "1    2022  1304048              Delhi Capitals v Mumbai Indians     DC v MI   \n",
       "2    2022  1304049   Punjab Kings v Royal Challengers Bangalore  PBKS v RCB   \n",
       "3    2022  1304050        Gujarat Titans v Lucknow Super Giants    GT v LSG   \n",
       "4    2022  1304051       Sunrisers Hyderabad v Rajasthan Royals    SRH v RR   \n",
       "\n",
       "                                         description home_team away_team  \\\n",
       "0  1st Match (N), Indian Premier League at Mumbai...       CSK       KKR   \n",
       "1  2nd Match (D/N), Indian Premier League at Mumb...        DC        MI   \n",
       "2  3rd Match (N), Indian Premier League at Navi M...      PBKS       RCB   \n",
       "3  4th Match (N), Indian Premier League at Mumbai...        GT       LSG   \n",
       "4  5th Match (N), Indian Premier League at Pune, ...       SRH        RR   \n",
       "\n",
       "  toss_won    decision 1st_inning_score  ...  \\\n",
       "0      KKR  BOWL FIRST            131/5  ...   \n",
       "1       DC  BOWL FIRST            177/5  ...   \n",
       "2     KXIP  BOWL FIRST            205/2  ...   \n",
       "3       GT  BOWL FIRST            158/6  ...   \n",
       "4      SRH  BOWL FIRST            210/6  ...   \n",
       "\n",
       "                                         home_playx1  \\\n",
       "0  Ruturaj Gaikwad (UKN),Devon Conway (UKN),Robin...   \n",
       "1  Prithvi Shaw (UKN),Tim Seifert (UKN),Mandeep S...   \n",
       "2  Mayank Agarwal (UKN),Shikhar Dhawan (UKN),Bhan...   \n",
       "3  Shubman Gill (UKN),Matthew Wade (WK),Vijay Sha...   \n",
       "4  Kane Williamson (UKN),Abhishek Sharma (AR),Rah...   \n",
       "\n",
       "                                         away_playx1  \\\n",
       "0  Ajinkya Rahane (UKN),Venkatesh Iyer (AR),Nitis...   \n",
       "1  Rohit Sharma (UKN),Ishan Kishan (WK),Anmolpree...   \n",
       "2  Faf du Plessis (UKN),Anuj Rawat (UKN),Virat Ko...   \n",
       "3  KL Rahul (UKN),Quinton de Kock (WK),Evin Lewis...   \n",
       "4  Jos Buttler (UKN),Yashasvi Jaiswal (UKN),Sanju...   \n",
       "\n",
       "                away_key_batsman                    away_key_bowler  \\\n",
       "0    Ajinkya Rahane,Sam Billings     Umesh Yadav,Varun Chakravarthy   \n",
       "1      Ishan Kishan,Rohit Sharma        Basil Thampi,Murugan Ashwin   \n",
       "2     Faf du Plessis,Virat Kohli       Mohammed Siraj,Harshal Patel   \n",
       "3      Deepak Hooda,Ayush Badoni  Dushmantha Chameera,Krunal Pandya   \n",
       "4  Sanju Samson,Devdutt Padikkal   Yuzvendra Chahal,Prasidh Krishna   \n",
       "\n",
       "                                        match_days          umpire1  \\\n",
       "0      26 March 2022 - night match (20-over match)   Anil Chaudhary   \n",
       "1  27 March 2022 - day/night match (20-over match)    Saiyed Khalid   \n",
       "2      27 March 2022 - night match (20-over match)   Yeshwant Barde   \n",
       "3      28 March 2022 - night match (20-over match)  Pashchim Pathak   \n",
       "4      29 March 2022 - night match (20-over match)     Ulhas Gandhe   \n",
       "\n",
       "           umpire2              tv_umpire         referee  \\\n",
       "0      Nitin Menon        Virender Sharma     Manu Nayyar   \n",
       "1       Rod Tucker  Jayaraman Madanagopal   Prakash Bhatt   \n",
       "2      Nitin Menon         Anil Chaudhary     Manu Nayyar   \n",
       "3  Virender Sharma             Rod Tucker  Daniel Manohar   \n",
       "4   Bruce Oxenford  KN Ananthapadmanabhan    Shakti Singh   \n",
       "\n",
       "          reserve_umpire  \n",
       "0  Chirra Ravikanthreddy  \n",
       "1           Nitin Pandit  \n",
       "2           Rohan Pandit  \n",
       "3          Sadashiv Iyer  \n",
       "4      Saidharshan Kumar  \n",
       "\n",
       "[5 rows x 45 columns]"
      ]
     },
     "execution_count": 49,
     "metadata": {},
     "output_type": "execute_result"
    }
   ],
   "source": [
    "## Check sample records from the dataframe \n",
    "ipl_matches.head()"
   ]
  },
  {
   "cell_type": "code",
   "execution_count": 50,
   "id": "6ee2d712",
   "metadata": {},
   "outputs": [
    {
     "data": {
      "text/plain": [
       "(958, 45)"
      ]
     },
     "execution_count": 50,
     "metadata": {},
     "output_type": "execute_result"
    }
   ],
   "source": [
    "## check shape of the dataframe\n",
    "ipl_matches.shape"
   ]
  },
  {
   "cell_type": "code",
   "execution_count": 51,
   "id": "e7ecfcdb",
   "metadata": {},
   "outputs": [
    {
     "name": "stdout",
     "output_type": "stream",
     "text": [
      "<class 'pandas.core.frame.DataFrame'>\n",
      "RangeIndex: 958 entries, 0 to 957\n",
      "Data columns (total 45 columns):\n",
      " #   Column            Non-Null Count  Dtype  \n",
      "---  ------            --------------  -----  \n",
      " 0   season            958 non-null    int64  \n",
      " 1   id                958 non-null    int64  \n",
      " 2   name              958 non-null    object \n",
      " 3   short_name        958 non-null    object \n",
      " 4   description       958 non-null    object \n",
      " 5   home_team         958 non-null    object \n",
      " 6   away_team         958 non-null    object \n",
      " 7   toss_won          958 non-null    object \n",
      " 8   decision          958 non-null    object \n",
      " 9   1st_inning_score  950 non-null    object \n",
      " 10  2nd_inning_score  948 non-null    object \n",
      " 11  home_score        950 non-null    object \n",
      " 12  away_score        948 non-null    object \n",
      " 13  winner            958 non-null    object \n",
      " 14  result            958 non-null    object \n",
      " 15  start_date        958 non-null    object \n",
      " 16  end_date          958 non-null    object \n",
      " 17  venue_id          958 non-null    int64  \n",
      " 18  venue_name        958 non-null    object \n",
      " 19  home_captain      958 non-null    object \n",
      " 20  away_captain      958 non-null    object \n",
      " 21  pom               958 non-null    object \n",
      " 22  points            958 non-null    object \n",
      " 23  super_over        958 non-null    bool   \n",
      " 24  home_overs        950 non-null    float64\n",
      " 25  home_runs         950 non-null    float64\n",
      " 26  home_wickets      950 non-null    float64\n",
      " 27  home_boundaries   950 non-null    float64\n",
      " 28  away_overs        948 non-null    float64\n",
      " 29  away_runs         948 non-null    float64\n",
      " 30  away_wickets      948 non-null    float64\n",
      " 31  away_boundaries   948 non-null    float64\n",
      " 32  highlights        936 non-null    object \n",
      " 33  home_key_batsman  950 non-null    object \n",
      " 34  home_key_bowler   937 non-null    object \n",
      " 35  home_playx1       958 non-null    object \n",
      " 36  away_playx1       958 non-null    object \n",
      " 37  away_key_batsman  948 non-null    object \n",
      " 38  away_key_bowler   939 non-null    object \n",
      " 39  match_days        958 non-null    object \n",
      " 40  umpire1           958 non-null    object \n",
      " 41  umpire2           958 non-null    object \n",
      " 42  tv_umpire         958 non-null    object \n",
      " 43  referee           958 non-null    object \n",
      " 44  reserve_umpire    958 non-null    object \n",
      "dtypes: bool(1), float64(8), int64(3), object(33)\n",
      "memory usage: 330.4+ KB\n"
     ]
    }
   ],
   "source": [
    "## check info of the dataframe\n",
    "ipl_matches.info()"
   ]
  },
  {
   "cell_type": "markdown",
   "id": "65156a1c",
   "metadata": {},
   "source": [
    "### EDA"
   ]
  },
  {
   "cell_type": "code",
   "execution_count": 52,
   "id": "18a92016",
   "metadata": {},
   "outputs": [
    {
     "data": {
      "text/plain": [
       "(958, 13)"
      ]
     },
     "execution_count": 52,
     "metadata": {},
     "output_type": "execute_result"
    }
   ],
   "source": [
    "## Remove any unwanted columns\n",
    "\n",
    "ipl_matches.drop(columns=[\"id\",\"reserve_umpire\",\"referee\",\"tv_umpire\",\"umpire2\",\"umpire1\",\"match_days\",\n",
    "                          \"away_key_bowler\",\"away_playx1\",\"away_key_batsman\",\"home_playx1\",\"home_key_bowler\",\n",
    "                          \"home_key_batsman\",\"highlights\",\"away_boundaries\",\"away_wickets\",\"away_runs\",\n",
    "                         \"away_overs\",\"home_boundaries\",\"home_wickets\",\"home_runs\",\"home_overs\",\"super_over\",\n",
    "                         \"points\",\"pom\",\"away_captain\",\"home_captain\",\"start_date\",\"end_date\",\"home_score\",\n",
    "                         \"away_score\",\"venue_id\"],inplace=True)\n",
    "ipl_matches.shape"
   ]
  },
  {
   "cell_type": "code",
   "execution_count": 53,
   "id": "3d554a4d",
   "metadata": {},
   "outputs": [
    {
     "name": "stdout",
     "output_type": "stream",
     "text": [
      "1st_inning_score     8\n",
      "2nd_inning_score    10\n",
      "dtype: int64\n"
     ]
    }
   ],
   "source": [
    "## Check columns with null values\n",
    "null_columns=ipl_matches.isnull().sum()\n",
    "print(null_columns[null_columns > 0])"
   ]
  },
  {
   "cell_type": "code",
   "execution_count": 54,
   "id": "d4cb8161",
   "metadata": {},
   "outputs": [
    {
     "data": {
      "text/html": [
       "<div>\n",
       "<style scoped>\n",
       "    .dataframe tbody tr th:only-of-type {\n",
       "        vertical-align: middle;\n",
       "    }\n",
       "\n",
       "    .dataframe tbody tr th {\n",
       "        vertical-align: top;\n",
       "    }\n",
       "\n",
       "    .dataframe thead th {\n",
       "        text-align: right;\n",
       "    }\n",
       "</style>\n",
       "<table border=\"1\" class=\"dataframe\">\n",
       "  <thead>\n",
       "    <tr style=\"text-align: right;\">\n",
       "      <th></th>\n",
       "      <th>season</th>\n",
       "      <th>name</th>\n",
       "      <th>short_name</th>\n",
       "      <th>description</th>\n",
       "      <th>home_team</th>\n",
       "      <th>away_team</th>\n",
       "      <th>toss_won</th>\n",
       "      <th>decision</th>\n",
       "      <th>1st_inning_score</th>\n",
       "      <th>2nd_inning_score</th>\n",
       "      <th>winner</th>\n",
       "      <th>result</th>\n",
       "      <th>venue_name</th>\n",
       "    </tr>\n",
       "  </thead>\n",
       "  <tbody>\n",
       "    <tr>\n",
       "      <th>0</th>\n",
       "      <td>2022</td>\n",
       "      <td>Chennai Super Kings v Kolkata Knight Riders</td>\n",
       "      <td>CSK v KKR</td>\n",
       "      <td>1st Match (N), Indian Premier League at Mumbai...</td>\n",
       "      <td>CSK</td>\n",
       "      <td>KKR</td>\n",
       "      <td>KKR</td>\n",
       "      <td>BOWL FIRST</td>\n",
       "      <td>131/5</td>\n",
       "      <td>133/4</td>\n",
       "      <td>KKR</td>\n",
       "      <td>KKR won by 6 wkts (9b rem)</td>\n",
       "      <td>Wankhede Stadium, Mumbai</td>\n",
       "    </tr>\n",
       "    <tr>\n",
       "      <th>1</th>\n",
       "      <td>2022</td>\n",
       "      <td>Delhi Capitals v Mumbai Indians</td>\n",
       "      <td>DC v MI</td>\n",
       "      <td>2nd Match (D/N), Indian Premier League at Mumb...</td>\n",
       "      <td>DC</td>\n",
       "      <td>MI</td>\n",
       "      <td>DC</td>\n",
       "      <td>BOWL FIRST</td>\n",
       "      <td>177/5</td>\n",
       "      <td>179/6</td>\n",
       "      <td>DC</td>\n",
       "      <td>Capitals won by 4 wkts (10b rem)</td>\n",
       "      <td>Brabourne Stadium, Mumbai</td>\n",
       "    </tr>\n",
       "    <tr>\n",
       "      <th>2</th>\n",
       "      <td>2022</td>\n",
       "      <td>Punjab Kings v Royal Challengers Bangalore</td>\n",
       "      <td>PBKS v RCB</td>\n",
       "      <td>3rd Match (N), Indian Premier League at Navi M...</td>\n",
       "      <td>PBKS</td>\n",
       "      <td>RCB</td>\n",
       "      <td>KXIP</td>\n",
       "      <td>BOWL FIRST</td>\n",
       "      <td>205/2</td>\n",
       "      <td>208/5</td>\n",
       "      <td>PBKS</td>\n",
       "      <td>Punjab Kings won by 5 wkts (6b rem)</td>\n",
       "      <td>Dr DY Patil Sports Academy, Navi Mumbai</td>\n",
       "    </tr>\n",
       "    <tr>\n",
       "      <th>3</th>\n",
       "      <td>2022</td>\n",
       "      <td>Gujarat Titans v Lucknow Super Giants</td>\n",
       "      <td>GT v LSG</td>\n",
       "      <td>4th Match (N), Indian Premier League at Mumbai...</td>\n",
       "      <td>GT</td>\n",
       "      <td>LSG</td>\n",
       "      <td>GT</td>\n",
       "      <td>BOWL FIRST</td>\n",
       "      <td>158/6</td>\n",
       "      <td>161/5</td>\n",
       "      <td>GT</td>\n",
       "      <td>Titans won by 5 wkts (2b rem)</td>\n",
       "      <td>Wankhede Stadium, Mumbai</td>\n",
       "    </tr>\n",
       "    <tr>\n",
       "      <th>4</th>\n",
       "      <td>2022</td>\n",
       "      <td>Sunrisers Hyderabad v Rajasthan Royals</td>\n",
       "      <td>SRH v RR</td>\n",
       "      <td>5th Match (N), Indian Premier League at Pune, ...</td>\n",
       "      <td>SRH</td>\n",
       "      <td>RR</td>\n",
       "      <td>SRH</td>\n",
       "      <td>BOWL FIRST</td>\n",
       "      <td>210/6</td>\n",
       "      <td>149/7</td>\n",
       "      <td>RR</td>\n",
       "      <td>Royals won by 61 runs</td>\n",
       "      <td>Maharashtra Cricket Association Stadium, Pune</td>\n",
       "    </tr>\n",
       "  </tbody>\n",
       "</table>\n",
       "</div>"
      ],
      "text/plain": [
       "   season                                         name  short_name  \\\n",
       "0    2022  Chennai Super Kings v Kolkata Knight Riders   CSK v KKR   \n",
       "1    2022              Delhi Capitals v Mumbai Indians     DC v MI   \n",
       "2    2022   Punjab Kings v Royal Challengers Bangalore  PBKS v RCB   \n",
       "3    2022        Gujarat Titans v Lucknow Super Giants    GT v LSG   \n",
       "4    2022       Sunrisers Hyderabad v Rajasthan Royals    SRH v RR   \n",
       "\n",
       "                                         description home_team away_team  \\\n",
       "0  1st Match (N), Indian Premier League at Mumbai...       CSK       KKR   \n",
       "1  2nd Match (D/N), Indian Premier League at Mumb...        DC        MI   \n",
       "2  3rd Match (N), Indian Premier League at Navi M...      PBKS       RCB   \n",
       "3  4th Match (N), Indian Premier League at Mumbai...        GT       LSG   \n",
       "4  5th Match (N), Indian Premier League at Pune, ...       SRH        RR   \n",
       "\n",
       "  toss_won    decision 1st_inning_score 2nd_inning_score winner  \\\n",
       "0      KKR  BOWL FIRST            131/5            133/4    KKR   \n",
       "1       DC  BOWL FIRST            177/5            179/6     DC   \n",
       "2     KXIP  BOWL FIRST            205/2            208/5   PBKS   \n",
       "3       GT  BOWL FIRST            158/6            161/5     GT   \n",
       "4      SRH  BOWL FIRST            210/6            149/7     RR   \n",
       "\n",
       "                                result  \\\n",
       "0           KKR won by 6 wkts (9b rem)   \n",
       "1     Capitals won by 4 wkts (10b rem)   \n",
       "2  Punjab Kings won by 5 wkts (6b rem)   \n",
       "3        Titans won by 5 wkts (2b rem)   \n",
       "4                Royals won by 61 runs   \n",
       "\n",
       "                                      venue_name  \n",
       "0                       Wankhede Stadium, Mumbai  \n",
       "1                      Brabourne Stadium, Mumbai  \n",
       "2        Dr DY Patil Sports Academy, Navi Mumbai  \n",
       "3                       Wankhede Stadium, Mumbai  \n",
       "4  Maharashtra Cricket Association Stadium, Pune  "
      ]
     },
     "execution_count": 54,
     "metadata": {},
     "output_type": "execute_result"
    }
   ],
   "source": [
    "ipl_matches.head()"
   ]
  },
  {
   "cell_type": "markdown",
   "id": "bd19d021",
   "metadata": {},
   "source": [
    "### Visualizations"
   ]
  },
  {
   "cell_type": "code",
   "execution_count": 55,
   "id": "6cea3d05",
   "metadata": {},
   "outputs": [],
   "source": [
    "## Checking stats for Toss affecting the win.\n",
    "toss_won_df = ipl_matches.groupby(['toss_won']).winner.value_counts().reset_index(name=\"count\")\n",
    "toss_won_df['result']=np.where(toss_won_df.winner==toss_won_df.toss_won,'won','lost')\n",
    "toss_won_result_df = toss_won_df.groupby(['toss_won','result'])['count'].sum().reset_index()\n"
   ]
  },
  {
   "cell_type": "code",
   "execution_count": 56,
   "id": "7510c749",
   "metadata": {},
   "outputs": [
    {
     "data": {
      "image/png": "[encoded data removed]",
      "text/plain": [
       "<Figure size 842.4x595.44 with 1 Axes>"
      ]
     },
     "metadata": {},
     "output_type": "display_data"
    }
   ],
   "source": [
    "## Visualization\n",
    "plot = sns.barplot(x=\"toss_won\", y=\"count\", hue=\"result\", data=toss_won_result_df)\n",
    "plot.set_title('Matches won/lost by teams winning toss ')\n",
    "plot.set_xticklabels(toss_won_result_df['toss_won'].unique(),rotation=90)\n",
    "plt.show()"
   ]
  },
  {
   "cell_type": "code",
   "execution_count": 57,
   "id": "15a1a82d",
   "metadata": {},
   "outputs": [
    {
     "name": "stderr",
     "output_type": "stream",
     "text": [
      "/var/folders/0c/spq36xkd5vz7k9940sd5prhw0000gn/T/ipykernel_769/1309432646.py:3: SettingWithCopyWarning: \n",
      "A value is trying to be set on a copy of a slice from a DataFrame.\n",
      "Try using .loc[row_indexer,col_indexer] = value instead\n",
      "\n",
      "See the caveats in the documentation: https://pandas.pydata.org/pandas-docs/stable/user_guide/indexing.html#returning-a-view-versus-a-copy\n",
      "  venue_toss_decision_result[\"decision\"]=np.where((venue_toss_decision_result.toss_won == venue_toss_decision_result.winner) & (venue_toss_decision_result.decision==\"BOWL FIRST\"),\"field_won\",\"bat_won\")\n"
     ]
    },
    {
     "data": {
      "image/png": "[encoded data removed]",
      "text/plain": [
       "<Figure size 842.4x595.44 with 1 Axes>"
      ]
     },
     "metadata": {},
     "output_type": "display_data"
    }
   ],
   "source": [
    "## Checking Winning stats of teams by venue\n",
    "venue_toss_decision_result=ipl_matches[[\"toss_won\",\"decision\",\"winner\",\"venue_name\"]]\n",
    "venue_toss_decision_result[\"decision\"]=np.where((venue_toss_decision_result.toss_won == venue_toss_decision_result.winner) & (venue_toss_decision_result.decision==\"BOWL FIRST\"),\"field_won\",\"bat_won\")\n",
    "venue_result=venue_toss_decision_result.groupby([\"venue_name\"]).decision.value_counts().reset_index(name=\"count\")\n",
    "#Visualization\n",
    "sns.set(rc={'figure.figsize':(11.7,8.27)})\n",
    "plot = sns.barplot(x=\"venue_name\", y=\"count\", hue=\"decision\", data=venue_result)\n",
    "plot.set_title('Teams bat/field first results by venue')\n",
    "plot.set_xticklabels(venue_result['venue_name'].unique(),rotation=90)\n",
    "plt.show()"
   ]
  },
  {
   "cell_type": "code",
   "execution_count": 58,
   "id": "b9b5ae35",
   "metadata": {},
   "outputs": [
    {
     "data": {
      "text/plain": [
       "Text(0.5, 1.0, 'No of matches won by different teams')"
      ]
     },
     "execution_count": 58,
     "metadata": {},
     "output_type": "execute_result"
    },
    {
     "data": {
      "image/png": "[encoded data removed]",
      "text/plain": [
       "<Figure size 842.4x595.44 with 1 Axes>"
      ]
     },
     "metadata": {},
     "output_type": "display_data"
    }
   ],
   "source": [
    "## Checking # of matches won by different teams\n",
    "teams = list(set(ipl_matches.loc[:,'home_team']))\n",
    "matches_won = [len(ipl_matches.loc[ipl_matches['winner'] == i]) for i in teams]\n",
    "plt.bar(np.arange(len(teams)), matches_won)\n",
    "plt.xticks(np.arange(len(teams)), teams, rotation='vertical')\n",
    "plt.ylabel('No. of Matches won')\n",
    "plt.xlabel('Teams')\n",
    "plt.title('No of matches won by different teams')"
   ]
  },
  {
   "cell_type": "markdown",
   "id": "6ba05922",
   "metadata": {},
   "source": [
    "### Feature Engineering"
   ]
  },
  {
   "cell_type": "code",
   "execution_count": 59,
   "id": "19f70e19",
   "metadata": {},
   "outputs": [],
   "source": [
    "## Encoding the numerical values\n",
    "encoder= LabelEncoder()\n",
    "ipl_matches[\"home_team\"]=encoder.fit_transform(ipl_matches[\"home_team\"])\n",
    "ipl_matches[\"away_team\"]=encoder.fit_transform(ipl_matches[\"away_team\"])\n",
    "ipl_matches[\"winner\"]=encoder.fit_transform(ipl_matches[\"winner\"].astype(str))\n",
    "ipl_matches[\"toss_won\"]=encoder.fit_transform(ipl_matches[\"toss_won\"])\n",
    "ipl_matches[\"venue_name\"]=encoder.fit_transform(ipl_matches[\"venue_name\"])\n"
   ]
  },
  {
   "cell_type": "code",
   "execution_count": 60,
   "id": "fc78f360",
   "metadata": {},
   "outputs": [
    {
     "data": {
      "image/png": "[encoded data removed]",
      "text/plain": [
       "<Figure size 842.4x595.44 with 1 Axes>"
      ]
     },
     "metadata": {},
     "output_type": "display_data"
    }
   ],
   "source": [
    "## outcome variable 'hometeam_win' as a probability of home_team winning the match\n",
    "ipl_matches.loc[ipl_matches[\"winner\"]==ipl_matches[\"home_team\"],\"hometeam_win\"]=1\n",
    "ipl_matches.loc[ipl_matches[\"winner\"]!=ipl_matches[\"home_team\"],\"hometeam_win\"]=0\n",
    "\n",
    "## Checking the distribution of the dataset\n",
    "sns.countplot(x=\"hometeam_win\",data=ipl_matches)\n",
    "plt.show()"
   ]
  },
  {
   "cell_type": "code",
   "execution_count": 61,
   "id": "46660082",
   "metadata": {},
   "outputs": [
    {
     "data": {
      "image/png": "[encoded data removed]",
      "text/plain": [
       "<Figure size 842.4x595.44 with 1 Axes>"
      ]
     },
     "metadata": {},
     "output_type": "display_data"
    }
   ],
   "source": [
    "## outcome variable 'hometeam_toss_win' as a probability of home_team winning the toss\n",
    "ipl_matches.loc[ipl_matches[\"toss_won\"]==ipl_matches[\"home_team\"],\"hometeam_toss_win\"]=1\n",
    "ipl_matches.loc[ipl_matches[\"toss_won\"]!=ipl_matches[\"home_team\"],\"hometeam_toss_win\"]=0\n",
    "\n",
    "## Checking the distribution of the dataset\n",
    "sns.countplot(x=\"hometeam_toss_win\",data=ipl_matches)\n",
    "plt.show()"
   ]
  },
  {
   "cell_type": "code",
   "execution_count": 62,
   "id": "5f824ebc",
   "metadata": {},
   "outputs": [
    {
     "data": {
      "image/png": "[encoded data removed]",
      "text/plain": [
       "<Figure size 842.4x595.44 with 1 Axes>"
      ]
     },
     "metadata": {},
     "output_type": "display_data"
    }
   ],
   "source": [
    "## outcome variable 'hometeam_bat' as a probability of home_team batting first\n",
    "ipl_matches[\"hometeam_bat\"]=0\n",
    "ipl_matches.loc[(ipl_matches[\"hometeam_toss_win\"]==1) & (ipl_matches[\"decision\"]==\"bat\"),\"hometeam_bat\"]=1\n",
    "\n",
    "## Checking the distribution of the dataset\n",
    "sns.countplot(x=\"hometeam_bat\",data=ipl_matches)\n",
    "plt.show()"
   ]
  },
  {
   "cell_type": "code",
   "execution_count": 63,
   "id": "a0da726e",
   "metadata": {},
   "outputs": [],
   "source": [
    "## Create a prediction dataframe with all required and related features\n",
    "prediction_df=ipl_matches[[\"home_team\",\"away_team\",\"hometeam_toss_win\",\"hometeam_bat\",\"hometeam_win\",\"venue_name\"]]"
   ]
  },
  {
   "cell_type": "code",
   "execution_count": 64,
   "id": "54b5156a",
   "metadata": {},
   "outputs": [
    {
     "data": {
      "text/html": [
       "<div>\n",
       "<style scoped>\n",
       "    .dataframe tbody tr th:only-of-type {\n",
       "        vertical-align: middle;\n",
       "    }\n",
       "\n",
       "    .dataframe tbody tr th {\n",
       "        vertical-align: top;\n",
       "    }\n",
       "\n",
       "    .dataframe thead th {\n",
       "        text-align: right;\n",
       "    }\n",
       "</style>\n",
       "<table border=\"1\" class=\"dataframe\">\n",
       "  <thead>\n",
       "    <tr style=\"text-align: right;\">\n",
       "      <th></th>\n",
       "      <th>home_team</th>\n",
       "      <th>away_team</th>\n",
       "      <th>hometeam_toss_win</th>\n",
       "      <th>hometeam_bat</th>\n",
       "      <th>venue_name</th>\n",
       "    </tr>\n",
       "  </thead>\n",
       "  <tbody>\n",
       "    <tr>\n",
       "      <th>home_team</th>\n",
       "      <td>1.000000</td>\n",
       "      <td>-0.142251</td>\n",
       "      <td>-0.423365</td>\n",
       "      <td>NaN</td>\n",
       "      <td>0.271405</td>\n",
       "    </tr>\n",
       "    <tr>\n",
       "      <th>away_team</th>\n",
       "      <td>-0.142251</td>\n",
       "      <td>1.000000</td>\n",
       "      <td>0.106037</td>\n",
       "      <td>NaN</td>\n",
       "      <td>-0.043951</td>\n",
       "    </tr>\n",
       "    <tr>\n",
       "      <th>hometeam_toss_win</th>\n",
       "      <td>-0.423365</td>\n",
       "      <td>0.106037</td>\n",
       "      <td>1.000000</td>\n",
       "      <td>NaN</td>\n",
       "      <td>-0.055695</td>\n",
       "    </tr>\n",
       "    <tr>\n",
       "      <th>hometeam_bat</th>\n",
       "      <td>NaN</td>\n",
       "      <td>NaN</td>\n",
       "      <td>NaN</td>\n",
       "      <td>NaN</td>\n",
       "      <td>NaN</td>\n",
       "    </tr>\n",
       "    <tr>\n",
       "      <th>venue_name</th>\n",
       "      <td>0.271405</td>\n",
       "      <td>-0.043951</td>\n",
       "      <td>-0.055695</td>\n",
       "      <td>NaN</td>\n",
       "      <td>1.000000</td>\n",
       "    </tr>\n",
       "  </tbody>\n",
       "</table>\n",
       "</div>"
      ],
      "text/plain": [
       "                   home_team  away_team  hometeam_toss_win  hometeam_bat  \\\n",
       "home_team           1.000000  -0.142251          -0.423365           NaN   \n",
       "away_team          -0.142251   1.000000           0.106037           NaN   \n",
       "hometeam_toss_win  -0.423365   0.106037           1.000000           NaN   \n",
       "hometeam_bat             NaN        NaN                NaN           NaN   \n",
       "venue_name          0.271405  -0.043951          -0.055695           NaN   \n",
       "\n",
       "                   venue_name  \n",
       "home_team            0.271405  \n",
       "away_team           -0.043951  \n",
       "hometeam_toss_win   -0.055695  \n",
       "hometeam_bat              NaN  \n",
       "venue_name           1.000000  "
      ]
     },
     "execution_count": 64,
     "metadata": {},
     "output_type": "execute_result"
    }
   ],
   "source": [
    "## Dropping higly correlated features\n",
    "correlated_features = set()\n",
    "correlation_matrix = prediction_df.drop('hometeam_win', axis=1).corr()\n",
    "correlation_matrix\n",
    "\n"
   ]
  },
  {
   "cell_type": "code",
   "execution_count": 65,
   "id": "8a1b8011",
   "metadata": {},
   "outputs": [
    {
     "data": {
      "text/html": [
       "<div>\n",
       "<style scoped>\n",
       "    .dataframe tbody tr th:only-of-type {\n",
       "        vertical-align: middle;\n",
       "    }\n",
       "\n",
       "    .dataframe tbody tr th {\n",
       "        vertical-align: top;\n",
       "    }\n",
       "\n",
       "    .dataframe thead th {\n",
       "        text-align: right;\n",
       "    }\n",
       "</style>\n",
       "<table border=\"1\" class=\"dataframe\">\n",
       "  <thead>\n",
       "    <tr style=\"text-align: right;\">\n",
       "      <th></th>\n",
       "      <th>home_team</th>\n",
       "      <th>away_team</th>\n",
       "      <th>hometeam_toss_win</th>\n",
       "      <th>hometeam_bat</th>\n",
       "      <th>hometeam_win</th>\n",
       "      <th>venue_name</th>\n",
       "    </tr>\n",
       "  </thead>\n",
       "  <tbody>\n",
       "    <tr>\n",
       "      <th>0</th>\n",
       "      <td>0</td>\n",
       "      <td>4</td>\n",
       "      <td>0.0</td>\n",
       "      <td>0</td>\n",
       "      <td>0.0</td>\n",
       "      <td>34</td>\n",
       "    </tr>\n",
       "    <tr>\n",
       "      <th>1</th>\n",
       "      <td>1</td>\n",
       "      <td>8</td>\n",
       "      <td>1.0</td>\n",
       "      <td>0</td>\n",
       "      <td>1.0</td>\n",
       "      <td>2</td>\n",
       "    </tr>\n",
       "    <tr>\n",
       "      <th>2</th>\n",
       "      <td>9</td>\n",
       "      <td>11</td>\n",
       "      <td>0.0</td>\n",
       "      <td>0</td>\n",
       "      <td>0.0</td>\n",
       "      <td>6</td>\n",
       "    </tr>\n",
       "    <tr>\n",
       "      <th>3</th>\n",
       "      <td>3</td>\n",
       "      <td>7</td>\n",
       "      <td>1.0</td>\n",
       "      <td>0</td>\n",
       "      <td>1.0</td>\n",
       "      <td>34</td>\n",
       "    </tr>\n",
       "    <tr>\n",
       "      <th>4</th>\n",
       "      <td>14</td>\n",
       "      <td>13</td>\n",
       "      <td>0.0</td>\n",
       "      <td>0</td>\n",
       "      <td>1.0</td>\n",
       "      <td>17</td>\n",
       "    </tr>\n",
       "    <tr>\n",
       "      <th>...</th>\n",
       "      <td>...</td>\n",
       "      <td>...</td>\n",
       "      <td>...</td>\n",
       "      <td>...</td>\n",
       "      <td>...</td>\n",
       "      <td>...</td>\n",
       "    </tr>\n",
       "    <tr>\n",
       "      <th>953</th>\n",
       "      <td>11</td>\n",
       "      <td>8</td>\n",
       "      <td>0.0</td>\n",
       "      <td>0</td>\n",
       "      <td>0.0</td>\n",
       "      <td>15</td>\n",
       "    </tr>\n",
       "    <tr>\n",
       "      <th>954</th>\n",
       "      <td>5</td>\n",
       "      <td>13</td>\n",
       "      <td>0.0</td>\n",
       "      <td>0</td>\n",
       "      <td>1.0</td>\n",
       "      <td>22</td>\n",
       "    </tr>\n",
       "    <tr>\n",
       "      <th>955</th>\n",
       "      <td>1</td>\n",
       "      <td>13</td>\n",
       "      <td>1.0</td>\n",
       "      <td>0</td>\n",
       "      <td>0.0</td>\n",
       "      <td>34</td>\n",
       "    </tr>\n",
       "    <tr>\n",
       "      <th>956</th>\n",
       "      <td>0</td>\n",
       "      <td>5</td>\n",
       "      <td>0.0</td>\n",
       "      <td>0</td>\n",
       "      <td>1.0</td>\n",
       "      <td>34</td>\n",
       "    </tr>\n",
       "    <tr>\n",
       "      <th>957</th>\n",
       "      <td>0</td>\n",
       "      <td>13</td>\n",
       "      <td>0.0</td>\n",
       "      <td>0</td>\n",
       "      <td>0.0</td>\n",
       "      <td>5</td>\n",
       "    </tr>\n",
       "  </tbody>\n",
       "</table>\n",
       "<p>958 rows × 6 columns</p>\n",
       "</div>"
      ],
      "text/plain": [
       "     home_team  away_team  hometeam_toss_win  hometeam_bat  hometeam_win  \\\n",
       "0            0          4                0.0             0           0.0   \n",
       "1            1          8                1.0             0           1.0   \n",
       "2            9         11                0.0             0           0.0   \n",
       "3            3          7                1.0             0           1.0   \n",
       "4           14         13                0.0             0           1.0   \n",
       "..         ...        ...                ...           ...           ...   \n",
       "953         11          8                0.0             0           0.0   \n",
       "954          5         13                0.0             0           1.0   \n",
       "955          1         13                1.0             0           0.0   \n",
       "956          0          5                0.0             0           1.0   \n",
       "957          0         13                0.0             0           0.0   \n",
       "\n",
       "     venue_name  \n",
       "0            34  \n",
       "1             2  \n",
       "2             6  \n",
       "3            34  \n",
       "4            17  \n",
       "..          ...  \n",
       "953          15  \n",
       "954          22  \n",
       "955          34  \n",
       "956          34  \n",
       "957           5  \n",
       "\n",
       "[958 rows x 6 columns]"
      ]
     },
     "execution_count": 65,
     "metadata": {},
     "output_type": "execute_result"
    }
   ],
   "source": [
    "for i in range(len(correlation_matrix.columns)):\n",
    "    for j in range(i):\n",
    "        if abs(correlation_matrix.iloc[i, j]) > 0.8:\n",
    "            colname = correlation_matrix.columns[i]\n",
    "            correlated_features.add(colname)\n",
    "\n",
    "prediction_df.drop(columns=correlated_features)"
   ]
  },
  {
   "cell_type": "code",
   "execution_count": 66,
   "id": "28f8c268",
   "metadata": {},
   "outputs": [],
   "source": [
    "## feature selection\n",
    "X = prediction_df.drop('hometeam_win', axis=1)\n",
    "target = prediction_df['hometeam_win']\n",
    "target=target.astype(int)"
   ]
  },
  {
   "cell_type": "markdown",
   "id": "caa2f0ef",
   "metadata": {},
   "source": [
    "### Modeling"
   ]
  },
  {
   "cell_type": "code",
   "execution_count": 68,
   "id": "b4595382",
   "metadata": {},
   "outputs": [],
   "source": [
    "## Splitting the data into training and testing data and scaling it\n",
    "X_train, X_test, y_train, y_test = train_test_split(X, target, test_size=0.2, random_state=0)\n",
    "sc = StandardScaler()\n",
    "X_train = sc.fit_transform(X_train)\n",
    "X_test = sc.transform(X_test)"
   ]
  },
  {
   "cell_type": "code",
   "execution_count": 69,
   "id": "cde5978e",
   "metadata": {},
   "outputs": [
    {
     "name": "stdout",
     "output_type": "stream",
     "text": [
      "[[95 29]\n",
      " [31 37]]\n",
      "              precision    recall  f1-score   support\n",
      "\n",
      "           0       0.75      0.77      0.76       124\n",
      "           1       0.56      0.54      0.55        68\n",
      "\n",
      "    accuracy                           0.69       192\n",
      "   macro avg       0.66      0.66      0.66       192\n",
      "weighted avg       0.69      0.69      0.69       192\n",
      "\n",
      "Accuracy of logistic regression classifier on test set: 0.6875\n"
     ]
    }
   ],
   "source": [
    "## Apply Logistic Regression\n",
    "logreg = LogisticRegression()\n",
    "logreg.fit(X_train, y_train)\n",
    "y_pred = logreg.predict(X_test)\n",
    "print(confusion_matrix(y_test,y_pred))\n",
    "print(classification_report(y_test,y_pred))\n",
    "print('Accuracy of logistic regression classifier on test set: {:.4f}'.format(logreg.score(X_test, y_test)))"
   ]
  },
  {
   "cell_type": "code",
   "execution_count": 70,
   "id": "50e5d49d",
   "metadata": {},
   "outputs": [
    {
     "name": "stdout",
     "output_type": "stream",
     "text": [
      "[[79 45]\n",
      " [15 53]]\n",
      "              precision    recall  f1-score   support\n",
      "\n",
      "           0       0.84      0.64      0.72       124\n",
      "           1       0.54      0.78      0.64        68\n",
      "\n",
      "    accuracy                           0.69       192\n",
      "   macro avg       0.69      0.71      0.68       192\n",
      "weighted avg       0.73      0.69      0.69       192\n",
      "\n",
      "Accuracy of SVM classifier on test set: 0.6875\n"
     ]
    }
   ],
   "source": [
    "## Apply SVM\n",
    "svm=SVC()\n",
    "svm.fit(X_train,y_train)\n",
    "svm.score(X_test,y_test)\n",
    "y_pred = svm.predict(X_test)\n",
    "print(confusion_matrix(y_test,y_pred))\n",
    "print(classification_report(y_test,y_pred))\n",
    "print('Accuracy of SVM classifier on test set: {:.4f}'.format(svm.score(X_test, y_test)))"
   ]
  },
  {
   "cell_type": "code",
   "execution_count": 71,
   "id": "ee004b48",
   "metadata": {},
   "outputs": [
    {
     "name": "stdout",
     "output_type": "stream",
     "text": [
      "[[92 32]\n",
      " [32 36]]\n",
      "              precision    recall  f1-score   support\n",
      "\n",
      "           0       0.74      0.74      0.74       124\n",
      "           1       0.53      0.53      0.53        68\n",
      "\n",
      "    accuracy                           0.67       192\n",
      "   macro avg       0.64      0.64      0.64       192\n",
      "weighted avg       0.67      0.67      0.67       192\n",
      "\n",
      "Accuracy of decision tree classifier on test set: 0.6667\n"
     ]
    }
   ],
   "source": [
    "## Apply Decision Tree Classifier\n",
    "dtree=DecisionTreeClassifier()\n",
    "dtree.fit(X_train,y_train)\n",
    "dtree.score(X_test,y_test)\n",
    "y_pred = dtree.predict(X_test)\n",
    "print(confusion_matrix(y_test,y_pred))\n",
    "print(classification_report(y_test,y_pred))\n",
    "print('Accuracy of decision tree classifier on test set: {:.4f}'.format(dtree.score(X_test, y_test)))"
   ]
  },
  {
   "cell_type": "code",
   "execution_count": 72,
   "id": "dc07e4f5",
   "metadata": {},
   "outputs": [
    {
     "name": "stdout",
     "output_type": "stream",
     "text": [
      "Confusion matrix\n",
      " [[89 35]\n",
      " [29 39]]\n",
      "              precision    recall  f1-score   support\n",
      "\n",
      "           0       0.75      0.72      0.74       124\n",
      "           1       0.53      0.57      0.55        68\n",
      "\n",
      "    accuracy                           0.67       192\n",
      "   macro avg       0.64      0.65      0.64       192\n",
      "weighted avg       0.67      0.67      0.67       192\n",
      "\n",
      "Accuracy of random forest classifier on test set: 0.6667\n"
     ]
    }
   ],
   "source": [
    "## Apply Random Forest Classifier\n",
    "randomForest= RandomForestClassifier(n_estimators=100)\n",
    "randomForest.fit(X_train,y_train)\n",
    "randomForest.score(X_test,y_test)\n",
    "y_pred = randomForest.predict(X_test)\n",
    "print(\"Confusion matrix\\n\",confusion_matrix(y_test,y_pred))\n",
    "print(classification_report(y_test,y_pred))\n",
    "print('Accuracy of random forest classifier on test set: {:.4f}'.format(randomForest.score(X_test, y_test)))"
   ]
  },
  {
   "cell_type": "markdown",
   "id": "e41576e9",
   "metadata": {},
   "source": [
    "##### Observation: It is clear from the results that both Logistic Regression and SVM give us a higher accuracy of 68.75% than other algorithms for this data distribution."
   ]
  }
 ],
 "metadata": {
  "kernelspec": {
   "display_name": "Python 3 (ipykernel)",
   "language": "python",
   "name": "python3"
  },
  "language_info": {
   "codemirror_mode": {
    "name": "ipython",
    "version": 3
   },
   "file_extension": ".py",
   "mimetype": "text/x-python",
   "name": "python",
   "nbconvert_exporter": "python",
   "pygments_lexer": "ipython3",
   "version": "3.9.7"
  }
 },
 "nbformat": 4,
 "nbformat_minor": 5
}
