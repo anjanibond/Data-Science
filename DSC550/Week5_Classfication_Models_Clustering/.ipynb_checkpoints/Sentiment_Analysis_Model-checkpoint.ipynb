{
 "cells": [
  {
   "cell_type": "markdown",
   "id": "b6886f09",
   "metadata": {},
   "source": [
    "## Exercise 5.2: Build Your Own Sentiment Analysis Model"
   ]
  },
  {
   "cell_type": "markdown",
   "id": "fe3829e2",
   "metadata": {},
   "source": [
    "### You will build a model with the movie reviews dataset that you worked with in Week 3: Bag of Words Meets Bags of Popcorn. \n",
    "1. Get the stemmed data using the same process you did in Week 3.\n",
    "2. Split this into a training and test set.\n",
    "3. Fit and apply the tf-idf vectorization to the training set.\n",
    "4. Apply but DO NOT FIT the tf-idf vectorization to the test set (Why?).\n",
    "5. Train a logistic regression using the training data.\n",
    "6. Find the model accuracy on the test set.\n",
    "7. Create a confusion matrix for the test set predictions.\n",
    "8. Get the precision, recall, and F1-score for the test set predictions.\n",
    "9. Create a ROC curve for the test set.\n",
    "10. Pick another classification model you learned about this week and repeat steps (5) – (9)."
   ]
  },
  {
   "cell_type": "code",
   "execution_count": 1,
   "id": "3eb3d5fc",
   "metadata": {},
   "outputs": [],
   "source": [
    "# Import required packages\n",
    "\n",
    "import pandas as pd \n",
    "import numpy as np\n",
    "import re as re\n",
    "from textblob import TextBlob\n",
    "from textblob.classifiers import NaiveBayesClassifier\n",
    "import nltk\n",
    "from nltk.corpus import stopwords\n",
    "from bs4 import BeautifulSoup \n",
    "from sklearn.feature_extraction.text import CountVectorizer\n",
    "from sklearn.ensemble import RandomForestClassifier\n",
    "import html"
   ]
  },
  {
   "cell_type": "markdown",
   "id": "a130112b",
   "metadata": {},
   "source": [
    "1. Get the stemmed data using the same process you did in Week 3."
   ]
  },
  {
   "cell_type": "code",
   "execution_count": 2,
   "id": "3f7474c9",
   "metadata": {},
   "outputs": [
    {
     "data": {
      "text/html": [
       "<div>\n",
       "<style scoped>\n",
       "    .dataframe tbody tr th:only-of-type {\n",
       "        vertical-align: middle;\n",
       "    }\n",
       "\n",
       "    .dataframe tbody tr th {\n",
       "        vertical-align: top;\n",
       "    }\n",
       "\n",
       "    .dataframe thead th {\n",
       "        text-align: right;\n",
       "    }\n",
       "</style>\n",
       "<table border=\"1\" class=\"dataframe\">\n",
       "  <thead>\n",
       "    <tr style=\"text-align: right;\">\n",
       "      <th></th>\n",
       "      <th>id</th>\n",
       "      <th>sentiment</th>\n",
       "      <th>review</th>\n",
       "    </tr>\n",
       "  </thead>\n",
       "  <tbody>\n",
       "    <tr>\n",
       "      <th>0</th>\n",
       "      <td>5814_8</td>\n",
       "      <td>1</td>\n",
       "      <td>With all this stuff going down at the moment w...</td>\n",
       "    </tr>\n",
       "    <tr>\n",
       "      <th>1</th>\n",
       "      <td>2381_9</td>\n",
       "      <td>1</td>\n",
       "      <td>\\The Classic War of the Worlds\\\" by Timothy Hi...</td>\n",
       "    </tr>\n",
       "    <tr>\n",
       "      <th>2</th>\n",
       "      <td>7759_3</td>\n",
       "      <td>0</td>\n",
       "      <td>The film starts with a manager (Nicholas Bell)...</td>\n",
       "    </tr>\n",
       "    <tr>\n",
       "      <th>3</th>\n",
       "      <td>3630_4</td>\n",
       "      <td>0</td>\n",
       "      <td>It must be assumed that those who praised this...</td>\n",
       "    </tr>\n",
       "    <tr>\n",
       "      <th>4</th>\n",
       "      <td>9495_8</td>\n",
       "      <td>1</td>\n",
       "      <td>Superbly trashy and wondrously unpretentious 8...</td>\n",
       "    </tr>\n",
       "  </tbody>\n",
       "</table>\n",
       "</div>"
      ],
      "text/plain": [
       "       id  sentiment                                             review\n",
       "0  5814_8          1  With all this stuff going down at the moment w...\n",
       "1  2381_9          1  \\The Classic War of the Worlds\\\" by Timothy Hi...\n",
       "2  7759_3          0  The film starts with a manager (Nicholas Bell)...\n",
       "3  3630_4          0  It must be assumed that those who praised this...\n",
       "4  9495_8          1  Superbly trashy and wondrously unpretentious 8..."
      ]
     },
     "execution_count": 2,
     "metadata": {},
     "output_type": "execute_result"
    }
   ],
   "source": [
    "#Loading data into data frame\n",
    "train = pd.read_csv('labeledTrainData.tsv.zip', delimiter=\"\\t\")\n",
    "train.head()"
   ]
  },
  {
   "cell_type": "code",
   "execution_count": 4,
   "id": "fb45b7e6",
   "metadata": {},
   "outputs": [
    {
     "data": {
      "text/plain": [
       "(25000, 3)"
      ]
     },
     "execution_count": 4,
     "metadata": {},
     "output_type": "execute_result"
    }
   ],
   "source": [
    "train.shape"
   ]
  },
  {
   "cell_type": "code",
   "execution_count": 5,
   "id": "ab0d407f",
   "metadata": {},
   "outputs": [
    {
     "name": "stdout",
     "output_type": "stream",
     "text": [
      "Number of rows in the data set with positive reviews in dataset : 12500\n",
      "Number of rows in the data set with Negative reviews in dataset : 12500\n"
     ]
    }
   ],
   "source": [
    "# Checking counts of positive and negative reviews\n",
    "print(\"Number of rows in the data set with positive reviews in dataset :\", sum(train['sentiment'] == 1))\n",
    "print(\"Number of rows in the data set with Negative reviews in dataset :\", sum(train['sentiment'] == 0))"
   ]
  },
  {
   "cell_type": "code",
   "execution_count": 6,
   "id": "3947b70c",
   "metadata": {},
   "outputs": [],
   "source": [
    "# creating function to clean text\n",
    "def clean_text(text):\n",
    "    text = BeautifulSoup(text).get_text() #beautifying text\n",
    "    letters_only = re.sub(\"[^a-zA-Z]\", \" \", text) # clean the html charecters (non text)\n",
    "    words = letters_only.lower().split()   # convert to lower text                        \n",
    "    stops = set(stopwords.words(\"english\")) # setting stop words to remove                  \n",
    "    main_words = [w for w in words if not w in stops]   \n",
    "    return( \" \".join( main_words )) "
   ]
  },
  {
   "cell_type": "code",
   "execution_count": 7,
   "id": "6d63f1a4",
   "metadata": {},
   "outputs": [
    {
     "name": "stderr",
     "output_type": "stream",
     "text": [
      "/Users/anjanibonda/opt/anaconda3/lib/python3.9/site-packages/bs4/__init__.py:435: MarkupResemblesLocatorWarning: The input looks more like a filename than markup. You may want to open this file and pass the filehandle into Beautiful Soup.\n",
      "  warnings.warn(\n"
     ]
    }
   ],
   "source": [
    "# applying clean function on the data frame and creating a new column with clean text\n",
    "train['clean_review'] = train['review'].apply(clean_text)"
   ]
  },
  {
   "cell_type": "code",
   "execution_count": 8,
   "id": "8868fedb",
   "metadata": {},
   "outputs": [],
   "source": [
    "# import these modules\n",
    "from nltk.stem import PorterStemmer"
   ]
  },
  {
   "cell_type": "code",
   "execution_count": 9,
   "id": "b28f5e0a",
   "metadata": {},
   "outputs": [],
   "source": [
    "# Applying porterstemmer on clean_review\n",
    "ps = PorterStemmer()\n",
    "train['clean_review'] = train['clean_review'].apply(lambda review: ps.stem(review))"
   ]
  },
  {
   "cell_type": "code",
   "execution_count": 10,
   "id": "9860b1fd",
   "metadata": {},
   "outputs": [
    {
     "name": "stdout",
     "output_type": "stream",
     "text": [
      "['go', 'immediately', 'rent', 'movie', 'bottom', 'shelf', 'local', 'video', 'store', 'covered', 'dust', 'one', 'touched', 'years', 'may', 'even', 'special', 'worth', 'ten', 'bucks', 'swear', 'buy', 'many', 'films', 'compare', 'celluloid', 'version', 'goo', 'forms', 'bottom', 'trash', 'years', 'yes', 'gave', 'really', 'deserves', 'much', 'lower', 'scales', 'designed', 'stuff', 'like', 'mind']\n"
     ]
    }
   ],
   "source": [
    "from nltk import word_tokenize # importing word_tokenize\n",
    "# extracting and prinitng tokenized values sample\n",
    "corpora = train['clean_review'].values\n",
    "tokenized = [word_tokenize(corpus) for corpus in corpora]\n",
    "\n",
    "print(tokenized[2222])"
   ]
  },
  {
   "cell_type": "code",
   "execution_count": 11,
   "id": "6b0ffd48",
   "metadata": {},
   "outputs": [
    {
     "data": {
      "text/plain": [
       "(25000, 4)"
      ]
     },
     "execution_count": 11,
     "metadata": {},
     "output_type": "execute_result"
    }
   ],
   "source": [
    "# shape of train data frame\n",
    "train.shape"
   ]
  },
  {
   "cell_type": "markdown",
   "id": "9351097e",
   "metadata": {},
   "source": [
    "2. Split this into a training and test set"
   ]
  },
  {
   "cell_type": "code",
   "execution_count": 13,
   "id": "6e2da96d",
   "metadata": {},
   "outputs": [],
   "source": [
    "# import Necessary libraries\n",
    "from sklearn import linear_model\n",
    "from sklearn.model_selection import train_test_split\n",
    "from sklearn import metrics\n",
    "from sklearn.metrics import mean_squared_error"
   ]
  },
  {
   "cell_type": "code",
   "execution_count": 14,
   "id": "172c906f",
   "metadata": {},
   "outputs": [],
   "source": [
    "#Select Predictor columns\n",
    "X = train[['id','clean_review']]\n",
    "\n",
    "#Select target column\n",
    "y = train['sentiment']\n",
    "\n",
    "names = [\n",
    "       'sentiment'\n",
    "    , 'id', 'review'\n",
    "]"
   ]
  },
  {
   "cell_type": "code",
   "execution_count": 15,
   "id": "ef07dded",
   "metadata": {},
   "outputs": [],
   "source": [
    "# Split data into training and test sets\n",
    "X_train, X_test, y_train, y_test = train_test_split(X, y, train_size=0.8, test_size=0.2)"
   ]
  },
  {
   "cell_type": "markdown",
   "id": "28f49bb4",
   "metadata": {},
   "source": [
    "3. Fit and apply the tf-idf vectorization to the training set."
   ]
  },
  {
   "cell_type": "code",
   "execution_count": 16,
   "id": "429a3e84",
   "metadata": {},
   "outputs": [],
   "source": [
    "# Creating bag_of_words matrix from clean review\n",
    "count = CountVectorizer()\n",
    "bag_of_words_train = count.fit_transform(X_train['clean_review'])"
   ]
  },
  {
   "cell_type": "code",
   "execution_count": 17,
   "id": "207e1a91",
   "metadata": {},
   "outputs": [
    {
     "data": {
      "text/plain": [
       "<20000x68803 sparse matrix of type '<class 'numpy.int64'>'\n",
       "\twith 1950433 stored elements in Compressed Sparse Row format>"
      ]
     },
     "execution_count": 17,
     "metadata": {},
     "output_type": "execute_result"
    }
   ],
   "source": [
    "bag_of_words_train #Size of bag_of_words"
   ]
  },
  {
   "cell_type": "code",
   "execution_count": 18,
   "id": "5bafd8ea",
   "metadata": {},
   "outputs": [
    {
     "name": "stdout",
     "output_type": "stream",
     "text": [
      "(20000, 68803)\n"
     ]
    }
   ],
   "source": [
    "# Import tf-idf encoding from sklearn library\n",
    "from sklearn.feature_extraction.text import TfidfVectorizer\n",
    "\n",
    "# Define some hiperparameters of encoded\n",
    "vectorizer = TfidfVectorizer()\n",
    "\n",
    "# Create the training set with the words encoded as features of the reviews\n",
    "train_data_features = vectorizer.fit_transform(X_train['clean_review'])\n",
    "\n",
    "print(train_data_features.shape)"
   ]
  },
  {
   "cell_type": "markdown",
   "id": "0b7d85e5",
   "metadata": {},
   "source": [
    "As above shows the shape (20000, 68803) matches the bag_of_words shape from above"
   ]
  },
  {
   "cell_type": "markdown",
   "id": "bcd727d4",
   "metadata": {},
   "source": [
    "4. Apply but DO NOT FIT the tf-idf vectorization to the test set (Why?)."
   ]
  },
  {
   "cell_type": "code",
   "execution_count": 19,
   "id": "e4bfb27c",
   "metadata": {},
   "outputs": [],
   "source": [
    "bag_of_words_test = count.fit_transform(X_test['clean_review'])"
   ]
  },
  {
   "cell_type": "code",
   "execution_count": 20,
   "id": "88dee26f",
   "metadata": {},
   "outputs": [
    {
     "data": {
      "text/plain": [
       "<5000x38814 sparse matrix of type '<class 'numpy.int64'>'\n",
       "\twith 495711 stored elements in Compressed Sparse Row format>"
      ]
     },
     "execution_count": 20,
     "metadata": {},
     "output_type": "execute_result"
    }
   ],
   "source": [
    "bag_of_words_test"
   ]
  },
  {
   "cell_type": "markdown",
   "id": "60194403",
   "metadata": {},
   "source": [
    "we dont fit the tf-idf vectorization on test data, as we would be predicting the sentiment value - by applying the model we trained on train data"
   ]
  },
  {
   "cell_type": "markdown",
   "id": "b12e6404",
   "metadata": {},
   "source": [
    "5. Train a logistic regression using the training data."
   ]
  },
  {
   "cell_type": "code",
   "execution_count": 21,
   "id": "eebcd6b3",
   "metadata": {},
   "outputs": [
    {
     "data": {
      "text/plain": [
       "LogisticRegression(multi_class='multinomial', random_state=0)"
      ]
     },
     "execution_count": 21,
     "metadata": {},
     "output_type": "execute_result"
    }
   ],
   "source": [
    "# Import the logistic regression model from sklearn \n",
    "from sklearn.linear_model import LogisticRegression\n",
    "\n",
    "# Define the model\n",
    "model = LogisticRegression(random_state=0, solver='lbfgs',\n",
    "                            multi_class='multinomial')\n",
    "# Train model\n",
    "model.fit(train_data_features, y_train)"
   ]
  },
  {
   "cell_type": "markdown",
   "id": "2ed0d0ce",
   "metadata": {},
   "source": [
    "6. Find the model accuracy on the test set."
   ]
  },
  {
   "cell_type": "code",
   "execution_count": 22,
   "id": "a2c15878",
   "metadata": {},
   "outputs": [
    {
     "name": "stdout",
     "output_type": "stream",
     "text": [
      "(5000, 2)\n"
     ]
    },
    {
     "data": {
      "text/html": [
       "<div>\n",
       "<style scoped>\n",
       "    .dataframe tbody tr th:only-of-type {\n",
       "        vertical-align: middle;\n",
       "    }\n",
       "\n",
       "    .dataframe tbody tr th {\n",
       "        vertical-align: top;\n",
       "    }\n",
       "\n",
       "    .dataframe thead th {\n",
       "        text-align: right;\n",
       "    }\n",
       "</style>\n",
       "<table border=\"1\" class=\"dataframe\">\n",
       "  <thead>\n",
       "    <tr style=\"text-align: right;\">\n",
       "      <th></th>\n",
       "      <th>id</th>\n",
       "      <th>sentiment_calc</th>\n",
       "      <th>train_sentiment</th>\n",
       "    </tr>\n",
       "  </thead>\n",
       "  <tbody>\n",
       "    <tr>\n",
       "      <th>2009</th>\n",
       "      <td>529_1</td>\n",
       "      <td>0</td>\n",
       "      <td>0</td>\n",
       "    </tr>\n",
       "    <tr>\n",
       "      <th>22288</th>\n",
       "      <td>3352_2</td>\n",
       "      <td>0</td>\n",
       "      <td>0</td>\n",
       "    </tr>\n",
       "    <tr>\n",
       "      <th>24516</th>\n",
       "      <td>1535_1</td>\n",
       "      <td>0</td>\n",
       "      <td>0</td>\n",
       "    </tr>\n",
       "    <tr>\n",
       "      <th>5819</th>\n",
       "      <td>11324_10</td>\n",
       "      <td>1</td>\n",
       "      <td>1</td>\n",
       "    </tr>\n",
       "    <tr>\n",
       "      <th>11858</th>\n",
       "      <td>10276_1</td>\n",
       "      <td>0</td>\n",
       "      <td>0</td>\n",
       "    </tr>\n",
       "  </tbody>\n",
       "</table>\n",
       "</div>"
      ],
      "text/plain": [
       "             id  sentiment_calc  train_sentiment\n",
       "2009      529_1               0                0\n",
       "22288    3352_2               0                0\n",
       "24516    1535_1               0                0\n",
       "5819   11324_10               1                1\n",
       "11858   10276_1               0                0"
      ]
     },
     "execution_count": 22,
     "metadata": {},
     "output_type": "execute_result"
    }
   ],
   "source": [
    "# Read the test data\n",
    "\n",
    "print(X_test.shape)\n",
    "\n",
    "\n",
    "# Create the test set with the words encoded as features of the reviews\n",
    "test_data_features_test = vectorizer.transform(X_test['clean_review'])\n",
    "\n",
    "\n",
    "# Use the logistic regression model to make sentiment label predictions\n",
    "result_lr = model.predict(test_data_features_test)\n",
    "\n",
    "# Copy the results to a pandas dataframe with an \"id\" column and a \"sentiment\" column\n",
    "output = pd.DataFrame( data={\"id\":X_test[\"id\"],\"sentiment_calc\":result_lr,\"train_sentiment\":y_test})\n",
    "output.head()"
   ]
  },
  {
   "cell_type": "code",
   "execution_count": 23,
   "id": "01e6807d",
   "metadata": {},
   "outputs": [
    {
     "name": "stdout",
     "output_type": "stream",
     "text": [
      "Number of rows in the data set with positive reviews in dataset per Logistics Regression model : 2536\n",
      "Number of rows in the data set with Negative reviews in dataset per Logistics Regression model : 2464\n"
     ]
    }
   ],
   "source": [
    "# Calculating positive and negative review sentiment analysis count by Logistics Regression\n",
    "print(\"Number of rows in the data set with positive reviews in dataset per Logistics Regression model :\", sum(output['sentiment_calc'] > 0))\n",
    "print(\"Number of rows in the data set with Negative reviews in dataset per Logistics Regression model :\", sum(output['sentiment_calc'] == 0))"
   ]
  },
  {
   "cell_type": "code",
   "execution_count": 24,
   "id": "e90be0c3",
   "metadata": {},
   "outputs": [
    {
     "name": "stdout",
     "output_type": "stream",
     "text": [
      "Accurate positive sentiment prediction by Logistics Regression model : 2208\n",
      "Accurate negative sentiment prediction by Logistics Regression model : 2216\n"
     ]
    }
   ],
   "source": [
    "# Calculating Accuracy of custom model where labelled test data and Logistics Regression prediction for sentiment are matching\n",
    "print(\"Accurate positive sentiment prediction by Logistics Regression model :\", sum((output['sentiment_calc'] == 1) & (output['train_sentiment'] == 1)))\n",
    "print(\"Accurate negative sentiment prediction by Logistics Regression model :\", sum((output['sentiment_calc'] == 0) & (output['train_sentiment'] == 0)))\n"
   ]
  },
  {
   "cell_type": "markdown",
   "id": "4d8f1eb2",
   "metadata": {},
   "source": [
    "Total number of agreements by custom model: 2208+2216 = 4424.\n",
    "Total number of samples: 5000.\n",
    "Accuracy of Logistics regression = (4424/5000)*100 = 88.48%.\n",
    "Accuracy of Logistics regression is about 88.48%. This is definitely better than random guessing as it would be a 50% accurate model with either yes or no."
   ]
  },
  {
   "cell_type": "markdown",
   "id": "cdd59017",
   "metadata": {},
   "source": [
    "7. Create a confusion matrix for the test set predictions."
   ]
  },
  {
   "cell_type": "code",
   "execution_count": 25,
   "id": "ed2f6d4c",
   "metadata": {},
   "outputs": [
    {
     "name": "stdout",
     "output_type": "stream",
     "text": [
      "Predicted     0     1\n",
      "Actual               \n",
      "0          2216   328\n",
      "1           248  2208\n"
     ]
    }
   ],
   "source": [
    "confusion_matrix = pd.crosstab(output['train_sentiment'], output['sentiment_calc'] , rownames=['Actual'], colnames=['Predicted'])\n",
    "print (confusion_matrix)"
   ]
  },
  {
   "cell_type": "markdown",
   "id": "549e286a",
   "metadata": {},
   "source": [
    "8. Get the precision, recall, and F1-score for the test set predictions."
   ]
  },
  {
   "cell_type": "markdown",
   "id": "67f9c9fa",
   "metadata": {},
   "source": [
    "Precision = (True Positive)/(True Positive + False Positive) = 2208/(2208+328) = 2208/2536= 0.87\n",
    "Recall = (True Positive)/(True Positive + False Negative) = 2208/(2208+248) = 2208/2456 = 0.90\n",
    "F1-Score = 2((Precison*Recall)/(Precision + Recall)) = 2 ((0.87 * 0.90)/(0.87 + 0.90)) = 2 (0.783/1.77) = 0.884"
   ]
  },
  {
   "cell_type": "markdown",
   "id": "eeaead9a",
   "metadata": {},
   "source": [
    "9. Create a ROC curve for the test set."
   ]
  },
  {
   "cell_type": "code",
   "execution_count": 26,
   "id": "9fb3a4bc",
   "metadata": {},
   "outputs": [],
   "source": [
    "from sklearn.metrics import roc_curve\n",
    "import matplotlib.pyplot as plt\n",
    "%matplotlib inline"
   ]
  },
  {
   "cell_type": "code",
   "execution_count": 27,
   "id": "c7ba1d3f",
   "metadata": {},
   "outputs": [
    {
     "data": {
      "image/png": "[encoded data removed]",
      "text/plain": [
       "<Figure size 432x288 with 1 Axes>"
      ]
     },
     "metadata": {
      "needs_background": "light"
     },
     "output_type": "display_data"
    }
   ],
   "source": [
    "y_pred_list = [result_lr]\n",
    "label_list = [\"LR\"]\n",
    "pred_label = zip(y_pred_list, label_list)\n",
    "for y_pred, lbl in pred_label:\n",
    "    fpr, tpr, _ = roc_curve(y_test, y_pred)\n",
    "    plt.plot(fpr, tpr, label = lbl)\n",
    "\n",
    "plt.xlabel(\"True Postive Rate\")\n",
    "plt.ylabel(\"False Positive Rate\")\n",
    "plt.title(\"ROC Curve for Logistics Regression Models\")\n",
    "plt.legend()\n",
    "plt.show()"
   ]
  },
  {
   "cell_type": "markdown",
   "id": "59124cbb",
   "metadata": {},
   "source": [
    "10. Pick another classification model you learned about this week and repeat steps (5) – (9)."
   ]
  },
  {
   "cell_type": "code",
   "execution_count": 28,
   "id": "8f7a9645",
   "metadata": {},
   "outputs": [],
   "source": [
    "# Random Forest\n",
    "# Load libraries\n",
    "from sklearn.ensemble import RandomForestClassifier\n",
    "# Param Grid\n",
    "param_grid = {'n_estimators':[x for x in range(100,1000)],'criterion':['gini', 'entropy'],'min_samples_split':[2,5,10],'min_samples_leaf':[2,5,10] }"
   ]
  },
  {
   "cell_type": "code",
   "execution_count": 29,
   "id": "6f987025",
   "metadata": {},
   "outputs": [],
   "source": [
    "# Vectorize Test data\n",
    "train_data_features_rf = vectorizer.fit_transform(X_train['clean_review'])"
   ]
  },
  {
   "cell_type": "code",
   "execution_count": 30,
   "id": "3c42dcda",
   "metadata": {},
   "outputs": [
    {
     "name": "stdout",
     "output_type": "stream",
     "text": [
      "1.0\n"
     ]
    }
   ],
   "source": [
    "# Train a radius neighbors classifier\n",
    "clf = RandomForestClassifier(n_estimators= 500)\n",
    "clf.fit(train_data_features_rf,y_train)\n",
    "print(clf.score(train_data_features_rf,y_train))"
   ]
  },
  {
   "cell_type": "code",
   "execution_count": 31,
   "id": "6994e716",
   "metadata": {},
   "outputs": [
    {
     "name": "stdout",
     "output_type": "stream",
     "text": [
      "(5000, 2)\n"
     ]
    },
    {
     "data": {
      "text/html": [
       "<div>\n",
       "<style scoped>\n",
       "    .dataframe tbody tr th:only-of-type {\n",
       "        vertical-align: middle;\n",
       "    }\n",
       "\n",
       "    .dataframe tbody tr th {\n",
       "        vertical-align: top;\n",
       "    }\n",
       "\n",
       "    .dataframe thead th {\n",
       "        text-align: right;\n",
       "    }\n",
       "</style>\n",
       "<table border=\"1\" class=\"dataframe\">\n",
       "  <thead>\n",
       "    <tr style=\"text-align: right;\">\n",
       "      <th></th>\n",
       "      <th>id</th>\n",
       "      <th>sentiment_calc</th>\n",
       "      <th>train_sentiment</th>\n",
       "    </tr>\n",
       "  </thead>\n",
       "  <tbody>\n",
       "    <tr>\n",
       "      <th>2009</th>\n",
       "      <td>529_1</td>\n",
       "      <td>0</td>\n",
       "      <td>0</td>\n",
       "    </tr>\n",
       "    <tr>\n",
       "      <th>22288</th>\n",
       "      <td>3352_2</td>\n",
       "      <td>0</td>\n",
       "      <td>0</td>\n",
       "    </tr>\n",
       "    <tr>\n",
       "      <th>24516</th>\n",
       "      <td>1535_1</td>\n",
       "      <td>0</td>\n",
       "      <td>0</td>\n",
       "    </tr>\n",
       "    <tr>\n",
       "      <th>5819</th>\n",
       "      <td>11324_10</td>\n",
       "      <td>1</td>\n",
       "      <td>1</td>\n",
       "    </tr>\n",
       "    <tr>\n",
       "      <th>11858</th>\n",
       "      <td>10276_1</td>\n",
       "      <td>0</td>\n",
       "      <td>0</td>\n",
       "    </tr>\n",
       "  </tbody>\n",
       "</table>\n",
       "</div>"
      ],
      "text/plain": [
       "             id  sentiment_calc  train_sentiment\n",
       "2009      529_1               0                0\n",
       "22288    3352_2               0                0\n",
       "24516    1535_1               0                0\n",
       "5819   11324_10               1                1\n",
       "11858   10276_1               0                0"
      ]
     },
     "execution_count": 31,
     "metadata": {},
     "output_type": "execute_result"
    }
   ],
   "source": [
    "# Test Random Forest Model\n",
    "# Read the test data\n",
    "print(X_test.shape)\n",
    "# Create the test set with the words encoded as features of the reviews\n",
    "test_data_features_test_rf = vectorizer.transform(X_test['clean_review'])\n",
    "\n",
    "\n",
    "# Use the logistic regression model to make sentiment label predictions\n",
    "result_rf = clf.predict(test_data_features_test_rf)\n",
    "\n",
    "# Copy the results to a pandas dataframe with an \"id\" column and a \"sentiment\" column\n",
    "output_rf = pd.DataFrame( data={\"id\":X_test[\"id\"],\"sentiment_calc\":result_rf,\"train_sentiment\":y_test})\n",
    "output_rf.head()"
   ]
  },
  {
   "cell_type": "code",
   "execution_count": 32,
   "id": "db9a2ae5",
   "metadata": {},
   "outputs": [
    {
     "name": "stdout",
     "output_type": "stream",
     "text": [
      "Number of rows in the data set with positive reviews in dataset per RF model : 2478\n",
      "Number of rows in the data set with Negative reviews in dataset per RF model : 2522\n"
     ]
    }
   ],
   "source": [
    "#Calculating positive and negative review sentiment analysis count by RF\n",
    "print(\"Number of rows in the data set with positive reviews in dataset per RF model :\", sum(output_rf['sentiment_calc'] > 0))\n",
    "print(\"Number of rows in the data set with Negative reviews in dataset per RF model :\", sum(output_rf['sentiment_calc'] == 0))"
   ]
  },
  {
   "cell_type": "code",
   "execution_count": 33,
   "id": "f3545fc7",
   "metadata": {},
   "outputs": [
    {
     "name": "stdout",
     "output_type": "stream",
     "text": [
      "Accurate positive sentiment prediction by RF model : 2107\n",
      "Accurate negative sentiment prediction by RF model : 2173\n"
     ]
    }
   ],
   "source": [
    "# Calculating Accuracy of custom model where labelled test data and RF prediction for sentiment are matching\n",
    "print(\"Accurate positive sentiment prediction by RF model :\", sum((output_rf['sentiment_calc'] == 1) & (output_rf['train_sentiment'] == 1)))\n",
    "print(\"Accurate negative sentiment prediction by RF model :\", sum((output_rf['sentiment_calc'] == 0) & (output_rf['train_sentiment'] == 0)))\n"
   ]
  },
  {
   "cell_type": "markdown",
   "id": "51f0ec54",
   "metadata": {},
   "source": [
    "Total number of agreements by custom model: 2107+2173 = 4280.\n",
    "Total number of samples: 5000.\n",
    "Accuracy of Logistics regression = (4280/5000)*100 = 85.6%.\n",
    "Accuracy of Logistics regression is about 85.6%. This is definitely better than random guessing as it would be a 50% accurate model with either yes or no."
   ]
  },
  {
   "cell_type": "code",
   "execution_count": 34,
   "id": "c396e8a8",
   "metadata": {},
   "outputs": [
    {
     "name": "stdout",
     "output_type": "stream",
     "text": [
      "Predicted     0     1\n",
      "Actual               \n",
      "0          2173   371\n",
      "1           349  2107\n"
     ]
    }
   ],
   "source": [
    "# Confusion Matrix for RF\n",
    "confusion_matrix_rf = pd.crosstab(output_rf['train_sentiment'], output_rf['sentiment_calc'] , rownames=['Actual'], colnames=['Predicted'])\n",
    "print (confusion_matrix_rf)"
   ]
  },
  {
   "cell_type": "markdown",
   "id": "12e33813",
   "metadata": {},
   "source": [
    "Precision = (True Positive)/(True Positive + False Positive) = 2107/(2107+371) = 2107/2478= 0.85\n",
    "Recall = (True Positive)/(True Positive + False Negative) = 2107/(2107+349) = 2107/2456 = 0.86\n",
    "F1-Score = 2((Precison Recall)/(Precision + Recall)) = 2 ((0.85 *0.86)/(0.85 + 0.86)) = 2 (0.731/1.71) = 0.85"
   ]
  },
  {
   "cell_type": "code",
   "execution_count": 35,
   "id": "bf8b1557",
   "metadata": {},
   "outputs": [
    {
     "data": {
      "image/png": "[encoded data removed]",
      "text/plain": [
       "<Figure size 432x288 with 1 Axes>"
      ]
     },
     "metadata": {
      "needs_background": "light"
     },
     "output_type": "display_data"
    }
   ],
   "source": [
    "# ROC Curve for RF\n",
    "y_pred_list = [result_rf]\n",
    "label_list = [\"RF\"]\n",
    "pred_label = zip(y_pred_list, label_list)\n",
    "for y_pred, lbl in pred_label:\n",
    "    fpr, tpr, _ = roc_curve(y_test, y_pred)\n",
    "    plt.plot(fpr, tpr, label = lbl)\n",
    "\n",
    "plt.xlabel(\"True Postive Rate\")\n",
    "plt.ylabel(\"False Positive Rate\")\n",
    "plt.title(\"ROC Curve for RF\")\n",
    "plt.legend()\n",
    "plt.show()"
   ]
  },
  {
   "cell_type": "code",
   "execution_count": null,
   "id": "e7933f62",
   "metadata": {},
   "outputs": [],
   "source": []
  }
 ],
 "metadata": {
  "kernelspec": {
   "display_name": "Python 3 (ipykernel)",
   "language": "python",
   "name": "python3"
  },
  "language_info": {
   "codemirror_mode": {
    "name": "ipython",
    "version": 3
   },
   "file_extension": ".py",
   "mimetype": "text/x-python",
   "name": "python",
   "nbconvert_exporter": "python",
   "pygments_lexer": "ipython3",
   "version": "3.9.7"
  }
 },
 "nbformat": 4,
 "nbformat_minor": 5
}
