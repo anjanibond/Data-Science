{
 "cells": [
  {
   "cell_type": "markdown",
   "id": "ee1568f9",
   "metadata": {},
   "source": [
    "## Exercise 3.2: Sentiment Analysis and Preprocessing Text"
   ]
  },
  {
   "cell_type": "markdown",
   "id": "866d98ef",
   "metadata": {},
   "source": [
    "### Part1: Using the TextBlob Sentiment Analyzer"
   ]
  },
  {
   "cell_type": "code",
   "execution_count": 4,
   "id": "193986ed",
   "metadata": {},
   "outputs": [],
   "source": [
    "# Import the required packages\n",
    "\n",
    "import pandas as pd \n",
    "import numpy as np\n",
    "import re as re\n",
    "from textblob import TextBlob\n",
    "from textblob.classifiers import NaiveBayesClassifier\n",
    "import nltk\n",
    "from nltk.corpus import stopwords\n",
    "from bs4 import BeautifulSoup \n",
    "from sklearn.feature_extraction.text import CountVectorizer\n",
    "from sklearn.ensemble import RandomForestClassifier\n",
    "import html"
   ]
  },
  {
   "cell_type": "code",
   "execution_count": 5,
   "id": "2e9b9c05",
   "metadata": {},
   "outputs": [
    {
     "data": {
      "text/html": [
       "<div>\n",
       "<style scoped>\n",
       "    .dataframe tbody tr th:only-of-type {\n",
       "        vertical-align: middle;\n",
       "    }\n",
       "\n",
       "    .dataframe tbody tr th {\n",
       "        vertical-align: top;\n",
       "    }\n",
       "\n",
       "    .dataframe thead th {\n",
       "        text-align: right;\n",
       "    }\n",
       "</style>\n",
       "<table border=\"1\" class=\"dataframe\">\n",
       "  <thead>\n",
       "    <tr style=\"text-align: right;\">\n",
       "      <th></th>\n",
       "      <th>id</th>\n",
       "      <th>sentiment</th>\n",
       "      <th>review</th>\n",
       "    </tr>\n",
       "  </thead>\n",
       "  <tbody>\n",
       "    <tr>\n",
       "      <th>0</th>\n",
       "      <td>5814_8</td>\n",
       "      <td>1</td>\n",
       "      <td>With all this stuff going down at the moment w...</td>\n",
       "    </tr>\n",
       "    <tr>\n",
       "      <th>1</th>\n",
       "      <td>2381_9</td>\n",
       "      <td>1</td>\n",
       "      <td>\\The Classic War of the Worlds\\\" by Timothy Hi...</td>\n",
       "    </tr>\n",
       "    <tr>\n",
       "      <th>2</th>\n",
       "      <td>7759_3</td>\n",
       "      <td>0</td>\n",
       "      <td>The film starts with a manager (Nicholas Bell)...</td>\n",
       "    </tr>\n",
       "    <tr>\n",
       "      <th>3</th>\n",
       "      <td>3630_4</td>\n",
       "      <td>0</td>\n",
       "      <td>It must be assumed that those who praised this...</td>\n",
       "    </tr>\n",
       "    <tr>\n",
       "      <th>4</th>\n",
       "      <td>9495_8</td>\n",
       "      <td>1</td>\n",
       "      <td>Superbly trashy and wondrously unpretentious 8...</td>\n",
       "    </tr>\n",
       "  </tbody>\n",
       "</table>\n",
       "</div>"
      ],
      "text/plain": [
       "       id  sentiment                                             review\n",
       "0  5814_8          1  With all this stuff going down at the moment w...\n",
       "1  2381_9          1  \\The Classic War of the Worlds\\\" by Timothy Hi...\n",
       "2  7759_3          0  The film starts with a manager (Nicholas Bell)...\n",
       "3  3630_4          0  It must be assumed that those who praised this...\n",
       "4  9495_8          1  Superbly trashy and wondrously unpretentious 8..."
      ]
     },
     "execution_count": 5,
     "metadata": {},
     "output_type": "execute_result"
    }
   ],
   "source": [
    "# 1. Import the movie review data as a data frame and ensure that the data is loaded properly.\n",
    "\n",
    "reviews = pd.read_csv(\"/Users/anjanibonda/Data-Science/DSC550/Week3_Sentiment_Analysis/labeledTrainData.tsv\",sep=\"\\t\")\n",
    "reviews.head()"
   ]
  },
  {
   "cell_type": "code",
   "execution_count": 6,
   "id": "bbaee3a1",
   "metadata": {},
   "outputs": [
    {
     "data": {
      "text/plain": [
       "1    12500\n",
       "0    12500\n",
       "Name: sentiment, dtype: int64"
      ]
     },
     "execution_count": 6,
     "metadata": {},
     "output_type": "execute_result"
    }
   ],
   "source": [
    "# 2. How many of each positive and negative reviews are there?\n",
    "\n",
    "#Display the counts for each sentiment, positive and negative\n",
    "reviews.sentiment.value_counts()"
   ]
  },
  {
   "cell_type": "code",
   "execution_count": 7,
   "id": "8e809e7d",
   "metadata": {},
   "outputs": [],
   "source": [
    "# 3. Use TextBlob to classify each movie review as positive or negative. Assume that a polarity score greater than \n",
    "#    or equal to zero is a positive sentiment and less than 0 is a negative sentiment.\n",
    "\n",
    "from textblob import TextBlob\n",
    "\n",
    "# Create a new column 'sentiment_score' using the TextBlob polarity score\n",
    "reviews['sentiment_score'] = reviews['review'].apply(lambda text: TextBlob(text).sentiment.polarity)"
   ]
  },
  {
   "cell_type": "code",
   "execution_count": 8,
   "id": "4295a298",
   "metadata": {},
   "outputs": [],
   "source": [
    "# Create a function to analyze the polarity scores to determine positivity, neutrality or negativity\n",
    "def getAnalysis(score):\n",
    "  if score < 0:\n",
    "    return '0'\n",
    "  else:\n",
    "    return '1'"
   ]
  },
  {
   "cell_type": "code",
   "execution_count": 9,
   "id": "2dfb164d",
   "metadata": {},
   "outputs": [
    {
     "data": {
      "text/html": [
       "<div>\n",
       "<style scoped>\n",
       "    .dataframe tbody tr th:only-of-type {\n",
       "        vertical-align: middle;\n",
       "    }\n",
       "\n",
       "    .dataframe tbody tr th {\n",
       "        vertical-align: top;\n",
       "    }\n",
       "\n",
       "    .dataframe thead th {\n",
       "        text-align: right;\n",
       "    }\n",
       "</style>\n",
       "<table border=\"1\" class=\"dataframe\">\n",
       "  <thead>\n",
       "    <tr style=\"text-align: right;\">\n",
       "      <th></th>\n",
       "      <th>id</th>\n",
       "      <th>sentiment</th>\n",
       "      <th>review</th>\n",
       "      <th>sentiment_score</th>\n",
       "      <th>sentiment_textblob</th>\n",
       "    </tr>\n",
       "  </thead>\n",
       "  <tbody>\n",
       "    <tr>\n",
       "      <th>0</th>\n",
       "      <td>5814_8</td>\n",
       "      <td>1</td>\n",
       "      <td>With all this stuff going down at the moment w...</td>\n",
       "      <td>0.001277</td>\n",
       "      <td>1</td>\n",
       "    </tr>\n",
       "    <tr>\n",
       "      <th>1</th>\n",
       "      <td>2381_9</td>\n",
       "      <td>1</td>\n",
       "      <td>\\The Classic War of the Worlds\\\" by Timothy Hi...</td>\n",
       "      <td>0.256349</td>\n",
       "      <td>1</td>\n",
       "    </tr>\n",
       "    <tr>\n",
       "      <th>2</th>\n",
       "      <td>7759_3</td>\n",
       "      <td>0</td>\n",
       "      <td>The film starts with a manager (Nicholas Bell)...</td>\n",
       "      <td>-0.053941</td>\n",
       "      <td>0</td>\n",
       "    </tr>\n",
       "    <tr>\n",
       "      <th>3</th>\n",
       "      <td>3630_4</td>\n",
       "      <td>0</td>\n",
       "      <td>It must be assumed that those who praised this...</td>\n",
       "      <td>0.134753</td>\n",
       "      <td>1</td>\n",
       "    </tr>\n",
       "    <tr>\n",
       "      <th>4</th>\n",
       "      <td>9495_8</td>\n",
       "      <td>1</td>\n",
       "      <td>Superbly trashy and wondrously unpretentious 8...</td>\n",
       "      <td>-0.024842</td>\n",
       "      <td>0</td>\n",
       "    </tr>\n",
       "  </tbody>\n",
       "</table>\n",
       "</div>"
      ],
      "text/plain": [
       "       id  sentiment                                             review  \\\n",
       "0  5814_8          1  With all this stuff going down at the moment w...   \n",
       "1  2381_9          1  \\The Classic War of the Worlds\\\" by Timothy Hi...   \n",
       "2  7759_3          0  The film starts with a manager (Nicholas Bell)...   \n",
       "3  3630_4          0  It must be assumed that those who praised this...   \n",
       "4  9495_8          1  Superbly trashy and wondrously unpretentious 8...   \n",
       "\n",
       "   sentiment_score sentiment_textblob  \n",
       "0         0.001277                  1  \n",
       "1         0.256349                  1  \n",
       "2        -0.053941                  0  \n",
       "3         0.134753                  1  \n",
       "4        -0.024842                  0  "
      ]
     },
     "execution_count": 9,
     "metadata": {},
     "output_type": "execute_result"
    }
   ],
   "source": [
    "# Create a new column by applying the function to the sentiment score\n",
    "\n",
    "reviews['sentiment_textblob'] = reviews['sentiment_score'].apply(getAnalysis)\n",
    "reviews.head()"
   ]
  },
  {
   "cell_type": "code",
   "execution_count": 10,
   "id": "ac3728d9",
   "metadata": {},
   "outputs": [
    {
     "data": {
      "text/plain": [
       "1    19017\n",
       "0     5983\n",
       "Name: sentiment_textblob, dtype: int64"
      ]
     },
     "execution_count": 10,
     "metadata": {},
     "output_type": "execute_result"
    }
   ],
   "source": [
    "reviews.sentiment_textblob.value_counts()"
   ]
  },
  {
   "cell_type": "code",
   "execution_count": 11,
   "id": "efecd011",
   "metadata": {},
   "outputs": [
    {
     "name": "stdout",
     "output_type": "stream",
     "text": [
      "Accurate positive sentiment prediction by textBlob : 11824\n",
      "Accurate negative sentiment prediction by textBlob : 5307\n"
     ]
    }
   ],
   "source": [
    "# 4. Check the accuracy of this model. Is this model better than random guessing?\n",
    "\n",
    "print(\"Accurate positive sentiment prediction by textBlob :\", sum((reviews['sentiment'] > 0) & (reviews['sentiment_score'] >= 0)))\n",
    "print(\"Accurate negative sentiment prediction by textBlob :\", sum((reviews['sentiment'] <= 0) & (reviews['sentiment_score'] < 0)))"
   ]
  },
  {
   "cell_type": "markdown",
   "id": "f6b4d91b",
   "metadata": {},
   "source": [
    "Total # of agreements by textBlob: 11824 + 5307 = 18483\n",
    "\n",
    "Total # of samples: 25000\n",
    "\n",
    "Accuracy of textBlob = (18483/25000)*100 = 73.932%\n",
    "\n",
    "Accuracy of textBlob model is about 74%. This is definitely better than random guessing which would be of 50% accuracy  with either yes or no."
   ]
  },
  {
   "cell_type": "code",
   "execution_count": 12,
   "id": "878409e3",
   "metadata": {},
   "outputs": [
    {
     "name": "stderr",
     "output_type": "stream",
     "text": [
      "[nltk_data] Downloading package vader_lexicon to\n",
      "[nltk_data]     /Users/anjanibonda/nltk_data...\n",
      "[nltk_data]   Package vader_lexicon is already up-to-date!\n",
      "[nltk_data] Downloading package stopwords to\n",
      "[nltk_data]     /Users/anjanibonda/nltk_data...\n",
      "[nltk_data]   Package stopwords is already up-to-date!\n",
      "[nltk_data] Downloading package punkt to\n",
      "[nltk_data]     /Users/anjanibonda/nltk_data...\n",
      "[nltk_data]   Package punkt is already up-to-date!\n"
     ]
    }
   ],
   "source": [
    "# 5. For up to five points extra credit, use another prebuilt text sentiment analyzer, e.g., VADER, and repeat steps\n",
    "#   (3) and (4).\n",
    "\n",
    "#Importing vader module\n",
    "import nltk\n",
    "nltk.downloader.download('vader_lexicon')\n",
    "nltk.download('stopwords')\n",
    "nltk.download('punkt')\n",
    "from nltk.sentiment.vader import SentimentIntensityAnalyzer"
   ]
  },
  {
   "cell_type": "code",
   "execution_count": 13,
   "id": "b673b0ed",
   "metadata": {},
   "outputs": [],
   "source": [
    "analyzer = SentimentIntensityAnalyzer()\n",
    "reviews['negative'] = [analyzer.polarity_scores(x)['neg'] for x in reviews['review']]\n",
    "reviews['neutral'] = [analyzer.polarity_scores(x)['neu'] for x in reviews['review']]\n",
    "reviews['positive'] = [analyzer.polarity_scores(x)['pos'] for x in reviews['review']]\n",
    "reviews['compound'] = [analyzer.polarity_scores(x)['compound'] for x in reviews['review']]\n",
    "reviews['total'] = reviews['positive'] - reviews['negative']"
   ]
  },
  {
   "cell_type": "code",
   "execution_count": 14,
   "id": "533042b5",
   "metadata": {},
   "outputs": [
    {
     "name": "stdout",
     "output_type": "stream",
     "text": [
      "Number of rows in the data set with positive reviews in dataset per vader Analysis : 16475\n",
      "Number of rows in the data set with Negative reviews in dataset per vader Analysis : 8525\n"
     ]
    }
   ],
   "source": [
    "#Calculating positive and negative review sentiment analysis count by Vader\n",
    "print(\"Number of rows in the data set with positive reviews in dataset per vader Analysis :\", sum(reviews['compound'] >= 0))\n",
    "print(\"Number of rows in the data set with Negative reviews in dataset per vader Analysis :\", sum(reviews['compound'] < 0))"
   ]
  },
  {
   "cell_type": "code",
   "execution_count": 15,
   "id": "d4952a1e",
   "metadata": {},
   "outputs": [
    {
     "name": "stdout",
     "output_type": "stream",
     "text": [
      "Accurate positive sentiment prediction by vader : 10657\n",
      "Accurate negative sentiment prediction by vader : 6682\n"
     ]
    }
   ],
   "source": [
    "#Calculating Accuracy of textBlob where labelled test data and VADER preduction for sentiment are matching\n",
    "print(\"Accurate positive sentiment prediction by vader :\", sum((reviews['sentiment'] > 0) & (reviews['compound'] >= 0)))\n",
    "print(\"Accurate negative sentiment prediction by vader :\", sum((reviews['sentiment'] <= 0) & (reviews['compound'] < 0)))"
   ]
  },
  {
   "cell_type": "markdown",
   "id": "57a5e970",
   "metadata": {},
   "source": [
    "Total # of agreements by VADER: 10657+6682 = 17339\n",
    "\n",
    "Total # of samples: 25000\n",
    "\n",
    "Accuracy of VADER = (17339/25000)*100 = 69.356%\n",
    "\n",
    "Accuracy of VADER model is about 70%. This is definitely better than random guessing which would be of 50% accuracy with either yes or no."
   ]
  },
  {
   "cell_type": "markdown",
   "id": "0fe346b0",
   "metadata": {},
   "source": [
    "### Part 2: Prepping Text for a Custom Model"
   ]
  },
  {
   "cell_type": "code",
   "execution_count": 16,
   "id": "7f399fc1",
   "metadata": {},
   "outputs": [],
   "source": [
    "# 1. Convert all text to lowercase letters.\n",
    "# 2. Remove punctuation and special characters from the text.\n",
    "# 3. Remove stop words.\n",
    "\n",
    "#creating function to clean text\n",
    "def cleantext(text):\n",
    "    text = BeautifulSoup(text).get_text() #beautifying text\n",
    "    letters_only = re.sub(\"[^a-zA-Z]\", \" \", text) # clean the html charecters (non text)\n",
    "    words = letters_only.lower().split()   # convert to lower text                        \n",
    "    stops = set(stopwords.words(\"english\")) # setting stop words to remove                  \n",
    "    main_words = [w for w in words if not w in stops]   \n",
    "    return( \" \".join( main_words )) "
   ]
  },
  {
   "cell_type": "code",
   "execution_count": 17,
   "id": "6a41e070",
   "metadata": {},
   "outputs": [
    {
     "name": "stderr",
     "output_type": "stream",
     "text": [
      "/Users/anjanibonda/opt/anaconda3/lib/python3.9/site-packages/bs4/__init__.py:435: MarkupResemblesLocatorWarning: The input looks more like a filename than markup. You may want to open this file and pass the filehandle into Beautiful Soup.\n",
      "  warnings.warn(\n"
     ]
    }
   ],
   "source": [
    "#applying clean function on the data frame and creating a new column with clean text\n",
    "reviews['cleanreview'] = reviews['review'].apply(cleantext)"
   ]
  },
  {
   "cell_type": "code",
   "execution_count": 18,
   "id": "5df2219b",
   "metadata": {},
   "outputs": [],
   "source": [
    "# 4. Apply NLTK’s PorterStemmer.\n",
    "\n",
    "# import these modules\n",
    "from nltk.stem import PorterStemmer"
   ]
  },
  {
   "cell_type": "code",
   "execution_count": 19,
   "id": "3123674e",
   "metadata": {},
   "outputs": [],
   "source": [
    "#Applying porterstemmer on clean_review\n",
    "ps = PorterStemmer()\n",
    "reviews['cleanreview'] = reviews['cleanreview'].apply(lambda review: ps.stem(review))"
   ]
  },
  {
   "cell_type": "code",
   "execution_count": 20,
   "id": "71d41c15",
   "metadata": {},
   "outputs": [
    {
     "name": "stdout",
     "output_type": "stream",
     "text": [
      "['call', 'episode', 'brilliant', 'feels', 'like', 'little', 'say', 'keeps', 'excellent', 'work', 'season', 'premiere', 'reductive', 'cause', 'never', 'far', 'great', 'sopranos', 'episode', 'far', 'fact', 'title', 'might', 'smug', 'invitation', 'real', 'fans', 'yet', 'join', 'club', 'picking', 'junior', 'left', 'putting', 'bullet', 'nephew', 'gut', 'mistaking', 'crook', 'killed', 'first', 'season', 'story', 'begins', 'tony', 'absolutely', 'fine', 'recollection', 'whatsoever', 'happened', 'attending', 'kind', 'convention', 'speaking', 'normal', 'accent', 'seems', 'something', 'wrong', 'papers', 'apparently', 'tony', 'soprano', 'kevin', 'finnerty', 'least', 'group', 'people', 'think', 'mess', 'sorted', 'leave', 'hotel', 'naturally', 'pure', 'sopranos', 'tradition', 'turns', 'nothing', 'dream', 'tony', 'actually', 'coma', 'doctors', 'uncertain', 'regarding', 'fate', 'family', 'friends', 'worried', 'sick', 'junior', 'refusing', 'believe', 'whole', 'thing', 'actually', 'happened', 'unfortunately', 'anthony', 'jr', 'looks', 'willing', 'avenge', 'attempt', 'father', 'life', 'dreams', 'popped', 'rather', 'frequently', 'series', 'often', 'kind', 'spiritual', 'trial', 'protagonists', 'notably', 'season', 'five', 'show', 'test', 'dream', 'join', 'club', 'however', 'takes', 'metaphysical', 'qualities', 'program', 'already', 'hinted', 'previous', 'episode', 'use', 'william', 'burroughs', 'poem', 'pushes', 'envelope', 'audacious', 'way', 'tony', 'hallucinating', 'dead', 'friends', 'first', 'occurrence', 'sort', 'caused', 'food', 'poisoning', 'four', 'seasons', 'ago', 'one', 'thing', 'actually', 'would', 'appear', 'purgatory', 'radically', 'different', 'heavenly', 'section', 'story', 'crammed', 'allegorical', 'significances', 'least', 'name', 'tony', 'given', 'one', 'character', 'points', 'spelling', 'certain', 'way', 'give', 'word', 'infinity', 'none', 'comes', 'overblown', 'far', 'fetched', 'david', 'chase', 'created', 'piece', 'work', 'far', 'intelligent', 'use', 'weird', 'set', 'ups', 'sake', 'helps', 'narrative', 'talking', 'help', 'case', 'tony', 'soprano', 'might', 'stretching', 'tad', 'though']\n"
     ]
    }
   ],
   "source": [
    "# importing word_tokenize\n",
    "\n",
    "from nltk import word_tokenize\n",
    "\n",
    "# extracting and prinitng tokenized values sample\n",
    "corpora = reviews['cleanreview'].values\n",
    "tokenized = [word_tokenize(corpus) for corpus in corpora]\n",
    "\n",
    "print(tokenized[1111])"
   ]
  },
  {
   "cell_type": "code",
   "execution_count": 21,
   "id": "5d5f828c",
   "metadata": {},
   "outputs": [
    {
     "data": {
      "text/plain": [
       "(25000, 11)"
      ]
     },
     "execution_count": 21,
     "metadata": {},
     "output_type": "execute_result"
    }
   ],
   "source": [
    "#shape of train data frame\n",
    "reviews.shape"
   ]
  },
  {
   "cell_type": "code",
   "execution_count": 22,
   "id": "7250466a",
   "metadata": {},
   "outputs": [],
   "source": [
    "# 5. Create a bag-of-words matrix from your stemmed text (output from (4)), where each row is a word-count vector \n",
    "#    for a single movie review (see sections 5.3 & 6.8 in the Machine Learning with Python Cookbook). \n",
    "#    Display the dimensions of your bag-of-words matrix. The number of rows in this matrix should be the same as \n",
    "#    the number of rows in your original data frame.\n",
    "\n",
    "#Creating bag_of_words matrix from clean review\n",
    "count = CountVectorizer()\n",
    "bag_of_words = count.fit_transform(reviews['cleanreview'])\n"
   ]
  },
  {
   "cell_type": "code",
   "execution_count": 23,
   "id": "7f910210",
   "metadata": {},
   "outputs": [
    {
     "data": {
      "text/plain": [
       "<25000x75529 sparse matrix of type '<class 'numpy.int64'>'\n",
       "\twith 2446144 stored elements in Compressed Sparse Row format>"
      ]
     },
     "execution_count": 23,
     "metadata": {},
     "output_type": "execute_result"
    }
   ],
   "source": [
    "bag_of_words #Size of bag_of_words"
   ]
  },
  {
   "cell_type": "code",
   "execution_count": 24,
   "id": "26cd60f1",
   "metadata": {},
   "outputs": [
    {
     "name": "stdout",
     "output_type": "stream",
     "text": [
      "(25000, 75529)\n"
     ]
    }
   ],
   "source": [
    "# 6. Create a term frequency-inverse document frequency (tf-idf) matrix from your stemmed text, for your movie reviews \n",
    "#    (see section 6.9 in the Machine Learning with Python Cookbook). Display the dimensions of your tf-idf matrix. \n",
    "#    These dimensions should be the same as your bag-of-words matrix.\n",
    "\n",
    "# Import tf-idf encoding from sklearn library\n",
    "from sklearn.feature_extraction.text import TfidfVectorizer\n",
    "\n",
    "# Define some hiperparameters of encoded\n",
    "vectorizer = TfidfVectorizer()\n",
    "\n",
    "# Create the training set with the words encoded as features of the reviews\n",
    "train_data_features = vectorizer.fit_transform(reviews['cleanreview'])\n",
    "\n",
    "print(train_data_features.shape)"
   ]
  },
  {
   "cell_type": "code",
   "execution_count": 25,
   "id": "d65e3858",
   "metadata": {},
   "outputs": [
    {
     "name": "stderr",
     "output_type": "stream",
     "text": [
      "/Users/anjanibonda/opt/anaconda3/lib/python3.9/site-packages/sklearn/linear_model/_logistic.py:763: ConvergenceWarning: lbfgs failed to converge (status=1):\n",
      "STOP: TOTAL NO. of ITERATIONS REACHED LIMIT.\n",
      "\n",
      "Increase the number of iterations (max_iter) or scale the data as shown in:\n",
      "    https://scikit-learn.org/stable/modules/preprocessing.html\n",
      "Please also refer to the documentation for alternative solver options:\n",
      "    https://scikit-learn.org/stable/modules/linear_model.html#logistic-regression\n",
      "  n_iter_i = _check_optimize_result(\n"
     ]
    },
    {
     "data": {
      "text/plain": [
       "LogisticRegression(multi_class='multinomial', random_state=0)"
      ]
     },
     "execution_count": 25,
     "metadata": {},
     "output_type": "execute_result"
    }
   ],
   "source": [
    "# Import the logistic regression model from sklearn \n",
    "\n",
    "from sklearn.linear_model import LogisticRegression\n",
    "\n",
    "# Define the model\n",
    "model = LogisticRegression(random_state=0, solver='lbfgs',\n",
    "                            multi_class='multinomial')\n",
    "# Train model\n",
    "model.fit(train_data_features, reviews['sentiment'])"
   ]
  },
  {
   "cell_type": "code",
   "execution_count": 26,
   "id": "a4d8f924",
   "metadata": {},
   "outputs": [
    {
     "name": "stdout",
     "output_type": "stream",
     "text": [
      "(25000, 3)\n",
      "Cleaning and parsing the test set movie reviews...\n",
      "\n"
     ]
    },
    {
     "name": "stderr",
     "output_type": "stream",
     "text": [
      "/Users/anjanibonda/opt/anaconda3/lib/python3.9/site-packages/bs4/__init__.py:435: MarkupResemblesLocatorWarning: The input looks more like a filename than markup. You may want to open this file and pass the filehandle into Beautiful Soup.\n",
      "  warnings.warn(\n"
     ]
    },
    {
     "data": {
      "text/html": [
       "<div>\n",
       "<style scoped>\n",
       "    .dataframe tbody tr th:only-of-type {\n",
       "        vertical-align: middle;\n",
       "    }\n",
       "\n",
       "    .dataframe tbody tr th {\n",
       "        vertical-align: top;\n",
       "    }\n",
       "\n",
       "    .dataframe thead th {\n",
       "        text-align: right;\n",
       "    }\n",
       "</style>\n",
       "<table border=\"1\" class=\"dataframe\">\n",
       "  <thead>\n",
       "    <tr style=\"text-align: right;\">\n",
       "      <th></th>\n",
       "      <th>id</th>\n",
       "      <th>original_sentiment</th>\n",
       "      <th>sentiment_custom</th>\n",
       "    </tr>\n",
       "  </thead>\n",
       "  <tbody>\n",
       "    <tr>\n",
       "      <th>0</th>\n",
       "      <td>\"5814_8\"</td>\n",
       "      <td>1</td>\n",
       "      <td>1</td>\n",
       "    </tr>\n",
       "    <tr>\n",
       "      <th>1</th>\n",
       "      <td>\"2381_9\"</td>\n",
       "      <td>1</td>\n",
       "      <td>1</td>\n",
       "    </tr>\n",
       "    <tr>\n",
       "      <th>2</th>\n",
       "      <td>\"7759_3\"</td>\n",
       "      <td>0</td>\n",
       "      <td>0</td>\n",
       "    </tr>\n",
       "    <tr>\n",
       "      <th>3</th>\n",
       "      <td>\"3630_4\"</td>\n",
       "      <td>0</td>\n",
       "      <td>0</td>\n",
       "    </tr>\n",
       "    <tr>\n",
       "      <th>4</th>\n",
       "      <td>\"9495_8\"</td>\n",
       "      <td>1</td>\n",
       "      <td>0</td>\n",
       "    </tr>\n",
       "  </tbody>\n",
       "</table>\n",
       "</div>"
      ],
      "text/plain": [
       "         id  original_sentiment  sentiment_custom\n",
       "0  \"5814_8\"                   1                 1\n",
       "1  \"2381_9\"                   1                 1\n",
       "2  \"7759_3\"                   0                 0\n",
       "3  \"3630_4\"                   0                 0\n",
       "4  \"9495_8\"                   1                 0"
      ]
     },
     "execution_count": 26,
     "metadata": {},
     "output_type": "execute_result"
    }
   ],
   "source": [
    "# Testing the model against entire train data from original trained data\n",
    "\n",
    "# Read the test data\n",
    "test = pd.read_csv(\"labeledTrainData.tsv\", header=0, delimiter=\"\\t\", \\\n",
    "                   quoting=3 )\n",
    "print(test.shape)\n",
    "\n",
    "# Clean the text of all reviews in the training set\n",
    "print(\"Cleaning and parsing the test set movie reviews...\\n\")\n",
    "test['clean_review'] = test['review'].apply(cleantext)\n",
    "\n",
    "# Create the test set with the words encoded as features of the reviews\n",
    "test_data_features = vectorizer.transform(test['clean_review'])\n",
    "\n",
    "\n",
    "# Use the logistic regression model to make sentiment label predictions\n",
    "result = model.predict(test_data_features)\n",
    "\n",
    "# Copy the results to a pandas dataframe with an \"id\" column and a \"sentiment\" column\n",
    "output = pd.DataFrame( data={\"id\":test[\"id\"],\"original_sentiment\":test[\"sentiment\"] ,\"sentiment_custom\":result})\n",
    "output.head()"
   ]
  },
  {
   "cell_type": "code",
   "execution_count": 27,
   "id": "2259ef2a",
   "metadata": {},
   "outputs": [
    {
     "name": "stdout",
     "output_type": "stream",
     "text": [
      "Number of rows in the data set with positive reviews in dataset per custom model : 12611\n",
      "Number of rows in the data set with negative reviews in dataset per custom model : 12389\n"
     ]
    }
   ],
   "source": [
    "# Calculating positive and negative review sentiment analysis count by custom model\n",
    "print(\"Number of rows in the data set with positive reviews in dataset per custom model :\", sum(output['sentiment_custom'] == 1))\n",
    "print(\"Number of rows in the data set with negative reviews in dataset per custom model :\", sum(output['sentiment_custom'] == 0))"
   ]
  },
  {
   "cell_type": "code",
   "execution_count": 28,
   "id": "38b283f1",
   "metadata": {},
   "outputs": [
    {
     "name": "stdout",
     "output_type": "stream",
     "text": [
      "Accurate positive sentiment prediction by custom model : 11997\n",
      "Accurate negative sentiment prediction by custom model : 11886\n"
     ]
    }
   ],
   "source": [
    "# Calculating Accuracy of custom model where labelled test data and VADER preduction for sentiment are matching\n",
    "print(\"Accurate positive sentiment prediction by custom model :\", sum((output['original_sentiment'] == 1) & (output['sentiment_custom'] == 1)))\n",
    "print(\"Accurate negative sentiment prediction by custom model :\", sum((output['original_sentiment'] == 0) & (output['sentiment_custom'] == 0)))"
   ]
  },
  {
   "cell_type": "markdown",
   "id": "7ad30e5c",
   "metadata": {},
   "source": [
    "Total # of agreements by custom model: 11997+11886 = 23883'\n",
    "\n",
    "Total # of samples: 25000\n",
    "\n",
    "Accuracy of Custom Model = (23883/25000)*100 = 95.532%\n",
    "\n",
    "Accuracy of Custom model is about 95.5%. This is definitely better than random guessing which would be of 50% accuracy with either yes or no.\n"
   ]
  },
  {
   "cell_type": "code",
   "execution_count": 29,
   "id": "465c5b39",
   "metadata": {},
   "outputs": [
    {
     "name": "stdout",
     "output_type": "stream",
     "text": [
      "(25000, 3)\n",
      "Cleaning and parsing the test set movie reviews...\n",
      "\n"
     ]
    },
    {
     "name": "stderr",
     "output_type": "stream",
     "text": [
      "/Users/anjanibonda/opt/anaconda3/lib/python3.9/site-packages/bs4/__init__.py:435: MarkupResemblesLocatorWarning: The input looks more like a filename than markup. You may want to open this file and pass the filehandle into Beautiful Soup.\n",
      "  warnings.warn(\n"
     ]
    },
    {
     "data": {
      "text/html": [
       "<div>\n",
       "<style scoped>\n",
       "    .dataframe tbody tr th:only-of-type {\n",
       "        vertical-align: middle;\n",
       "    }\n",
       "\n",
       "    .dataframe tbody tr th {\n",
       "        vertical-align: top;\n",
       "    }\n",
       "\n",
       "    .dataframe thead th {\n",
       "        text-align: right;\n",
       "    }\n",
       "</style>\n",
       "<table border=\"1\" class=\"dataframe\">\n",
       "  <thead>\n",
       "    <tr style=\"text-align: right;\">\n",
       "      <th></th>\n",
       "      <th>id</th>\n",
       "      <th>sentiment</th>\n",
       "    </tr>\n",
       "  </thead>\n",
       "  <tbody>\n",
       "    <tr>\n",
       "      <th>0</th>\n",
       "      <td>\"5814_8\"</td>\n",
       "      <td>1</td>\n",
       "    </tr>\n",
       "    <tr>\n",
       "      <th>1</th>\n",
       "      <td>\"2381_9\"</td>\n",
       "      <td>1</td>\n",
       "    </tr>\n",
       "    <tr>\n",
       "      <th>2</th>\n",
       "      <td>\"7759_3\"</td>\n",
       "      <td>0</td>\n",
       "    </tr>\n",
       "    <tr>\n",
       "      <th>3</th>\n",
       "      <td>\"3630_4\"</td>\n",
       "      <td>0</td>\n",
       "    </tr>\n",
       "    <tr>\n",
       "      <th>4</th>\n",
       "      <td>\"9495_8\"</td>\n",
       "      <td>0</td>\n",
       "    </tr>\n",
       "  </tbody>\n",
       "</table>\n",
       "</div>"
      ],
      "text/plain": [
       "         id  sentiment\n",
       "0  \"5814_8\"          1\n",
       "1  \"2381_9\"          1\n",
       "2  \"7759_3\"          0\n",
       "3  \"3630_4\"          0\n",
       "4  \"9495_8\"          0"
      ]
     },
     "execution_count": 29,
     "metadata": {},
     "output_type": "execute_result"
    }
   ],
   "source": [
    "# Read the test data\n",
    "test2 = pd.read_csv(\"/Users/anjanibonda/Data-Science/DSC550/Week3_Sentiment_Analysis/labeledTrainData.tsv\", header=0, delimiter=\"\\t\", \\\n",
    "                   quoting=3 )\n",
    "print(test2.shape)\n",
    "\n",
    "\n",
    "# Clean the text of all reviews in the training set\n",
    "print(\"Cleaning and parsing the test set movie reviews...\\n\")\n",
    "test2['clean_review'] = test2['review'].apply(cleantext)\n",
    "\n",
    "# Create the test set with the words encoded as features of the reviews\n",
    "test_data_features = vectorizer.transform(test2['clean_review'])\n",
    "\n",
    "\n",
    "# Use the logistic regression model to make sentiment label predictions\n",
    "result = model.predict(test_data_features)\n",
    "\n",
    "# Copy the results to a pandas dataframe with an \"id\" column and a \"sentiment\" column\n",
    "output_test = pd.DataFrame( data={\"id\":test2[\"id\"],\"sentiment\":result})\n",
    "output_test.head()"
   ]
  },
  {
   "cell_type": "code",
   "execution_count": 30,
   "id": "0aba42c3",
   "metadata": {},
   "outputs": [],
   "source": [
    "output_test.to_csv(\"test_result.csv\", index=False, quoting=3 )"
   ]
  },
  {
   "cell_type": "code",
   "execution_count": null,
   "id": "7b963c4b",
   "metadata": {},
   "outputs": [],
   "source": []
  }
 ],
 "metadata": {
  "kernelspec": {
   "display_name": "Python 3 (ipykernel)",
   "language": "python",
   "name": "python3"
  },
  "language_info": {
   "codemirror_mode": {
    "name": "ipython",
    "version": 3
   },
   "file_extension": ".py",
   "mimetype": "text/x-python",
   "name": "python",
   "nbconvert_exporter": "python",
   "pygments_lexer": "ipython3",
   "version": "3.9.7"
  }
 },
 "nbformat": 4,
 "nbformat_minor": 5
}
