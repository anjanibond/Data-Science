{
 "cells": [
  {
   "cell_type": "markdown",
   "id": "74131b97",
   "metadata": {},
   "source": [
    "### Exercise 4.2: Predicting Fuel Efficiency\n",
    "### Author: Anjani Bonda\n",
    "### Date: July 03, 2022"
   ]
  },
  {
   "cell_type": "markdown",
   "id": "0a43731b",
   "metadata": {},
   "source": [
    "1. Load the auto-mpg data as a Pandas data frame and ensure that it is imported correctly."
   ]
  },
  {
   "cell_type": "code",
   "execution_count": 1,
   "id": "de32be70",
   "metadata": {},
   "outputs": [],
   "source": [
    "# Import the required libraries.\n",
    "\n",
    "import numpy as np\n",
    "import pandas as pd\n",
    "import seaborn as sns\n",
    "import matplotlib as mpl\n",
    "import matplotlib.pyplot as plt\n",
    "from sklearn import linear_model\n",
    "from sklearn.model_selection import train_test_split\n",
    "from sklearn.linear_model import LinearRegression\n",
    "from sklearn.linear_model import Lasso\n",
    "from sklearn.preprocessing import StandardScaler\n",
    "from sklearn.metrics import mean_absolute_error\n",
    "from sklearn.metrics import mean_squared_error\n",
    "from sklearn.metrics import r2_score\n",
    "%matplotlib inline"
   ]
  },
  {
   "cell_type": "code",
   "execution_count": 28,
   "id": "b7bd1738",
   "metadata": {},
   "outputs": [
    {
     "data": {
      "text/html": [
       "<div>\n",
       "<style scoped>\n",
       "    .dataframe tbody tr th:only-of-type {\n",
       "        vertical-align: middle;\n",
       "    }\n",
       "\n",
       "    .dataframe tbody tr th {\n",
       "        vertical-align: top;\n",
       "    }\n",
       "\n",
       "    .dataframe thead th {\n",
       "        text-align: right;\n",
       "    }\n",
       "</style>\n",
       "<table border=\"1\" class=\"dataframe\">\n",
       "  <thead>\n",
       "    <tr style=\"text-align: right;\">\n",
       "      <th></th>\n",
       "      <th>mpg</th>\n",
       "      <th>cylinders</th>\n",
       "      <th>displacement</th>\n",
       "      <th>horsepower</th>\n",
       "      <th>weight</th>\n",
       "      <th>acceleration</th>\n",
       "      <th>model year</th>\n",
       "      <th>origin</th>\n",
       "      <th>car name</th>\n",
       "    </tr>\n",
       "  </thead>\n",
       "  <tbody>\n",
       "    <tr>\n",
       "      <th>0</th>\n",
       "      <td>18.0</td>\n",
       "      <td>8</td>\n",
       "      <td>307.0</td>\n",
       "      <td>130</td>\n",
       "      <td>3504</td>\n",
       "      <td>12.0</td>\n",
       "      <td>70</td>\n",
       "      <td>1</td>\n",
       "      <td>chevrolet chevelle malibu</td>\n",
       "    </tr>\n",
       "    <tr>\n",
       "      <th>1</th>\n",
       "      <td>15.0</td>\n",
       "      <td>8</td>\n",
       "      <td>350.0</td>\n",
       "      <td>165</td>\n",
       "      <td>3693</td>\n",
       "      <td>11.5</td>\n",
       "      <td>70</td>\n",
       "      <td>1</td>\n",
       "      <td>buick skylark 320</td>\n",
       "    </tr>\n",
       "    <tr>\n",
       "      <th>2</th>\n",
       "      <td>18.0</td>\n",
       "      <td>8</td>\n",
       "      <td>318.0</td>\n",
       "      <td>150</td>\n",
       "      <td>3436</td>\n",
       "      <td>11.0</td>\n",
       "      <td>70</td>\n",
       "      <td>1</td>\n",
       "      <td>plymouth satellite</td>\n",
       "    </tr>\n",
       "    <tr>\n",
       "      <th>3</th>\n",
       "      <td>16.0</td>\n",
       "      <td>8</td>\n",
       "      <td>304.0</td>\n",
       "      <td>150</td>\n",
       "      <td>3433</td>\n",
       "      <td>12.0</td>\n",
       "      <td>70</td>\n",
       "      <td>1</td>\n",
       "      <td>amc rebel sst</td>\n",
       "    </tr>\n",
       "    <tr>\n",
       "      <th>4</th>\n",
       "      <td>17.0</td>\n",
       "      <td>8</td>\n",
       "      <td>302.0</td>\n",
       "      <td>140</td>\n",
       "      <td>3449</td>\n",
       "      <td>10.5</td>\n",
       "      <td>70</td>\n",
       "      <td>1</td>\n",
       "      <td>ford torino</td>\n",
       "    </tr>\n",
       "  </tbody>\n",
       "</table>\n",
       "</div>"
      ],
      "text/plain": [
       "    mpg  cylinders  displacement horsepower  weight  acceleration  model year  \\\n",
       "0  18.0          8         307.0        130    3504          12.0          70   \n",
       "1  15.0          8         350.0        165    3693          11.5          70   \n",
       "2  18.0          8         318.0        150    3436          11.0          70   \n",
       "3  16.0          8         304.0        150    3433          12.0          70   \n",
       "4  17.0          8         302.0        140    3449          10.5          70   \n",
       "\n",
       "   origin                   car name  \n",
       "0       1  chevrolet chevelle malibu  \n",
       "1       1          buick skylark 320  \n",
       "2       1         plymouth satellite  \n",
       "3       1              amc rebel sst  \n",
       "4       1                ford torino  "
      ]
     },
     "execution_count": 28,
     "metadata": {},
     "output_type": "execute_result"
    }
   ],
   "source": [
    "df = pd.read_csv('auto-mpg.csv')\n",
    "df.head()"
   ]
  },
  {
   "cell_type": "markdown",
   "id": "62fea4af",
   "metadata": {},
   "source": [
    "2. Begin by prepping the data for modeling:\n",
    "    Remove the car name column.\n",
    "    The horsepower column values likely imported as a string data type. Figure out why and replace any strings with the column mean.\n",
    "    Create dummy variables for the origin column."
   ]
  },
  {
   "cell_type": "code",
   "execution_count": 29,
   "id": "35b79cbe",
   "metadata": {},
   "outputs": [
    {
     "data": {
      "text/plain": [
       "(398, 9)"
      ]
     },
     "execution_count": 29,
     "metadata": {},
     "output_type": "execute_result"
    }
   ],
   "source": [
    "# Check the data frame shape\n",
    "df.shape"
   ]
  },
  {
   "cell_type": "code",
   "execution_count": 30,
   "id": "7f739132",
   "metadata": {},
   "outputs": [
    {
     "data": {
      "text/plain": [
       "mpg             0\n",
       "cylinders       0\n",
       "displacement    0\n",
       "horsepower      0\n",
       "weight          0\n",
       "acceleration    0\n",
       "model year      0\n",
       "origin          0\n",
       "car name        0\n",
       "dtype: int64"
      ]
     },
     "execution_count": 30,
     "metadata": {},
     "output_type": "execute_result"
    }
   ],
   "source": [
    "# Check for missing values\n",
    "df.isna().sum()"
   ]
  },
  {
   "cell_type": "code",
   "execution_count": 31,
   "id": "65943a16",
   "metadata": {},
   "outputs": [
    {
     "data": {
      "text/html": [
       "<div>\n",
       "<style scoped>\n",
       "    .dataframe tbody tr th:only-of-type {\n",
       "        vertical-align: middle;\n",
       "    }\n",
       "\n",
       "    .dataframe tbody tr th {\n",
       "        vertical-align: top;\n",
       "    }\n",
       "\n",
       "    .dataframe thead th {\n",
       "        text-align: right;\n",
       "    }\n",
       "</style>\n",
       "<table border=\"1\" class=\"dataframe\">\n",
       "  <thead>\n",
       "    <tr style=\"text-align: right;\">\n",
       "      <th></th>\n",
       "      <th>mpg</th>\n",
       "      <th>cylinders</th>\n",
       "      <th>displacement</th>\n",
       "      <th>horsepower</th>\n",
       "      <th>weight</th>\n",
       "      <th>acceleration</th>\n",
       "      <th>model year</th>\n",
       "      <th>origin</th>\n",
       "    </tr>\n",
       "  </thead>\n",
       "  <tbody>\n",
       "    <tr>\n",
       "      <th>0</th>\n",
       "      <td>18.0</td>\n",
       "      <td>8</td>\n",
       "      <td>307.0</td>\n",
       "      <td>130</td>\n",
       "      <td>3504</td>\n",
       "      <td>12.0</td>\n",
       "      <td>70</td>\n",
       "      <td>1</td>\n",
       "    </tr>\n",
       "    <tr>\n",
       "      <th>1</th>\n",
       "      <td>15.0</td>\n",
       "      <td>8</td>\n",
       "      <td>350.0</td>\n",
       "      <td>165</td>\n",
       "      <td>3693</td>\n",
       "      <td>11.5</td>\n",
       "      <td>70</td>\n",
       "      <td>1</td>\n",
       "    </tr>\n",
       "    <tr>\n",
       "      <th>2</th>\n",
       "      <td>18.0</td>\n",
       "      <td>8</td>\n",
       "      <td>318.0</td>\n",
       "      <td>150</td>\n",
       "      <td>3436</td>\n",
       "      <td>11.0</td>\n",
       "      <td>70</td>\n",
       "      <td>1</td>\n",
       "    </tr>\n",
       "    <tr>\n",
       "      <th>3</th>\n",
       "      <td>16.0</td>\n",
       "      <td>8</td>\n",
       "      <td>304.0</td>\n",
       "      <td>150</td>\n",
       "      <td>3433</td>\n",
       "      <td>12.0</td>\n",
       "      <td>70</td>\n",
       "      <td>1</td>\n",
       "    </tr>\n",
       "    <tr>\n",
       "      <th>4</th>\n",
       "      <td>17.0</td>\n",
       "      <td>8</td>\n",
       "      <td>302.0</td>\n",
       "      <td>140</td>\n",
       "      <td>3449</td>\n",
       "      <td>10.5</td>\n",
       "      <td>70</td>\n",
       "      <td>1</td>\n",
       "    </tr>\n",
       "  </tbody>\n",
       "</table>\n",
       "</div>"
      ],
      "text/plain": [
       "    mpg  cylinders  displacement horsepower  weight  acceleration  model year  \\\n",
       "0  18.0          8         307.0        130    3504          12.0          70   \n",
       "1  15.0          8         350.0        165    3693          11.5          70   \n",
       "2  18.0          8         318.0        150    3436          11.0          70   \n",
       "3  16.0          8         304.0        150    3433          12.0          70   \n",
       "4  17.0          8         302.0        140    3449          10.5          70   \n",
       "\n",
       "   origin  \n",
       "0       1  \n",
       "1       1  \n",
       "2       1  \n",
       "3       1  \n",
       "4       1  "
      ]
     },
     "execution_count": 31,
     "metadata": {},
     "output_type": "execute_result"
    }
   ],
   "source": [
    "# Remove the car name column\n",
    "df.drop(columns = 'car name', inplace = True)\n",
    "df.head()"
   ]
  },
  {
   "cell_type": "code",
   "execution_count": 32,
   "id": "1b5123ba",
   "metadata": {},
   "outputs": [
    {
     "data": {
      "text/plain": [
       "mpg             float64\n",
       "cylinders         int64\n",
       "displacement    float64\n",
       "horsepower       object\n",
       "weight            int64\n",
       "acceleration    float64\n",
       "model year        int64\n",
       "origin            int64\n",
       "dtype: object"
      ]
     },
     "execution_count": 32,
     "metadata": {},
     "output_type": "execute_result"
    }
   ],
   "source": [
    "df.dtypes"
   ]
  },
  {
   "cell_type": "code",
   "execution_count": 34,
   "id": "c2065eb6",
   "metadata": {},
   "outputs": [
    {
     "data": {
      "text/plain": [
       "array(['130', '165', '150', '140', '198', '220', '215', '225', '190',\n",
       "       '170', '160', '95', '97', '85', '88', '46', '87', '90', '113',\n",
       "       '200', '210', '193', '?', '100', '105', '175', '153', '180', '110',\n",
       "       '72', '86', '70', '76', '65', '69', '60', '80', '54', '208', '155',\n",
       "       '112', '92', '145', '137', '158', '167', '94', '107', '230', '49',\n",
       "       '75', '91', '122', '67', '83', '78', '52', '61', '93', '148',\n",
       "       '129', '96', '71', '98', '115', '53', '81', '79', '120', '152',\n",
       "       '102', '108', '68', '58', '149', '89', '63', '48', '66', '139',\n",
       "       '103', '125', '133', '138', '135', '142', '77', '62', '132', '84',\n",
       "       '64', '74', '116', '82'], dtype=object)"
      ]
     },
     "execution_count": 34,
     "metadata": {},
     "output_type": "execute_result"
    }
   ],
   "source": [
    "df.horsepower.unique()"
   ]
  },
  {
   "cell_type": "markdown",
   "id": "31d2316b",
   "metadata": {},
   "source": [
    "The column 'horsepower' is string as it has values \"?\""
   ]
  },
  {
   "cell_type": "code",
   "execution_count": 37,
   "id": "42b38e92",
   "metadata": {},
   "outputs": [
    {
     "data": {
      "text/plain": [
       "array([130. , 165. , 150. , 140. , 198. , 220. , 215. , 225. , 190. ,\n",
       "       170. , 160. ,  95. ,  97. ,  85. ,  88. ,  46. ,  87. ,  90. ,\n",
       "       113. , 200. , 210. , 193. , 104.5, 100. , 105. , 175. , 153. ,\n",
       "       180. , 110. ,  72. ,  86. ,  70. ,  76. ,  65. ,  69. ,  60. ,\n",
       "        80. ,  54. , 208. , 155. , 112. ,  92. , 145. , 137. , 158. ,\n",
       "       167. ,  94. , 107. , 230. ,  49. ,  75. ,  91. , 122. ,  67. ,\n",
       "        83. ,  78. ,  52. ,  61. ,  93. , 148. , 129. ,  96. ,  71. ,\n",
       "        98. , 115. ,  53. ,  81. ,  79. , 120. , 152. , 102. , 108. ,\n",
       "        68. ,  58. , 149. ,  89. ,  63. ,  48. ,  66. , 139. , 103. ,\n",
       "       125. , 133. , 138. , 135. , 142. ,  77. ,  62. , 132. ,  84. ,\n",
       "        64. ,  74. , 116. ,  82. ])"
      ]
     },
     "execution_count": 37,
     "metadata": {},
     "output_type": "execute_result"
    }
   ],
   "source": [
    "# Replace the values \"?\" with NaN, convert the datatype to float and then replace NaN with column mean\n",
    "\n",
    "df['horsepower'] = df['horsepower'].replace('?', np.NaN)\n",
    "df['horsepower'] = pd.to_numeric(df['horsepower'])\n",
    "hpmean = df['horsepower'].mean()\n",
    "df['horsepower'] = round(df['horsepower'].replace(np.NaN, hpmean), 1)\n",
    "df.horsepower.unique()"
   ]
  },
  {
   "cell_type": "code",
   "execution_count": 38,
   "id": "9e20c03a",
   "metadata": {},
   "outputs": [
    {
     "data": {
      "text/plain": [
       "mpg             float64\n",
       "cylinders         int64\n",
       "displacement    float64\n",
       "horsepower      float64\n",
       "weight            int64\n",
       "acceleration    float64\n",
       "model year        int64\n",
       "origin            int64\n",
       "dtype: object"
      ]
     },
     "execution_count": 38,
     "metadata": {},
     "output_type": "execute_result"
    }
   ],
   "source": [
    "df.dtypes"
   ]
  },
  {
   "cell_type": "code",
   "execution_count": 42,
   "id": "dcada31c",
   "metadata": {},
   "outputs": [
    {
     "data": {
      "text/plain": [
       "1    249\n",
       "3     79\n",
       "2     70\n",
       "Name: origin, dtype: int64"
      ]
     },
     "execution_count": 42,
     "metadata": {},
     "output_type": "execute_result"
    }
   ],
   "source": [
    "# Understand 'Origin' column and create dummy variables\n",
    "\n",
    "df['origin'].value_counts()"
   ]
  },
  {
   "cell_type": "code",
   "execution_count": 48,
   "id": "dd8ba202",
   "metadata": {},
   "outputs": [
    {
     "data": {
      "text/html": [
       "<div>\n",
       "<style scoped>\n",
       "    .dataframe tbody tr th:only-of-type {\n",
       "        vertical-align: middle;\n",
       "    }\n",
       "\n",
       "    .dataframe tbody tr th {\n",
       "        vertical-align: top;\n",
       "    }\n",
       "\n",
       "    .dataframe thead th {\n",
       "        text-align: right;\n",
       "    }\n",
       "</style>\n",
       "<table border=\"1\" class=\"dataframe\">\n",
       "  <thead>\n",
       "    <tr style=\"text-align: right;\">\n",
       "      <th></th>\n",
       "      <th>mpg</th>\n",
       "      <th>cylinders</th>\n",
       "      <th>displacement</th>\n",
       "      <th>horsepower</th>\n",
       "      <th>weight</th>\n",
       "      <th>acceleration</th>\n",
       "      <th>model year</th>\n",
       "      <th>origin</th>\n",
       "      <th>origin1</th>\n",
       "      <th>origin2</th>\n",
       "      <th>origin3</th>\n",
       "    </tr>\n",
       "  </thead>\n",
       "  <tbody>\n",
       "    <tr>\n",
       "      <th>0</th>\n",
       "      <td>18.0</td>\n",
       "      <td>8</td>\n",
       "      <td>307.0</td>\n",
       "      <td>130.0</td>\n",
       "      <td>3504</td>\n",
       "      <td>12.0</td>\n",
       "      <td>70</td>\n",
       "      <td>1</td>\n",
       "      <td>1</td>\n",
       "      <td>0</td>\n",
       "      <td>0</td>\n",
       "    </tr>\n",
       "    <tr>\n",
       "      <th>1</th>\n",
       "      <td>15.0</td>\n",
       "      <td>8</td>\n",
       "      <td>350.0</td>\n",
       "      <td>165.0</td>\n",
       "      <td>3693</td>\n",
       "      <td>11.5</td>\n",
       "      <td>70</td>\n",
       "      <td>1</td>\n",
       "      <td>1</td>\n",
       "      <td>0</td>\n",
       "      <td>0</td>\n",
       "    </tr>\n",
       "    <tr>\n",
       "      <th>2</th>\n",
       "      <td>18.0</td>\n",
       "      <td>8</td>\n",
       "      <td>318.0</td>\n",
       "      <td>150.0</td>\n",
       "      <td>3436</td>\n",
       "      <td>11.0</td>\n",
       "      <td>70</td>\n",
       "      <td>1</td>\n",
       "      <td>1</td>\n",
       "      <td>0</td>\n",
       "      <td>0</td>\n",
       "    </tr>\n",
       "    <tr>\n",
       "      <th>3</th>\n",
       "      <td>16.0</td>\n",
       "      <td>8</td>\n",
       "      <td>304.0</td>\n",
       "      <td>150.0</td>\n",
       "      <td>3433</td>\n",
       "      <td>12.0</td>\n",
       "      <td>70</td>\n",
       "      <td>1</td>\n",
       "      <td>1</td>\n",
       "      <td>0</td>\n",
       "      <td>0</td>\n",
       "    </tr>\n",
       "    <tr>\n",
       "      <th>4</th>\n",
       "      <td>17.0</td>\n",
       "      <td>8</td>\n",
       "      <td>302.0</td>\n",
       "      <td>140.0</td>\n",
       "      <td>3449</td>\n",
       "      <td>10.5</td>\n",
       "      <td>70</td>\n",
       "      <td>1</td>\n",
       "      <td>1</td>\n",
       "      <td>0</td>\n",
       "      <td>0</td>\n",
       "    </tr>\n",
       "  </tbody>\n",
       "</table>\n",
       "</div>"
      ],
      "text/plain": [
       "    mpg  cylinders  displacement  horsepower  weight  acceleration  \\\n",
       "0  18.0          8         307.0       130.0    3504          12.0   \n",
       "1  15.0          8         350.0       165.0    3693          11.5   \n",
       "2  18.0          8         318.0       150.0    3436          11.0   \n",
       "3  16.0          8         304.0       150.0    3433          12.0   \n",
       "4  17.0          8         302.0       140.0    3449          10.5   \n",
       "\n",
       "   model year  origin  origin1  origin2  origin3  \n",
       "0          70       1        1        0        0  \n",
       "1          70       1        1        0        0  \n",
       "2          70       1        1        0        0  \n",
       "3          70       1        1        0        0  \n",
       "4          70       1        1        0        0  "
      ]
     },
     "execution_count": 48,
     "metadata": {},
     "output_type": "execute_result"
    }
   ],
   "source": [
    "df[['origin1', 'origin2', 'origin3']] = pd.get_dummies(df['origin'])\n",
    "df.head()"
   ]
  },
  {
   "cell_type": "code",
   "execution_count": 53,
   "id": "66df5586",
   "metadata": {},
   "outputs": [
    {
     "data": {
      "text/html": [
       "<div>\n",
       "<style scoped>\n",
       "    .dataframe tbody tr th:only-of-type {\n",
       "        vertical-align: middle;\n",
       "    }\n",
       "\n",
       "    .dataframe tbody tr th {\n",
       "        vertical-align: top;\n",
       "    }\n",
       "\n",
       "    .dataframe thead th {\n",
       "        text-align: right;\n",
       "    }\n",
       "</style>\n",
       "<table border=\"1\" class=\"dataframe\">\n",
       "  <thead>\n",
       "    <tr style=\"text-align: right;\">\n",
       "      <th></th>\n",
       "      <th>mpg</th>\n",
       "      <th>cylinders</th>\n",
       "      <th>displacement</th>\n",
       "      <th>horsepower</th>\n",
       "      <th>weight</th>\n",
       "      <th>acceleration</th>\n",
       "      <th>model year</th>\n",
       "      <th>origin1</th>\n",
       "      <th>origin2</th>\n",
       "      <th>origin3</th>\n",
       "    </tr>\n",
       "  </thead>\n",
       "  <tbody>\n",
       "    <tr>\n",
       "      <th>0</th>\n",
       "      <td>18.0</td>\n",
       "      <td>8</td>\n",
       "      <td>307.0</td>\n",
       "      <td>130.0</td>\n",
       "      <td>3504</td>\n",
       "      <td>12.0</td>\n",
       "      <td>70</td>\n",
       "      <td>1</td>\n",
       "      <td>0</td>\n",
       "      <td>0</td>\n",
       "    </tr>\n",
       "    <tr>\n",
       "      <th>1</th>\n",
       "      <td>15.0</td>\n",
       "      <td>8</td>\n",
       "      <td>350.0</td>\n",
       "      <td>165.0</td>\n",
       "      <td>3693</td>\n",
       "      <td>11.5</td>\n",
       "      <td>70</td>\n",
       "      <td>1</td>\n",
       "      <td>0</td>\n",
       "      <td>0</td>\n",
       "    </tr>\n",
       "    <tr>\n",
       "      <th>2</th>\n",
       "      <td>18.0</td>\n",
       "      <td>8</td>\n",
       "      <td>318.0</td>\n",
       "      <td>150.0</td>\n",
       "      <td>3436</td>\n",
       "      <td>11.0</td>\n",
       "      <td>70</td>\n",
       "      <td>1</td>\n",
       "      <td>0</td>\n",
       "      <td>0</td>\n",
       "    </tr>\n",
       "    <tr>\n",
       "      <th>3</th>\n",
       "      <td>16.0</td>\n",
       "      <td>8</td>\n",
       "      <td>304.0</td>\n",
       "      <td>150.0</td>\n",
       "      <td>3433</td>\n",
       "      <td>12.0</td>\n",
       "      <td>70</td>\n",
       "      <td>1</td>\n",
       "      <td>0</td>\n",
       "      <td>0</td>\n",
       "    </tr>\n",
       "    <tr>\n",
       "      <th>4</th>\n",
       "      <td>17.0</td>\n",
       "      <td>8</td>\n",
       "      <td>302.0</td>\n",
       "      <td>140.0</td>\n",
       "      <td>3449</td>\n",
       "      <td>10.5</td>\n",
       "      <td>70</td>\n",
       "      <td>1</td>\n",
       "      <td>0</td>\n",
       "      <td>0</td>\n",
       "    </tr>\n",
       "  </tbody>\n",
       "</table>\n",
       "</div>"
      ],
      "text/plain": [
       "    mpg  cylinders  displacement  horsepower  weight  acceleration  \\\n",
       "0  18.0          8         307.0       130.0    3504          12.0   \n",
       "1  15.0          8         350.0       165.0    3693          11.5   \n",
       "2  18.0          8         318.0       150.0    3436          11.0   \n",
       "3  16.0          8         304.0       150.0    3433          12.0   \n",
       "4  17.0          8         302.0       140.0    3449          10.5   \n",
       "\n",
       "   model year  origin1  origin2  origin3  \n",
       "0          70        1        0        0  \n",
       "1          70        1        0        0  \n",
       "2          70        1        0        0  \n",
       "3          70        1        0        0  \n",
       "4          70        1        0        0  "
      ]
     },
     "execution_count": 53,
     "metadata": {},
     "output_type": "execute_result"
    }
   ],
   "source": [
    "# Remove the 'origin' column now\n",
    "df.drop(columns = \"origin\", inplace = True)\n",
    "df.head()"
   ]
  },
  {
   "cell_type": "markdown",
   "id": "e9f8cfea",
   "metadata": {},
   "source": [
    "3. Create a correlation coefficient matrix and/or visualization. Are there features highly correlated with mpg?"
   ]
  },
  {
   "cell_type": "code",
   "execution_count": 54,
   "id": "80799a8d",
   "metadata": {},
   "outputs": [
    {
     "data": {
      "text/html": [
       "<div>\n",
       "<style scoped>\n",
       "    .dataframe tbody tr th:only-of-type {\n",
       "        vertical-align: middle;\n",
       "    }\n",
       "\n",
       "    .dataframe tbody tr th {\n",
       "        vertical-align: top;\n",
       "    }\n",
       "\n",
       "    .dataframe thead th {\n",
       "        text-align: right;\n",
       "    }\n",
       "</style>\n",
       "<table border=\"1\" class=\"dataframe\">\n",
       "  <thead>\n",
       "    <tr style=\"text-align: right;\">\n",
       "      <th></th>\n",
       "      <th>mpg</th>\n",
       "      <th>cylinders</th>\n",
       "      <th>displacement</th>\n",
       "      <th>horsepower</th>\n",
       "      <th>weight</th>\n",
       "      <th>acceleration</th>\n",
       "      <th>model year</th>\n",
       "      <th>origin1</th>\n",
       "      <th>origin2</th>\n",
       "      <th>origin3</th>\n",
       "    </tr>\n",
       "  </thead>\n",
       "  <tbody>\n",
       "    <tr>\n",
       "      <th>mpg</th>\n",
       "      <td>1.000000</td>\n",
       "      <td>-0.775396</td>\n",
       "      <td>-0.804203</td>\n",
       "      <td>-0.771430</td>\n",
       "      <td>-0.831741</td>\n",
       "      <td>0.420289</td>\n",
       "      <td>0.579267</td>\n",
       "      <td>-0.568192</td>\n",
       "      <td>0.259022</td>\n",
       "      <td>0.442174</td>\n",
       "    </tr>\n",
       "    <tr>\n",
       "      <th>cylinders</th>\n",
       "      <td>-0.775396</td>\n",
       "      <td>1.000000</td>\n",
       "      <td>0.950721</td>\n",
       "      <td>0.838931</td>\n",
       "      <td>0.896017</td>\n",
       "      <td>-0.505419</td>\n",
       "      <td>-0.348746</td>\n",
       "      <td>0.604351</td>\n",
       "      <td>-0.352861</td>\n",
       "      <td>-0.396479</td>\n",
       "    </tr>\n",
       "    <tr>\n",
       "      <th>displacement</th>\n",
       "      <td>-0.804203</td>\n",
       "      <td>0.950721</td>\n",
       "      <td>1.000000</td>\n",
       "      <td>0.893639</td>\n",
       "      <td>0.932824</td>\n",
       "      <td>-0.543684</td>\n",
       "      <td>-0.370164</td>\n",
       "      <td>0.651407</td>\n",
       "      <td>-0.373886</td>\n",
       "      <td>-0.433505</td>\n",
       "    </tr>\n",
       "    <tr>\n",
       "      <th>horsepower</th>\n",
       "      <td>-0.771430</td>\n",
       "      <td>0.838931</td>\n",
       "      <td>0.893639</td>\n",
       "      <td>1.000000</td>\n",
       "      <td>0.860568</td>\n",
       "      <td>-0.684251</td>\n",
       "      <td>-0.411644</td>\n",
       "      <td>0.486084</td>\n",
       "      <td>-0.281253</td>\n",
       "      <td>-0.321331</td>\n",
       "    </tr>\n",
       "    <tr>\n",
       "      <th>weight</th>\n",
       "      <td>-0.831741</td>\n",
       "      <td>0.896017</td>\n",
       "      <td>0.932824</td>\n",
       "      <td>0.860568</td>\n",
       "      <td>1.000000</td>\n",
       "      <td>-0.417457</td>\n",
       "      <td>-0.306564</td>\n",
       "      <td>0.598398</td>\n",
       "      <td>-0.298843</td>\n",
       "      <td>-0.440817</td>\n",
       "    </tr>\n",
       "    <tr>\n",
       "      <th>acceleration</th>\n",
       "      <td>0.420289</td>\n",
       "      <td>-0.505419</td>\n",
       "      <td>-0.543684</td>\n",
       "      <td>-0.684251</td>\n",
       "      <td>-0.417457</td>\n",
       "      <td>1.000000</td>\n",
       "      <td>0.288137</td>\n",
       "      <td>-0.250806</td>\n",
       "      <td>0.204473</td>\n",
       "      <td>0.109144</td>\n",
       "    </tr>\n",
       "    <tr>\n",
       "      <th>model year</th>\n",
       "      <td>0.579267</td>\n",
       "      <td>-0.348746</td>\n",
       "      <td>-0.370164</td>\n",
       "      <td>-0.411644</td>\n",
       "      <td>-0.306564</td>\n",
       "      <td>0.288137</td>\n",
       "      <td>1.000000</td>\n",
       "      <td>-0.139883</td>\n",
       "      <td>-0.024489</td>\n",
       "      <td>0.193101</td>\n",
       "    </tr>\n",
       "    <tr>\n",
       "      <th>origin1</th>\n",
       "      <td>-0.568192</td>\n",
       "      <td>0.604351</td>\n",
       "      <td>0.651407</td>\n",
       "      <td>0.486084</td>\n",
       "      <td>0.598398</td>\n",
       "      <td>-0.250806</td>\n",
       "      <td>-0.139883</td>\n",
       "      <td>1.000000</td>\n",
       "      <td>-0.597198</td>\n",
       "      <td>-0.643317</td>\n",
       "    </tr>\n",
       "    <tr>\n",
       "      <th>origin2</th>\n",
       "      <td>0.259022</td>\n",
       "      <td>-0.352861</td>\n",
       "      <td>-0.373886</td>\n",
       "      <td>-0.281253</td>\n",
       "      <td>-0.298843</td>\n",
       "      <td>0.204473</td>\n",
       "      <td>-0.024489</td>\n",
       "      <td>-0.597198</td>\n",
       "      <td>1.000000</td>\n",
       "      <td>-0.229895</td>\n",
       "    </tr>\n",
       "    <tr>\n",
       "      <th>origin3</th>\n",
       "      <td>0.442174</td>\n",
       "      <td>-0.396479</td>\n",
       "      <td>-0.433505</td>\n",
       "      <td>-0.321331</td>\n",
       "      <td>-0.440817</td>\n",
       "      <td>0.109144</td>\n",
       "      <td>0.193101</td>\n",
       "      <td>-0.643317</td>\n",
       "      <td>-0.229895</td>\n",
       "      <td>1.000000</td>\n",
       "    </tr>\n",
       "  </tbody>\n",
       "</table>\n",
       "</div>"
      ],
      "text/plain": [
       "                   mpg  cylinders  displacement  horsepower    weight  \\\n",
       "mpg           1.000000  -0.775396     -0.804203   -0.771430 -0.831741   \n",
       "cylinders    -0.775396   1.000000      0.950721    0.838931  0.896017   \n",
       "displacement -0.804203   0.950721      1.000000    0.893639  0.932824   \n",
       "horsepower   -0.771430   0.838931      0.893639    1.000000  0.860568   \n",
       "weight       -0.831741   0.896017      0.932824    0.860568  1.000000   \n",
       "acceleration  0.420289  -0.505419     -0.543684   -0.684251 -0.417457   \n",
       "model year    0.579267  -0.348746     -0.370164   -0.411644 -0.306564   \n",
       "origin1      -0.568192   0.604351      0.651407    0.486084  0.598398   \n",
       "origin2       0.259022  -0.352861     -0.373886   -0.281253 -0.298843   \n",
       "origin3       0.442174  -0.396479     -0.433505   -0.321331 -0.440817   \n",
       "\n",
       "              acceleration  model year   origin1   origin2   origin3  \n",
       "mpg               0.420289    0.579267 -0.568192  0.259022  0.442174  \n",
       "cylinders        -0.505419   -0.348746  0.604351 -0.352861 -0.396479  \n",
       "displacement     -0.543684   -0.370164  0.651407 -0.373886 -0.433505  \n",
       "horsepower       -0.684251   -0.411644  0.486084 -0.281253 -0.321331  \n",
       "weight           -0.417457   -0.306564  0.598398 -0.298843 -0.440817  \n",
       "acceleration      1.000000    0.288137 -0.250806  0.204473  0.109144  \n",
       "model year        0.288137    1.000000 -0.139883 -0.024489  0.193101  \n",
       "origin1          -0.250806   -0.139883  1.000000 -0.597198 -0.643317  \n",
       "origin2           0.204473   -0.024489 -0.597198  1.000000 -0.229895  \n",
       "origin3           0.109144    0.193101 -0.643317 -0.229895  1.000000  "
      ]
     },
     "execution_count": 54,
     "metadata": {},
     "output_type": "execute_result"
    }
   ],
   "source": [
    "corrmatrix = df.corr()\n",
    "corrmatrix"
   ]
  },
  {
   "cell_type": "code",
   "execution_count": 55,
   "id": "801fb60e",
   "metadata": {},
   "outputs": [
    {
     "data": {
      "text/plain": [
       "Text(0.5, 1.0, 'Correlation Heatmap of Automobile Data')"
      ]
     },
     "execution_count": 55,
     "metadata": {},
     "output_type": "execute_result"
    },
    {
     "data": {
      "image/png": "[encoded data removed]",
      "text/plain": [
       "<Figure size 720x504 with 2 Axes>"
      ]
     },
     "metadata": {
      "needs_background": "light"
     },
     "output_type": "display_data"
    }
   ],
   "source": [
    "# Display a correlation heatmap. Utilize sns.heatmap() to generate the map.\n",
    "\n",
    "fig, ax = plt.subplots(1, 1, figsize=(10,7), tight_layout = True)\n",
    "sns.heatmap(corrmatrix, annot = True, cmap = 'coolwarm')\n",
    "plt.title('Correlation Heatmap of Automobile Data')"
   ]
  },
  {
   "cell_type": "markdown",
   "id": "50b585dc",
   "metadata": {},
   "source": [
    "Based on above correlation coefficient heatmap,  some of the features highly correlated with mpg are 'weight', \n",
    "'displacement', 'cylinders' and 'horse power'.\n"
   ]
  },
  {
   "cell_type": "markdown",
   "id": "b085a454",
   "metadata": {},
   "source": [
    "4. Plot mpg versus weight. Analyze this graph and explain how it relates to the corresponding correlation coefficient."
   ]
  },
  {
   "cell_type": "code",
   "execution_count": 56,
   "id": "d3801d2c",
   "metadata": {},
   "outputs": [
    {
     "data": {
      "text/plain": [
       "Text(0.5, 1.0, 'Scatter Plot of Mpg vs. Weight')"
      ]
     },
     "execution_count": 56,
     "metadata": {},
     "output_type": "execute_result"
    },
    {
     "data": {
      "image/png": "[encoded data removed]",
      "text/plain": [
       "<Figure size 720x504 with 1 Axes>"
      ]
     },
     "metadata": {
      "needs_background": "light"
     },
     "output_type": "display_data"
    }
   ],
   "source": [
    "# Plot the age mpg vs weight on a scatter plot. This has the highest correlation based on the heatmap above. \n",
    "\n",
    "\n",
    "fig, ax = plt.subplots(1, 1, figsize=(10,7), tight_layout = True)\n",
    "sns.scatterplot(x='mpg', y='weight', data=df)\n",
    "plt.xlabel('mpg')\n",
    "plt.ylabel('weight')\n",
    "plt.title('Scatter Plot of Mpg vs. Weight')"
   ]
  },
  {
   "cell_type": "markdown",
   "id": "eef80409",
   "metadata": {},
   "source": [
    "Mpg and weight have a strong negative correlation. This is evident from the scatter plot above \n",
    "since mpg decreases as weight increases.\n",
    "The graph shows that a linear trend exists between these two variables."
   ]
  },
  {
   "cell_type": "markdown",
   "id": "b981290d",
   "metadata": {},
   "source": [
    "5. Randomly split the data into 80% training data and 20% test data, where your target is mpg."
   ]
  },
  {
   "cell_type": "code",
   "execution_count": 58,
   "id": "24a7b66d",
   "metadata": {},
   "outputs": [],
   "source": [
    "# Define the target variable as y (mpg) and independent variables as X. \n",
    "\n",
    "x = df.drop('mpg', axis = 1)\n",
    "y = df['mpg']"
   ]
  },
  {
   "cell_type": "code",
   "execution_count": 59,
   "id": "12418430",
   "metadata": {},
   "outputs": [
    {
     "data": {
      "text/html": [
       "<div>\n",
       "<style scoped>\n",
       "    .dataframe tbody tr th:only-of-type {\n",
       "        vertical-align: middle;\n",
       "    }\n",
       "\n",
       "    .dataframe tbody tr th {\n",
       "        vertical-align: top;\n",
       "    }\n",
       "\n",
       "    .dataframe thead th {\n",
       "        text-align: right;\n",
       "    }\n",
       "</style>\n",
       "<table border=\"1\" class=\"dataframe\">\n",
       "  <thead>\n",
       "    <tr style=\"text-align: right;\">\n",
       "      <th></th>\n",
       "      <th>cylinders</th>\n",
       "      <th>displacement</th>\n",
       "      <th>horsepower</th>\n",
       "      <th>weight</th>\n",
       "      <th>acceleration</th>\n",
       "      <th>model year</th>\n",
       "      <th>origin1</th>\n",
       "      <th>origin2</th>\n",
       "      <th>origin3</th>\n",
       "    </tr>\n",
       "  </thead>\n",
       "  <tbody>\n",
       "    <tr>\n",
       "      <th>0</th>\n",
       "      <td>8</td>\n",
       "      <td>307.0</td>\n",
       "      <td>130.0</td>\n",
       "      <td>3504</td>\n",
       "      <td>12.0</td>\n",
       "      <td>70</td>\n",
       "      <td>1</td>\n",
       "      <td>0</td>\n",
       "      <td>0</td>\n",
       "    </tr>\n",
       "    <tr>\n",
       "      <th>1</th>\n",
       "      <td>8</td>\n",
       "      <td>350.0</td>\n",
       "      <td>165.0</td>\n",
       "      <td>3693</td>\n",
       "      <td>11.5</td>\n",
       "      <td>70</td>\n",
       "      <td>1</td>\n",
       "      <td>0</td>\n",
       "      <td>0</td>\n",
       "    </tr>\n",
       "    <tr>\n",
       "      <th>2</th>\n",
       "      <td>8</td>\n",
       "      <td>318.0</td>\n",
       "      <td>150.0</td>\n",
       "      <td>3436</td>\n",
       "      <td>11.0</td>\n",
       "      <td>70</td>\n",
       "      <td>1</td>\n",
       "      <td>0</td>\n",
       "      <td>0</td>\n",
       "    </tr>\n",
       "    <tr>\n",
       "      <th>3</th>\n",
       "      <td>8</td>\n",
       "      <td>304.0</td>\n",
       "      <td>150.0</td>\n",
       "      <td>3433</td>\n",
       "      <td>12.0</td>\n",
       "      <td>70</td>\n",
       "      <td>1</td>\n",
       "      <td>0</td>\n",
       "      <td>0</td>\n",
       "    </tr>\n",
       "    <tr>\n",
       "      <th>4</th>\n",
       "      <td>8</td>\n",
       "      <td>302.0</td>\n",
       "      <td>140.0</td>\n",
       "      <td>3449</td>\n",
       "      <td>10.5</td>\n",
       "      <td>70</td>\n",
       "      <td>1</td>\n",
       "      <td>0</td>\n",
       "      <td>0</td>\n",
       "    </tr>\n",
       "  </tbody>\n",
       "</table>\n",
       "</div>"
      ],
      "text/plain": [
       "   cylinders  displacement  horsepower  weight  acceleration  model year  \\\n",
       "0          8         307.0       130.0    3504          12.0          70   \n",
       "1          8         350.0       165.0    3693          11.5          70   \n",
       "2          8         318.0       150.0    3436          11.0          70   \n",
       "3          8         304.0       150.0    3433          12.0          70   \n",
       "4          8         302.0       140.0    3449          10.5          70   \n",
       "\n",
       "   origin1  origin2  origin3  \n",
       "0        1        0        0  \n",
       "1        1        0        0  \n",
       "2        1        0        0  \n",
       "3        1        0        0  \n",
       "4        1        0        0  "
      ]
     },
     "execution_count": 59,
     "metadata": {},
     "output_type": "execute_result"
    }
   ],
   "source": [
    "# Show the x data frame for the independent variables cylinders, displacement, horsepower,\n",
    "# weight, acceleration, model year, origin_1, origin_2, origin_3.\n",
    "\n",
    "x.head()"
   ]
  },
  {
   "cell_type": "code",
   "execution_count": 60,
   "id": "019f100e",
   "metadata": {},
   "outputs": [
    {
     "data": {
      "text/plain": [
       "0    18.0\n",
       "1    15.0\n",
       "2    18.0\n",
       "3    16.0\n",
       "4    17.0\n",
       "Name: mpg, dtype: float64"
      ]
     },
     "execution_count": 60,
     "metadata": {},
     "output_type": "execute_result"
    }
   ],
   "source": [
    "# Show the y data frame for the target variable mpg.\n",
    "y.head()"
   ]
  },
  {
   "cell_type": "code",
   "execution_count": 61,
   "id": "7e23df8b",
   "metadata": {},
   "outputs": [],
   "source": [
    "# Split the data with train_test_split from sklearn.\n",
    "# Use test_size = 0.2 to split the data into 80% training and 20% testing data.\n",
    "\n",
    "x_train,x_test,y_train,y_test = train_test_split(x, y, test_size = 0.2, random_state = 42)"
   ]
  },
  {
   "cell_type": "code",
   "execution_count": 62,
   "id": "22510947",
   "metadata": {},
   "outputs": [
    {
     "data": {
      "text/plain": [
       "(318, 9)"
      ]
     },
     "execution_count": 62,
     "metadata": {},
     "output_type": "execute_result"
    }
   ],
   "source": [
    "x_train.shape"
   ]
  },
  {
   "cell_type": "code",
   "execution_count": 63,
   "id": "46de3e16",
   "metadata": {},
   "outputs": [
    {
     "data": {
      "text/plain": [
       "(80, 9)"
      ]
     },
     "execution_count": 63,
     "metadata": {},
     "output_type": "execute_result"
    }
   ],
   "source": [
    "x_test.shape"
   ]
  },
  {
   "cell_type": "code",
   "execution_count": 64,
   "id": "e96e66ad",
   "metadata": {},
   "outputs": [
    {
     "data": {
      "text/plain": [
       "(318,)"
      ]
     },
     "execution_count": 64,
     "metadata": {},
     "output_type": "execute_result"
    }
   ],
   "source": [
    "y_train.shape"
   ]
  },
  {
   "cell_type": "code",
   "execution_count": 65,
   "id": "d5dc3d28",
   "metadata": {},
   "outputs": [
    {
     "data": {
      "text/plain": [
       "(80,)"
      ]
     },
     "execution_count": 65,
     "metadata": {},
     "output_type": "execute_result"
    }
   ],
   "source": [
    "y_test.shape"
   ]
  },
  {
   "cell_type": "markdown",
   "id": "35cef0ab",
   "metadata": {},
   "source": [
    "6. Train an ordinary linear regression on the training data."
   ]
  },
  {
   "cell_type": "code",
   "execution_count": 66,
   "id": "1bf0b148",
   "metadata": {},
   "outputs": [
    {
     "data": {
      "text/plain": [
       "LinearRegression()"
      ]
     },
     "execution_count": 66,
     "metadata": {},
     "output_type": "execute_result"
    }
   ],
   "source": [
    "# Create the linear regression model with the training data.\n",
    "\n",
    "regressor = linear_model.LinearRegression()\n",
    "model = regressor.fit(x_train, y_train)\n",
    "model"
   ]
  },
  {
   "cell_type": "code",
   "execution_count": 67,
   "id": "97ae8908",
   "metadata": {},
   "outputs": [
    {
     "data": {
      "text/plain": [
       "array([-0.16372399,  0.01958342, -0.01334094, -0.00707283,  0.07336616,\n",
       "        0.82740156, -1.86402374,  1.07519754,  0.7888262 ])"
      ]
     },
     "execution_count": 67,
     "metadata": {},
     "output_type": "execute_result"
    }
   ],
   "source": [
    "# View the coefficients of the model.\n",
    "\n",
    "model.coef_"
   ]
  },
  {
   "cell_type": "code",
   "execution_count": 68,
   "id": "8faca253",
   "metadata": {},
   "outputs": [
    {
     "data": {
      "text/plain": [
       "array([15.09259437, 24.57301858, 35.66525705, 33.92170498, 25.30312209,\n",
       "       11.56055197, 32.68547385, 30.03467462, 26.33151997,  8.60205582,\n",
       "       15.93648845, 30.12406295, 27.76243873, 33.15694057, 24.51368841,\n",
       "       32.38921551, 29.96280404, 23.48313607, 26.37668005, 12.61339798,\n",
       "       31.179161  , 25.57619395, 18.98862709, 15.0203091 , 19.20945914,\n",
       "       10.41498261, 27.94638985, 10.53225598, 33.85786815, 35.20205849,\n",
       "       30.23658836, 27.75735773, 21.151718  , 35.91955212, 26.16086944,\n",
       "       22.79096204, 26.58757231, 22.70700473, 32.45665453, 22.88547689,\n",
       "       13.22154097, 23.90801028, 20.52760323, 23.15744696, 19.9365066 ,\n",
       "       28.77839258, 34.95936296, 27.28551821, 32.34949705, 31.01864194,\n",
       "       34.52518536, 29.19705892, 33.40515225, 20.88449865, 24.40088961,\n",
       "       20.67653097, 22.3403681 , 36.46897868, 28.80725506, 33.47053943,\n",
       "       17.2003994 , 10.26715303, 19.34287394, 22.03541218, 22.64709592,\n",
       "       28.36668868, 26.75105004, 26.63258394, 26.96582325, 26.26898586,\n",
       "       10.36207014, 20.01574465, 26.93233519, 26.25869638, 15.30666576,\n",
       "       33.27788307,  8.53964009, 25.24036691, 19.35665088, 31.80994462,\n",
       "       26.65294657, 18.66819413, 28.70352197, 20.55022454, 15.45259796,\n",
       "       17.6679884 , 16.76764051, 28.43431277, 23.9002117 , 11.88413046,\n",
       "       10.38937392, 22.56793581, 15.52032436, 27.1000252 , 29.65147685,\n",
       "       19.49236875, 20.71094083, 10.13072864, 24.11356223, 16.78682621,\n",
       "       31.5004083 , 23.73281529,  9.86079314, 20.07143013, 30.53686906,\n",
       "       32.56827307, 23.80676467, 22.65681134, 20.05881118, 25.30148731,\n",
       "       32.12844707, 15.84771066, 31.05006514, 32.03906485, 25.32003258,\n",
       "       16.34951261, 21.86365892, 29.1731131 , 29.82879522, 28.31630353,\n",
       "       25.03894737, 22.7541063 , 25.28527413, 29.41353938, 11.13220633,\n",
       "       14.12590599, 32.7549986 , 26.37489839, 31.8471803 , 23.95233756,\n",
       "       23.56863747, 30.31529063, 27.57876835, 29.52095609, 23.95268464,\n",
       "       26.72565614, 34.32009561, 20.81764886, 27.82261141, 21.66789012,\n",
       "       35.74405043, 13.63561501, 20.20750722, 18.38071998, 31.26989774,\n",
       "       31.48754894, 15.27217755, 30.71617483, 14.02544323, 15.62189351,\n",
       "       30.52522138,  8.03472167, 22.34503494, 26.68832867, 15.22804348,\n",
       "       34.65643744, 28.79569499, 26.06649837, 29.89816296, 22.04289745,\n",
       "       11.0454019 , 32.33240881, 25.40042014, 23.4974897 , 34.93872823,\n",
       "       21.93428619, 31.92253776, 25.27453045, 16.24467862, 33.41427887,\n",
       "       24.57645868, 17.0295934 ,  5.39316713, 26.32425386, 12.77847478,\n",
       "       31.11104967, 13.4979042 , 27.37875166, 29.51828711, 11.62961534,\n",
       "       14.46930006, 16.84934184,  5.80821367, 24.05849193, 29.35118242,\n",
       "       32.95196702, 25.2796245 , 17.84582346,  8.72140901, 26.33733593,\n",
       "       30.33089422, 24.48209875, 34.37647266, 23.78100494, 11.57824657,\n",
       "       35.3980508 , 24.79741122, 24.45861442, 28.71679052, 14.96362248,\n",
       "       21.56193447, 32.67600605, 20.91603265, 20.79868298, 28.65062241,\n",
       "       16.62524804, 25.20886286, 19.04827446, 18.20045404, 23.55898009,\n",
       "       17.14508156, 23.47129319, 28.76010601, 19.95052192, 32.55097098,\n",
       "        7.96424365, 30.59799897, 16.29709562, 20.19473747, 20.44035028,\n",
       "       17.60278453, 29.36094153, 11.54384431, 11.49987423, 16.83994015,\n",
       "       19.39208598,  9.8861444 , 12.16649102, 23.31827604, 23.11802595,\n",
       "       12.07116863, 11.81093566, 24.14348894, 33.32935965, 31.5458865 ,\n",
       "       31.59733805, 28.83639882, 24.21558552, 23.15703617, 13.86698349,\n",
       "       31.00641448, 28.17004832, 20.90910617, 29.73290948, 24.03161001,\n",
       "       33.21430499, 28.16219809, 18.66928369, 16.29497696,  8.24656509,\n",
       "       27.93806409, 15.47848572, 33.22873386, 23.78199728,  9.8420977 ,\n",
       "       28.05323937, 13.91769967, 22.59060008, 22.32698949, 29.6734352 ,\n",
       "       15.51504095, 20.42739014, 12.16272378, 28.70007278, 26.13036566,\n",
       "       23.37330164, 26.03201492, 19.3566578 , 25.46128059, 13.58512907,\n",
       "       29.58731718, 21.33782099, 26.98716094, 30.83899352, 17.39515371,\n",
       "       26.64383332, 34.34064173, 30.77697929, 25.65580153, 29.07774496,\n",
       "       26.04502118, 21.01863974, 16.85510289, 31.26674281, 14.75241312,\n",
       "       22.77835228, 23.90319768, 18.2799038 , 33.06931698, 29.85488504,\n",
       "       21.0168159 , 22.90669453, 27.49583071, 15.96887452, 26.97300941,\n",
       "       21.16841889, 33.78937874, 36.55055078, 23.38844938, 27.28920553,\n",
       "       25.71051363, 23.7024431 , 29.12617095, 27.58195711, 20.90429157,\n",
       "       28.85753201, 14.69028883, 34.97018782, 17.4139294 , 18.01607677,\n",
       "       28.54639524, 21.51394229, 15.05040877, 24.25479375, 10.57245904,\n",
       "       29.12240286, 34.63588411, 29.65190267])"
      ]
     },
     "execution_count": 68,
     "metadata": {},
     "output_type": "execute_result"
    }
   ],
   "source": [
    "# Create predictions for mpg based on training data set.\n",
    "\n",
    "y_predict_trained = regressor.predict(x_train)\n",
    "y_predict_trained"
   ]
  },
  {
   "cell_type": "code",
   "execution_count": 69,
   "id": "fed47222",
   "metadata": {},
   "outputs": [
    {
     "data": {
      "text/plain": [
       "array([32.46901872, 29.21922697, 21.22903871, 16.83328838, 12.34583053,\n",
       "       26.58673878, 27.57857939, 10.08879749, 16.63527408, 21.61345356,\n",
       "       13.03698072, 35.86819581, 24.54814804, 13.53765365, 23.51470522,\n",
       "        6.26533402, 29.16007651, 24.74046175, 16.73184174, 36.01024276,\n",
       "       24.7063213 , 18.57842885, 28.87344914, 28.2899857 , 14.91599278,\n",
       "       36.00948065, 26.45303084, 24.56510964, 21.92875597,  8.84642202,\n",
       "       28.13039401, 36.25126585, 20.86673672, 25.47435775, 33.86293754,\n",
       "       12.22757882, 22.50169618, 21.94271695, 12.15462618, 27.77253511,\n",
       "       26.0185725 , 28.48404184, 20.98453356,  7.10875713, 23.89878939,\n",
       "       34.74007107, 27.8573824 , 25.20642955, 23.39034347, 28.57506931,\n",
       "       22.1670143 , 33.25870091, 32.30808666, 11.13542642, 27.54124983,\n",
       "       10.13771411, 20.12332327, 29.50899318, 22.68858272, 20.23248413,\n",
       "       16.36821912, 31.64895378, 23.54931519, 21.33995444, 20.59514599,\n",
       "       24.89054822, 24.73654494, 32.07392345, 27.59481446, 12.51626985,\n",
       "       30.93993288, 12.83097393, 10.3312983 , 19.32159442, 27.2480885 ,\n",
       "       22.12150783, 20.39546167, 29.15731387, 30.42782295, 20.19641555])"
      ]
     },
     "execution_count": 69,
     "metadata": {},
     "output_type": "execute_result"
    }
   ],
   "source": [
    "# Create predictions for mpg based on test data set.\n",
    "\n",
    "y_predict_test = regressor.predict(x_test)\n",
    "y_predict_test"
   ]
  },
  {
   "cell_type": "markdown",
   "id": "9c9f79f6",
   "metadata": {},
   "source": [
    "7. Calculate R2, RMSE, and MAE on both the training and test sets and interpret your results."
   ]
  },
  {
   "cell_type": "code",
   "execution_count": 70,
   "id": "f6ec02eb",
   "metadata": {},
   "outputs": [
    {
     "name": "stdout",
     "output_type": "stream",
     "text": [
      "R-Squared value for model based on training data: 0.8188287328017794.\n"
     ]
    }
   ],
   "source": [
    "# Calcualte the R-Squared value for the model based on the training data set.\n",
    "\n",
    "R2_train = r2_score(y_train, y_predict_trained)\n",
    "print('R-Squared value for model based on training data: {}.'.format(R2_train))"
   ]
  },
  {
   "cell_type": "code",
   "execution_count": 71,
   "id": "17ad7ad4",
   "metadata": {},
   "outputs": [
    {
     "name": "stdout",
     "output_type": "stream",
     "text": [
      "Adjusted R-Squared value: 0.8135347672018314\n"
     ]
    }
   ],
   "source": [
    "# Calculate the adusted R-Squared value for the model based on the training data set.\n",
    "\n",
    "n = x_train.shape[0]\n",
    "p = x_train.shape[1]\n",
    "\n",
    "adj_R2_train = 1 - (1 - R2_train) * ((n - 1)/(n-p-1))\n",
    "print('Adjusted R-Squared value: {}'.format(adj_R2_train))"
   ]
  },
  {
   "cell_type": "code",
   "execution_count": 72,
   "id": "2b5809a9",
   "metadata": {},
   "outputs": [
    {
     "name": "stdout",
     "output_type": "stream",
     "text": [
      "Root Mean Squared Error for model based on training data: 3.370275073571748\n"
     ]
    }
   ],
   "source": [
    "# Calculate the Root Mean Squared Error for the model based on the training data set.\n",
    "\n",
    "mse_train = mean_squared_error(y_train, y_predict_trained)\n",
    "rmse_train = np.sqrt(mse_train)\n",
    "print('Root Mean Squared Error for model based on training data: {}'.format(rmse_train))"
   ]
  },
  {
   "cell_type": "code",
   "execution_count": 73,
   "id": "d9472ac5",
   "metadata": {},
   "outputs": [
    {
     "name": "stdout",
     "output_type": "stream",
     "text": [
      "Mean Absolute Error for model based on training data: 2.6054865691067857\n"
     ]
    }
   ],
   "source": [
    "# Calculate the Mean Absolute Error for the model based on the training data set.\n",
    "\n",
    "mae_train = mean_absolute_error(y_train, y_predict_trained)\n",
    "print('Mean Absolute Error for model based on training data: {}'.format(mae_train))"
   ]
  },
  {
   "cell_type": "code",
   "execution_count": 74,
   "id": "b89f4290",
   "metadata": {},
   "outputs": [
    {
     "name": "stdout",
     "output_type": "stream",
     "text": [
      "R-Squared value for model based on test data: 0.8449005624108854.\n"
     ]
    }
   ],
   "source": [
    "# Calcualte the R-Squared value for the model based on the test data set.\n",
    "R2_test = r2_score(y_test, y_predict_test)\n",
    "print('R-Squared value for model based on test data: {}.'.format(R2_test))"
   ]
  },
  {
   "cell_type": "code",
   "execution_count": 75,
   "id": "2409e63d",
   "metadata": {},
   "outputs": [
    {
     "name": "stdout",
     "output_type": "stream",
     "text": [
      "Adjusted R-Squared value: 0.8249592061494277\n"
     ]
    }
   ],
   "source": [
    "# Calculate the adusted R-Squared value for the model based on the test data set.\n",
    "\n",
    "n = x_test.shape[0]\n",
    "p = x_test.shape[1]\n",
    "\n",
    "adj_R2_test = 1 - (1 - R2_test) * ((n - 1)/(n-p-1))\n",
    "\n",
    "print('Adjusted R-Squared value: {}'.format(adj_R2_test))"
   ]
  },
  {
   "cell_type": "code",
   "execution_count": 76,
   "id": "6210ae47",
   "metadata": {},
   "outputs": [
    {
     "name": "stdout",
     "output_type": "stream",
     "text": [
      "Root Mean Squared Error for model based on test data: 2.8877578130431525\n"
     ]
    }
   ],
   "source": [
    "# Calculate the Root Mean Squared Error for the model based on the test data set.\n",
    "\n",
    "mse_test = mean_squared_error(y_test, y_predict_test)\n",
    "rmse_test = np.sqrt(mse_test)\n",
    "print('Root Mean Squared Error for model based on test data: {}'.format(rmse_test))"
   ]
  },
  {
   "cell_type": "code",
   "execution_count": 77,
   "id": "9ac33b47",
   "metadata": {},
   "outputs": [
    {
     "name": "stdout",
     "output_type": "stream",
     "text": [
      "Mean Absolute Error for model based on test data: 2.287585361691413\n"
     ]
    }
   ],
   "source": [
    "# Calculate the Mean Absolute Error for the model based on the test data set.\n",
    "\n",
    "mae_test = mean_absolute_error(y_test, y_predict_test)\n",
    "print('Mean Absolute Error for model based on test data: {}'.format(mae_test))"
   ]
  },
  {
   "cell_type": "markdown",
   "id": "6a9263a3",
   "metadata": {},
   "source": [
    "With regards to the training data set, the R-Squared and adjusted R-Squared values of the model were 0.82 and 0.81 respectively. For the test data set, the R-Squared and adjusted R-Squared values of the model were 0.85 and 0.82 respectively. The model did a good job in explaining the variance for mpg on both training and test datasets, however the R-Squared and adjusted R-Squared values are higher for the model when applied on the test data. The RMSE for the model with the trained data set was 3.37. The RMSE for the model with the test data was 2.89. The standard deviation of the residuals was slightly lower for the model when applied to the test data rather than the training data. The MAE for the model based on the training data was 2.61 whereas the MAE for the model based on test data was 2.29. Therefore, the regression line fits better for the test data compared to the training data."
   ]
  },
  {
   "cell_type": "markdown",
   "id": "fc4acbe4",
   "metadata": {},
   "source": [
    "8. Pick another regression model and repeat the previous two steps. Note: Do NOT choose logistic regression as it is more like a classification model."
   ]
  },
  {
   "cell_type": "code",
   "execution_count": 78,
   "id": "79319bf7",
   "metadata": {},
   "outputs": [
    {
     "data": {
      "text/plain": [
       "Lasso(alpha=0.5)"
      ]
     },
     "execution_count": 78,
     "metadata": {},
     "output_type": "execute_result"
    }
   ],
   "source": [
    "# Applying Lasso Regression with an alpha value of 0.5\n",
    "\n",
    "lasso = Lasso(alpha = 0.5)\n",
    "model_lasso = lasso.fit(x_train,y_train)\n",
    "model_lasso"
   ]
  },
  {
   "cell_type": "code",
   "execution_count": 79,
   "id": "c1f4921f",
   "metadata": {},
   "outputs": [
    {
     "data": {
      "text/plain": [
       "array([ 0.00000000e+00,  1.95656408e-04, -3.98395481e-03, -6.67039306e-03,\n",
       "        0.00000000e+00,  7.50105424e-01, -0.00000000e+00,  0.00000000e+00,\n",
       "        0.00000000e+00])"
      ]
     },
     "execution_count": 79,
     "metadata": {},
     "output_type": "execute_result"
    }
   ],
   "source": [
    "# View the coefficients of the lasso regression model.\n",
    "\n",
    "model_lasso.coef_"
   ]
  },
  {
   "cell_type": "code",
   "execution_count": 80,
   "id": "bcc52a47",
   "metadata": {},
   "outputs": [
    {
     "data": {
      "text/plain": [
       "array([15.7706403 , 24.66866679, 34.4488283 , 32.98111668, 24.63272635,\n",
       "       10.8398211 , 31.77642207, 31.3440548 , 25.92509449,  7.72185673,\n",
       "       14.93081248, 30.18221686, 26.78772094, 32.06987147, 23.76484951,\n",
       "       33.80444796, 31.05849737, 23.90077851, 27.64437417, 12.97785721,\n",
       "       32.95858255, 25.23630368, 20.35703501, 15.67662721, 19.51644972,\n",
       "        9.67501701, 26.80375884, 10.33534457, 32.57694348, 34.04302046,\n",
       "       29.71672794, 26.95131252, 21.46664109, 34.85303584, 27.85417074,\n",
       "       24.31495368, 25.85082393, 23.15242915, 31.4941368 , 21.96504241,\n",
       "       12.83300157, 25.18346304, 21.65240163, 23.82462221, 21.22539222,\n",
       "       27.68596466, 33.9655386 , 28.2028071 , 33.77519068, 29.61155342,\n",
       "       33.36031018, 28.62105599, 32.39241197, 21.22694471, 23.89533969,\n",
       "       20.97361681, 22.0822845 , 35.49629211, 30.54616033, 32.43994298,\n",
       "       17.63100697, 10.77268659, 18.42034251, 21.65570854, 22.81751966,\n",
       "       29.94406117, 25.47720336, 26.94575478, 28.7584577 , 25.61942963,\n",
       "        9.37767991, 19.09664725, 25.94712803, 25.91034834, 14.83926696,\n",
       "       32.15332818,  7.60724484, 25.09901971, 19.89105172, 30.9702748 ,\n",
       "       24.42533507, 17.7827401 , 28.1974992 , 21.08643137, 15.72908055,\n",
       "       17.49831812, 17.37684972, 27.86625895, 23.86716518, 11.79481524,\n",
       "       10.41619969, 22.27921622, 15.34420195, 26.57496121, 31.35948418,\n",
       "       20.26594032, 20.60430231, 10.12928139, 23.88004279, 17.6730632 ,\n",
       "       31.01686113, 23.30072348,  9.05976715, 19.79960373, 29.6411828 ,\n",
       "       31.66952719, 23.84213541, 23.33405294, 21.17734004, 27.75286226,\n",
       "       31.22661898, 16.42673263, 29.706567  , 31.27149645, 26.94284437,\n",
       "       16.32806934, 22.29000957, 31.02596452, 28.60056911, 26.78835752,\n",
       "       26.3585301 , 21.56955133, 25.71518204, 28.94990047, 11.29376158,\n",
       "       14.56385521, 30.96027904, 28.37155145, 31.22279078, 25.73515558,\n",
       "       22.94767976, 29.5039922 , 26.80541203, 28.82299664, 24.05184759,\n",
       "       27.57805634, 32.97670008, 20.65710608, 26.10652056, 22.29437756,\n",
       "       34.65292405, 14.08787194, 19.82802084, 19.00086804, 30.52702678,\n",
       "       30.0785958 , 15.75336831, 30.17251767, 13.72079144, 15.01786353,\n",
       "       31.90521256,  9.28184887, 21.90531382, 27.82020088, 15.35078723,\n",
       "       33.43706505, 30.5826251 , 27.24204338, 31.24224698, 22.50482159,\n",
       "       11.56709096, 31.32316159, 25.41877221, 25.97415156, 34.1199202 ,\n",
       "       22.50180019, 31.13909707, 26.74239149, 16.63839751, 31.79470577,\n",
       "       26.213463  , 16.32721517,  5.05356891, 26.73651351, 12.62550156,\n",
       "       30.13029016, 13.48120572, 26.70136876, 28.70973343, 11.37377007,\n",
       "       13.60153439, 17.4030989 ,  6.93448966, 25.38572508, 28.86318536,\n",
       "       31.82267778, 26.51103494, 18.059828  ,  7.62604741, 25.86050359,\n",
       "       29.55902072, 22.14171527, 32.62787731, 22.90727894, 12.10101431,\n",
       "       34.17280062, 26.33983485, 25.13183644, 27.81086918, 15.70336225,\n",
       "       21.97523576, 31.50628361, 21.00559827, 21.23973646, 29.64694176,\n",
       "       16.15120833, 24.57909672, 19.24349979, 18.12614547, 25.54137922,\n",
       "       17.71660737, 25.91354563, 27.78059276, 19.60702672, 31.58730348,\n",
       "        9.20413919, 32.3083318 , 16.06797164, 20.66802153, 19.93594158,\n",
       "       17.69041868, 30.54185571, 11.94331869, 11.61029146, 17.73421236,\n",
       "       19.60672242,  8.88435789, 12.59097441, 22.83873263, 23.02967448,\n",
       "       11.22233591, 11.70863631, 22.26232335, 32.39260763, 30.56626292,\n",
       "       30.71603296, 30.27096626, 25.75483836, 22.3161797 , 13.84389216,\n",
       "       32.8858174 , 27.46561261, 20.90107203, 30.63051094, 24.28694231,\n",
       "       32.24264192, 30.05582753, 19.00594226, 16.59481756,  7.70162355,\n",
       "       29.78725575, 15.05625341, 32.12433864, 24.43144517,  9.80768431,\n",
       "       27.88664643, 13.98557898, 24.83129615, 24.41408279, 29.05433092,\n",
       "       16.64454448, 21.61739674, 11.16256434, 29.57777922, 25.89839431,\n",
       "       23.3357655 , 25.32391708, 17.8160142 , 26.34906542, 14.0100873 ,\n",
       "       28.80360093, 21.36542293, 24.79213101, 32.0924083 , 17.59401178,\n",
       "       28.22518593, 33.22340037, 29.47781059, 25.89289968, 28.93816916,\n",
       "       25.46121452, 22.70130121, 16.86215356, 32.59268778, 15.09506067,\n",
       "       23.1682119 , 26.22752867, 18.71828104, 34.71423937, 29.0706931 ,\n",
       "       21.25609865, 22.66153752, 28.51694316, 16.50447638, 26.13082776,\n",
       "       21.78909234, 32.85320816, 35.53722068, 23.48393137, 28.58062569,\n",
       "       25.24306188, 25.56465536, 28.61638082, 25.6228746 , 21.46121887,\n",
       "       29.63694161, 14.34780839, 34.06940385, 17.43559886, 18.25048913,\n",
       "       29.76260813, 21.05984123, 15.22452449, 24.79366071, 10.79979912,\n",
       "       28.08076045, 33.55547547, 28.28697991])"
      ]
     },
     "execution_count": 80,
     "metadata": {},
     "output_type": "execute_result"
    }
   ],
   "source": [
    "# Create predictions for mpg for lasso model based on training data set.\n",
    "\n",
    "y_predict_lasso_trained = lasso.predict(x_train)\n",
    "y_predict_lasso_trained"
   ]
  },
  {
   "cell_type": "code",
   "execution_count": 81,
   "id": "4555ed34",
   "metadata": {},
   "outputs": [
    {
     "data": {
      "text/plain": [
       "array([31.54214549, 30.408443  , 22.03550026, 16.89212275, 12.66069974,\n",
       "       26.36898943, 28.75967038,  9.10375701, 16.98979113, 22.654063  ,\n",
       "       12.84655465, 34.85303584, 26.65662824, 14.20914073, 24.98109118,\n",
       "        6.26434569, 30.71649367, 23.79792018, 15.6710433 , 34.81569992,\n",
       "       23.67996109, 19.97125408, 28.89810346, 30.3063918 , 15.37730846,\n",
       "       33.81335425, 26.01070774, 25.86103043, 22.03542118,  8.14652337,\n",
       "       29.28385359, 34.72783145, 19.51511462, 25.15690228, 32.9996134 ,\n",
       "       12.08454107, 24.57336156, 21.84496227, 12.419938  , 27.09553893,\n",
       "       27.52479466, 27.50475929, 20.72163284,  7.6382354 , 23.62945435,\n",
       "       33.47432018, 26.95083177, 24.70764023, 23.0079024 , 27.86520499,\n",
       "       23.63655944, 32.54300527, 31.16815798, 10.53325723, 28.87816546,\n",
       "        9.56275462, 19.15065659, 28.29349403, 24.52538486, 20.85212451,\n",
       "       16.36957733, 30.79204006, 25.05229684, 20.51419797, 21.74797244,\n",
       "       24.74031651, 25.85599252, 33.57863648, 29.05425236, 12.91530583,\n",
       "       32.45400716, 13.27465811,  9.54715062, 19.81285886, 28.16234966,\n",
       "       22.37581973, 20.58984682, 30.50443001, 29.77692136, 19.88661389])"
      ]
     },
     "execution_count": 81,
     "metadata": {},
     "output_type": "execute_result"
    }
   ],
   "source": [
    "# Create predictions for mpg for lasso model based on test data set.\n",
    "\n",
    "y_predict_lasso_test = lasso.predict(x_test)\n",
    "y_predict_lasso_test"
   ]
  },
  {
   "cell_type": "code",
   "execution_count": 82,
   "id": "fcd6ab55",
   "metadata": {},
   "outputs": [
    {
     "name": "stdout",
     "output_type": "stream",
     "text": [
      "R-Squared value for lasso model based on training data: 0.8031762803610885.\n"
     ]
    }
   ],
   "source": [
    "# Calcualte the R-Squared value for the lasso model based on the training data set.\n",
    "\n",
    "R2_lasso_train = r2_score(y_train, y_predict_lasso_trained)\n",
    "print('R-Squared value for lasso model based on training data: {}.'.format(R2_lasso_train))"
   ]
  },
  {
   "cell_type": "code",
   "execution_count": 83,
   "id": "000d84f6",
   "metadata": {},
   "outputs": [
    {
     "name": "stdout",
     "output_type": "stream",
     "text": [
      "Adjusted R-Squared value for the lasso model: 0.7974249379041073\n"
     ]
    }
   ],
   "source": [
    "# Calculate the adusted R-Squared value for the lasso model based on the training data set.\n",
    "\n",
    "n = x_train.shape[0]\n",
    "p = x_train.shape[1]\n",
    "\n",
    "adj_R2_lasso_train = 1 - (1 - R2_lasso_train) * ((n - 1)/(n-p-1))\n",
    "\n",
    "print('Adjusted R-Squared value for the lasso model: {}'.format(adj_R2_lasso_train))"
   ]
  },
  {
   "cell_type": "code",
   "execution_count": 84,
   "id": "44fb952c",
   "metadata": {},
   "outputs": [
    {
     "name": "stdout",
     "output_type": "stream",
     "text": [
      "Root Mean Squared Error for lasso model based on training data: 3.512848375862273\n"
     ]
    }
   ],
   "source": [
    "# Calculate the Root Mean Squared Error for the lasso model based on the training data set.\n",
    "\n",
    "mse_lasso_train = mean_squared_error(y_train, y_predict_lasso_trained)\n",
    "rmse_lasso_train = np.sqrt(mse_lasso_train)\n",
    "print('Root Mean Squared Error for lasso model based on training data: {}'.format(rmse_lasso_train))"
   ]
  },
  {
   "cell_type": "code",
   "execution_count": 85,
   "id": "ae651b02",
   "metadata": {},
   "outputs": [
    {
     "name": "stdout",
     "output_type": "stream",
     "text": [
      "Mean Absolute Error for lasso model based on training data: 2.685179009171527\n"
     ]
    }
   ],
   "source": [
    "# Calculate the Mean Absolute Error for the lasso model based on the training data set.\n",
    "\n",
    "mae_lasso_train = mean_absolute_error(y_train, y_predict_lasso_trained)\n",
    "print('Mean Absolute Error for lasso model based on training data: {}'.format(mae_lasso_train))"
   ]
  },
  {
   "cell_type": "code",
   "execution_count": 86,
   "id": "ec1a6d58",
   "metadata": {},
   "outputs": [
    {
     "name": "stdout",
     "output_type": "stream",
     "text": [
      "R-Squared value for lasso model based on test data: 0.8280285799291084.\n"
     ]
    }
   ],
   "source": [
    "# Calcualte the R-Squared value for the lasso model based on the test data set.\n",
    "\n",
    "R2_lasso_test = r2_score(y_test, y_predict_lasso_test)\n",
    "print('R-Squared value for lasso model based on test data: {}.'.format(R2_lasso_test))"
   ]
  },
  {
   "cell_type": "code",
   "execution_count": 87,
   "id": "b4d0301d",
   "metadata": {},
   "outputs": [
    {
     "name": "stdout",
     "output_type": "stream",
     "text": [
      "Adjusted R-Squared value for the lasso model: 0.8249592061494277\n"
     ]
    }
   ],
   "source": [
    "# Calculate the adusted R-Squared value for the lasso model based on the test data set.\n",
    "\n",
    "n = x_test.shape[0]\n",
    "p = x_test.shape[1]\n",
    "\n",
    "adj_R2_lasso_test = 1 - (1 - R2_test) * ((n - 1)/(n-p-1))\n",
    "\n",
    "print('Adjusted R-Squared value for the lasso model: {}'.format(adj_R2_lasso_test))"
   ]
  },
  {
   "cell_type": "code",
   "execution_count": 88,
   "id": "0fc3f56f",
   "metadata": {},
   "outputs": [
    {
     "name": "stdout",
     "output_type": "stream",
     "text": [
      "Root Mean Squared Error for lasso model based on test data: 3.0407715606156964\n"
     ]
    }
   ],
   "source": [
    "# Calculate the Root Mean Squared Error for the lasso model based on the test data set.\n",
    "\n",
    "mse_lasso_test = mean_squared_error(y_test, y_predict_lasso_test)\n",
    "rmse_lasso_test = np.sqrt(mse_lasso_test)\n",
    "print('Root Mean Squared Error for lasso model based on test data: {}'.format(rmse_lasso_test))"
   ]
  },
  {
   "cell_type": "code",
   "execution_count": 89,
   "id": "848767ed",
   "metadata": {},
   "outputs": [
    {
     "name": "stdout",
     "output_type": "stream",
     "text": [
      "Mean Absolute Error for lasso model based on test data: 2.4329569993418234\n"
     ]
    }
   ],
   "source": [
    "# Calculate the Mean Absolute Error for the lasso model based on the test data set.\n",
    "\n",
    "mae_lasso_test = mean_absolute_error(y_test, y_predict_lasso_test)\n",
    "print('Mean Absolute Error for lasso model based on test data: {}'.format(mae_lasso_test))"
   ]
  },
  {
   "cell_type": "markdown",
   "id": "0d865666",
   "metadata": {},
   "source": [
    "With regards to the training data set, the R-Squared and adjusted R-Squared values of the model were 0.80 and 0.79 respectively. For the test data set, the R-Squared and adjusted R-Squared values of the model were both 0.83. The R-Squared and adjusted R-Squared measures are slightly lower on the trained dataset compared to the test data set. The RMSE for the model with the trained data set was 3.51. The RMSE for the model with the test data was 3.04. The standard deviation of the residuals was slightly lower for the lasso model when applied to the test data rather than the training data. The MAE for the lasso model based on the training data was 2.69 whereas the MAE for the model based on test data was 2.43. The regression line fits better for the test data compared to the training data (similar to the intitial regression model). The lasso regression model eliminated five of the coefficients for the regression equation based on an alpha value of 0.5."
   ]
  },
  {
   "cell_type": "code",
   "execution_count": null,
   "id": "f2b99d86",
   "metadata": {},
   "outputs": [],
   "source": []
  }
 ],
 "metadata": {
  "kernelspec": {
   "display_name": "Python 3 (ipykernel)",
   "language": "python",
   "name": "python3"
  },
  "language_info": {
   "codemirror_mode": {
    "name": "ipython",
    "version": 3
   },
   "file_extension": ".py",
   "mimetype": "text/x-python",
   "name": "python",
   "nbconvert_exporter": "python",
   "pygments_lexer": "ipython3",
   "version": "3.9.7"
  }
 },
 "nbformat": 4,
 "nbformat_minor": 5
}
