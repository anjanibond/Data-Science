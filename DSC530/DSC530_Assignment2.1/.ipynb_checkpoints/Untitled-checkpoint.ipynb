{
 "cells": [
  {
   "cell_type": "code",
   "execution_count": 17,
   "id": "0255b7bf",
   "metadata": {},
   "outputs": [
    {
     "name": "stdout",
     "output_type": "stream",
     "text": [
      "Hello World! I wonder why that is always the default coding text to start with\n"
     ]
    }
   ],
   "source": [
    "print(\"Hello World! I wonder why that is always the default coding text to start with\")"
   ]
  },
  {
   "cell_type": "code",
   "execution_count": 18,
   "id": "72e3214f",
   "metadata": {},
   "outputs": [
    {
     "name": "stdout",
     "output_type": "stream",
     "text": [
      "Result of adding 10 and 20:  30\n"
     ]
    }
   ],
   "source": [
    "add_result = 10 + 20\n",
    "print(\"Result of adding 10 and 20: \", add_result)"
   ]
  },
  {
   "cell_type": "code",
   "execution_count": 19,
   "id": "26aeeb51",
   "metadata": {},
   "outputs": [
    {
     "name": "stdout",
     "output_type": "stream",
     "text": [
      "Result of subtracting 10 from 20:  10\n"
     ]
    }
   ],
   "source": [
    "sub_result = 20 - 10\n",
    "print(\"Result of subtracting 10 from 20: \", sub_result)"
   ]
  },
  {
   "cell_type": "code",
   "execution_count": 6,
   "id": "edddb8b9",
   "metadata": {},
   "outputs": [
    {
     "name": "stdout",
     "output_type": "stream",
     "text": [
      "Result of multiplying 10 and 20:  200\n"
     ]
    }
   ],
   "source": [
    "mul_result = 10 * 20\n",
    "print(\"Result of multiplying 10 and 20: \", mul_result)"
   ]
  },
  {
   "cell_type": "code",
   "execution_count": 20,
   "id": "c53d78db",
   "metadata": {},
   "outputs": [
    {
     "name": "stdout",
     "output_type": "stream",
     "text": [
      "Result of division of 20 and 10:  2.0\n"
     ]
    }
   ],
   "source": [
    "div_result = 20 / 10\n",
    "print(\"Result of division of 20 and 10: \", div_result)"
   ]
  },
  {
   "cell_type": "code",
   "execution_count": 21,
   "id": "4e678350",
   "metadata": {},
   "outputs": [
    {
     "name": "stdout",
     "output_type": "stream",
     "text": [
      "Result of concatenation of strings:  DataScience\n"
     ]
    }
   ],
   "source": [
    "concat_result = \"Data\" + \"Science\"\n",
    "print(\"Result of concatenation of strings: \", concat_result)"
   ]
  },
  {
   "cell_type": "code",
   "execution_count": 32,
   "id": "9bd3b3ce",
   "metadata": {},
   "outputs": [
    {
     "name": "stdout",
     "output_type": "stream",
     "text": [
      "Elements of list1:  ['Data', 10, 5.5, 'Data101']\n"
     ]
    },
    {
     "data": {
      "text/plain": [
       "list"
      ]
     },
     "execution_count": 32,
     "metadata": {},
     "output_type": "execute_result"
    }
   ],
   "source": [
    "list1 = [\"Data\", 10, 5.5, \"Data101\"]\n",
    "print(\"Elements of list1: \", list1)\n",
    "type(list1)"
   ]
  },
  {
   "cell_type": "code",
   "execution_count": 33,
   "id": "957ebdfe",
   "metadata": {},
   "outputs": [
    {
     "name": "stdout",
     "output_type": "stream",
     "text": [
      "Elements of list1 after appending an item:  ['Data', 10, 5.5, 'Data101', 'Science']\n"
     ]
    },
    {
     "data": {
      "text/plain": [
       "list"
      ]
     },
     "execution_count": 33,
     "metadata": {},
     "output_type": "execute_result"
    }
   ],
   "source": [
    "list1.append('Science')\n",
    "print(\"Elements of list1 after appending an item: \", list1)\n",
    "type(list1)"
   ]
  },
  {
   "cell_type": "code",
   "execution_count": 24,
   "id": "9df5ac6b",
   "metadata": {},
   "outputs": [
    {
     "name": "stdout",
     "output_type": "stream",
     "text": [
      "Elements of tuple1:  (10, 5.5, 'Data', 'Data101')\n"
     ]
    },
    {
     "data": {
      "text/plain": [
       "tuple"
      ]
     },
     "execution_count": 24,
     "metadata": {},
     "output_type": "execute_result"
    }
   ],
   "source": [
    "tuple1 = (10, 5.5, \"Data\", \"Data101\")\n",
    "print(\"Elements of tuple1: \", tuple1)\n",
    "type(tuple1)"
   ]
  },
  {
   "cell_type": "code",
   "execution_count": null,
   "id": "753b7f78",
   "metadata": {},
   "outputs": [],
   "source": []
  }
 ],
 "metadata": {
  "kernelspec": {
   "display_name": "Python 3 (ipykernel)",
   "language": "python",
   "name": "python3"
  },
  "language_info": {
   "codemirror_mode": {
    "name": "ipython",
    "version": 3
   },
   "file_extension": ".py",
   "mimetype": "text/x-python",
   "name": "python",
   "nbconvert_exporter": "python",
   "pygments_lexer": "ipython3",
   "version": "3.9.7"
  }
 },
 "nbformat": 4,
 "nbformat_minor": 5
}
