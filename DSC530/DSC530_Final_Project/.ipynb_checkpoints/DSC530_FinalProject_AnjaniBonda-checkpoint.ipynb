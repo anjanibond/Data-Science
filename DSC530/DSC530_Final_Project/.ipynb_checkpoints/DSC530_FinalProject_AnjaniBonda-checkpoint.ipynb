{
 "cells": [
  {
   "cell_type": "markdown",
   "id": "9364d548",
   "metadata": {},
   "source": [
    "# DSC530 Final Project"
   ]
  },
  {
   "cell_type": "markdown",
   "id": "d58f8520",
   "metadata": {},
   "source": [
    "Submitted By: Anjani Bonda\n",
    "Date: Mar 04, 2022\n",
    "\n",
    "The data being analysed is Clinical Data for patients with Heart Diseases. I will be analyzing the mortality conditions with different variables in the dataset.\n",
    "\n",
    "The dataset is sourced from www.kaggle.com\n",
    "\n",
    "Link - https://www.kaggle.com/andrewmvd/heart-failure-clinical-data\n",
    "\n",
    "Authors of the Dataset - Davide Chicco, Giuseppe Jurman: Machine learning can predict survival of patients with heart failure from serum creatinine and ejection fraction alone. BMC Medical Informatics and Decision Making 20, 16 (2020).\n",
    "\n",
    "Final Project - Requirements\n",
    "\n",
    "Add the following to your GitHub repository.\n",
    "\n",
    "Your dataset\n",
    "\n",
    "A PowerPoint presentation outlining your statistical question/hypothesis \n",
    "\n",
    "a. A minimum of 5 variables in your dataset used during your analysis (for help with selecting, the author made his selection on page 6 of your book). Consider what you think could have an impact on your question – remember this is never perfect, so don’t be worried if you miss one (Chapter 1).\n",
    "\n",
    "b. Describe what the 5 variables mean in the dataset (Chapter 1). \n",
    "\n",
    "c. Include a histogram of each of the 5 variables – in your summary and analysis, identify any outliers and explain the reasoning for them being outliers and how you believe they should be handled (Chapter 2). \n",
    "\n",
    "d. Include the other descriptive characteristics about the variables: Mean, Mode, Spread, and Tails (Chapter 2). - DONE\n",
    "\n",
    "e. Using pg. 29 of your text as an example, compare two scenarios in your data using a PMF. Reminder, this isn’t comparing two variables against each other – it is the same variable, but a different scenario. Almost like a filter. The example in the book is first babies compared to all other babies, it is still the same variable, but breaking the data out based on criteria we are exploring (Chapter 3). \n",
    "\n",
    "f. Create 1 CDF with one of your variables, using page 41-44 as your guide, what does this tell you about your variable and how does it address the question you are trying to answer (Chapter 4). \n",
    "\n",
    "g. Plot 1 analytical distribution and provide your analysis on how it applies to the dataset you have chosen (Chapter 5)\n",
    "\n",
    "h. Create two scatter plots comparing two variables and provide your analysis on correlation and causation. Remember, covariance, Pearson’s correlation, and Non-Linear Relationships should also be considered during your analysis (Chapter 7)\n",
    "\n",
    "i. Conduct a test on your hypothesis using one of the methods covered in Chapter 9. \n",
    "\n",
    "j. For this project, conduct a regression analysis on either one dependent and one explanatory variable, or multiple explanatory variables (Chapter 10 & 11). \n",
    "\n",
    "Your code or screenshots of your code \n",
    "\n",
    "A 250-500-word paper summarizing the following: Statistical/Hypothetical Question  a. Outcome of your EDA\n",
    "\n",
    "b. What do you feel was missed during the analysis?\n",
    "\n",
    "c. Were there any variables you felt could have helped in the analysis?\n",
    "\n",
    "d. Were there any assumptions made you felt were incorrect?\n",
    "\n",
    "e. What challenges did you face, what did you not fully understand?\n",
    "\n",
    "Submit a link to your repository to the assignment link during the final week of class. "
   ]
  },
  {
   "cell_type": "markdown",
   "id": "102c1762",
   "metadata": {},
   "source": [
    "Read the Clinical Dataset and convert to Dataframe"
   ]
  },
  {
   "cell_type": "code",
   "execution_count": 9,
   "id": "8b4f0543",
   "metadata": {},
   "outputs": [
    {
     "name": "stdout",
     "output_type": "stream",
     "text": [
      "      age  anaemia  creatinine_phosphokinase  diabetes  ejection_fraction  \\\n",
      "0    75.0        0                       582         0                 20   \n",
      "1    55.0        0                      7861         0                 38   \n",
      "2    65.0        0                       146         0                 20   \n",
      "3    50.0        1                       111         0                 20   \n",
      "4    65.0        1                       160         1                 20   \n",
      "..    ...      ...                       ...       ...                ...   \n",
      "294  62.0        0                        61         1                 38   \n",
      "295  55.0        0                      1820         0                 38   \n",
      "296  45.0        0                      2060         1                 60   \n",
      "297  45.0        0                      2413         0                 38   \n",
      "298  50.0        0                       196         0                 45   \n",
      "\n",
      "     high_blood_pressure  platelets  serum_creatinine  serum_sodium  sex  \\\n",
      "0                      1  265000.00               1.9           130    1   \n",
      "1                      0  263358.03               1.1           136    1   \n",
      "2                      0  162000.00               1.3           129    1   \n",
      "3                      0  210000.00               1.9           137    1   \n",
      "4                      0  327000.00               2.7           116    0   \n",
      "..                   ...        ...               ...           ...  ...   \n",
      "294                    1  155000.00               1.1           143    1   \n",
      "295                    0  270000.00               1.2           139    0   \n",
      "296                    0  742000.00               0.8           138    0   \n",
      "297                    0  140000.00               1.4           140    1   \n",
      "298                    0  395000.00               1.6           136    1   \n",
      "\n",
      "     smoking  time  DEATH_EVENT  \n",
      "0          0     4            1  \n",
      "1          0     6            1  \n",
      "2          1     7            1  \n",
      "3          0     7            1  \n",
      "4          0     8            1  \n",
      "..       ...   ...          ...  \n",
      "294        1   270            0  \n",
      "295        0   271            0  \n",
      "296        0   278            0  \n",
      "297        1   280            0  \n",
      "298        1   285            0  \n",
      "\n",
      "[299 rows x 13 columns]\n"
     ]
    }
   ],
   "source": [
    "import pandas;\n",
    "def readFile(f=\"heart_failures.csv\", seperator=\",\"):\n",
    "    df = pandas.read_csv(f,sep=seperator)\n",
    "    return df\n",
    "    \n",
    "clinical_df = readFile()\n",
    "   \n",
    "print(clinical_df)"
   ]
  },
  {
   "cell_type": "code",
   "execution_count": 6,
   "id": "22150f00",
   "metadata": {},
   "outputs": [
    {
     "data": {
      "text/html": [
       "<div>\n",
       "<style scoped>\n",
       "    .dataframe tbody tr th:only-of-type {\n",
       "        vertical-align: middle;\n",
       "    }\n",
       "\n",
       "    .dataframe tbody tr th {\n",
       "        vertical-align: top;\n",
       "    }\n",
       "\n",
       "    .dataframe thead th {\n",
       "        text-align: right;\n",
       "    }\n",
       "</style>\n",
       "<table border=\"1\" class=\"dataframe\">\n",
       "  <thead>\n",
       "    <tr style=\"text-align: right;\">\n",
       "      <th></th>\n",
       "      <th>count</th>\n",
       "      <th>mean</th>\n",
       "      <th>std</th>\n",
       "      <th>min</th>\n",
       "      <th>25%</th>\n",
       "      <th>50%</th>\n",
       "      <th>75%</th>\n",
       "      <th>max</th>\n",
       "    </tr>\n",
       "  </thead>\n",
       "  <tbody>\n",
       "    <tr>\n",
       "      <th>age</th>\n",
       "      <td>299.0</td>\n",
       "      <td>60.833893</td>\n",
       "      <td>11.894809</td>\n",
       "      <td>40.0</td>\n",
       "      <td>51.0</td>\n",
       "      <td>60.0</td>\n",
       "      <td>70.0</td>\n",
       "      <td>95.0</td>\n",
       "    </tr>\n",
       "    <tr>\n",
       "      <th>anaemia</th>\n",
       "      <td>299.0</td>\n",
       "      <td>0.431438</td>\n",
       "      <td>0.496107</td>\n",
       "      <td>0.0</td>\n",
       "      <td>0.0</td>\n",
       "      <td>0.0</td>\n",
       "      <td>1.0</td>\n",
       "      <td>1.0</td>\n",
       "    </tr>\n",
       "    <tr>\n",
       "      <th>creatinine_phosphokinase</th>\n",
       "      <td>299.0</td>\n",
       "      <td>581.839465</td>\n",
       "      <td>970.287881</td>\n",
       "      <td>23.0</td>\n",
       "      <td>116.5</td>\n",
       "      <td>250.0</td>\n",
       "      <td>582.0</td>\n",
       "      <td>7861.0</td>\n",
       "    </tr>\n",
       "    <tr>\n",
       "      <th>diabetes</th>\n",
       "      <td>299.0</td>\n",
       "      <td>0.418060</td>\n",
       "      <td>0.494067</td>\n",
       "      <td>0.0</td>\n",
       "      <td>0.0</td>\n",
       "      <td>0.0</td>\n",
       "      <td>1.0</td>\n",
       "      <td>1.0</td>\n",
       "    </tr>\n",
       "    <tr>\n",
       "      <th>ejection_fraction</th>\n",
       "      <td>299.0</td>\n",
       "      <td>38.083612</td>\n",
       "      <td>11.834841</td>\n",
       "      <td>14.0</td>\n",
       "      <td>30.0</td>\n",
       "      <td>38.0</td>\n",
       "      <td>45.0</td>\n",
       "      <td>80.0</td>\n",
       "    </tr>\n",
       "    <tr>\n",
       "      <th>high_blood_pressure</th>\n",
       "      <td>299.0</td>\n",
       "      <td>0.351171</td>\n",
       "      <td>0.478136</td>\n",
       "      <td>0.0</td>\n",
       "      <td>0.0</td>\n",
       "      <td>0.0</td>\n",
       "      <td>1.0</td>\n",
       "      <td>1.0</td>\n",
       "    </tr>\n",
       "    <tr>\n",
       "      <th>platelets</th>\n",
       "      <td>299.0</td>\n",
       "      <td>263358.029264</td>\n",
       "      <td>97804.236869</td>\n",
       "      <td>25100.0</td>\n",
       "      <td>212500.0</td>\n",
       "      <td>262000.0</td>\n",
       "      <td>303500.0</td>\n",
       "      <td>850000.0</td>\n",
       "    </tr>\n",
       "    <tr>\n",
       "      <th>serum_creatinine</th>\n",
       "      <td>299.0</td>\n",
       "      <td>1.393880</td>\n",
       "      <td>1.034510</td>\n",
       "      <td>0.5</td>\n",
       "      <td>0.9</td>\n",
       "      <td>1.1</td>\n",
       "      <td>1.4</td>\n",
       "      <td>9.4</td>\n",
       "    </tr>\n",
       "    <tr>\n",
       "      <th>serum_sodium</th>\n",
       "      <td>299.0</td>\n",
       "      <td>136.625418</td>\n",
       "      <td>4.412477</td>\n",
       "      <td>113.0</td>\n",
       "      <td>134.0</td>\n",
       "      <td>137.0</td>\n",
       "      <td>140.0</td>\n",
       "      <td>148.0</td>\n",
       "    </tr>\n",
       "    <tr>\n",
       "      <th>sex</th>\n",
       "      <td>299.0</td>\n",
       "      <td>0.648829</td>\n",
       "      <td>0.478136</td>\n",
       "      <td>0.0</td>\n",
       "      <td>0.0</td>\n",
       "      <td>1.0</td>\n",
       "      <td>1.0</td>\n",
       "      <td>1.0</td>\n",
       "    </tr>\n",
       "    <tr>\n",
       "      <th>smoking</th>\n",
       "      <td>299.0</td>\n",
       "      <td>0.321070</td>\n",
       "      <td>0.467670</td>\n",
       "      <td>0.0</td>\n",
       "      <td>0.0</td>\n",
       "      <td>0.0</td>\n",
       "      <td>1.0</td>\n",
       "      <td>1.0</td>\n",
       "    </tr>\n",
       "    <tr>\n",
       "      <th>time</th>\n",
       "      <td>299.0</td>\n",
       "      <td>130.260870</td>\n",
       "      <td>77.614208</td>\n",
       "      <td>4.0</td>\n",
       "      <td>73.0</td>\n",
       "      <td>115.0</td>\n",
       "      <td>203.0</td>\n",
       "      <td>285.0</td>\n",
       "    </tr>\n",
       "    <tr>\n",
       "      <th>DEATH_EVENT</th>\n",
       "      <td>299.0</td>\n",
       "      <td>0.321070</td>\n",
       "      <td>0.467670</td>\n",
       "      <td>0.0</td>\n",
       "      <td>0.0</td>\n",
       "      <td>0.0</td>\n",
       "      <td>1.0</td>\n",
       "      <td>1.0</td>\n",
       "    </tr>\n",
       "  </tbody>\n",
       "</table>\n",
       "</div>"
      ],
      "text/plain": [
       "                          count           mean           std      min  \\\n",
       "age                       299.0      60.833893     11.894809     40.0   \n",
       "anaemia                   299.0       0.431438      0.496107      0.0   \n",
       "creatinine_phosphokinase  299.0     581.839465    970.287881     23.0   \n",
       "diabetes                  299.0       0.418060      0.494067      0.0   \n",
       "ejection_fraction         299.0      38.083612     11.834841     14.0   \n",
       "high_blood_pressure       299.0       0.351171      0.478136      0.0   \n",
       "platelets                 299.0  263358.029264  97804.236869  25100.0   \n",
       "serum_creatinine          299.0       1.393880      1.034510      0.5   \n",
       "serum_sodium              299.0     136.625418      4.412477    113.0   \n",
       "sex                       299.0       0.648829      0.478136      0.0   \n",
       "smoking                   299.0       0.321070      0.467670      0.0   \n",
       "time                      299.0     130.260870     77.614208      4.0   \n",
       "DEATH_EVENT               299.0       0.321070      0.467670      0.0   \n",
       "\n",
       "                               25%       50%       75%       max  \n",
       "age                           51.0      60.0      70.0      95.0  \n",
       "anaemia                        0.0       0.0       1.0       1.0  \n",
       "creatinine_phosphokinase     116.5     250.0     582.0    7861.0  \n",
       "diabetes                       0.0       0.0       1.0       1.0  \n",
       "ejection_fraction             30.0      38.0      45.0      80.0  \n",
       "high_blood_pressure            0.0       0.0       1.0       1.0  \n",
       "platelets                 212500.0  262000.0  303500.0  850000.0  \n",
       "serum_creatinine               0.9       1.1       1.4       9.4  \n",
       "serum_sodium                 134.0     137.0     140.0     148.0  \n",
       "sex                            0.0       1.0       1.0       1.0  \n",
       "smoking                        0.0       0.0       1.0       1.0  \n",
       "time                          73.0     115.0     203.0     285.0  \n",
       "DEATH_EVENT                    0.0       0.0       1.0       1.0  "
      ]
     },
     "execution_count": 6,
     "metadata": {},
     "output_type": "execute_result"
    }
   ],
   "source": [
    "clinical_df.describe().T"
   ]
  },
  {
   "cell_type": "code",
   "execution_count": 7,
   "id": "ddfe0e8a",
   "metadata": {},
   "outputs": [
    {
     "data": {
      "text/html": [
       "<div>\n",
       "<style scoped>\n",
       "    .dataframe tbody tr th:only-of-type {\n",
       "        vertical-align: middle;\n",
       "    }\n",
       "\n",
       "    .dataframe tbody tr th {\n",
       "        vertical-align: top;\n",
       "    }\n",
       "\n",
       "    .dataframe thead th {\n",
       "        text-align: right;\n",
       "    }\n",
       "</style>\n",
       "<table border=\"1\" class=\"dataframe\">\n",
       "  <thead>\n",
       "    <tr style=\"text-align: right;\">\n",
       "      <th></th>\n",
       "      <th>age</th>\n",
       "      <th>anaemia</th>\n",
       "      <th>creatinine_phosphokinase</th>\n",
       "      <th>diabetes</th>\n",
       "      <th>ejection_fraction</th>\n",
       "      <th>high_blood_pressure</th>\n",
       "      <th>platelets</th>\n",
       "      <th>serum_creatinine</th>\n",
       "      <th>serum_sodium</th>\n",
       "      <th>sex</th>\n",
       "      <th>smoking</th>\n",
       "      <th>time</th>\n",
       "      <th>DEATH_EVENT</th>\n",
       "    </tr>\n",
       "  </thead>\n",
       "  <tbody>\n",
       "    <tr>\n",
       "      <th>0</th>\n",
       "      <td>75.0</td>\n",
       "      <td>0</td>\n",
       "      <td>582</td>\n",
       "      <td>0</td>\n",
       "      <td>20</td>\n",
       "      <td>1</td>\n",
       "      <td>265000.00</td>\n",
       "      <td>1.9</td>\n",
       "      <td>130</td>\n",
       "      <td>1</td>\n",
       "      <td>0</td>\n",
       "      <td>4</td>\n",
       "      <td>1</td>\n",
       "    </tr>\n",
       "    <tr>\n",
       "      <th>1</th>\n",
       "      <td>55.0</td>\n",
       "      <td>0</td>\n",
       "      <td>7861</td>\n",
       "      <td>0</td>\n",
       "      <td>38</td>\n",
       "      <td>0</td>\n",
       "      <td>263358.03</td>\n",
       "      <td>1.1</td>\n",
       "      <td>136</td>\n",
       "      <td>1</td>\n",
       "      <td>0</td>\n",
       "      <td>6</td>\n",
       "      <td>1</td>\n",
       "    </tr>\n",
       "    <tr>\n",
       "      <th>2</th>\n",
       "      <td>65.0</td>\n",
       "      <td>0</td>\n",
       "      <td>146</td>\n",
       "      <td>0</td>\n",
       "      <td>20</td>\n",
       "      <td>0</td>\n",
       "      <td>162000.00</td>\n",
       "      <td>1.3</td>\n",
       "      <td>129</td>\n",
       "      <td>1</td>\n",
       "      <td>1</td>\n",
       "      <td>7</td>\n",
       "      <td>1</td>\n",
       "    </tr>\n",
       "    <tr>\n",
       "      <th>3</th>\n",
       "      <td>50.0</td>\n",
       "      <td>1</td>\n",
       "      <td>111</td>\n",
       "      <td>0</td>\n",
       "      <td>20</td>\n",
       "      <td>0</td>\n",
       "      <td>210000.00</td>\n",
       "      <td>1.9</td>\n",
       "      <td>137</td>\n",
       "      <td>1</td>\n",
       "      <td>0</td>\n",
       "      <td>7</td>\n",
       "      <td>1</td>\n",
       "    </tr>\n",
       "    <tr>\n",
       "      <th>4</th>\n",
       "      <td>65.0</td>\n",
       "      <td>1</td>\n",
       "      <td>160</td>\n",
       "      <td>1</td>\n",
       "      <td>20</td>\n",
       "      <td>0</td>\n",
       "      <td>327000.00</td>\n",
       "      <td>2.7</td>\n",
       "      <td>116</td>\n",
       "      <td>0</td>\n",
       "      <td>0</td>\n",
       "      <td>8</td>\n",
       "      <td>1</td>\n",
       "    </tr>\n",
       "  </tbody>\n",
       "</table>\n",
       "</div>"
      ],
      "text/plain": [
       "    age  anaemia  creatinine_phosphokinase  diabetes  ejection_fraction  \\\n",
       "0  75.0        0                       582         0                 20   \n",
       "1  55.0        0                      7861         0                 38   \n",
       "2  65.0        0                       146         0                 20   \n",
       "3  50.0        1                       111         0                 20   \n",
       "4  65.0        1                       160         1                 20   \n",
       "\n",
       "   high_blood_pressure  platelets  serum_creatinine  serum_sodium  sex  \\\n",
       "0                    1  265000.00               1.9           130    1   \n",
       "1                    0  263358.03               1.1           136    1   \n",
       "2                    0  162000.00               1.3           129    1   \n",
       "3                    0  210000.00               1.9           137    1   \n",
       "4                    0  327000.00               2.7           116    0   \n",
       "\n",
       "   smoking  time  DEATH_EVENT  \n",
       "0        0     4            1  \n",
       "1        0     6            1  \n",
       "2        1     7            1  \n",
       "3        0     7            1  \n",
       "4        0     8            1  "
      ]
     },
     "execution_count": 7,
     "metadata": {},
     "output_type": "execute_result"
    }
   ],
   "source": [
    "clinical_df.head()"
   ]
  },
  {
   "cell_type": "code",
   "execution_count": 11,
   "id": "c85a4aee",
   "metadata": {},
   "outputs": [],
   "source": [
    "import thinkstats2\n",
    "import thinkplot"
   ]
  },
  {
   "cell_type": "code",
   "execution_count": 12,
   "id": "3392049c",
   "metadata": {},
   "outputs": [
    {
     "name": "stdout",
     "output_type": "stream",
     "text": [
      "DEAD: 96\n",
      "ALIVE: 203\n",
      "TOTAL: 299\n"
     ]
    }
   ],
   "source": [
    "# create separate df for dead and alive patients\n",
    "\n",
    "dead = clinical_df[clinical_df.DEATH_EVENT == 1]\n",
    "alive = clinical_df[clinical_df.DEATH_EVENT == 0]\n",
    "print(\"DEAD:\",len(dead))\n",
    "print(\"ALIVE:\",len(alive))\n",
    "print(\"TOTAL:\",len(clinical_df))"
   ]
  },
  {
   "cell_type": "code",
   "execution_count": 14,
   "id": "63234acd",
   "metadata": {},
   "outputs": [
    {
     "data": {
      "image/png": "[encoded data removed]",
      "text/plain": [
       "<Figure size 432x288 with 1 Axes>"
      ]
     },
     "metadata": {
      "needs_background": "light"
     },
     "output_type": "display_data"
    }
   ],
   "source": [
    "import matplotlib.pyplot as plt\n",
    "import numpy as np;\n",
    "\n",
    "# Histogram plot for Age of Patient\n",
    "binBoundaries = np.linspace(40,100,24)\n",
    "plt.hist(x=dead.age, bins=binBoundaries, color='red', alpha=0.6, rwidth=0.9, label = \"Dead\")\n",
    "plt.hist(x=alive.age, bins=binBoundaries, color='blue', alpha=0.6, rwidth=0.9, label = \"Alive\")\n",
    "plt.legend(loc='upper right')\n",
    "plt.grid(axis='y', alpha=0.5)\n",
    "plt.xlabel('Age in Years')\n",
    "plt.ylabel('Count of Patients')\n",
    "plt.xlim(40,100)\n",
    "plt.ylim(0,30)\n",
    "plt.show()"
   ]
  },
  {
   "cell_type": "code",
   "execution_count": 15,
   "id": "2ce1babd",
   "metadata": {},
   "outputs": [
    {
     "data": {
      "image/png": "[encoded data removed]",
      "text/plain": [
       "<Figure size 432x288 with 1 Axes>"
      ]
     },
     "metadata": {
      "needs_background": "light"
     },
     "output_type": "display_data"
    }
   ],
   "source": [
    "# Histogram plot for CPK\n",
    "binBoundaries = np.linspace(0,800,32)\n",
    "plt.hist(x=dead.creatinine_phosphokinase, bins=binBoundaries, color='red', alpha=0.7, rwidth=0.9, label = \"Dead\")\n",
    "plt.hist(x=alive.creatinine_phosphokinase, bins=binBoundaries, color='blue', alpha=0.5, rwidth=0.9, label = \"Alive\")\n",
    "plt.legend(loc='upper right')\n",
    "plt.grid(axis='y', alpha=0.5)\n",
    "plt.xlabel('CPK Enzyme in blood - mcg/L')\n",
    "plt.ylabel('Count of Patients')\n",
    "#plt.xlim(40,100)\n",
    "#plt.ylim(0,30)\n",
    "plt.show()"
   ]
  },
  {
   "cell_type": "code",
   "execution_count": 17,
   "id": "659f8938",
   "metadata": {},
   "outputs": [
    {
     "data": {
      "image/png": "[encoded data removed]",
      "text/plain": [
       "<Figure size 432x288 with 1 Axes>"
      ]
     },
     "metadata": {
      "needs_background": "light"
     },
     "output_type": "display_data"
    }
   ],
   "source": [
    "# Histogram plot for Ejection Fraction\n",
    "binBoundaries = np.linspace(0,90,18)\n",
    "plt.hist(x=dead.ejection_fraction, bins=binBoundaries, color='red', alpha=0.4, rwidth=0.9, label = \"Dead\")\n",
    "plt.hist(x=alive.ejection_fraction, bins=binBoundaries, color='blue', alpha=0.6, rwidth=0.9, label = \"Alive\")\n",
    "plt.legend(loc='upper right')\n",
    "plt.grid(axis='y', alpha=0.5)\n",
    "plt.xlabel('Ejection Fraction - %age')\n",
    "plt.ylabel('Count of Patients')\n",
    "plt.show()"
   ]
  },
  {
   "cell_type": "code",
   "execution_count": 18,
   "id": "eb07c09e",
   "metadata": {},
   "outputs": [
    {
     "data": {
      "image/png": "[encoded data removed]",
      "text/plain": [
       "<Figure size 432x288 with 1 Axes>"
      ]
     },
     "metadata": {
      "needs_background": "light"
     },
     "output_type": "display_data"
    }
   ],
   "source": [
    "# Histogram plot for Platelets Count\n",
    "binBoundaries = np.linspace(0, 700000, 28)\n",
    "plt.hist(x=dead.platelets, bins=binBoundaries, color='red', alpha=0.6, rwidth=0.9, label = \"Dead\")\n",
    "plt.hist(x=alive.platelets, bins=binBoundaries, color='blue', alpha=0.6, rwidth=0.9, label = \"Alive\")\n",
    "plt.legend(loc='upper right')\n",
    "plt.grid(axis='y', alpha=0.5)\n",
    "plt.xlabel('Platelets - kiloplatelets/ml')\n",
    "plt.ylabel('Count of Patients')\n",
    "plt.show()"
   ]
  },
  {
   "cell_type": "code",
   "execution_count": 19,
   "id": "1c04807e",
   "metadata": {},
   "outputs": [
    {
     "data": {
      "image/png": "[encoded data removed]",
      "text/plain": [
       "<Figure size 432x288 with 1 Axes>"
      ]
     },
     "metadata": {
      "needs_background": "light"
     },
     "output_type": "display_data"
    }
   ],
   "source": [
    "# Histogram plot for Serum Creatinine\n",
    "binBoundaries = np.linspace(0, 10, 40)\n",
    "plt.hist(x=dead.serum_creatinine, bins=binBoundaries, color='red', alpha=0.6, rwidth=0.9, label = \"Dead\")\n",
    "plt.hist(x=alive.serum_creatinine, bins=binBoundaries, color='blue', alpha=0.6, rwidth=0.9, label = \"Alive\")\n",
    "plt.legend(loc='upper right')\n",
    "plt.grid(axis='y', alpha=0.5)\n",
    "plt.xlabel('Serum Creatinine - mg/dL')\n",
    "plt.ylabel('Count of Patients')\n",
    "plt.show()"
   ]
  },
  {
   "cell_type": "code",
   "execution_count": 20,
   "id": "89197374",
   "metadata": {},
   "outputs": [
    {
     "data": {
      "image/png": "[encoded data removed]",
      "text/plain": [
       "<Figure size 432x288 with 1 Axes>"
      ]
     },
     "metadata": {
      "needs_background": "light"
     },
     "output_type": "display_data"
    }
   ],
   "source": [
    "# Histogram plot for Serium Sodium\n",
    "binBoundaries = np.linspace(100, 150, 25)\n",
    "plt.hist(x=dead.serum_sodium, bins=binBoundaries, color='red', alpha=0.6, rwidth=0.9, label = \"Dead\")\n",
    "plt.hist(x=alive.serum_sodium, bins=binBoundaries, color='blue', alpha=0.6, rwidth=0.9, label = \"Alive\")\n",
    "plt.legend(loc='upper right')\n",
    "plt.grid(axis='y', alpha=0.5)\n",
    "plt.xlabel('Serium Sodium - mEq/L')\n",
    "plt.ylabel('Count of Patients')\n",
    "plt.show()"
   ]
  },
  {
   "cell_type": "code",
   "execution_count": 21,
   "id": "99faf6d1",
   "metadata": {},
   "outputs": [
    {
     "name": "stdout",
     "output_type": "stream",
     "text": [
      "Mean Age (Alive):  58.76190640394089\n",
      "Mean Age (Dead):  65.21528125\n",
      "Mode Age (Alive):  0    60.0\n",
      "dtype: float64\n",
      "Mode Age (Dead):  0    60.0\n",
      "dtype: float64\n",
      "Variance Age (Alive):  113.1647084713947\n",
      "Variance Age (Dead):  174.62448075164468\n",
      "Standard Deviation Age (Alive):  10.637890226515534\n",
      "Standard Deviation Age (Dead):  13.214555639583372\n"
     ]
    }
   ],
   "source": [
    "# Mean, Mode, Spread and Tails - Age of Patient\n",
    "meanAlive = alive.age.mean()\n",
    "meanDead = dead.age.mean()\n",
    "modeAlive = alive.age.mode()\n",
    "modeDead = dead.age.mode()\n",
    "varAlive = alive.age.var()\n",
    "varDead = dead.age.var()\n",
    "stdAlive = alive.age.std()\n",
    "stdDead = dead.age.std()\n",
    "\n",
    "print(\"Mean Age (Alive): \",meanAlive)\n",
    "print(\"Mean Age (Dead): \",meanDead)\n",
    "print(\"Mode Age (Alive): \",modeAlive)\n",
    "print(\"Mode Age (Dead): \",modeDead)\n",
    "print(\"Variance Age (Alive): \",varAlive)\n",
    "print(\"Variance Age (Dead): \",varDead)\n",
    "print(\"Standard Deviation Age (Alive): \",stdAlive)\n",
    "print(\"Standard Deviation Age (Dead): \",stdDead)"
   ]
  },
  {
   "cell_type": "code",
   "execution_count": 22,
   "id": "2f694b07",
   "metadata": {},
   "outputs": [
    {
     "name": "stdout",
     "output_type": "stream",
     "text": [
      "Mean CPK Enzyme (Alive):  540.0541871921182\n",
      "Mean CPK Enzyme (Dead):  670.1979166666666\n",
      "Mode CPK Enzyme (Alive):  0    582\n",
      "dtype: int64\n",
      "Mode CPK Enzyme (Dead):  0    582\n",
      "dtype: int64\n",
      "Variance CPK Enzyme (Alive):  568213.7940789146\n",
      "Variance CPK Enzyme (Dead):  1733384.5814692995\n",
      "Standard Deviation CPK Enzyme (Alive):  753.7995715566005\n",
      "Standard Deviation CPK Enzyme (Dead):  1316.5806399417013\n"
     ]
    }
   ],
   "source": [
    "# Mean, Mode, Spread and Tails - CPK Enzyme\n",
    "meanAlive = alive.creatinine_phosphokinase.mean()\n",
    "meanDead = dead.creatinine_phosphokinase.mean()\n",
    "modeAlive = alive.creatinine_phosphokinase.mode()\n",
    "modeDead = dead.creatinine_phosphokinase.mode()\n",
    "varAlive = alive.creatinine_phosphokinase.var()\n",
    "varDead = dead.creatinine_phosphokinase.var()\n",
    "stdAlive = alive.creatinine_phosphokinase.std()\n",
    "stdDead = dead.creatinine_phosphokinase.std()\n",
    "\n",
    "print(\"Mean CPK Enzyme (Alive): \",meanAlive)\n",
    "print(\"Mean CPK Enzyme (Dead): \",meanDead)\n",
    "print(\"Mode CPK Enzyme (Alive): \",modeAlive)\n",
    "print(\"Mode CPK Enzyme (Dead): \",modeDead)\n",
    "print(\"Variance CPK Enzyme (Alive): \",varAlive)\n",
    "print(\"Variance CPK Enzyme (Dead): \",varDead)\n",
    "print(\"Standard Deviation CPK Enzyme (Alive): \",stdAlive)\n",
    "print(\"Standard Deviation CPK Enzyme (Dead): \",stdDead)"
   ]
  },
  {
   "cell_type": "code",
   "execution_count": 23,
   "id": "0ddc5eeb",
   "metadata": {},
   "outputs": [
    {
     "name": "stdout",
     "output_type": "stream",
     "text": [
      "Mean Ejection Fraction (Alive):  40.26600985221675\n",
      "Mean Ejection Fraction (Dead):  33.46875\n",
      "Mode Ejection Fraction (Alive):  0    35\n",
      "dtype: int64\n",
      "Mode Ejection Fraction (Dead):  0    25\n",
      "dtype: int64\n",
      "Variance Ejection Fraction (Alive):  117.93878944544699\n",
      "Variance Ejection Fraction (Dead):  156.88322368421052\n",
      "Standard Deviation Ejection Fraction (Alive):  10.859962681586294\n",
      "Standard Deviation Ejection Fraction (Dead):  12.52530333701386\n"
     ]
    }
   ],
   "source": [
    "# Mean, Mode, Spread and Tails - Ejection Fraction\n",
    "meanAlive = alive.ejection_fraction.mean()\n",
    "meanDead = dead.ejection_fraction.mean()\n",
    "modeAlive = alive.ejection_fraction.mode()\n",
    "modeDead = dead.ejection_fraction.mode()\n",
    "varAlive = alive.ejection_fraction.var()\n",
    "varDead = dead.ejection_fraction.var()\n",
    "stdAlive = alive.ejection_fraction.std()\n",
    "stdDead = dead.ejection_fraction.std()\n",
    "\n",
    "print(\"Mean Ejection Fraction (Alive): \",meanAlive)\n",
    "print(\"Mean Ejection Fraction (Dead): \",meanDead)\n",
    "print(\"Mode Ejection Fraction (Alive): \",modeAlive)\n",
    "print(\"Mode Ejection Fraction (Dead): \",modeDead)\n",
    "print(\"Variance Ejection Fraction (Alive): \",varAlive)\n",
    "print(\"Variance Ejection Fraction (Dead): \",varDead)\n",
    "print(\"Standard Deviation Ejection Fraction (Alive): \",stdAlive)\n",
    "print(\"Standard Deviation Ejection Fraction (Dead): \",stdDead)"
   ]
  },
  {
   "cell_type": "code",
   "execution_count": 24,
   "id": "c0c86fb2",
   "metadata": {},
   "outputs": [
    {
     "name": "stdout",
     "output_type": "stream",
     "text": [
      "Mean Platelets (Alive):  266657.4899014779\n",
      "Mean Platelets (Dead):  256381.0447916667\n",
      "Mode Platelets (Alive):  0    263358.03\n",
      "dtype: float64\n",
      "Mode Platelets (Dead):  0    263358.03\n",
      "dtype: float64\n",
      "Variance Platelets (Alive):  9512335418.857391\n",
      "Variance Platelets (Dead):  9707310182.337013\n",
      "Standard Deviation Platelets (Alive):  97531.20228346101\n",
      "Standard Deviation Platelets (Dead):  98525.68285648678\n"
     ]
    }
   ],
   "source": [
    "# Mean, Mode, Spread and Tails - Platelets Count\n",
    "meanAlive = alive.platelets.mean()\n",
    "meanDead = dead.platelets.mean()\n",
    "modeAlive = alive.platelets.mode()\n",
    "modeDead = dead.platelets.mode()\n",
    "varAlive = alive.platelets.var()\n",
    "varDead = dead.platelets.var()\n",
    "stdAlive = alive.platelets.std()\n",
    "stdDead = dead.platelets.std()\n",
    "\n",
    "print(\"Mean Platelets (Alive): \",meanAlive)\n",
    "print(\"Mean Platelets (Dead): \",meanDead)\n",
    "print(\"Mode Platelets (Alive): \",modeAlive)\n",
    "print(\"Mode Platelets (Dead): \",modeDead)\n",
    "print(\"Variance Platelets (Alive): \",varAlive)\n",
    "print(\"Variance Platelets (Dead): \",varDead)\n",
    "print(\"Standard Deviation Platelets (Alive): \",stdAlive)\n",
    "print(\"Standard Deviation Platelets (Dead): \",stdDead)"
   ]
  },
  {
   "cell_type": "code",
   "execution_count": 25,
   "id": "e7500618",
   "metadata": {},
   "outputs": [
    {
     "name": "stdout",
     "output_type": "stream",
     "text": [
      "Mean Serum Creatinine (Alive):  1.184876847290641\n",
      "Mean Serum Creatinine (Dead):  1.8358333333333332\n",
      "Mode Serum Creatinine (Alive):  0    1.0\n",
      "dtype: float64\n",
      "Mode Serum Creatinine (Dead):  0    1.0\n",
      "dtype: float64\n",
      "Variance Serum Creatinine (Alive):  0.42782411842169504\n",
      "Variance Serum Creatinine (Dead):  2.1566729824561404\n",
      "Standard Deviation Serum Creatinine (Alive):  0.6540826541207885\n",
      "Standard Deviation Serum Creatinine (Dead):  1.4685615351275343\n"
     ]
    }
   ],
   "source": [
    "# Mean, Mode, Spread and Tails - Serum Creatinine\n",
    "meanAlive = alive.serum_creatinine.mean()\n",
    "meanDead = dead.serum_creatinine.mean()\n",
    "modeAlive = alive.serum_creatinine.mode()\n",
    "modeDead = dead.serum_creatinine.mode()\n",
    "varAlive = alive.serum_creatinine.var()\n",
    "varDead = dead.serum_creatinine.var()\n",
    "stdAlive = alive.serum_creatinine.std()\n",
    "stdDead = dead.serum_creatinine.std()\n",
    "\n",
    "print(\"Mean Serum Creatinine (Alive): \",meanAlive)\n",
    "print(\"Mean Serum Creatinine (Dead): \",meanDead)\n",
    "print(\"Mode Serum Creatinine (Alive): \",modeAlive)\n",
    "print(\"Mode Serum Creatinine (Dead): \",modeDead)\n",
    "print(\"Variance Serum Creatinine (Alive): \",varAlive)\n",
    "print(\"Variance Serum Creatinine (Dead): \",varDead)\n",
    "print(\"Standard Deviation Serum Creatinine (Alive): \",stdAlive)\n",
    "print(\"Standard Deviation Serum Creatinine (Dead): \",stdDead)"
   ]
  },
  {
   "cell_type": "code",
   "execution_count": 26,
   "id": "ad711722",
   "metadata": {},
   "outputs": [
    {
     "name": "stdout",
     "output_type": "stream",
     "text": [
      "Mean Serum Sodium (Alive):  137.2167487684729\n",
      "Mean Serum Sodium (Dead):  135.375\n",
      "Mode Serum Sodium (Alive):  0    137\n",
      "dtype: int64\n",
      "Mode Serum Sodium (Dead):  0    134\n",
      "dtype: int64\n",
      "Variance Serum Sodium (Alive):  15.863678486075212\n",
      "Variance Serum Sodium (Dead):  25.01578947368421\n",
      "Standard Deviation Serum Sodium (Alive):  3.9829233593022115\n",
      "Standard Deviation Serum Sodium (Dead):  5.00157869813964\n"
     ]
    }
   ],
   "source": [
    "# Mean, Mode, Spread and Tails - Serum Sodium\n",
    "meanAlive = alive.serum_sodium.mean()\n",
    "meanDead = dead.serum_sodium.mean()\n",
    "modeAlive = alive.serum_sodium.mode()\n",
    "modeDead = dead.serum_sodium.mode()\n",
    "varAlive = alive.serum_sodium.var()\n",
    "varDead = dead.serum_sodium.var()\n",
    "stdAlive = alive.serum_sodium.std()\n",
    "stdDead = dead.serum_sodium.std()\n",
    "\n",
    "print(\"Mean Serum Sodium (Alive): \",meanAlive)\n",
    "print(\"Mean Serum Sodium (Dead): \",meanDead)\n",
    "print(\"Mode Serum Sodium (Alive): \",modeAlive)\n",
    "print(\"Mode Serum Sodium (Dead): \",modeDead)\n",
    "print(\"Variance Serum Sodium (Alive): \",varAlive)\n",
    "print(\"Variance Serum Sodium (Dead): \",varDead)\n",
    "print(\"Standard Deviation Serum Sodium (Alive): \",stdAlive)\n",
    "print(\"Standard Deviation Serum Sodium (Dead): \",stdDead)"
   ]
  },
  {
   "cell_type": "code",
   "execution_count": 27,
   "id": "f487b2e9",
   "metadata": {},
   "outputs": [
    {
     "data": {
      "image/png": "[encoded data removed]",
      "text/plain": [
       "<Figure size 864x432 with 2 Axes>"
      ]
     },
     "metadata": {
      "needs_background": "light"
     },
     "output_type": "display_data"
    }
   ],
   "source": [
    "# Compare Ejection Fraction: Alive vs Dead Patients\n",
    "pmfAliveEF = thinkstats2.Pmf(alive.ejection_fraction, label='Alive')\n",
    "pmfDeadEF = thinkstats2.Pmf(dead.ejection_fraction, label='Dead')\n",
    "\n",
    "width=1\n",
    "axis = [10, 85, 0, 0.25]\n",
    "thinkplot.PrePlot(2, cols=2)\n",
    "thinkplot.Hist(pmfAliveEF, align='right', width=width, color = 'blue')\n",
    "thinkplot.Hist(pmfDeadEF, align='left', width=width, color = 'red')\n",
    "thinkplot.Config(xlabel='Ejection Fraction - %age', ylabel='PMF', axis=axis)\n",
    "\n",
    "thinkplot.PrePlot(2)\n",
    "thinkplot.SubPlot(2)\n",
    "thinkplot.Pmfs([pmfAliveEF, pmfDeadEF],width=width)\n",
    "thinkplot.Config(xlabel='Ejection Fraction - %age', axis=axis)"
   ]
  },
  {
   "cell_type": "code",
   "execution_count": 28,
   "id": "e61287f0",
   "metadata": {},
   "outputs": [
    {
     "data": {
      "image/png": "[encoded data removed]",
      "text/plain": [
       "<Figure size 864x432 with 2 Axes>"
      ]
     },
     "metadata": {
      "needs_background": "light"
     },
     "output_type": "display_data"
    }
   ],
   "source": [
    "# Compare Serum Creatinine: Alive vs Dead Patients\n",
    "pmfAliveSC = thinkstats2.Pmf(alive.serum_creatinine, label='Alive')\n",
    "pmfDeadSC = thinkstats2.Pmf(dead.serum_creatinine, label='Dead')\n",
    "\n",
    "width=0.05\n",
    "axis = [0, 10, 0, 0.20]\n",
    "thinkplot.PrePlot(2, cols=2)\n",
    "thinkplot.Hist(pmfAliveSC, align='right', width=width, color = 'blue')\n",
    "thinkplot.Hist(pmfDeadSC, align='left', width=width, color ='red')\n",
    "thinkplot.Config(xlabel='Serum Creatinine - mg/dL', ylabel='PMF', axis=axis)\n",
    "\n",
    "thinkplot.PrePlot(2)\n",
    "thinkplot.SubPlot(2)\n",
    "thinkplot.Pmfs([pmfAliveSC, pmfDeadSC],width=width)\n",
    "thinkplot.Config(xlabel='Serum Creatinine - mg/dL', axis=axis)"
   ]
  },
  {
   "cell_type": "code",
   "execution_count": 29,
   "id": "5fd6b13c",
   "metadata": {},
   "outputs": [
    {
     "data": {
      "image/png": "[encoded data removed]",
      "text/plain": [
       "<Figure size 432x288 with 1 Axes>"
      ]
     },
     "metadata": {
      "needs_background": "light"
     },
     "output_type": "display_data"
    }
   ],
   "source": [
    "# CDF Plot for Serum Creatinine: Dead vs Alive\n",
    "cdfSCAlive = thinkstats2.Cdf(alive.serum_creatinine, label='Alive')\n",
    "cdfSCDead = thinkstats2.Cdf(dead.serum_creatinine, label='Dead')\n",
    "thinkplot.Cdf(cdfSCAlive)\n",
    "thinkplot.Config(xlabel='Serum Creatinine - mg/dL', ylabel='CDF', loc='upper left')\n",
    "thinkplot.Cdf(cdfSCDead)\n",
    "thinkplot.Config(xlabel='Serum Creatinine - mg/dL', ylabel='CDF', loc='upper left')"
   ]
  },
  {
   "cell_type": "code",
   "execution_count": 30,
   "id": "2260a789",
   "metadata": {},
   "outputs": [
    {
     "data": {
      "image/png": "[encoded data removed]",
      "text/plain": [
       "<Figure size 432x288 with 1 Axes>"
      ]
     },
     "metadata": {
      "needs_background": "light"
     },
     "output_type": "display_data"
    }
   ],
   "source": [
    "# CDF Plot for Ejection Fraction: Dead vs Alive\n",
    "cdfEFAlive = thinkstats2.Cdf(alive.ejection_fraction, label='Alive')\n",
    "cdfEFDead = thinkstats2.Cdf(dead.ejection_fraction, label='Dead')\n",
    "thinkplot.Cdf(cdfEFAlive)\n",
    "thinkplot.Config(xlabel='Ejection Fraction %age', ylabel='CDF', loc='upper left')\n",
    "thinkplot.Cdf(cdfEFDead)\n",
    "thinkplot.Config(xlabel='Ejection Fraction %age', ylabel='CDF', loc='upper left')"
   ]
  },
  {
   "cell_type": "code",
   "execution_count": 31,
   "id": "cf233138",
   "metadata": {},
   "outputs": [
    {
     "data": {
      "image/png": "[encoded data removed]",
      "text/plain": [
       "<Figure size 432x288 with 1 Axes>"
      ]
     },
     "metadata": {
      "needs_background": "light"
     },
     "output_type": "display_data"
    }
   ],
   "source": [
    "# Plotting only for Dead cdf, as it might give insight on Mortality\n",
    "#cdfSCAlive = thinkstats2.Cdf(alive.serum_creatinine, label='Alive')\n",
    "cdfSCDead = thinkstats2.Cdf(dead.serum_creatinine, label='Dead')\n",
    "\n",
    "thinkplot.PrePlot(5)\n",
    "\n",
    "# Plotting Normal Distribution\n",
    "mus = [1.5, 2.0, 2.5]\n",
    "sigmas = [0.5, 0.4, 0.3]\n",
    "for mu, sigma in zip(mus, sigmas):\n",
    "    xs, ps = thinkstats2.RenderNormalCdf(mu=mu, sigma=sigma, \n",
    "                                               low=0, high=10)\n",
    "    label = r'$\\mu=%g$, $\\sigma=%g$' % (mu, sigma)\n",
    "    thinkplot.Plot(xs, ps, label=label)\n",
    "\n",
    "thinkplot.Config(title='Normal CDF', xlabel='x', ylabel='CDF')\n",
    "\n",
    "#thinkplot.Cdf(cdfSCAlive)\n",
    "thinkplot.Cdf(cdfSCDead)\n",
    "    \n",
    "thinkplot.Config(title='Normal CDF', xlabel='Serum Creatinine - mg/dL', ylabel='CDF', \n",
    "                 loc='lower right')"
   ]
  },
  {
   "cell_type": "code",
   "execution_count": 33,
   "id": "6ad70e66",
   "metadata": {},
   "outputs": [
    {
     "data": {
      "image/png": "[encoded data removed]",
      "text/plain": [
       "<Figure size 432x288 with 1 Axes>"
      ]
     },
     "metadata": {
      "needs_background": "light"
     },
     "output_type": "display_data"
    }
   ],
   "source": [
    "# Scatter Plots\n",
    "# Ejection Fraction vs Serum Creatinine: Dead vs Alive\n",
    "\n",
    "thinkplot.Scatter(dead.ejection_fraction, dead.serum_creatinine, alpha=0.5, label = 'Dead', color = 'RED')\n",
    "thinkplot.Scatter(alive.ejection_fraction, alive.serum_creatinine, alpha=0.7, label = 'Alive', color = 'BLUE')\n",
    "thinkplot.Config(xlabel='Ejection Fraction %age',\n",
    "                 ylabel='Serum Creatinine(mg/Dl)',\n",
    "                 axis=[0, 100, 0, 10],\n",
    "                 legend=True, loc='upper left')"
   ]
  },
  {
   "cell_type": "code",
   "execution_count": 34,
   "id": "a76d4f14",
   "metadata": {},
   "outputs": [
    {
     "data": {
      "text/plain": [
       "'DEAD - Covariance between Ejection Fraction & Serum Creatinine'"
      ]
     },
     "metadata": {},
     "output_type": "display_data"
    },
    {
     "data": {
      "text/plain": [
       "array([[156.88322368,   4.22207895],\n",
       "       [  4.22207895,   2.15667298]])"
      ]
     },
     "metadata": {},
     "output_type": "display_data"
    },
    {
     "data": {
      "text/plain": [
       "'DEAD - Correlation Coefficient between Ejection Fraction & Serum Creatinine'"
      ]
     },
     "metadata": {},
     "output_type": "display_data"
    },
    {
     "data": {
      "text/plain": [
       "array([[1.        , 0.22953343],\n",
       "       [0.22953343, 1.        ]])"
      ]
     },
     "metadata": {},
     "output_type": "display_data"
    },
    {
     "data": {
      "text/plain": [
       "'ALIVE - Covariance between Ejection Fraction & Serum Creatinine'"
      ]
     },
     "metadata": {},
     "output_type": "display_data"
    },
    {
     "data": {
      "text/plain": [
       "array([[117.93878945,  -0.76209579],\n",
       "       [ -0.76209579,   0.42782412]])"
      ]
     },
     "metadata": {},
     "output_type": "display_data"
    },
    {
     "data": {
      "text/plain": [
       "'ALIVE - Correlation Coefficient between Ejection Fraction & Serum Creatinine'"
      ]
     },
     "metadata": {},
     "output_type": "display_data"
    },
    {
     "data": {
      "text/plain": [
       "array([[ 1.        , -0.10728737],\n",
       "       [-0.10728737,  1.        ]])"
      ]
     },
     "metadata": {},
     "output_type": "display_data"
    }
   ],
   "source": [
    "display(\"DEAD - Covariance between Ejection Fraction & Serum Creatinine\",\n",
    "        np.cov(dead.ejection_fraction,dead.serum_creatinine))\n",
    "display(\"DEAD - Correlation Coefficient between Ejection Fraction & Serum Creatinine\",\n",
    "        np.corrcoef(dead.ejection_fraction, dead.serum_creatinine))\n",
    "display(\"ALIVE - Covariance between Ejection Fraction & Serum Creatinine\",\n",
    "        np.cov(alive.ejection_fraction,alive.serum_creatinine))\n",
    "display(\"ALIVE - Correlation Coefficient between Ejection Fraction & Serum Creatinine\",\n",
    "        np.corrcoef(alive.ejection_fraction, alive.serum_creatinine))"
   ]
  },
  {
   "cell_type": "code",
   "execution_count": 35,
   "id": "c1615720",
   "metadata": {},
   "outputs": [
    {
     "data": {
      "image/png": "[encoded data removed]",
      "text/plain": [
       "<Figure size 432x288 with 1 Axes>"
      ]
     },
     "metadata": {
      "needs_background": "light"
     },
     "output_type": "display_data"
    }
   ],
   "source": [
    "# Serum Sodium vs Serum Creatinine: Dead vs Alive\n",
    "\n",
    "thinkplot.Scatter(dead.serum_sodium, dead.serum_creatinine, alpha=1.0, label = 'Dead', color = 'RED')\n",
    "thinkplot.Scatter(alive.serum_sodium, alive.serum_creatinine, alpha=1.0, label = 'Alive', color = 'BLUE')\n",
    "thinkplot.Config(xlabel='Serum Sodium(mEq/L)',\n",
    "                 ylabel='Serum Creatinine(mg/Dl)',\n",
    "                 axis=[100, 150, 0, 10],\n",
    "                 legend=True, loc='upper left')"
   ]
  },
  {
   "cell_type": "code",
   "execution_count": 36,
   "id": "a4c1a8c7",
   "metadata": {},
   "outputs": [
    {
     "data": {
      "text/plain": [
       "'DEAD - Covariance between Serum Sodium & Serum Creatinine'"
      ]
     },
     "metadata": {},
     "output_type": "display_data"
    },
    {
     "data": {
      "text/plain": [
       "array([[25.01578947, -0.69052632],\n",
       "       [-0.69052632,  2.15667298]])"
      ]
     },
     "metadata": {},
     "output_type": "display_data"
    },
    {
     "data": {
      "text/plain": [
       "'DEAD - Correlation Coefficient between Serum Sodium & Serum Creatinine'"
      ]
     },
     "metadata": {},
     "output_type": "display_data"
    },
    {
     "data": {
      "text/plain": [
       "array([[ 1.       , -0.0940115],\n",
       "       [-0.0940115,  1.       ]])"
      ]
     },
     "metadata": {},
     "output_type": "display_data"
    },
    {
     "data": {
      "text/plain": [
       "'ALIVE - Covariance between Serum Sodium & Serum Creatinine'"
      ]
     },
     "metadata": {},
     "output_type": "display_data"
    },
    {
     "data": {
      "text/plain": [
       "array([[15.86367849, -0.56180486],\n",
       "       [-0.56180486,  0.42782412]])"
      ]
     },
     "metadata": {},
     "output_type": "display_data"
    },
    {
     "data": {
      "text/plain": [
       "'ALIVE - Correlation Coefficient between Serum Sodium & Serum Creatinine'"
      ]
     },
     "metadata": {},
     "output_type": "display_data"
    },
    {
     "data": {
      "text/plain": [
       "array([[ 1.        , -0.21565072],\n",
       "       [-0.21565072,  1.        ]])"
      ]
     },
     "metadata": {},
     "output_type": "display_data"
    }
   ],
   "source": [
    "display(\"DEAD - Covariance between Serum Sodium & Serum Creatinine\",\n",
    "        np.cov(dead.serum_sodium,dead.serum_creatinine))\n",
    "display(\"DEAD - Correlation Coefficient between Serum Sodium & Serum Creatinine\",\n",
    "        np.corrcoef(dead.serum_sodium, dead.serum_creatinine))\n",
    "display(\"ALIVE - Covariance between Serum Sodium & Serum Creatinine\",\n",
    "        np.cov(alive.serum_sodium,alive.serum_creatinine))\n",
    "display(\"ALIVE - Correlation Coefficient between Serum Sodium & Serum Creatinine\",\n",
    "        np.corrcoef(alive.serum_sodium, alive.serum_creatinine))"
   ]
  },
  {
   "cell_type": "code",
   "execution_count": 37,
   "id": "8e03b4aa",
   "metadata": {},
   "outputs": [
    {
     "data": {
      "text/plain": [
       "0.0"
      ]
     },
     "execution_count": 37,
     "metadata": {},
     "output_type": "execute_result"
    }
   ],
   "source": [
    "# Hypothesis Test\n",
    "\n",
    "#  we will test the hypothesis that\n",
    "# 1. Ejection Fraction is lower for Dead Patients vs Alive Patients. Hence it is an indicator of high risk for Mortality\n",
    "# 2. Serum Creatinine is higher for Dead Patients vs Alive Patients. Hence it is an indicator of high risk for Mortality\n",
    "\n",
    "# To test the hypothesis we will check means of the both\n",
    "class DiffMeansPermute(thinkstats2.HypothesisTest):\n",
    "\n",
    "    def TestStatistic(self, data):\n",
    "        group1, group2 = data\n",
    "        #display(\"1\", group1.mean(),\"2\", group2.mean())\n",
    "        test_stat = (group1.mean() - group2.mean())\n",
    "        return test_stat\n",
    "\n",
    "    def MakeModel(self):\n",
    "        group1, group2 = self.data\n",
    "        self.n, self.m = len(group1), len(group2)\n",
    "        self.pool = np.hstack((group1, group2))\n",
    "\n",
    "    def RunModel(self):\n",
    "        np.random.shuffle(self.pool)\n",
    "        data = self.pool[:self.n], self.pool[self.n:]\n",
    "        return data\n",
    "\n",
    "\n",
    "# 1. Ejection Fraction is lower for Dead  vs Alive.\n",
    "# Thats why passing alive first and dead as second data.\n",
    "# TestStatistics is measuring the value 1 - 2 mean\n",
    "data = alive.ejection_fraction.values, dead.ejection_fraction.values\n",
    "ht = DiffMeansPermute(data)\n",
    "pvalue = ht.PValue()\n",
    "pvalue"
   ]
  },
  {
   "cell_type": "code",
   "execution_count": 38,
   "id": "151c345f",
   "metadata": {},
   "outputs": [
    {
     "data": {
      "image/png": "[encoded data removed]",
      "text/plain": [
       "<Figure size 432x288 with 1 Axes>"
      ]
     },
     "metadata": {
      "needs_background": "light"
     },
     "output_type": "display_data"
    }
   ],
   "source": [
    "ht.PlotCdf()\n",
    "thinkplot.Config(xlabel='test statistic - mean diff', axis=[-6, 10, 0, 1],\n",
    "                   ylabel='CDF')"
   ]
  },
  {
   "cell_type": "code",
   "execution_count": 39,
   "id": "d361ebd3",
   "metadata": {},
   "outputs": [
    {
     "data": {
      "text/plain": [
       "0.0"
      ]
     },
     "execution_count": 39,
     "metadata": {},
     "output_type": "execute_result"
    }
   ],
   "source": [
    "# 2. Serum Creatinine is higher for Dead vs Alive\n",
    "# Thats why passing dead first and alive as second data.\n",
    "# TestStatistics is measuring the value 1 - 2 mean\n",
    "data = dead.serum_creatinine.values, alive.serum_creatinine.values\n",
    "ht = DiffMeansPermute(data)\n",
    "pvalue = ht.PValue()\n",
    "pvalue"
   ]
  },
  {
   "cell_type": "code",
   "execution_count": 40,
   "id": "f9efe0a4",
   "metadata": {},
   "outputs": [
    {
     "data": {
      "image/png": "[encoded data removed]",
      "text/plain": [
       "<Figure size 432x288 with 1 Axes>"
      ]
     },
     "metadata": {
      "needs_background": "light"
     },
     "output_type": "display_data"
    }
   ],
   "source": [
    "ht.PlotCdf()\n",
    "thinkplot.Config(xlabel='test statistic - mean diff', axis=[-1, 1, 0, 1],\n",
    "                   ylabel='CDF')"
   ]
  },
  {
   "cell_type": "code",
   "execution_count": 41,
   "id": "f0daf8b5",
   "metadata": {},
   "outputs": [],
   "source": [
    "def RunTests(clinical_df, iters=1000):\n",
    "    \n",
    "    n = len(clinical_df)\n",
    "    # alive and dead dataset is already split above\n",
    "    # Permutation Test\n",
    "    # Ejection Fraction is lower for Dead  vs Alive \n",
    "    data = alive.ejection_fraction.values, dead.ejection_fraction.values\n",
    "    ht = DiffMeansPermute(data)\n",
    "    p1 = ht.PValue(iters=iters)\n",
    "    \n",
    "    # Serum Creatinine is higher for Dead vs Alive \n",
    "    data = (dead.serum_creatinine.values,\n",
    "            alive.serum_creatinine.values)\n",
    "    ht = DiffMeansPermute(data)\n",
    "    p2 = ht.PValue(iters=iters)\n",
    "    \n",
    "    print('%d\\t%0.2f\\t%0.2f' % (n, p1, p2))"
   ]
  },
  {
   "cell_type": "code",
   "execution_count": 42,
   "id": "511e6526",
   "metadata": {},
   "outputs": [
    {
     "name": "stdout",
     "output_type": "stream",
     "text": [
      "299\t0.00\t0.00\n",
      "149\t0.00\t0.00\n",
      "74\t0.00\t0.00\n",
      "37\t0.00\t0.00\n",
      "18\t0.00\t0.00\n",
      "9\t0.00\t0.00\n",
      "4\t0.00\t0.00\n"
     ]
    }
   ],
   "source": [
    "n = len(clinical_df)\n",
    "for _ in range(7):\n",
    "    sample = thinkstats2.SampleRows(clinical_df, n)\n",
    "    RunTests(sample)\n",
    "    n //= 2"
   ]
  },
  {
   "cell_type": "markdown",
   "id": "c0435857",
   "metadata": {},
   "source": [
    "Conclusion: The tests for test1, test2 are positive throughout. However this pattern may change for large datasets. This is not evident, this is only my assumption as 299 is pretty small number of patients that we are using for this hypothesis. Based on our data, we may say our hypothesis is right."
   ]
  },
  {
   "cell_type": "code",
   "execution_count": 43,
   "id": "7c03918a",
   "metadata": {},
   "outputs": [
    {
     "name": "stdout",
     "output_type": "stream",
     "text": [
      "Optimization terminated successfully.\n",
      "         Current function value: 0.506839\n",
      "         Iterations 6\n"
     ]
    },
    {
     "data": {
      "text/html": [
       "<table class=\"simpletable\">\n",
       "<caption>Logit Regression Results</caption>\n",
       "<tr>\n",
       "  <th>Dep. Variable:</th>      <td>DEATH_EVENT</td>   <th>  No. Observations:  </th>  <td>   299</td>  \n",
       "</tr>\n",
       "<tr>\n",
       "  <th>Model:</th>                 <td>Logit</td>      <th>  Df Residuals:      </th>  <td>   294</td>  \n",
       "</tr>\n",
       "<tr>\n",
       "  <th>Method:</th>                 <td>MLE</td>       <th>  Df Model:          </th>  <td>     4</td>  \n",
       "</tr>\n",
       "<tr>\n",
       "  <th>Date:</th>            <td>Sat, 05 Mar 2022</td> <th>  Pseudo R-squ.:     </th>  <td>0.1925</td>  \n",
       "</tr>\n",
       "<tr>\n",
       "  <th>Time:</th>                <td>17:44:48</td>     <th>  Log-Likelihood:    </th> <td> -151.54</td> \n",
       "</tr>\n",
       "<tr>\n",
       "  <th>converged:</th>             <td>True</td>       <th>  LL-Null:           </th> <td> -187.67</td> \n",
       "</tr>\n",
       "<tr>\n",
       "  <th>Covariance Type:</th>     <td>nonrobust</td>    <th>  LLR p-value:       </th> <td>7.566e-15</td>\n",
       "</tr>\n",
       "</table>\n",
       "<table class=\"simpletable\">\n",
       "<tr>\n",
       "          <td></td>             <th>coef</th>     <th>std err</th>      <th>z</th>      <th>P>|z|</th>  <th>[0.025</th>    <th>0.975]</th>  \n",
       "</tr>\n",
       "<tr>\n",
       "  <th>Intercept</th>         <td>    4.0939</td> <td>    4.456</td> <td>    0.919</td> <td> 0.358</td> <td>   -4.639</td> <td>   12.827</td>\n",
       "</tr>\n",
       "<tr>\n",
       "  <th>ejection_fraction</th> <td>   -0.0665</td> <td>    0.014</td> <td>   -4.655</td> <td> 0.000</td> <td>   -0.095</td> <td>   -0.039</td>\n",
       "</tr>\n",
       "<tr>\n",
       "  <th>serum_sodium</th>      <td>   -0.0477</td> <td>    0.032</td> <td>   -1.472</td> <td> 0.141</td> <td>   -0.111</td> <td>    0.016</td>\n",
       "</tr>\n",
       "<tr>\n",
       "  <th>serum_creatinine</th>  <td>    0.6317</td> <td>    0.158</td> <td>    3.987</td> <td> 0.000</td> <td>    0.321</td> <td>    0.942</td>\n",
       "</tr>\n",
       "<tr>\n",
       "  <th>age</th>               <td>    0.0514</td> <td>    0.012</td> <td>    4.166</td> <td> 0.000</td> <td>    0.027</td> <td>    0.076</td>\n",
       "</tr>\n",
       "</table>"
      ],
      "text/plain": [
       "<class 'statsmodels.iolib.summary.Summary'>\n",
       "\"\"\"\n",
       "                           Logit Regression Results                           \n",
       "==============================================================================\n",
       "Dep. Variable:            DEATH_EVENT   No. Observations:                  299\n",
       "Model:                          Logit   Df Residuals:                      294\n",
       "Method:                           MLE   Df Model:                            4\n",
       "Date:                Sat, 05 Mar 2022   Pseudo R-squ.:                  0.1925\n",
       "Time:                        17:44:48   Log-Likelihood:                -151.54\n",
       "converged:                       True   LL-Null:                       -187.67\n",
       "Covariance Type:            nonrobust   LLR p-value:                 7.566e-15\n",
       "=====================================================================================\n",
       "                        coef    std err          z      P>|z|      [0.025      0.975]\n",
       "-------------------------------------------------------------------------------------\n",
       "Intercept             4.0939      4.456      0.919      0.358      -4.639      12.827\n",
       "ejection_fraction    -0.0665      0.014     -4.655      0.000      -0.095      -0.039\n",
       "serum_sodium         -0.0477      0.032     -1.472      0.141      -0.111       0.016\n",
       "serum_creatinine      0.6317      0.158      3.987      0.000       0.321       0.942\n",
       "age                   0.0514      0.012      4.166      0.000       0.027       0.076\n",
       "=====================================================================================\n",
       "\"\"\""
      ]
     },
     "execution_count": 43,
     "metadata": {},
     "output_type": "execute_result"
    }
   ],
   "source": [
    "\n",
    "# For the project we will predict the mortality, which is DEATH_EVENT in the dataset\n",
    "# We will try to see the effect of Ejection Fraction, Serum Creatinine, Serum Sodium and Age on the same\n",
    "# Since the dependent variable is a binary value, we will use Logistic Regression - Binomial.\n",
    "import statsmodels.formula.api as smf\n",
    "import pandas as pd\n",
    "\n",
    "formula = 'DEATH_EVENT ~ ejection_fraction + serum_sodium + serum_creatinine + age'\n",
    "model = smf.logit(formula, data=clinical_df)\n",
    "results = model.fit()\n",
    "results.summary()"
   ]
  },
  {
   "cell_type": "code",
   "execution_count": 44,
   "id": "9774ae03",
   "metadata": {},
   "outputs": [],
   "source": [
    "endog = pd.DataFrame(model.endog, columns=[model.endog_names])\n",
    "exog = pd.DataFrame(model.exog, columns=model.exog_names)\n",
    "actual = endog['DEATH_EVENT']"
   ]
  },
  {
   "cell_type": "code",
   "execution_count": 45,
   "id": "299eaf3b",
   "metadata": {},
   "outputs": [
    {
     "data": {
      "text/plain": [
       "(44.0, 184.0)"
      ]
     },
     "execution_count": 45,
     "metadata": {},
     "output_type": "execute_result"
    }
   ],
   "source": [
    "predict = (results.predict() >= 0.5)\n",
    "true_pos = predict * actual\n",
    "true_neg = (1 - predict) * (1 - actual)\n",
    "sum(true_pos), sum(true_neg)"
   ]
  },
  {
   "cell_type": "code",
   "execution_count": 47,
   "id": "d557b7a8",
   "metadata": {},
   "outputs": [
    {
     "data": {
      "text/plain": [
       "0.7625418060200669"
      ]
     },
     "execution_count": 47,
     "metadata": {},
     "output_type": "execute_result"
    }
   ],
   "source": [
    "accrcy = (sum(true_pos) + sum(true_neg)) / len(actual)\n",
    "accrcy"
   ]
  },
  {
   "cell_type": "markdown",
   "id": "cc27e42c",
   "metadata": {},
   "source": [
    "The above model has an accuracy of 76.25%"
   ]
  }
 ],
 "metadata": {
  "kernelspec": {
   "display_name": "Python 3 (ipykernel)",
   "language": "python",
   "name": "python3"
  },
  "language_info": {
   "codemirror_mode": {
    "name": "ipython",
    "version": 3
   },
   "file_extension": ".py",
   "mimetype": "text/x-python",
   "name": "python",
   "nbconvert_exporter": "python",
   "pygments_lexer": "ipython3",
   "version": "3.9.7"
  }
 },
 "nbformat": 4,
 "nbformat_minor": 5
}
